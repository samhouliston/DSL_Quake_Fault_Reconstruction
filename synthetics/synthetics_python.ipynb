{
 "cells": [
  {
   "cell_type": "markdown",
   "metadata": {},
   "source": [
    "## Main Functions to generate fault characteristics, and sample points"
   ]
  },
  {
   "cell_type": "code",
   "execution_count": 2,
   "metadata": {},
   "outputs": [],
   "source": [
    "import numpy as np\n",
    "import matplotlib.pyplot as plt\n",
    "from mpl_toolkits.mplot3d import Axes3D\n",
    "import plotly.graph_objs as go\n",
    "import random\n",
    "import math\n",
    "\n",
    "\n",
    "def random_unit_vector():\n",
    "    # Generate random spherical coordinates\n",
    "    theta = random.uniform(0, 2*math.pi)  # Azimuthal angle\n",
    "    phi = random.uniform(0, math.pi)      # Polar angle\n",
    "\n",
    "    # Convert spherical coordinates to Cartesian coordinates\n",
    "    x = math.sin(phi) * math.cos(theta)\n",
    "    y = math.sin(phi) * math.sin(theta)\n",
    "    z = math.cos(phi)\n",
    "    \n",
    "    return (x, y, z)\n",
    "\n",
    "\n",
    "def plane_main_axes_from_normal(normal): \n",
    "    # Find two axes of plane defined by the center and its normal\n",
    "    length_axis = random_unit_vector()\n",
    "    while np.dot(length_axis, normal) < 0.01:\n",
    "        length_axis = random_unit_vector()\n",
    "\n",
    "    length_axis = np.cross(normal, length_axis)\n",
    "    length_axis = length_axis / np.linalg.norm(length_axis)\n",
    "    width_axis = np.cross(normal, length_axis)\n",
    "\n",
    "    return length_axis, width_axis\n",
    "\n",
    "\n",
    "def display_fault_properties(fault_metadata):\n",
    "    (center, length, width, normal, length_axis, width_axis) = fault_metadata\n",
    "    print(f\"         center: {center} \\n         length: {length}, width: {width} \\n         length_axis: {length_axis},   width_axis: {width_axis}\")"
   ]
  },
  {
   "cell_type": "code",
   "execution_count": 84,
   "metadata": {},
   "outputs": [],
   "source": [
    "def generate_faults_metadata(n_simple_faults, n_bent_faults, n_cross_faults, n_Y_faults, n_parallel_faults, n_ladder_structures, eps_center=0.1, domain_scale=1, VERBOSE=False):\n",
    "    \"\"\"\n",
    "    Generate metadata characterizing faults via a plane defined by a center, length, width, normal, length_axis, and width_axis.\n",
    "    \n",
    "    Args:\n",
    "    - n_simple_faults:      number of simple planar faults to generate\n",
    "    - n_bent_faults:        number of bent (bi-planar) faults to generate\n",
    "    - n_ladder_structures:  number of ladder-like fault structures\n",
    "    - eps_center:           minimum distance between fault centers\n",
    "    - domain_scale:         scale=x denotes [-x,x]^3 space. \n",
    "    \n",
    "    Returns:\n",
    "    - faults_info: List of tuples containing fault metadata (center, length, width, normal, length_axis, width_axis)\n",
    "    \"\"\"\n",
    "    \n",
    "    # Set fault plane max length and width as proportion of domain\n",
    "    L_max = 1.5 * domain_scale\n",
    "    L_min = 1 * domain_scale\n",
    "    W_max = 0.7 * domain_scale\n",
    "    W_min= 0.5 * domain_scale\n",
    "    faults_info = []\n",
    "    \n",
    "\n",
    "    # Generate simple fault data\n",
    "    if VERBOSE:\n",
    "        print(f\"--------------------------------------------------\")\n",
    "        print(f\"    Generating {n_simple_faults} simple faults:\")\n",
    "        print(f\"--------------------------------------------------\")\n",
    "    for i_simp in range(n_simple_faults):    \n",
    "        while True: # Ensure centers aren't too close\n",
    "            center = np.random.uniform(-domain_scale, domain_scale, size=3)\n",
    "            if all(np.linalg.norm(center - c) > 2 * eps_center for c, _, _, _, _, _ in faults_info):  \n",
    "                break\n",
    "        length = np.random.uniform(L_min, L_max)\n",
    "        width = np.random.uniform(W_min, W_max)\n",
    "        normal = random_unit_vector()\n",
    "        length_axis, width_axis = plane_main_axes_from_normal(normal)\n",
    "        faults_info.append((center, length, width, normal, length_axis, width_axis))\n",
    "\n",
    "        if VERBOSE:\n",
    "            print(f\"    Simple fault number: {i_simp+1}\")\n",
    "            display_fault_properties((center, length, width, normal, length_axis, width_axis))\n",
    "\n",
    "\n",
    "    # Generate bent fault data\n",
    "    if VERBOSE:\n",
    "        print(f\"\\n--------------------------------------------------\")\n",
    "        print(f\"    Generating {n_bent_faults} bent faults:\")\n",
    "        print(f\"--------------------------------------------------\")\n",
    "    for i in range(n_bent_faults):\n",
    "\n",
    "        # Generate the main fault data\n",
    "        while True:\n",
    "            main_center = np.random.uniform(-domain_scale, domain_scale, size=3)\n",
    "            if all(np.linalg.norm(main_center - c) > 2 * eps_center for c, _, _, _, _, _ in faults_info):  \n",
    "                break\n",
    "        main_length = np.random.uniform(L_min, L_max)\n",
    "        main_width = np.random.uniform(W_min, W_max)\n",
    "        main_normal = random_unit_vector()\n",
    "        main_length_axis, main_width_axis = plane_main_axes_from_normal(main_normal)\n",
    "        faults_info.append((main_center, main_length, main_width, main_normal, main_length_axis, main_width_axis))\n",
    "\n",
    "        if VERBOSE:\n",
    "            print(f\"    Bent fault number: {i//2 + 1}\")\n",
    "            print(\"       First plane:\")\n",
    "            display_fault_properties((main_center, main_length, main_width, main_normal, main_length_axis, main_width_axis))\n",
    "\n",
    "        # Generate secondary smaller fault: sample plane at an angle\n",
    "        bent_factor = np.random.uniform(0.6, 0.75)\n",
    "        bent_length = bent_factor * main_length\n",
    "        bent_width = bent_factor * main_width \n",
    "\n",
    "        # Sample an angle, calculate new axes\n",
    "        angle = np.random.uniform(-50, 50, size=1)\n",
    "        alpha = np.cos(np.radians(90 - angle))\n",
    "        beta = np.sqrt(1-alpha**2)\n",
    "        bent_length_axis = beta*np.array(main_length_axis)  + alpha*np.array(main_normal)\n",
    "        bent_length_axis = bent_length_axis / np.linalg.norm(bent_length_axis)\n",
    "        bent_width_axis = main_width_axis \n",
    "        \n",
    "        bent_center = main_center + 0.5*main_length*main_length_axis + 0.5*bent_length * bent_length_axis\n",
    "        bent_normal = np.cross(bent_length_axis, bent_width_axis)\n",
    "\n",
    "        faults_info.append((bent_center, bent_length, bent_width, bent_normal, bent_length_axis, bent_width_axis))\n",
    "\n",
    "        if VERBOSE:\n",
    "            print(f\"\\n       Second plane:\")\n",
    "            print(f\"         Angle: {angle}\")\n",
    "            display_fault_properties((bent_center, bent_length, bent_width, bent_normal, bent_length_axis, bent_width_axis))\n",
    "\n",
    "\n",
    "    # Generate cross fault data\n",
    "    if VERBOSE:\n",
    "        print(f\"\\n--------------------------------------------------\")\n",
    "        print(f\"    Generating {n_cross_faults} cross faults:\")\n",
    "        print(f\"--------------------------------------------------\")\n",
    "    for k in range(n_cross_faults):\n",
    "\n",
    "        # Generate main fault data\n",
    "        while True: \n",
    "            cross_center = np.random.uniform(-domain_scale, domain_scale, size=3)\n",
    "            if all(np.linalg.norm(cross_center - c) > 2 * eps_center for c, _, _, _, _, _ in faults_info): \n",
    "                break\n",
    "        main_length = np.random.uniform(L_min, L_max)\n",
    "        main_width = np.random.uniform(W_min, W_max)\n",
    "        main_normal = random_unit_vector()\n",
    "        main_length_axis, main_width_axis = plane_main_axes_from_normal(main_normal)\n",
    "        faults_info.append((cross_center, main_length, main_width, main_normal, main_length_axis, main_width_axis))\n",
    "\n",
    "        if VERBOSE:\n",
    "            print(f\"    Cross fault number: {k//2 + 1}\")\n",
    "            print(\"       First plane:\")\n",
    "            display_fault_properties((cross_center, main_length, main_width, main_normal, main_length_axis, main_width_axis))\n",
    "\n",
    "        # Generate secondary perpendicular 'crossed' fault\n",
    "        #cross_factor = np.random.uniform(0.6, 1.4)\n",
    "        cross_factor = 1\n",
    "        crossed_length = cross_factor * main_length\n",
    "        crossed_width = 0.6*cross_factor * main_width \n",
    "        crossed_length_axis = main_width_axis \n",
    "        crossed_width_axis = main_length_axis \n",
    "        crossed_normal = np.cross(crossed_length_axis, crossed_width_axis)\n",
    "        faults_info.append((cross_center, crossed_length, crossed_width, crossed_normal, crossed_length_axis, crossed_width_axis))\n",
    "\n",
    "        if VERBOSE:\n",
    "            print(f\"\\n       Crosssed plane:\")\n",
    "            display_fault_properties((cross_center, crossed_length, crossed_width, crossed_normal, crossed_length_axis, crossed_width_axis))\n",
    "\n",
    "\n",
    "    # Generate Y-shaped fault data\n",
    "    if VERBOSE:\n",
    "        print(f\"\\n--------------------------------------------------\")\n",
    "        print(f\"    Generating {n_Y_faults} Y - faults:\")\n",
    "        print(f\"--------------------------------------------------\")\n",
    "    for l in range(n_Y_faults):\n",
    "\n",
    "        # Generate main fault data\n",
    "        while True:\n",
    "            main_center = np.random.uniform(-domain_scale, domain_scale, size=3)\n",
    "            if all(np.linalg.norm(main_center - c) > 2 * eps_center for c, _, _, _, _, _ in faults_info):  \n",
    "                break\n",
    "        main_length = 1.4 * np.random.uniform(L_min, L_max)\n",
    "        main_width = 0.7* np.random.uniform(W_min, W_max)\n",
    "        main_normal = random_unit_vector()\n",
    "        main_length_axis, main_width_axis = plane_main_axes_from_normal(main_normal)\n",
    "        faults_info.append((main_center, main_length, main_width, main_normal, main_length_axis, main_width_axis))\n",
    "\n",
    "        if VERBOSE:\n",
    "            print(f\"    Y - fault number: {l//2 + 1}\")\n",
    "            print(\"       First plane:\")\n",
    "            display_fault_properties((main_center, main_length, main_width, main_normal, main_length_axis, main_width_axis))\n",
    "\n",
    "        # Generate secondary perpendicular 'branched' fault\n",
    "        branch_length = 0.4*main_length\n",
    "        branch_width = 0.7*main_width \n",
    "\n",
    "        angle = np.random.choice([-1, 1]) * np.random.uniform(20, 35, size=1)\n",
    "        alpha = np.cos(np.radians(90 - angle))\n",
    "        beta = np.sqrt(1-alpha**2)\n",
    "        branch_length_axis = beta*np.array(main_length_axis)  + alpha*np.array(main_normal)\n",
    "        branch_length_axis = branch_length_axis / np.linalg.norm(branch_length_axis)\n",
    "        branch_width_axis = main_width_axis    \n",
    "        branch_normal = np.cross(branch_length_axis, branch_width_axis)    \n",
    "\n",
    "        branch_center = main_center + np.random.uniform(0, 0.15)*main_length*main_length_axis + 0.5* branch_length * branch_length_axis\n",
    "   \n",
    "        \n",
    "        faults_info.append((branch_center, branch_length, branch_width, branch_normal, branch_length_axis, branch_width_axis))\n",
    "\n",
    "        if VERBOSE:\n",
    "            print(f\"\\n       Branch plane:\")\n",
    "            display_fault_properties((branch_center, branch_length, branch_width, branch_normal, branch_length_axis, branch_width_axis))\n",
    "\n",
    "\n",
    "    # Generate two parallel fault data\n",
    "    if VERBOSE:\n",
    "        print(f\"\\n--------------------------------------------------\")\n",
    "        print(f\"    Generating {n_parallel_faults} parallel faults:\")\n",
    "        print(f\"--------------------------------------------------\")\n",
    "    for b in range(n_parallel_faults):\n",
    "\n",
    "        # Generate main fault data\n",
    "        while True: \n",
    "            main_center = np.random.uniform(-domain_scale, domain_scale, size=3)\n",
    "            if all(np.linalg.norm(main_center - c) > 2 * eps_center for c, _, _, _, _, _ in faults_info): \n",
    "                break\n",
    "        main_length = np.random.uniform(L_min, L_max)\n",
    "        main_width = np.random.uniform(W_min, W_max)\n",
    "        main_normal = random_unit_vector()\n",
    "        main_length_axis, main_width_axis = plane_main_axes_from_normal(main_normal)\n",
    "        faults_info.append((main_center, main_length, main_width, main_normal, main_length_axis, main_width_axis))\n",
    "\n",
    "        if VERBOSE:\n",
    "            print(f\"    Parallel pair number: {b//2 + 1}\")\n",
    "            print(\"       First plane:\")\n",
    "            display_fault_properties((main_center, main_length, main_width, main_normal, main_length_axis, main_width_axis))\n",
    "\n",
    "        # Generate secondary perpendicular 'crossed' fault\n",
    "        dist_between_parallels = np.random.uniform(0.5*main_width, 0.7*main_width)\n",
    "        distance_shifted = np.random.uniform(0.2, 0.7) * main_length\n",
    "        second_center = main_center + dist_between_parallels * np.array(main_normal) + distance_shifted * main_length_axis\n",
    "        second_factor = np.random.uniform(0.6, 1.5)\n",
    "        second_length = second_factor * main_length\n",
    "        second_width = second_factor * main_width \n",
    "        second_length_axis = main_length_axis\n",
    "        second_width_axis = main_width_axis\n",
    "        second_normal = np.cross(second_length_axis, second_width_axis)\n",
    "        faults_info.append((second_center, second_length, second_width, second_normal, second_length_axis, second_width_axis))\n",
    "\n",
    "        if VERBOSE:\n",
    "            print(f\"\\n       Second plane:\")\n",
    "            display_fault_properties((second_center, second_length, second_width, second_normal, second_length_axis, second_width_axis))\n",
    "\n",
    "\n",
    "    # Generate ladder structures\n",
    "    if VERBOSE:\n",
    "        print(f\"\\n--------------------------------------------------\")\n",
    "        print(f\"    Generating {n_ladder_structures} ladder-like structures:\")\n",
    "        print(f\"--------------------------------------------------\")\n",
    "    for m in range(n_ladder_structures):\n",
    "\n",
    "        print(f\"    Ladder structure {m+1}\")\n",
    "        # Characterise the first main fault\n",
    "        while True:\n",
    "            first_center = np.random.uniform(-domain_scale, domain_scale, size=3)\n",
    "            if all(np.linalg.norm(first_center - c) > 2 * eps_center for c, _, _, _, _, _ in faults_info):  # Ensure centers aren't too close\n",
    "                break\n",
    "        first_length = 1.4 *np.random.uniform(L_min, L_max)\n",
    "        first_width = np.random.uniform(W_min, W_max)\n",
    "        first_normal = random_unit_vector()\n",
    "        first_length_axis, first_width_axis = plane_main_axes_from_normal(first_normal)\n",
    "        faults_info.append((first_center, first_length, first_width, first_normal, first_length_axis, first_width_axis))            \n",
    "        if VERBOSE:\n",
    "            print(f\"            Main parallel fault\")\n",
    "            display_fault_properties((first_center, first_length, first_width, first_normal, first_length_axis, first_width_axis))\n",
    "\n",
    "        # Characterise the second main fault\n",
    "        dist_between_parallels = np.min(np.array([np.random.uniform(1.5*first_width, 3*first_width), 0.7*first_length]))\n",
    "        second_center = first_center + dist_between_parallels * np.array(first_normal)\n",
    "        second_length = first_length\n",
    "        second_width = first_width\n",
    "        second_normal = first_normal\n",
    "        second_length_axis = first_length_axis\n",
    "        second_width_axis = first_width_axis\n",
    "        faults_info.append((second_center, second_length, second_width, second_normal, second_length_axis, second_width_axis))\n",
    "\n",
    "        if VERBOSE:\n",
    "            print(f\"            Second parallel fault\")\n",
    "            display_fault_properties((second_center, second_length, second_width, second_normal, second_length_axis, second_width_axis))\n",
    "\n",
    "        # Characterise smaller, middle faults: \n",
    "        N_smaller_perpendicular_faults = 3\n",
    "        dist_between_smaller_faults = first_length / (N_smaller_perpendicular_faults+2)\n",
    "        mid_length = 1.3 *dist_between_parallels\n",
    "        mid_width = dist_between_parallels / 4\n",
    "\n",
    "        # They are at a slight angle to the normal: \n",
    "        angle = np.random.choice([-1, 1]) * np.random.uniform(10, 20, size=1)\n",
    "        alpha = np.cos(np.radians(90 - angle))\n",
    "        beta = np.sqrt(1-alpha**2)\n",
    "        mid_length_axis = beta*np.array(first_normal)  + alpha*np.array(first_length_axis)\n",
    "        mid_length_axis = mid_length_axis / np.linalg.norm(mid_length_axis)\n",
    "        mid_width_axis = first_width_axis\n",
    "        mid_normal = np.cross(mid_length_axis, mid_width_axis) \n",
    "    \n",
    "        for n in range(N_smaller_perpendicular_faults):\n",
    "            if n % 2 == 0:\n",
    "                m = n // 2\n",
    "            else:\n",
    "                m = -((n + 1) // 2)\n",
    "            mid_center = (first_center + second_center)/2 + m*dist_between_smaller_faults*first_length_axis\n",
    "\n",
    "            faults_info.append((mid_center, mid_length, mid_width, mid_normal, mid_length_axis, mid_width_axis))\n",
    "            if VERBOSE:\n",
    "                print(f\"\\n              Smaller middle fault: fault number {n}\")\n",
    "                display_fault_properties((mid_center, mid_length, mid_width, mid_normal, mid_length_axis, mid_width_axis))\n",
    "        \n",
    "    return faults_info"
   ]
  },
  {
   "cell_type": "code",
   "execution_count": 57,
   "metadata": {},
   "outputs": [],
   "source": [
    "def generate_points_from_plane(center, length, width, normal, length_axis, width_axis, distribution_mode='normal', domain_scale=1):\n",
    "\n",
    "    density = 150 # points per m^2\n",
    "    area = length*width \n",
    "    num_points = int(np.round(density * area)) \n",
    "\n",
    "    # Sample points coordinates on the plane\n",
    "    x = np.random.uniform(-length/2, length/2, num_points).astype(float)\n",
    "    y = np.random.uniform(-width/2, width/2, num_points).astype(float)\n",
    "\n",
    "    # Sample distances from the plane\n",
    "    # Convention for faults: mean distance ~ width => 4*sigma=width\n",
    "    if distribution_mode == 'normal':\n",
    "        distribution_param = width/5\n",
    "        dist = np.random.normal(loc=0, scale=distribution_param, size=num_points)\n",
    "\n",
    "    # Compute fault points\n",
    "    fault_points = center + x[:, None] * length_axis + y[:, None] * width_axis + dist[:, None] * normal\n",
    "\n",
    "    return fault_points\n",
    "\n",
    "\n",
    "\n",
    "def generate_point_list_from_metadata_list(fault_metadata_list, n_simple_faults, n_bent_faults, n_cross_faults, n_Y_faults, n_parallel_faults):\n",
    "     \n",
    "    \"\"\"\n",
    "    Generate point cloud for every fault given its metadata.\n",
    "    \"\"\"\n",
    "    points_list = []\n",
    "    k = 0\n",
    "    for i, metadata in enumerate(fault_metadata_list):\n",
    "\n",
    "        # Add simple faults\n",
    "        if (i <= n_simple_faults -1) and (n_simple_faults != 0): \n",
    "            (center, length, width, normal, length_axis, width_axis) = metadata\n",
    "            points_list.append(generate_points_from_plane(center, length, width, normal, length_axis, width_axis))\n",
    "\n",
    "\n",
    "        # Add bent faults, make sure to merge main-bent points into one list\n",
    "        elif (i>=n_simple_faults) and (i <= n_simple_faults + 2 * n_bent_faults -1) and (n_bent_faults != 0): \n",
    "            if k%2 == 0: # main points\n",
    "                (main_center, main_length, main_width, main_normal, main_length_axis, main_width_axis) = metadata\n",
    "                main_fault_points = generate_points_from_plane(main_center, main_length, main_width, main_normal, main_length_axis, main_width_axis)\n",
    "                k+=1\n",
    "            else:        # bent points\n",
    "                (second_center, second_length, second_width, second_normal, second_length_axis, second_width_axis) = metadata\n",
    "                second_fault_points = generate_points_from_plane(second_center, second_length, second_width, second_normal, second_length_axis, second_width_axis)\n",
    "\n",
    "                # Concatenate main and bent points into one array, and add to list.\n",
    "                points_list.append(np.concatenate((main_fault_points, second_fault_points)))\n",
    "                k+=1\n",
    "\n",
    "\n",
    "        # Add cross faults (a cross consists of two faults, hence they are separate)\n",
    "        elif   (i >= n_simple_faults + 2*n_bent_faults) and (i <= n_simple_faults + 2*n_bent_faults + 2*n_cross_faults -1) and (n_cross_faults != 0):\n",
    "            (center, length, width, normal, length_axis, width_axis) = metadata\n",
    "            points_list.append(generate_points_from_plane(center, length, width, normal, length_axis, width_axis))\n",
    "\n",
    "\n",
    "        # Add Y-shaped faults\n",
    "        elif   (i >= n_simple_faults + 2*n_bent_faults + 2*n_cross_faults) and (i <= n_simple_faults + 2*n_bent_faults + 2*n_cross_faults + 2*n_Y_faults -1) and (n_Y_faults != 0):\n",
    "\n",
    "            (center, length, width, normal, length_axis, width_axis) = metadata\n",
    "            points_list.append(generate_points_from_plane(center, length, width, normal, length_axis, width_axis))\n",
    "            \n",
    "\n",
    "        # Add parallel faults\n",
    "        elif    (i >= n_simple_faults + 2*n_bent_faults + 2*n_cross_faults + 2*n_Y_faults) and (i <= n_simple_faults + 2*n_bent_faults + 2*n_cross_faults + 2*n_Y_faults -1 + 2*n_parallel_faults -1) and (n_parallel_faults != 0):\n",
    "            (center, length, width, normal, length_axis, width_axis) = metadata\n",
    "            points_list.append(generate_points_from_plane(center, length, width, normal, length_axis, width_axis))\n",
    "\n",
    "\n",
    "        # Add rest of faults that form the ladder structure\n",
    "        else: \n",
    "            (center, length, width, normal, length_axis, width_axis) = metadata\n",
    "            points_list.append(generate_points_from_plane(center, length, width, normal, length_axis, width_axis))\n",
    "\n",
    "        \n",
    "    return points_list\n",
    "\n",
    "\n",
    "def generate_dataset(n_simple_faults, n_bent_faults, n_cross_faults, n_Y_faults, n_parallel_faults, n_structures, VERBOSE=False):\n",
    "\n",
    "    fault_metadata_list = generate_faults_metadata(n_simple_faults, n_bent_faults, n_cross_faults, n_Y_faults, n_parallel_faults, n_structures, eps_center=0.1, domain_scale=1, VERBOSE=False)\n",
    "\n",
    "    fault_points_list = generate_point_list_from_metadata_list(fault_metadata_list, n_simple_faults, n_bent_faults, n_cross_faults, n_Y_faults, n_parallel_faults)\n",
    "    \n",
    "    return fault_points_list"
   ]
  },
  {
   "cell_type": "markdown",
   "metadata": {},
   "source": [
    "### Visualization functions"
   ]
  },
  {
   "cell_type": "code",
   "execution_count": 5,
   "metadata": {},
   "outputs": [],
   "source": [
    "def multi_static_plot_better(fault_points_list, fault_metadata_list=None, show_plane=False, show_axes=False):\n",
    "    \"\"\"\n",
    "    Visualize fault points in 3D and optionally plot the plane and axes.\n",
    "\n",
    "    Args:\n",
    "    - fault_points_list: List of fault points arrays (each array represents points for one fault)\n",
    "    - fault_metadata_list: List of fault metadata tuples (each tuple contains metadata for one fault)\n",
    "    - show_plane: Boolean indicating whether to plot the plane (default is False)\n",
    "    - show_axes: Boolean indicating whether to plot the axes (default is False)\n",
    "    \"\"\"\n",
    "    fig = plt.figure(figsize=(8, 6))\n",
    "    ax = fig.add_subplot(111, projection='3d')\n",
    "\n",
    "    # Plot event points for each fault\n",
    "    for i, fault_points in enumerate(fault_points_list):\n",
    "        ax.scatter(fault_points[:, 0], fault_points[:, 1], fault_points[:, 2], label=f'Fault {i+1}', s=5)\n",
    "\n",
    "    # Plot the plane and axes if requested\n",
    "    if show_plane or show_axes or fault_metadata_list != None:\n",
    "        for metadata in fault_metadata_list:\n",
    "            # Unpack plane data\n",
    "            (center, length, width, normal, length_axis, width_axis) = metadata\n",
    "\n",
    "            if show_plane:\n",
    "                # Define vertices of the plane\n",
    "                plane_vertices = center + np.array([-length/2, length/2, length/2, -length/2, -length/2])[:, None] * length_axis + np.array([-width/2, -width/2, width/2, width/2, -width/2])[:, None] * width_axis\n",
    "\n",
    "                # Plot the plane\n",
    "                ax.plot_trisurf(plane_vertices[:, 0], plane_vertices[:, 1], plane_vertices[:, 2], color='blue', alpha=0.2)\n",
    "\n",
    "            if show_axes:\n",
    "                # Plot length and width axes\n",
    "                ax.plot([center[0], center[0] + length_axis[0]*length/2],\n",
    "                        [center[1], center[1] + length_axis[1]*length/2],\n",
    "                        [center[2], center[2] + length_axis[2]*length/2], color='red', linewidth=3)\n",
    "\n",
    "                ax.plot([center[0], center[0] + width_axis[0]*width/2],\n",
    "                        [center[1], center[1] + width_axis[1]*width/2],\n",
    "                        [center[2], center[2] + width_axis[2]*width/2], color='green', linewidth=3)\n",
    "\n",
    "    ax.set_xlabel('X')\n",
    "    ax.set_ylabel('Y')\n",
    "    ax.set_zlabel('Z')\n",
    "    ax.set_title('Synthetic Seismic Data - Fault Points')\n",
    "    ax.legend()\n",
    "    plt.show()"
   ]
  },
  {
   "cell_type": "code",
   "execution_count": 53,
   "metadata": {},
   "outputs": [],
   "source": [
    "def multi_interactive_plot_better(fault_points_list, fault_metadata_list, show_plane=False, show_axes=False, domain_scale=1):\n",
    "    \"\"\"\n",
    "    Visualize 3D points of multiple faults in an interactive plot using Plotly.\n",
    "    \"\"\"\n",
    "\n",
    "    fig = go.Figure()\n",
    "\n",
    "    x_range_largest = [-1, 1]\n",
    "    y_range_largest = x_range_largest\n",
    "    z_range_largest = x_range_largest\n",
    "    \n",
    "    for i, points in enumerate(fault_points_list):\n",
    "        # Extract x, y, z coordinates from points\n",
    "        x_coords = points[:, 0]\n",
    "        y_coords = points[:, 1]\n",
    "        z_coords = points[:, 2]\n",
    "\n",
    "        # Plot the points\n",
    "        fig.add_trace(go.Scatter3d(\n",
    "            x=x_coords,\n",
    "            y=y_coords,\n",
    "            z=z_coords,\n",
    "            mode='markers',\n",
    "            marker=dict(\n",
    "                size=3,\n",
    "                opacity=0.8\n",
    "            ),\n",
    "            name=f'Fault {i+1}'\n",
    "        ))\n",
    "\n",
    "    if show_plane or show_axes or fault_metadata_list != None:\n",
    "        j=0\n",
    "        print(fault_metadata_list[0])\n",
    "        for metadata in fault_metadata_list:\n",
    "            # Unpack plane data:\n",
    "            (center, length, width, normal, length_axis, width_axis) = metadata\n",
    "\n",
    "            if show_plane:\n",
    "                # Define vertices of the plane\n",
    "                plane_vertices = center + np.array([-length/2, length/2, length/2, -length/2, -length/2])[:, None] * length_axis + np.array([-width/2, -width/2, width/2, width/2, -width/2])[:, None] * width_axis\n",
    "\n",
    "                plane_trace = go.Mesh3d(x=plane_vertices[:, 0],\n",
    "                                        y=plane_vertices[:, 1],\n",
    "                                        z=plane_vertices[:, 2],\n",
    "                                        i=[0, 1, 2, 0],\n",
    "                                        j=[1, 2, 3, 4],\n",
    "                                        k=[2, 3, 4, 0],\n",
    "                                        opacity=0.2,\n",
    "                                        color='blue',\n",
    "                                        )\n",
    "                fig.add_trace(plane_trace)\n",
    "\n",
    "            if show_axes:\n",
    "                # Plot length and width axes\n",
    "                length_axis_trace = go.Scatter3d(x=[center[0], center[0] + length_axis[0]*length/2],\n",
    "                                                y=[center[1], center[1] + length_axis[1]*length/2],\n",
    "                                                z=[center[2], center[2] + length_axis[2]*length/2],\n",
    "                                                mode='lines',\n",
    "                                                line=dict(color='red', width=3),\n",
    "                                                )\n",
    "\n",
    "                width_axis_trace = go.Scatter3d(x=[center[0], center[0] + width_axis[0]*width/2],\n",
    "                                                y=[center[1], center[1] + width_axis[1]*width/2],\n",
    "                                                z=[center[2], center[2] + width_axis[2]*width/2],\n",
    "                                                mode='lines',\n",
    "                                                line=dict(color='green', width=3),\n",
    "                                                )\n",
    "                fig.add_trace(length_axis_trace)\n",
    "                fig.add_trace(width_axis_trace)\n",
    "            j+=1\n",
    "            \n",
    "    fig.update_layout(scene=dict(\n",
    "        xaxis_title='X',\n",
    "        yaxis_title='Y',\n",
    "        zaxis_title='Z'),\n",
    "        title='3D Visualization of Fault Points'\n",
    "    )\n",
    "\n",
    "    fig.show()"
   ]
  },
  {
   "cell_type": "markdown",
   "metadata": {},
   "source": [
    "## Example outputs"
   ]
  },
  {
   "cell_type": "code",
   "execution_count": 87,
   "metadata": {},
   "outputs": [
    {
     "name": "stdout",
     "output_type": "stream",
     "text": [
      "--------------------------------------------------\n",
      "    Generating 0 simple faults:\n",
      "--------------------------------------------------\n",
      "\n",
      "--------------------------------------------------\n",
      "    Generating 1 bent faults:\n",
      "--------------------------------------------------\n",
      "    Bent fault number: 1\n",
      "       First plane:\n",
      "         center: [ 0.72751347 -0.64979776  0.69914384] \n",
      "         length: 1.078052653333827, width: 0.5650701860823936 \n",
      "         length_axis: [-0.95725389  0.28703286  0.03573691],   width_axis: [-0.2786882  -0.88215649 -0.37964828]\n",
      "\n",
      "       Second plane:\n",
      "         Angle: [6.39435543]\n",
      "         center: [-0.12595853 -0.40941304  0.76708997] \n",
      "         length: 0.7031535169940661, width: 0.3685637129722734 \n",
      "         length_axis: [-0.95992395  0.24366357  0.13847047],   width_axis: [-0.2786882  -0.88215649 -0.37964828]\n",
      "\n",
      "--------------------------------------------------\n",
      "    Generating 0 cross faults:\n",
      "--------------------------------------------------\n",
      "\n",
      "--------------------------------------------------\n",
      "    Generating 0 Y - faults:\n",
      "--------------------------------------------------\n",
      "\n",
      "--------------------------------------------------\n",
      "    Generating 0 parallel faults:\n",
      "--------------------------------------------------\n",
      "\n",
      "--------------------------------------------------\n",
      "    Generating 0 ladder-like structures:\n",
      "--------------------------------------------------\n"
     ]
    },
    {
     "data": {
      "image/png": "[encoded data removed]",
      "text/plain": [
       "<Figure size 800x600 with 1 Axes>"
      ]
     },
     "metadata": {},
     "output_type": "display_data"
    },
    {
     "name": "stdout",
     "output_type": "stream",
     "text": [
      "(array([ 0.72751347, -0.64979776,  0.69914384]), 1.078052653333827, 0.5650701860823936, (-0.07744598308991953, -0.37337924902765685, 0.9244404015937311), array([-0.95725389,  0.28703286,  0.03573691]), array([-0.2786882 , -0.88215649, -0.37964828]))\n"
     ]
    },
    {
     "data": {
      "application/vnd.plotly.v1+json": {
       "config": {
        "plotlyServerURL": "https://plot.ly"
       },
       "data": [
        {
         "marker": {
          "opacity": 0.8,
          "size": 3
         },
         "mode": "markers",
         "name": "Fault 1",
         "type": "scatter3d",
         "x": [
          0.8657103939622307,
          0.18268920210418485,
          0.608940116681915,
          1.0566311816452438,
          1.1750077086826878,
          1.002145449915464,
          0.7640334173406967,
          0.9164155735671757,
          0.872177397413441,
          0.9152822079066475,
          1.0249965665721734,
          0.7162010982231749,
          1.0697648207241996,
          0.26124445647542205,
          0.43276096758715105,
          1.0774877003537089,
          1.166784838336025,
          0.29185065177875336,
          0.42348595690515,
          0.9690007682941478,
          0.8779052897239012,
          0.8609269925253338,
          1.1093649066286893,
          0.8302130536082103,
          0.3805304299320396,
          0.9656186333537025,
          1.1084125556176014,
          0.7028266947883647,
          0.2440604026947843,
          0.7141955193400413,
          0.5229062637432164,
          0.53577157697563,
          0.5758601954408964,
          1.118988060662707,
          1.2214841968616315,
          0.7578923819491183,
          0.7968478312889866,
          0.39172367078553544,
          0.8788340682164855,
          0.961736415386093,
          1.0916682125091839,
          0.5702553211163608,
          0.49477810743017037,
          0.857546136561728,
          0.2858584027297813,
          0.5927690503406325,
          0.739830975544453,
          0.45758244656767477,
          0.43098473876251076,
          1.0719336449029144,
          0.9418212488176525,
          1.0028582444980412,
          0.6927327207839961,
          0.33237891961619953,
          1.142528832526794,
          0.8397540358743733,
          1.216891693302216,
          0.8962158166477211,
          0.7259586777934862,
          0.6795265398239223,
          0.8860378371473312,
          1.2669544218510762,
          1.1021075068316648,
          0.4478862686412763,
          0.2935767954437334,
          0.9831069591378057,
          0.3908412158245386,
          0.39517504812134713,
          1.2303708401588962,
          0.761950443319809,
          0.31278342445788154,
          0.926964848997096,
          0.8392493039717766,
          0.8400370609117547,
          1.2697161270728414,
          0.7214533854819132,
          0.7898120343661476,
          0.41179541086203486,
          0.9564060616476489,
          0.6446350455328954,
          1.008899522951101,
          0.9031199016791549,
          0.29276227789900305,
          0.4647164068653159,
          1.2089637204917638,
          1.1451619693912853,
          0.39068681507798086,
          1.009949420476357,
          0.7087907044862063,
          0.8001027077818417,
          1.10746078227611,
          -0.10572859488903716,
          -0.031186531733659553,
          -0.269623857435418,
          -0.19142732432936518,
          -0.17667787631476597,
          -0.11826919626615548,
          -0.15611087536966758,
          -0.06882491880758523,
          -0.3391733008784816,
          0.06733365993181332,
          0.09034200727829098,
          0.031008044772782253,
          -0.3870360566579856,
          -0.3146617048233425,
          -0.14860154444692772,
          -0.1897043689411832,
          -0.05044575105999221,
          -0.23770356234464046,
          -0.1874688821333589,
          0.0716773367124357,
          -0.0010147044839173378,
          -0.41952416516654156,
          -0.2875098402797023,
          -0.34527118259295286,
          0.09358295771773628,
          -0.14193299684113053,
          0.14592946368658116,
          -0.1795031394389119,
          -0.4063618057337537,
          -0.05623727719942551,
          0.14865876212200196,
          0.13025221728318945,
          -0.24401793620428025,
          0.16620751270150622,
          -0.3024533217099524,
          0.0283581412901276,
          -0.10734878033368882,
          0.20560512255270763,
          -0.01748192105873252
         ],
         "y": [
          -0.506153064232635,
          -0.6457773590042303,
          -0.48983246208699666,
          -0.7656959526791393,
          -0.45458637904032867,
          -0.5165277114790787,
          -0.5901726398163394,
          -0.8327553938122916,
          -0.7664311857061757,
          -0.49649401462208287,
          -0.5242910756970973,
          -0.4263902235028953,
          -0.6613575787045343,
          -0.3865985240985588,
          -0.36360503964450575,
          -0.7459563985182883,
          -0.717132388160572,
          -0.5857083133280622,
          -0.48849770791213304,
          -0.4872886858061993,
          -0.7319441218243555,
          -0.9966171986461924,
          -0.5407940618994171,
          -0.8775937241957855,
          -0.3858178086333038,
          -0.7787139130569127,
          -1.0133111955007568,
          -0.8779436129357198,
          -0.7249397547905689,
          -0.5448256939223868,
          -0.5842944161537833,
          -0.3505677509191682,
          -0.3795152308688006,
          -0.5009787133500528,
          -0.7071782029948638,
          -0.8565582823458423,
          -0.8042385679374159,
          -0.5902719394815179,
          -0.7178062599872403,
          -0.7306830506295265,
          -0.8100472962096898,
          -0.7000623134783248,
          -0.8281167700388907,
          -0.8206148013502357,
          -0.4121135054027347,
          -0.6157030297763071,
          -0.8591854908970582,
          -0.29433122976917403,
          -0.5230748794490411,
          -0.549930712451713,
          -0.8154685284226673,
          -0.48709135775073087,
          -0.8639109828596506,
          -0.7303014149858268,
          -0.8175222187111814,
          -0.6925240922553234,
          -0.8043759192815,
          -0.4767489950751414,
          -0.533453244805319,
          -0.48353853156246984,
          -0.8455194737610068,
          -0.6980183830632125,
          -0.6572921572808869,
          -0.7367341262537198,
          -0.7766390052715268,
          -0.8865807388085265,
          -0.31653718829574107,
          -0.7813970227974255,
          -0.6088148568601767,
          -0.6566177705326062,
          -0.7267612473857196,
          -0.9321667944269055,
          -0.4552925545173174,
          -0.8186996782004925,
          -0.47658920583698755,
          -0.6801220328593247,
          -1.0228479522468574,
          -0.5749830917389573,
          -0.4794743619838574,
          -0.4415947559323577,
          -0.48126646443599963,
          -0.5647332476823574,
          -0.5410786967793073,
          -0.3979235167263272,
          -0.8426983347691146,
          -0.6640384856530658,
          -0.48530561201265915,
          -0.7388756180321477,
          -0.7583196126092177,
          -0.8106649539320179,
          -0.8981307404959779,
          -0.39864925041716376,
          -0.29414909618171714,
          -0.3985401107091874,
          -0.4938759741811694,
          -0.5301151243357101,
          -0.3976567240198771,
          -0.24421122310361942,
          -0.502218806400682,
          -0.15617470543969128,
          -0.5320585548816059,
          -0.4354858954622936,
          -0.3707092163444842,
          -0.25302428194683924,
          -0.24891745758590006,
          -0.3511175935766235,
          -0.42031395319354176,
          -0.5977861220593199,
          -0.43981332905808695,
          -0.3924907935898715,
          -0.37722031624066277,
          -0.5665817090605986,
          -0.34984823287884387,
          -0.17452082024305296,
          -0.22058027930724128,
          -0.49958509045055255,
          -0.3193622150516413,
          -0.44020218788393783,
          -0.3803013913157349,
          -0.4143825357588988,
          -0.3301868695273512,
          -0.655251288151816,
          -0.3092457463056994,
          -0.3315155936894511,
          -0.3396807941509281,
          -0.5074034706847901,
          -0.5460263987776017,
          -0.3259657969933143,
          -0.3841070590054088,
          -0.5299266513455717
         ],
         "z": [
          0.679527899900627,
          0.5409146357621712,
          0.5571661734745115,
          0.6868132276620844,
          0.6600734442941296,
          0.7496509928745688,
          0.5225656137894559,
          0.6997380325426711,
          0.8067339341067015,
          0.8178691667398446,
          0.8718613220526452,
          0.5865212521103358,
          0.777487434042497,
          0.9169548368127103,
          0.6012769340025678,
          0.6611007243017243,
          0.6695446443852634,
          0.8221636542947043,
          0.7334880462472342,
          0.7535434283103529,
          0.8714120699299327,
          0.7584964454879308,
          0.6408374148333305,
          0.7822239582457567,
          0.8428375042132309,
          0.7969325987018273,
          0.6511179786224938,
          0.5114438508274924,
          0.7236662231890945,
          0.9062461761331772,
          0.7997274062579312,
          0.6895381331096561,
          0.7075093292531044,
          0.7329475060704151,
          0.810865169708578,
          0.5494442512709738,
          0.7064711169232347,
          0.5560977901758639,
          0.6234706130302106,
          0.8330351901331777,
          0.5944570084810781,
          0.8341431109203896,
          0.7407092308931422,
          0.47560564690099083,
          0.8324414308091759,
          0.975912173821085,
          0.7791360306148775,
          0.7274771025924984,
          0.458915505366293,
          0.9167422757769733,
          0.6484698503779891,
          0.7672107087511262,
          0.5891928834346304,
          0.6002951779803503,
          0.7982802801791982,
          0.6279016801324155,
          0.6579827484250994,
          0.665577063586302,
          0.6656340749727361,
          0.47463390639743097,
          0.626689859360239,
          0.8035074669192218,
          0.6290925976223669,
          0.752285824257355,
          0.7416044331932377,
          0.6406669948618557,
          0.738082202084399,
          0.6688442443445866,
          0.6983024724310497,
          0.786728112783224,
          0.7759972944882959,
          0.7363546644821877,
          0.669236026660028,
          0.7593422037019479,
          0.6160307533001985,
          0.7451837556613312,
          0.793057267770165,
          0.9014134764541266,
          0.8340050554672408,
          0.6917069106208398,
          0.7184359765536753,
          0.6556869190158827,
          0.7242431317752919,
          0.8021651739123159,
          0.42688925420952856,
          0.8083514102444762,
          0.531105685249382,
          0.7100034747189493,
          0.39401659812802414,
          0.5936563780850354,
          0.45107255084751974,
          0.7520383185463885,
          0.8788331391144816,
          0.7436375547331776,
          0.9249374207811083,
          0.6970842530734286,
          0.7239738360040052,
          0.8598270910903033,
          0.6294245214941121,
          0.7479300863326807,
          0.7064177776070546,
          0.7089831278695387,
          0.8943331549903105,
          0.8929744679659365,
          0.86743842351511,
          0.7474323787981185,
          0.8542115279529064,
          0.7190533097743553,
          0.780157569524936,
          0.9042307165326557,
          0.73298495187775,
          0.6813024003869439,
          0.739183487510626,
          0.8020354094239417,
          0.9393355715457197,
          0.6999762560620705,
          0.9951000176682219,
          0.6444121995723591,
          0.79231303265337,
          0.6985972450450759,
          0.8379062207456945,
          0.6947403789044764,
          0.8188364626376957,
          0.7146273817906911,
          0.8325019320891663,
          0.750534087312412,
          0.8029176533444718,
          0.8500841532245651,
          0.8589027661575025,
          0.6711270919112943
         ]
        },
        {
         "color": "blue",
         "i": [
          0,
          1,
          2,
          0
         ],
         "j": [
          1,
          2,
          3,
          4
         ],
         "k": [
          2,
          3,
          4,
          0
         ],
         "opacity": 0.2,
         "type": "mesh3d",
         "x": [
          1.3222377142780586,
          0.2902676193299436,
          0.13278922742965896,
          1.1647593223777741,
          1.3222377142780586
         ],
         "y": [
          -0.5552758649255025,
          -0.2458393243084685,
          -0.7443196557979495,
          -1.0537561964149835,
          -0.5552758649255025
         ],
         "z": [
          0.7871446615359986,
          0.8256709359970124,
          0.6111430114700908,
          0.572616737009077,
          0.7871446615359986
         ]
        },
        {
         "line": {
          "color": "red",
          "width": 3
         },
         "mode": "lines",
         "type": "scatter3d",
         "x": [
          0.7275134708538589,
          0.21152842337980127
         ],
         "y": [
          -0.649797760361726,
          -0.49507949005320895
         ],
         "z": [
          0.6991438365030447,
          0.7184069737335516
         ]
        },
        {
         "line": {
          "color": "green",
          "width": 3
         },
         "mode": "lines",
         "type": "scatter3d",
         "x": [
          0.7275134708538589,
          0.6487742749037165
         ],
         "y": [
          -0.649797760361726,
          -0.8990379261064665
         ],
         "z": [
          0.6991438365030447,
          0.5918798742395839
         ]
        },
        {
         "color": "blue",
         "i": [
          0,
          1,
          2,
          0
         ],
         "j": [
          1,
          2,
          3,
          4
         ],
         "k": [
          2,
          3,
          4,
          0
         ],
         "opacity": 0.2,
         "type": "mesh3d",
         "x": [
          0.26288560188718824,
          -0.41208830080148195,
          -0.5148026578162559,
          0.16017124487241433,
          0.26288560188718824
         ],
         "y": [
          -0.332514054517539,
          -0.16118115735469052,
          -0.4863120284260304,
          -0.6576449255888789,
          -0.332514054517539
         ],
         "z": [
          0.7883692636820332,
          0.8857352613410459,
          0.7458106814440826,
          0.6484446837850699,
          0.7883692636820332
         ]
        },
        {
         "line": {
          "color": "red",
          "width": 3
         },
         "mode": "lines",
         "type": "scatter3d",
         "x": [
          -0.12595852796453383,
          -0.4634454793088689
         ],
         "y": [
          -0.4094130414717847,
          -0.32374659289036045
         ],
         "z": [
          0.7670899725630579,
          0.8157729713925642
         ]
        },
        {
         "line": {
          "color": "green",
          "width": 3
         },
         "mode": "lines",
         "type": "scatter3d",
         "x": [
          -0.12595852796453383,
          -0.17731570647192077
         ],
         "y": [
          -0.4094130414717847,
          -0.5719784770074546
         ],
         "z": [
          0.7670899725630579,
          0.6971276826145762
         ]
        }
       ],
       "layout": {
        "scene": {
         "xaxis": {
          "title": {
           "text": "X"
          }
         },
         "yaxis": {
          "title": {
           "text": "Y"
          }
         },
         "zaxis": {
          "title": {
           "text": "Z"
          }
         }
        },
        "template": {
         "data": {
          "bar": [
           {
            "error_x": {
             "color": "#2a3f5f"
            },
            "error_y": {
             "color": "#2a3f5f"
            },
            "marker": {
             "line": {
              "color": "#E5ECF6",
              "width": 0.5
             },
             "pattern": {
              "fillmode": "overlay",
              "size": 10,
              "solidity": 0.2
             }
            },
            "type": "bar"
           }
          ],
          "barpolar": [
           {
            "marker": {
             "line": {
              "color": "#E5ECF6",
              "width": 0.5
             },
             "pattern": {
              "fillmode": "overlay",
              "size": 10,
              "solidity": 0.2
             }
            },
            "type": "barpolar"
           }
          ],
          "carpet": [
           {
            "aaxis": {
             "endlinecolor": "#2a3f5f",
             "gridcolor": "white",
             "linecolor": "white",
             "minorgridcolor": "white",
             "startlinecolor": "#2a3f5f"
            },
            "baxis": {
             "endlinecolor": "#2a3f5f",
             "gridcolor": "white",
             "linecolor": "white",
             "minorgridcolor": "white",
             "startlinecolor": "#2a3f5f"
            },
            "type": "carpet"
           }
          ],
          "choropleth": [
           {
            "colorbar": {
             "outlinewidth": 0,
             "ticks": ""
            },
            "type": "choropleth"
           }
          ],
          "contour": [
           {
            "colorbar": {
             "outlinewidth": 0,
             "ticks": ""
            },
            "colorscale": [
             [
              0,
              "#0d0887"
             ],
             [
              0.1111111111111111,
              "#46039f"
             ],
             [
              0.2222222222222222,
              "#7201a8"
             ],
             [
              0.3333333333333333,
              "#9c179e"
             ],
             [
              0.4444444444444444,
              "#bd3786"
             ],
             [
              0.5555555555555556,
              "#d8576b"
             ],
             [
              0.6666666666666666,
              "#ed7953"
             ],
             [
              0.7777777777777778,
              "#fb9f3a"
             ],
             [
              0.8888888888888888,
              "#fdca26"
             ],
             [
              1,
              "#f0f921"
             ]
            ],
            "type": "contour"
           }
          ],
          "contourcarpet": [
           {
            "colorbar": {
             "outlinewidth": 0,
             "ticks": ""
            },
            "type": "contourcarpet"
           }
          ],
          "heatmap": [
           {
            "colorbar": {
             "outlinewidth": 0,
             "ticks": ""
            },
            "colorscale": [
             [
              0,
              "#0d0887"
             ],
             [
              0.1111111111111111,
              "#46039f"
             ],
             [
              0.2222222222222222,
              "#7201a8"
             ],
             [
              0.3333333333333333,
              "#9c179e"
             ],
             [
              0.4444444444444444,
              "#bd3786"
             ],
             [
              0.5555555555555556,
              "#d8576b"
             ],
             [
              0.6666666666666666,
              "#ed7953"
             ],
             [
              0.7777777777777778,
              "#fb9f3a"
             ],
             [
              0.8888888888888888,
              "#fdca26"
             ],
             [
              1,
              "#f0f921"
             ]
            ],
            "type": "heatmap"
           }
          ],
          "heatmapgl": [
           {
            "colorbar": {
             "outlinewidth": 0,
             "ticks": ""
            },
            "colorscale": [
             [
              0,
              "#0d0887"
             ],
             [
              0.1111111111111111,
              "#46039f"
             ],
             [
              0.2222222222222222,
              "#7201a8"
             ],
             [
              0.3333333333333333,
              "#9c179e"
             ],
             [
              0.4444444444444444,
              "#bd3786"
             ],
             [
              0.5555555555555556,
              "#d8576b"
             ],
             [
              0.6666666666666666,
              "#ed7953"
             ],
             [
              0.7777777777777778,
              "#fb9f3a"
             ],
             [
              0.8888888888888888,
              "#fdca26"
             ],
             [
              1,
              "#f0f921"
             ]
            ],
            "type": "heatmapgl"
           }
          ],
          "histogram": [
           {
            "marker": {
             "pattern": {
              "fillmode": "overlay",
              "size": 10,
              "solidity": 0.2
             }
            },
            "type": "histogram"
           }
          ],
          "histogram2d": [
           {
            "colorbar": {
             "outlinewidth": 0,
             "ticks": ""
            },
            "colorscale": [
             [
              0,
              "#0d0887"
             ],
             [
              0.1111111111111111,
              "#46039f"
             ],
             [
              0.2222222222222222,
              "#7201a8"
             ],
             [
              0.3333333333333333,
              "#9c179e"
             ],
             [
              0.4444444444444444,
              "#bd3786"
             ],
             [
              0.5555555555555556,
              "#d8576b"
             ],
             [
              0.6666666666666666,
              "#ed7953"
             ],
             [
              0.7777777777777778,
              "#fb9f3a"
             ],
             [
              0.8888888888888888,
              "#fdca26"
             ],
             [
              1,
              "#f0f921"
             ]
            ],
            "type": "histogram2d"
           }
          ],
          "histogram2dcontour": [
           {
            "colorbar": {
             "outlinewidth": 0,
             "ticks": ""
            },
            "colorscale": [
             [
              0,
              "#0d0887"
             ],
             [
              0.1111111111111111,
              "#46039f"
             ],
             [
              0.2222222222222222,
              "#7201a8"
             ],
             [
              0.3333333333333333,
              "#9c179e"
             ],
             [
              0.4444444444444444,
              "#bd3786"
             ],
             [
              0.5555555555555556,
              "#d8576b"
             ],
             [
              0.6666666666666666,
              "#ed7953"
             ],
             [
              0.7777777777777778,
              "#fb9f3a"
             ],
             [
              0.8888888888888888,
              "#fdca26"
             ],
             [
              1,
              "#f0f921"
             ]
            ],
            "type": "histogram2dcontour"
           }
          ],
          "mesh3d": [
           {
            "colorbar": {
             "outlinewidth": 0,
             "ticks": ""
            },
            "type": "mesh3d"
           }
          ],
          "parcoords": [
           {
            "line": {
             "colorbar": {
              "outlinewidth": 0,
              "ticks": ""
             }
            },
            "type": "parcoords"
           }
          ],
          "pie": [
           {
            "automargin": true,
            "type": "pie"
           }
          ],
          "scatter": [
           {
            "fillpattern": {
             "fillmode": "overlay",
             "size": 10,
             "solidity": 0.2
            },
            "type": "scatter"
           }
          ],
          "scatter3d": [
           {
            "line": {
             "colorbar": {
              "outlinewidth": 0,
              "ticks": ""
             }
            },
            "marker": {
             "colorbar": {
              "outlinewidth": 0,
              "ticks": ""
             }
            },
            "type": "scatter3d"
           }
          ],
          "scattercarpet": [
           {
            "marker": {
             "colorbar": {
              "outlinewidth": 0,
              "ticks": ""
             }
            },
            "type": "scattercarpet"
           }
          ],
          "scattergeo": [
           {
            "marker": {
             "colorbar": {
              "outlinewidth": 0,
              "ticks": ""
             }
            },
            "type": "scattergeo"
           }
          ],
          "scattergl": [
           {
            "marker": {
             "colorbar": {
              "outlinewidth": 0,
              "ticks": ""
             }
            },
            "type": "scattergl"
           }
          ],
          "scattermapbox": [
           {
            "marker": {
             "colorbar": {
              "outlinewidth": 0,
              "ticks": ""
             }
            },
            "type": "scattermapbox"
           }
          ],
          "scatterpolar": [
           {
            "marker": {
             "colorbar": {
              "outlinewidth": 0,
              "ticks": ""
             }
            },
            "type": "scatterpolar"
           }
          ],
          "scatterpolargl": [
           {
            "marker": {
             "colorbar": {
              "outlinewidth": 0,
              "ticks": ""
             }
            },
            "type": "scatterpolargl"
           }
          ],
          "scatterternary": [
           {
            "marker": {
             "colorbar": {
              "outlinewidth": 0,
              "ticks": ""
             }
            },
            "type": "scatterternary"
           }
          ],
          "surface": [
           {
            "colorbar": {
             "outlinewidth": 0,
             "ticks": ""
            },
            "colorscale": [
             [
              0,
              "#0d0887"
             ],
             [
              0.1111111111111111,
              "#46039f"
             ],
             [
              0.2222222222222222,
              "#7201a8"
             ],
             [
              0.3333333333333333,
              "#9c179e"
             ],
             [
              0.4444444444444444,
              "#bd3786"
             ],
             [
              0.5555555555555556,
              "#d8576b"
             ],
             [
              0.6666666666666666,
              "#ed7953"
             ],
             [
              0.7777777777777778,
              "#fb9f3a"
             ],
             [
              0.8888888888888888,
              "#fdca26"
             ],
             [
              1,
              "#f0f921"
             ]
            ],
            "type": "surface"
           }
          ],
          "table": [
           {
            "cells": {
             "fill": {
              "color": "#EBF0F8"
             },
             "line": {
              "color": "white"
             }
            },
            "header": {
             "fill": {
              "color": "#C8D4E3"
             },
             "line": {
              "color": "white"
             }
            },
            "type": "table"
           }
          ]
         },
         "layout": {
          "annotationdefaults": {
           "arrowcolor": "#2a3f5f",
           "arrowhead": 0,
           "arrowwidth": 1
          },
          "autotypenumbers": "strict",
          "coloraxis": {
           "colorbar": {
            "outlinewidth": 0,
            "ticks": ""
           }
          },
          "colorscale": {
           "diverging": [
            [
             0,
             "#8e0152"
            ],
            [
             0.1,
             "#c51b7d"
            ],
            [
             0.2,
             "#de77ae"
            ],
            [
             0.3,
             "#f1b6da"
            ],
            [
             0.4,
             "#fde0ef"
            ],
            [
             0.5,
             "#f7f7f7"
            ],
            [
             0.6,
             "#e6f5d0"
            ],
            [
             0.7,
             "#b8e186"
            ],
            [
             0.8,
             "#7fbc41"
            ],
            [
             0.9,
             "#4d9221"
            ],
            [
             1,
             "#276419"
            ]
           ],
           "sequential": [
            [
             0,
             "#0d0887"
            ],
            [
             0.1111111111111111,
             "#46039f"
            ],
            [
             0.2222222222222222,
             "#7201a8"
            ],
            [
             0.3333333333333333,
             "#9c179e"
            ],
            [
             0.4444444444444444,
             "#bd3786"
            ],
            [
             0.5555555555555556,
             "#d8576b"
            ],
            [
             0.6666666666666666,
             "#ed7953"
            ],
            [
             0.7777777777777778,
             "#fb9f3a"
            ],
            [
             0.8888888888888888,
             "#fdca26"
            ],
            [
             1,
             "#f0f921"
            ]
           ],
           "sequentialminus": [
            [
             0,
             "#0d0887"
            ],
            [
             0.1111111111111111,
             "#46039f"
            ],
            [
             0.2222222222222222,
             "#7201a8"
            ],
            [
             0.3333333333333333,
             "#9c179e"
            ],
            [
             0.4444444444444444,
             "#bd3786"
            ],
            [
             0.5555555555555556,
             "#d8576b"
            ],
            [
             0.6666666666666666,
             "#ed7953"
            ],
            [
             0.7777777777777778,
             "#fb9f3a"
            ],
            [
             0.8888888888888888,
             "#fdca26"
            ],
            [
             1,
             "#f0f921"
            ]
           ]
          },
          "colorway": [
           "#636efa",
           "#EF553B",
           "#00cc96",
           "#ab63fa",
           "#FFA15A",
           "#19d3f3",
           "#FF6692",
           "#B6E880",
           "#FF97FF",
           "#FECB52"
          ],
          "font": {
           "color": "#2a3f5f"
          },
          "geo": {
           "bgcolor": "white",
           "lakecolor": "white",
           "landcolor": "#E5ECF6",
           "showlakes": true,
           "showland": true,
           "subunitcolor": "white"
          },
          "hoverlabel": {
           "align": "left"
          },
          "hovermode": "closest",
          "mapbox": {
           "style": "light"
          },
          "paper_bgcolor": "white",
          "plot_bgcolor": "#E5ECF6",
          "polar": {
           "angularaxis": {
            "gridcolor": "white",
            "linecolor": "white",
            "ticks": ""
           },
           "bgcolor": "#E5ECF6",
           "radialaxis": {
            "gridcolor": "white",
            "linecolor": "white",
            "ticks": ""
           }
          },
          "scene": {
           "xaxis": {
            "backgroundcolor": "#E5ECF6",
            "gridcolor": "white",
            "gridwidth": 2,
            "linecolor": "white",
            "showbackground": true,
            "ticks": "",
            "zerolinecolor": "white"
           },
           "yaxis": {
            "backgroundcolor": "#E5ECF6",
            "gridcolor": "white",
            "gridwidth": 2,
            "linecolor": "white",
            "showbackground": true,
            "ticks": "",
            "zerolinecolor": "white"
           },
           "zaxis": {
            "backgroundcolor": "#E5ECF6",
            "gridcolor": "white",
            "gridwidth": 2,
            "linecolor": "white",
            "showbackground": true,
            "ticks": "",
            "zerolinecolor": "white"
           }
          },
          "shapedefaults": {
           "line": {
            "color": "#2a3f5f"
           }
          },
          "ternary": {
           "aaxis": {
            "gridcolor": "white",
            "linecolor": "white",
            "ticks": ""
           },
           "baxis": {
            "gridcolor": "white",
            "linecolor": "white",
            "ticks": ""
           },
           "bgcolor": "#E5ECF6",
           "caxis": {
            "gridcolor": "white",
            "linecolor": "white",
            "ticks": ""
           }
          },
          "title": {
           "x": 0.05
          },
          "xaxis": {
           "automargin": true,
           "gridcolor": "white",
           "linecolor": "white",
           "ticks": "",
           "title": {
            "standoff": 15
           },
           "zerolinecolor": "white",
           "zerolinewidth": 2
          },
          "yaxis": {
           "automargin": true,
           "gridcolor": "white",
           "linecolor": "white",
           "ticks": "",
           "title": {
            "standoff": 15
           },
           "zerolinecolor": "white",
           "zerolinewidth": 2
          }
         }
        },
        "title": {
         "text": "3D Visualization of Fault Points"
        }
       }
      }
     },
     "metadata": {},
     "output_type": "display_data"
    }
   ],
   "source": [
    "n_simple_faults = 0\n",
    "n_bent_faults = 1\n",
    "n_cross_faults = 0\n",
    "n_Y_faults = 0\n",
    "n_parallel_faults = 0\n",
    "n_structures = 0\n",
    "\n",
    "# Generate fault metadata \n",
    "fault_metadata_list = generate_faults_metadata(n_simple_faults, n_bent_faults, n_cross_faults, n_Y_faults, n_parallel_faults, n_structures, eps_center=0.1, domain_scale=1, VERBOSE=True)\n",
    "\n",
    "# Generate point cloud for the fault \n",
    "fault_points_list = generate_point_list_from_metadata_list(fault_metadata_list, n_simple_faults, n_bent_faults, n_cross_faults, n_Y_faults, n_parallel_faults)\n",
    "\n",
    "multi_static_plot_better(fault_points_list, fault_metadata_list, show_plane=True, show_axes=True)\n",
    "multi_interactive_plot_better(fault_points_list, fault_metadata_list, show_plane=True, show_axes=True)\n"
   ]
  },
  {
   "cell_type": "markdown",
   "metadata": {},
   "source": [
    "## Generating a larger dataset"
   ]
  },
  {
   "cell_type": "code",
   "execution_count": 77,
   "metadata": {},
   "outputs": [
    {
     "data": {
      "image/png": "[encoded data removed]",
      "text/plain": [
       "<Figure size 800x600 with 1 Axes>"
      ]
     },
     "metadata": {},
     "output_type": "display_data"
    },
    {
     "data": {
      "application/vnd.plotly.v1+json": {
       "config": {
        "plotlyServerURL": "https://plot.ly"
       },
       "data": [
        {
         "marker": {
          "opacity": 0.8,
          "size": 3
         },
         "mode": "markers",
         "name": "Fault 1",
         "type": "scatter3d",
         "x": [
          -0.3203041073867507,
          -0.21171860042083263,
          -0.3640182451852825,
          -0.5751135399957624,
          -0.7595701219857234,
          -0.8865380826760306,
          -0.8608605297132389,
          -0.5330952910874518,
          -0.8100036660795731,
          -0.38897351052244034,
          -0.39373834820168524,
          -0.06301017068814123,
          -0.8764433212882224,
          -0.7257867119014362,
          -0.328638808248867,
          -1.0583515428978236,
          -0.6722292868533135,
          -0.9543642077587311,
          -0.5143760653702154,
          -0.7788004305267464,
          -0.4774754569315952,
          -0.47084517721043895,
          -0.5560435187292667,
          -0.7752393780010585,
          -0.8575112389136113,
          -0.6637644168412955,
          -0.68533479344903,
          -0.7106455561617662,
          -0.5780185056282493,
          -0.6875191165036956,
          -1.0103457268302627,
          -1.0249631125131455,
          -0.9001432127402136,
          -0.8407902231263773,
          -0.40166617733193116,
          -0.3847719362704174,
          -0.3942321305557619,
          -0.49928207790073453,
          -0.44040711236237184,
          -0.6713507755118954,
          -0.5419756259122108,
          -0.5382212400731061,
          -0.3753267047241884,
          -0.9140415423269672,
          -0.4806463602296498,
          -0.8232800945394756,
          -0.7768455087453892,
          -0.6503452774939064,
          -0.22837805647417686,
          -0.5232444965396074,
          -0.9141273590450218,
          -0.8604476493611021,
          -0.7441979891830162,
          -0.9526473212006412,
          -0.6433365430177408,
          -0.9494966072541922,
          -0.36535718007960294,
          -0.8184421863026407,
          -0.378546518013386,
          -0.2337450287341084,
          -1.0429430455017017,
          -0.3386296460109789,
          -0.8732628373334211,
          -0.9089004771291461,
          -1.106852561111693,
          -0.2747596357564698,
          -0.9100871874195814,
          -0.9954128474603705,
          -0.6851867004997438,
          -0.4377971448069457,
          -1.0503459126492252,
          -0.18367281448345912,
          -0.20668464079190668,
          -0.7058829759273817,
          -1.0319489574239085,
          -0.9095971408137428,
          -0.44191253080066834,
          -0.5276811796994961,
          -0.9229830359035032,
          -0.17707156712846178,
          -0.9925733617692184,
          0.008376753368955936,
          -0.3401518540549622,
          -0.3331323838204462,
          -0.5042860344631651,
          -0.495368478279558,
          -0.32540831950853,
          -0.9884178904671383,
          -1.070012496831978,
          -0.7782691404227778,
          -0.6451776311263291,
          -0.9288056085669638,
          -0.8582349429855286,
          -0.17569470255174602,
          -0.2128173431064782,
          -0.9911012565009829,
          -0.22881675569814314,
          -0.54623723483089,
          -0.4557895281793358,
          -0.3524746542311008,
          -0.7421717611724102,
          -0.7665375787872732,
          -0.3285732972112161,
          -0.4674382362437351,
          -0.6654851022757956,
          -0.5608700620119423,
          -0.1299367958529104,
          -0.40624417467321544,
          -0.30483724023137854,
          -0.5043126303605532,
          -0.7366458261407011,
          -0.8570764592699567,
          -0.912937296198574,
          -0.3893589274896627,
          -0.4158932219697112,
          -0.1377987039775425,
          -0.37177003258286917,
          -0.5061273493749697,
          -0.7014543770174848,
          -0.7065215694772136,
          -0.8345116923609297,
          -0.7304497528672422,
          -0.7871990381993267,
          -0.6070343326862091,
          -0.41791471927678076,
          -1.3098834359985763,
          -1.334383371613576,
          -1.035552886235181,
          -1.2710221935423252,
          -1.2418385118824904,
          -1.2396073635416855,
          -1.331041400866811,
          -1.3590155064930394,
          -1.1474517878439572,
          -1.2130055273050113,
          -1.256970313693124,
          -1.2733779795237872,
          -1.0458472234579073,
          -1.2462860539250071,
          -1.1573114581457247,
          -1.3523440739736219,
          -1.1468887567898203,
          -1.0216077241425847,
          -1.2230519595080724,
          -1.1480480506464874,
          -1.1973049996838872,
          -1.2078789313651521,
          -1.1015731632245054,
          -1.2999635855291054,
          -1.2203736602274229,
          -1.3071875279826757,
          -1.1333082988128858,
          -1.080683017916569,
          -1.166334586019555,
          -1.3288470384971751,
          -1.416001348702071,
          -1.2276209987146873,
          -1.4276246873095504,
          -0.962712956799624,
          -1.1641307939736762,
          -1.0390628339768755,
          -1.0815524472783855,
          -1.2738898858696508,
          -1.1458685318982802,
          -1.2293138586165073,
          -1.1287211427800754,
          -1.0817482733166957,
          -1.0123822102419078,
          -1.1745971067517105,
          -1.3253995580561735,
          -0.9370071921569942,
          -1.0389607778260865,
          -1.2350040967319247,
          -1.2306005803671456,
          -1.0914490138020905,
          -1.109851215654544,
          -1.0938538183371174,
          -1.3048516391641807,
          -1.23441470607958,
          -1.1574673294212139,
          -1.3459886876530436,
          -1.0894164070750147,
          -1.0383732136787458,
          -1.19089961217545
         ],
         "y": [
          0.44795106479309627,
          0.34006276931248947,
          0.1897795190383464,
          0.20358705062300766,
          0.1549443152297073,
          0.05706150849607708,
          -0.03280175872695189,
          0.023128563354919418,
          -0.249574883483307,
          0.41587167250285645,
          0.2339989937933588,
          0.20301737479297288,
          0.11124676755743604,
          0.358868561614218,
          0.2590319236125222,
          -0.12386229412972025,
          -0.014329920839597395,
          0.15435503406444276,
          -0.14002758322479109,
          -0.1232723870862765,
          0.5356863397164581,
          -0.11847855871214506,
          -0.342286951825526,
          -0.20847619055494582,
          -0.045212160232587915,
          0.2139231845181002,
          -0.06629686175685803,
          0.008558258383033607,
          0.1666614204582604,
          0.16364324401254965,
          0.0400945111103482,
          0.05781007218031543,
          -0.15770997494927724,
          0.2256762648941364,
          0.05428361639454726,
          0.17622179441319796,
          0.22780085715423207,
          -0.022100664176989943,
          0.10574630061609086,
          0.23300631812382977,
          0.2610665495860388,
          0.18296863191592122,
          0.1727060045595859,
          -0.2658383413614197,
          0.2905793707340538,
          0.021670901785617147,
          0.20587466168665167,
          0.014933091697736725,
          0.02069321608726815,
          0.29611753766223026,
          -0.103453602457209,
          0.09059815389793868,
          0.027496249790762997,
          -0.2061255366741338,
          -0.0007846308507861166,
          -0.04075036454684057,
          0.25083867890687894,
          0.07492360009906393,
          0.13584419954564256,
          0.42354264379606166,
          -0.12250559200686319,
          0.3504322652131085,
          -0.19415277058681943,
          0.011929625318340478,
          0.290655139537088,
          0.2169923066513691,
          0.004609172267144981,
          -0.22611208475248573,
          0.17343988530259277,
          0.2637913096848935,
          -0.11862937587922179,
          0.11764572518099728,
          0.08207745996029978,
          -0.041071644368067525,
          -0.043583339504184804,
          -0.08675665979116118,
          0.20189888887725377,
          0.3752089318979897,
          0.06847184103471546,
          0.33808754739593844,
          -0.054482470217262255,
          0.26682615995212433,
          0.4408064054688844,
          0.16561987850546733,
          0.2379211460641015,
          -0.009685460496929005,
          0.22801637276044645,
          -0.055490758519768216,
          -0.14246476661420318,
          0.08870833954573326,
          0.3635758108693652,
          -0.13718120516248264,
          0.03823538126757558,
          0.1167441793977877,
          0.20885038797870764,
          -0.18522003850271485,
          0.3026091960147415,
          0.050208878001740134,
          0.372709818984305,
          0.11527018925089272,
          -0.21370393649706684,
          0.13425335390858578,
          0.19527715918209337,
          0.22505595804666637,
          0.09928765632021581,
          0.06937448326058794,
          0.38232702818676884,
          0.15289226985028745,
          0.41032896509391115,
          0.20440615490740624,
          0.15436531420946928,
          0.24603584858082975,
          -0.02891186550025892,
          0.04213762207908672,
          0.21601197036114858,
          0.2792830316451067,
          0.42774668095118995,
          -0.14828479808031989,
          0.08346582629392366,
          0.29297156968642357,
          -0.24509311147205987,
          0.0134744704186343,
          0.048374800312190144,
          0.08852126723812855,
          0.17341252540027818,
          -0.7313991530290433,
          -0.8225706749266014,
          -0.15893005040027683,
          -0.3520391724652982,
          -0.39821681326095093,
          -0.6930234786998812,
          -0.7205911743776968,
          -0.47941006467166475,
          -0.5626976476509662,
          -0.32613356639792973,
          -0.6982149300384466,
          -0.610502208369519,
          -0.1934168060674871,
          -0.38607980814963566,
          -0.22896538886066317,
          -0.6288404127441941,
          -0.36067075361851164,
          -0.401377240315065,
          -0.3410378003672962,
          -0.3523233769176597,
          -0.2489462936094381,
          -0.35128143840295556,
          -0.5100431938117919,
          -0.48358281332225567,
          -0.7625012196001322,
          -0.43993891816542213,
          -0.31338807246541356,
          -0.0007938181184400459,
          -0.4034242729592228,
          -0.6692748013007035,
          -0.5962356856004414,
          -0.379804131387294,
          -0.6565498115263679,
          -0.2327684272450676,
          -0.5765245940614552,
          -0.2583743701792593,
          -0.8707856216219175,
          -0.7074857906514659,
          -0.5567290755191899,
          -0.22676814027207653,
          -0.326802221969894,
          -0.45405654822804253,
          -0.5340558633687322,
          -0.3714591691456309,
          -0.6063445100598159,
          -0.16578127567768203,
          -0.5110543885728502,
          0.012814119360472456,
          -0.6093414192449375,
          -0.5693160509902879,
          -0.3018689264965171,
          -0.2408511071490819,
          -0.6850299275719337,
          -0.625681535244102,
          -0.7028232777192925,
          -0.8287406500437758,
          -0.320105464016099,
          -0.35895134900859393,
          -0.3598456113625602
         ],
         "z": [
          1.1344312186382752,
          1.338588952354743,
          1.3213752241528982,
          0.9701429524345605,
          0.7783653089758862,
          0.808094315777457,
          0.7620966125093778,
          0.9752427179276631,
          0.7694388654803149,
          0.8971750713175509,
          1.164627481964242,
          1.1745850408309437,
          0.7811132117649181,
          0.9905332394675028,
          1.107050585229429,
          0.7049578710667802,
          1.1487250315931627,
          0.9514578058699423,
          0.4710141057981719,
          0.5043218037881967,
          1.1745802268904508,
          0.8517165599759758,
          0.9290449371499471,
          1.0325107572465102,
          0.6326402876919222,
          0.613141423533402,
          1.1722381935962334,
          1.0087474878564384,
          0.7015737230445308,
          0.941074866681434,
          0.396859156756077,
          1.1589761780708443,
          0.3894689059970954,
          1.1978162442137752,
          0.9215759401650755,
          1.3097965276139338,
          1.2590009751328726,
          1.2833164320255963,
          1.2594997511332724,
          0.7341786035410822,
          0.7649374510354173,
          1.1250813648244697,
          1.1148773577456423,
          0.8576021668744312,
          1.0631735975100334,
          0.4831649614493579,
          1.0473248097571257,
          0.8736920700884466,
          1.2893522858755682,
          0.9272378482482323,
          0.8930712983252199,
          1.0366843566059274,
          0.5272849679830782,
          0.9772335153831488,
          0.5320768526941079,
          0.8600500041293008,
          0.7251619512387267,
          0.9699357408700384,
          1.3397285859402668,
          1.0469775974235482,
          0.7550298465694321,
          1.0483404006183048,
          0.721536188907937,
          0.6520356494073237,
          0.6308740340237288,
          1.1704303581422326,
          0.4960048580141296,
          0.6980849463199459,
          0.7228947630673265,
          0.9518679507888372,
          0.664496203139773,
          1.1857896905064498,
          0.9774873838468626,
          0.6935155249729059,
          0.6261144686799388,
          0.8146067542320619,
          1.4367228533604397,
          0.7762627382514771,
          0.7471762719423852,
          1.0394463252232318,
          1.071203594822413,
          0.986905419106982,
          0.9317363516432119,
          0.966728266157484,
          1.0645410623553107,
          0.6083594895570356,
          1.061620389691994,
          0.5587854498279303,
          0.9326747743012296,
          0.5412198905108272,
          1.1292345983757341,
          1.0295407054063257,
          0.9328021391858278,
          1.3602189316036157,
          1.3502283247280522,
          0.8799032735457112,
          0.9758758492266235,
          1.2443892011411248,
          0.8384354732881878,
          1.3546340380002873,
          0.6008031068783857,
          0.8181738316873289,
          0.8092102105919831,
          0.8407490628447016,
          1.0096364199498218,
          0.9918650832270015,
          0.9032252610067122,
          1.412146472843087,
          1.346095911027922,
          0.8808924349036512,
          0.6501008772005896,
          0.7002548990452508,
          0.9232443855089746,
          1.3484568309774254,
          0.9879472605227655,
          1.1641343735259189,
          1.5722625778652262,
          1.1340011098306746,
          1.053470878946328,
          0.9254151300785941,
          0.8649154521865263,
          0.9257551212556705,
          0.7609394649676132,
          0.9570172036087925,
          0.803920038444804,
          0.09858173019392676,
          0.39703583692282074,
          0.6383627284234852,
          0.44045237229604045,
          0.3529903183941248,
          0.2584728680799063,
          0.21838389056846064,
          0.290378066612547,
          0.3175386216102575,
          0.7286269056923754,
          0.249673942796875,
          0.1611672388628622,
          0.5738230848890481,
          0.5512046309394006,
          0.7758769653773069,
          0.4184943804827469,
          0.49955031519169674,
          0.5521236783419597,
          0.7142439979492933,
          0.5171993338189735,
          0.7000813427708554,
          0.23710626578031113,
          0.32867083165087585,
          0.4791278155984412,
          0.0911104101200523,
          0.5704359663362172,
          0.3711620022918581,
          0.4470232987771382,
          0.6197031824797137,
          0.2874695876739777,
          0.22790438938252416,
          0.46675026123820057,
          0.11818039667722866,
          0.4784289335059994,
          0.4837142134607424,
          0.5393659578666071,
          0.4455454594739666,
          0.24723987924127616,
          0.28633337013426197,
          0.34736730277657,
          0.7771448270920237,
          0.1984005975288526,
          0.31186353663672145,
          0.321006087519832,
          0.38955929847687126,
          0.4631773563024978,
          0.32757088657665845,
          0.4628306166643829,
          0.2533537207782628,
          0.41193566677629145,
          0.6468828875705845,
          0.6603157449270938,
          0.38608369604063847,
          0.4516547359785293,
          0.2852481022534701,
          0.3993870923557699,
          0.5732803130828082,
          0.4027521123130031,
          0.5089002232730444
         ]
        },
        {
         "marker": {
          "opacity": 0.8,
          "size": 3
         },
         "mode": "markers",
         "name": "Fault 2",
         "type": "scatter3d",
         "x": [
          -0.6587418279967281,
          -1.0559502410169122,
          -0.7720633721253415,
          -0.8202822818216805,
          -0.7370075344125839,
          -0.6865689286651377,
          -0.5643956009690998,
          -0.8925015569112739,
          -0.5917048809582865,
          -0.8502137840102425,
          -0.3555090857150278,
          -0.7704324879839,
          -0.9608984858463683,
          -0.41105665497215543,
          -0.8747225374708838,
          -0.4214073960174102,
          -0.8471235705568227,
          -0.7136111405715101,
          -0.4528535853807638,
          -0.3751660620073911,
          -0.5910300961935263,
          -0.8950498121045175,
          -0.614730847287246,
          -0.7012219859886644,
          -0.495594559790798,
          -0.6710543836912648,
          -0.4859492249488108,
          -0.6162289799777134,
          -0.6229420446052418,
          -0.5784424423944989,
          -0.39235466187438456,
          -0.2945152540466875,
          -0.5856759809635045,
          -0.6475688784879496,
          -0.6771984651586475,
          -0.626924929960463,
          -0.9526931838838458,
          -0.883251211564661,
          -0.6954200986858328,
          -0.9622993623068596,
          -0.3553643992368443,
          -0.6600444230878817,
          -0.29825758742448694,
          -0.4898424627976613,
          -1.147439735571132,
          -0.9063448111885882,
          -0.3783062046823803,
          -0.9545381539670592,
          -0.6650287175646308,
          -0.733654414302762,
          -0.21467836989637049,
          -0.23288626525581985,
          -0.3813031980340109,
          -0.30942817510505355,
          -0.4254068223915293,
          -0.20434525211690896,
          -0.5677888864973759,
          -0.28223228528807526,
          -1.1991685640508574,
          -0.9980893770387272,
          -0.8071923139859506,
          -0.3186837955099706,
          -0.37306404976653945,
          -0.3394822813833857,
          -0.31386110825650504,
          -0.3192941507559791,
          -0.6746937504301838,
          -1.0668292276981242,
          -0.8032546026650035,
          -0.6682845519471128,
          -0.4362928956861057,
          -0.35050031095442036,
          -1.0702493208330899,
          -0.20020291611828173,
          -0.5233279983352618,
          -0.42607851226085686,
          -0.8468743918808997,
          -0.3501931396161948,
          -0.9410584661384689,
          -0.508989564339728,
          -0.7660536097351874,
          -0.69181467184458,
          -1.0148857632399153,
          -0.6325663013380723,
          -0.40367568931177206,
          -0.2778014874309647,
          -0.2702200761250626,
          -0.49392323114062536,
          -0.7800781078839021,
          -0.8966316221697889,
          -0.8931058616693671,
          -0.9046775515583467,
          -0.6902181559068445,
          -0.5757972103868811,
          -0.5963714569230049,
          -0.3267274510272212,
          -0.3611728459648148,
          -0.2943704085314642,
          -0.17614296826070813,
          -0.8263240992150976,
          -0.5839654477714225,
          -0.5029097268262919,
          -0.6576461469747554,
          -0.5599457045971041,
          -0.7591304844569563,
          -0.595463029089519,
          -0.8712575083452616,
          -0.5275494291145522,
          -0.8627128490451551,
          -0.8258624636522722,
          -0.620594628415098,
          -0.3370559335409258,
          -0.5500777223130129,
          -0.6621753646080424
         ],
         "y": [
          -0.0008305222135738849,
          0.44273453602980767,
          0.3216285972990357,
          0.30142040996253067,
          0.6034780220011834,
          0.49933317599441507,
          0.13366696458915447,
          0.6163990729715616,
          -0.1792211340525591,
          0.7204752401539168,
          -0.13560619370357158,
          0.047539005888750895,
          0.6166768854892729,
          -0.15262320815152708,
          0.6048997338532537,
          0.3611176362616087,
          0.1341996538322346,
          0.36131803727284545,
          -0.13856207679223445,
          0.17356746772344497,
          0.0905542796753001,
          0.3613068151258001,
          0.23514563414048184,
          0.4644398302082382,
          0.35265846380180627,
          0.4093873491103572,
          0.03925285639546048,
          0.2998211628920433,
          0.12224117060583652,
          0.6398205897562477,
          0.24586932585223298,
          0.22436531756039504,
          0.06718792256360362,
          0.162942876566823,
          0.3169163114046139,
          0.5584814548793233,
          0.5487130897223444,
          0.4544646521424815,
          0.32351219333521214,
          0.4879371912013574,
          0.07260295705042383,
          -0.2537846413392863,
          0.038745188152202695,
          0.3489817248238409,
          0.41083222411210724,
          0.5906662528118667,
          -0.1420019710500432,
          0.18747348415995604,
          0.40263041791423704,
          0.7474016072201879,
          0.2636398984863997,
          -0.1901519035310459,
          0.23966149439314824,
          0.16977110144983235,
          -0.22917950215391536,
          0.25698361525959434,
          0.20605299061617327,
          0.0982002280625252,
          0.30239841866474115,
          0.6255406081969576,
          0.07410166106019647,
          0.21104180196648661,
          -0.10215625990465986,
          -0.03921949601353472,
          0.11765639853289972,
          0.32437657591553726,
          0.6248692011212446,
          0.5328734816144015,
          0.318138620522773,
          -0.10087931570827037,
          -0.32524398844273256,
          0.411231359619261,
          0.4487311284238823,
          0.07053934102317627,
          0.19338105534078448,
          -0.2061106162731202,
          0.7207396519019259,
          -0.06245547808293493,
          0.2540640788757312,
          0.10590763307403361,
          0.5270099888990074,
          0.5049259748595645,
          0.3971437231604357,
          0.14973359624448043,
          -0.15944874432351824,
          0.3053901072870965,
          0.07819316847436504,
          -0.17603519445159815,
          0.06739462656093428,
          0.42384416558560406,
          0.22978942472019762,
          0.5252675815010526,
          0.10140939251886816,
          0.42237273039640627,
          -0.02267606656093079,
          -0.10314017784333851,
          0.3429692737482453,
          -0.06723006825942764,
          0.1655446479801728,
          0.2715008812073877,
          0.09577717029005742,
          0.20683732104491523,
          -0.05626585642023264,
          0.41984170758038214,
          0.24050927644796688,
          -0.06833447328220593,
          0.5817776196501787,
          0.252039326064716,
          0.3823625896810125,
          0.34675215991994646,
          0.3652010306978803,
          0.2418504188310466,
          0.5679801186091049,
          0.5559441041491489
         ],
         "z": [
          -0.13979217008307712,
          0.12702245338904075,
          -0.17253371774847082,
          -0.014565760155147751,
          -0.0477617006828177,
          0.0006493048931734899,
          -0.33822695974729294,
          0.2355896583947667,
          -0.31504217283782143,
          0.13525706365863757,
          -0.3417741689882657,
          -0.30135789190557194,
          0.1957995126727089,
          -0.49709359356506194,
          0.15992052105929772,
          -0.3708045435464868,
          0.10941483529974681,
          -0.4087007068545957,
          -0.3012590110146912,
          -0.16366231955531976,
          -0.17891886481304337,
          -0.1138049347433491,
          0.1333168650763182,
          0.021628405776334868,
          -0.09733559552272567,
          -0.3360387207577893,
          -0.42340426685313054,
          0.18811989878400395,
          -0.24282278344415165,
          0.010766026993745806,
          -0.3670161435998471,
          -0.6081500489183045,
          -0.10234497636521572,
          -0.33014430806602385,
          -0.02526718079307906,
          -0.13062382444763215,
          0.0068958200636004136,
          -0.07365774745635023,
          -0.27705783930435446,
          0.2580132973822363,
          -0.11782264416860652,
          -0.588496325005505,
          -0.3898678739957114,
          -0.5854459655741346,
          -0.004614009144781217,
          -0.06858909359570975,
          -0.3474281449686543,
          0.047841107741100564,
          0.21332079471441417,
          0.05760412562042201,
          -0.37637566580064535,
          -0.2700054712926695,
          -0.40696561919935215,
          -0.3545199953088502,
          -0.3457081251798151,
          -0.23863029467653402,
          -0.2891938014725158,
          -0.36532219057878074,
          -0.04815945301004848,
          -0.0320020223878609,
          -0.20218427974762732,
          -0.698790453176726,
          -0.3019676547211941,
          -0.4225381505671393,
          -0.3463332872424367,
          -0.3514177255414904,
          -0.07438450957035382,
          0.10217639352650469,
          0.026387863069530566,
          -0.2639748359101087,
          -0.332049946938458,
          -0.10397910903411428,
          0.13406316938369559,
          -0.5261278292838167,
          -0.019852052998855257,
          -0.2354519202037696,
          0.09501735378936284,
          -0.3535854473154102,
          -0.06370312426935203,
          -0.31946504886918736,
          -0.09249691717053846,
          -0.03613965842860764,
          0.06851439434729605,
          -0.34327780164346844,
          -0.2216145064319388,
          -0.43908600435075673,
          -0.47320173664283294,
          -0.35888414096192217,
          -0.002370609331815439,
          0.08914811062747621,
          0.1856968151872071,
          0.275464618416264,
          0.016856981153364897,
          -0.46833649303784325,
          -0.09668765182172256,
          -0.4356478458967313,
          -0.06450900442104451,
          -0.3818332897833994,
          -0.5156197201514043,
          -0.023444125175428786,
          -0.17069083765765541,
          -0.4699121111641738,
          -0.28845839009336105,
          -0.34483354935433513,
          0.002126135115435912,
          -0.2018890356822889,
          -0.17982873608048666,
          -0.40677069835011054,
          0.030309153272615304,
          -0.011412367429067162,
          -0.11388073474609638,
          -0.29600067534450103,
          -0.10647133511456937,
          -0.043384643117337786
         ]
        },
        {
         "marker": {
          "opacity": 0.8,
          "size": 3
         },
         "mode": "markers",
         "name": "Fault 3",
         "type": "scatter3d",
         "x": [
          -0.5480881653374023,
          -0.6937174160219179,
          -0.5447494204746284,
          -0.5138103893959254,
          -0.5882682552750577,
          -0.6268573976169137,
          -0.5536890367097501,
          -0.6276500895501712,
          -0.5724897961187941,
          -0.6601974812503494,
          -0.6736661064997123,
          -0.5175137761068488,
          -0.4967455878633727,
          -0.3911464359244523,
          -0.6343451836806766,
          -0.4438572319772861,
          -0.655939202767947,
          -0.5010847698666324,
          -0.7642068654124532,
          -0.35967164806970353,
          -0.21988878910156046,
          -0.9153484160294909,
          -0.8976630770550744,
          -0.6512169558055854,
          -0.9639753843336573,
          -0.7414531968590797,
          -0.7650874148001218,
          -1.0640262072913589,
          -0.4456665213031546,
          -0.7334218527701329,
          -0.628416147256051,
          -0.9206047824517712,
          -0.3675272047657486,
          -0.6360855269091759,
          -0.6786634205283109,
          -0.6305045586169373,
          -0.39066357895135934,
          -0.7036109729597151,
          -0.958194002691039,
          -0.9697433602013663,
          -0.8764084053543617,
          -0.7936531461346285,
          -0.9515954572261123,
          -0.7835077791454743,
          -0.5805733233007744,
          -0.8024784957773565,
          -0.6488963377769701,
          -0.7111864180701651,
          -0.46891675494804885,
          -0.7926662406049684,
          -0.7126228394116957,
          -0.7853812878676845,
          -0.6429237611652302,
          -0.45675048273658536,
          -0.8738109054844803,
          -0.1268361695289681,
          -0.7012420936818297,
          -0.44131687380059803,
          -0.42392334957468386,
          -0.748944965063711,
          -0.3028967152709565,
          -0.641062645609704,
          -0.8084818214974893,
          -0.7834864552904773,
          -0.5987523040331276,
          -0.5212046281285149,
          -0.572106994810866,
          -0.3587417194704359
         ],
         "y": [
          0.09393242379525114,
          0.053111278348216155,
          0.29432128819346887,
          0.2079025985458245,
          0.2135100401794873,
          0.29030443231590264,
          -0.006557206810728052,
          0.3877456817816524,
          0.186482279936287,
          0.4301876679082507,
          0.3071897103302995,
          0.38296693902739226,
          0.5405223530244404,
          0.43082650876607026,
          0.5130203612499262,
          0.2013118856112874,
          -0.24548078960854042,
          0.5039730998620858,
          0.21705757101031195,
          0.4977687688299956,
          0.6306812193069139,
          -0.14925510455138388,
          0.1714242807026095,
          0.3881115273852663,
          -0.18225675701357583,
          0.3561873378994474,
          0.36130841957665655,
          -0.10636168628208555,
          0.6768774086615571,
          0.03272451011360147,
          -0.08919495092592325,
          -0.011035588722087026,
          0.6858369042950132,
          0.2508141239557549,
          0.10716865303463688,
          0.2677959900164048,
          0.6934700660136942,
          0.009964258753370604,
          0.03741559866193757,
          -0.2043079544191995,
          -0.11002178755012303,
          -0.013133096643534056,
          -0.09048454154299175,
          -0.005933608172688876,
          0.23261144780864967,
          0.1528816623425892,
          -0.11624596868264957,
          0.07409843673425988,
          0.6576845521930195,
          -0.24467616272789547,
          -0.16677294475702098,
          0.1736542877338949,
          0.4806231391765718,
          0.6765449914735221,
          -0.3171151751807422,
          0.6179793236022012,
          0.10563332226856051,
          0.2817039796764826,
          0.6614878066301653,
          0.318444449917011,
          0.6200993702263683,
          0.3797050400408753,
          0.23280046979823804,
          0.11559246332044576,
          0.001108359023875659,
          -0.011041251986065035,
          0.18427622810912628,
          0.6230608747772902
         ],
         "z": [
          -0.06077369331374864,
          -0.08557000509850195,
          -0.30477769473058247,
          -0.08445713902917615,
          -0.0016443844565165594,
          -0.14793738534521772,
          -0.06491753408414491,
          -0.17314471648299584,
          -0.06044277779204027,
          -0.07030326004294263,
          -0.03287140471448531,
          -0.24535205331159307,
          -0.25699739464228366,
          -0.3814335018432653,
          -0.24665998851613613,
          -0.2179626150308962,
          0.06798260746299863,
          -0.2479101928819521,
          0.0182982735861201,
          -0.24885314799060065,
          -0.43220222347982584,
          0.15368431641860103,
          -0.07382883799930107,
          -0.13464828103017373,
          -0.03501115365097886,
          -0.11693636778051678,
          -0.07360796863247494,
          0.03186218808277878,
          -0.11838438663833106,
          -0.09125734030655419,
          -0.043807739187702116,
          -0.03411674521060288,
          -0.3163033082401038,
          -0.13977721906551294,
          -0.29017896062652015,
          -0.13796097006934097,
          -0.16689440762464264,
          -0.046864880352887585,
          0.029541145326606774,
          -0.032126145585749,
          0.0661395821328003,
          0.06125938569141451,
          0.0642602192110695,
          -0.0304966636735624,
          -0.29522122416181956,
          0.1064518888479762,
          -0.0777932752550276,
          -0.04799840712175191,
          -0.20165013969112827,
          0.05929244192810015,
          -0.09428973567800694,
          -0.07014508303382719,
          -0.12785093406349493,
          -0.24869197892273806,
          -0.11695471517511075,
          -0.14552686326157155,
          -0.12374259060581644,
          -0.049009297104545435,
          -0.24530551623567787,
          -0.06603296996946988,
          -0.24314789029611725,
          -0.19067925155948234,
          -0.15517176206561373,
          -0.02673762096692034,
          -0.13521164523145782,
          -0.05390161229462975,
          -0.22775042716418348,
          -0.16975513646135876
         ]
        },
        {
         "marker": {
          "opacity": 0.8,
          "size": 3
         },
         "mode": "markers",
         "name": "Fault 4",
         "type": "scatter3d",
         "x": [
          0.6489385306645654,
          0.8038076988530142,
          0.6176406025108986,
          0.8744071143063447,
          0.531731366895092,
          0.841215677527883,
          0.6854301583280212,
          0.8556707761019403,
          0.7169519209023226,
          0.5013258955420228,
          0.717834773035885,
          0.8761776390837712,
          0.673004228287974,
          0.6324740923721566,
          0.5923214522812918,
          0.6556853458777043,
          0.6320801399726442,
          0.6879640371322372,
          0.652457853156786,
          0.498627730414678,
          0.7182033666813299,
          0.7188729996150686,
          0.7433996169164948,
          0.5310735892790952,
          0.6181783378563059,
          0.8039672959133283,
          0.7704580238329976,
          0.8326433084259742,
          0.9651158984083642,
          0.9239935468570887,
          0.680779681643694,
          0.7071417495784919,
          0.856367391791469,
          0.7904362159511025,
          0.7854789481008305,
          0.691185810853864,
          0.7149079335017763,
          0.7849672394783385,
          0.6838179959116635,
          0.7072253398127916,
          0.8494359950258057,
          0.7121168532578358,
          0.5645939968420128,
          0.908429670682661,
          0.679304532272429,
          0.6241889506651687,
          0.7907028699652301,
          0.5828409839587546,
          0.7053246170274888,
          0.8861172003931637,
          0.8081413140129434,
          0.5711624034431037,
          0.7588191597213897,
          0.8319730727422698,
          0.7016089888494121,
          0.8797568728591386,
          0.8199412630375668,
          0.8271678198214647,
          0.7914831695173302,
          0.86250811446848,
          0.795547233605716,
          0.8601965065870817,
          0.9033943595498449,
          0.6199590547273347,
          0.5722233838287519,
          0.7264261262672732,
          0.5853025711797214,
          0.7830356068146159,
          0.7880128331047033,
          0.5327845780450152,
          0.6800807636508963,
          0.7190719735208861,
          0.7669851444606237,
          0.6107493826201542,
          0.9217142764769654,
          0.724199256337888,
          0.6568156035828194,
          0.6894729913618793,
          0.7607982860709586,
          0.7580865458495065,
          0.6390433452873683,
          0.6649125342777934,
          0.6901770608538924,
          0.732341102843909,
          0.7916036303877697,
          0.6102948650609883,
          0.6137404793529083,
          0.5776326737059293,
          0.4582242977157648,
          0.64285922697121,
          0.6507005459269476,
          0.7117719580387838,
          0.681108612699072,
          0.740639071454926,
          0.7378679663212192,
          0.7300617670097047,
          0.8178099316529643,
          0.6220141963487532,
          0.7049877877205968,
          0.8718976444151523,
          0.4649329319848005,
          0.8480595476495845,
          0.8376998206614737,
          0.7731882541475928,
          0.8131938398306164,
          0.6616759466725456,
          0.619067416070827,
          0.4827274850531945
         ],
         "y": [
          -0.4885336031378432,
          -1.195987961709514,
          -1.842124074321609,
          -1.022085843279605,
          -1.5510645936594156,
          -0.6356174172179422,
          -0.5908283434191859,
          -1.003286535280251,
          -1.047807848184401,
          -1.6546478246795726,
          -0.2565888407466178,
          -0.551662315255314,
          -0.6019065880858546,
          -0.6540867760240013,
          -1.328412059105833,
          -1.57436002620943,
          -1.6530669460437564,
          -0.7610086906486567,
          -1.5141054561959597,
          -0.5791208753022591,
          -1.0456232031945498,
          -1.234585619947633,
          -1.3799023579234184,
          -0.7712836157728559,
          -1.537844286308666,
          -0.8890149596464624,
          -1.3153919427451357,
          -0.0655063422721093,
          -0.08867739052580989,
          -0.1221813070453136,
          -0.3263137864311167,
          -1.6412573257273806,
          -0.9449573643358501,
          -0.5668568906911298,
          -1.5567262068603964,
          -0.339266131469423,
          -1.6324705460640299,
          -0.5325033767120363,
          -1.142501336497299,
          -1.0850095733925822,
          -0.911688344164521,
          -0.5243705686017933,
          -1.1750084438592656,
          -0.34356484663930614,
          -0.7383018088570696,
          -1.2594656565304012,
          -0.6869497486324432,
          -0.5212503682186798,
          -1.3860365558622412,
          -0.14101864192152283,
          -1.8292526565515477,
          -0.23917428179121433,
          -1.1725664935018472,
          -0.6929533407977623,
          -0.9400890473145429,
          -0.5567680384025852,
          -0.5003311994518586,
          -1.3085551145433614,
          -1.2117943641220785,
          -0.5125175403536448,
          -1.646870243461364,
          -0.6536194576076497,
          -0.3872672376453574,
          -1.4481640017446926,
          -1.3771487107732066,
          -0.20255866249993132,
          -1.066221067279121,
          -0.2370811014138577,
          -0.39177730414174483,
          -1.7184224512449677,
          -1.873496231488769,
          -0.6031430528431321,
          -1.6134656532381102,
          -1.167100894688846,
          -0.39425151094055955,
          -0.9858692189126607,
          -0.22459136064413038,
          -0.735476239254003,
          -0.6178346356809774,
          -0.39922990110315987,
          -0.4865224925430625,
          -1.3660547336542783,
          -0.28648294514968636,
          -1.0893231988790624,
          -1.0502299488916353,
          -1.724824541525983,
          -1.5358664966743556,
          -1.7493694409409062,
          -1.8175123702492784,
          -1.429091410607828,
          -1.657270888173865,
          -1.6515169184294154,
          -1.2605389630835142,
          -1.2569031293943758,
          -1.4384675040764854,
          -0.5707831510961113,
          -1.0420881277081093,
          -0.7449146184714818,
          -0.12889705430611867,
          -0.19351637272945638,
          -1.8363634450275317,
          -1.2551266637734004,
          -0.2368764158492928,
          -1.12829957716882,
          -0.18239587112361136,
          -0.10363562732580212,
          -0.6612834045626669,
          -1.2261293028311213
         ],
         "z": [
          -0.2848171923084224,
          -0.21647735093981113,
          -0.25264303572159164,
          -0.2005930879667222,
          -0.2102546236570742,
          -0.138060876248971,
          -0.1351476050275645,
          -0.1413113324595564,
          -0.12130151576683187,
          -0.2868328949031903,
          -0.09494992913134664,
          -0.04608487565596651,
          -0.23101350740251275,
          -0.2746331581355507,
          -0.2713147150461979,
          -0.36799911451774675,
          -0.22002640274392798,
          -0.16730734012593673,
          -0.20734871881773448,
          -0.12795835951720358,
          -0.10267942589469536,
          -0.09550629129560939,
          -0.12373372574498602,
          -0.2460566286886629,
          -0.3101758479443964,
          -0.14366082940183333,
          -0.18005392722311164,
          -0.09686067228671821,
          -0.14144927395079757,
          -0.11859135369251747,
          -0.14794301390216938,
          -0.2018118338212746,
          -0.1906261233997072,
          -0.33699819104403744,
          -0.20916500229982693,
          -0.2186298574396572,
          -0.19635920274266566,
          -0.07122075592971303,
          -0.16145724803481637,
          -0.26005478116903147,
          -0.1743068303694054,
          -0.3653573972693108,
          -0.34172767724903186,
          -0.07182485907675173,
          -0.24539684381222812,
          -0.3082109987215143,
          -0.05236368733081688,
          -0.2542308012008258,
          -0.24637083046183597,
          -0.11357233730260723,
          -0.40155225714735543,
          -0.1546746577417118,
          0.0011929623832344916,
          -0.06029803629752516,
          -0.042535865775776144,
          -0.15255727755746948,
          -0.07660223431387654,
          -0.17027621892678838,
          -0.07936192409579394,
          -0.04551924102324452,
          -0.18704766936332518,
          -0.0896950799344754,
          -0.16254868164566338,
          -0.288220615235386,
          -0.39770186335976243,
          -0.1364901815655597,
          -0.34430721755640453,
          -0.08955742435578319,
          -0.10944231080610611,
          -0.31026655363950195,
          -0.4234574143218453,
          -0.046214670850812295,
          -0.21902684770950598,
          -0.28201164850579136,
          -0.10844770491792911,
          -0.1899707670063632,
          -0.15802496517730127,
          -0.3229176883922964,
          -0.25875356022288765,
          -0.07955765579563137,
          -0.2276959727386588,
          -0.3098753858185254,
          -0.016892969526137475,
          -0.08117410649981303,
          -0.10503617420521999,
          -0.3976045267200246,
          -0.10187133164966114,
          -0.3554368075814523,
          -0.27443993438974135,
          -0.14534436343660012,
          -0.2382509810839789,
          -0.3298156554437183,
          -0.2120601915334864,
          -0.12349602591910516,
          -0.23320390047694894,
          -0.07932235388545045,
          -0.1543870291540235,
          -0.26424185190809923,
          -0.07322093713580752,
          0.0016206279613212166,
          -0.22813224382979513,
          -0.3419749744223418,
          0.05406711513363768,
          -0.23817154871529056,
          -0.060180131886975505,
          -0.11560058910517636,
          -0.23175172116519985,
          -0.2675107087012778
         ]
        },
        {
         "marker": {
          "opacity": 0.8,
          "size": 3
         },
         "mode": "markers",
         "name": "Fault 5",
         "type": "scatter3d",
         "x": [
          0.6316099326207436,
          0.8366448964815829,
          0.7781869362991183,
          0.5981081056329598,
          0.6315460456773964,
          0.7807993377528655,
          0.7404158070186616,
          0.6797665384578253,
          0.8486661039184571,
          0.6531844000570722,
          0.6721091306852613,
          0.8550713722933471,
          0.6355586294826484,
          0.6555093230220431,
          0.7706902087411112,
          0.6643684365845046,
          0.6512659145523354,
          0.6953071348387596,
          0.8174528298313279,
          0.7582807738333036,
          0.7735106927615463,
          0.7602171080253655,
          0.7823534031041803,
          0.7354857193366263,
          0.5318525607698744,
          0.7746385078786504,
          0.6958711977699942,
          0.7612195977794459,
          0.6321518938985751,
          0.8023739088610636
         ],
         "y": [
          -1.214429565061609,
          -1.7215648023890207,
          -1.5628117959483112,
          -1.357513701599456,
          -1.5725043878600213,
          -1.4735862468435417,
          -1.4402206035910239,
          -1.5032402846907589,
          -1.6196573861523578,
          -1.5218946548128789,
          -1.3653284919779267,
          -1.6725444344385396,
          -1.227858342808997,
          -1.3093509909937238,
          -1.3128236944558882,
          -1.3545483072278608,
          -1.5276085437371922,
          -1.1857781995118155,
          -1.4791848766087696,
          -1.2423027608159427,
          -1.280984738942321,
          -1.209703113676807,
          -1.1995125876299337,
          -1.6576420245750128,
          -1.210854558193022,
          -1.789419685465528,
          -1.509730711985274,
          -1.4932595344102177,
          -1.3777563164238744,
          -1.151820883160217
         ],
         "z": [
          -0.32840216380066206,
          -0.6409868340778461,
          -0.48105873449742664,
          -0.41152742877851256,
          -0.6106985552890982,
          -0.4544240145628973,
          -0.42976529191493734,
          -0.4566992551383667,
          -0.6881335804430618,
          -0.5281034739919162,
          -0.3913067259763783,
          -0.528798577526065,
          -0.35530493369145144,
          -0.2398623248055259,
          -0.17032658641581963,
          -0.23639174836772614,
          -0.5029449869855716,
          -0.21292691327703947,
          -0.3623379075588973,
          -0.31317999602794055,
          -0.34346788145187057,
          -0.3858014480406942,
          -0.204842864885749,
          -0.5849769066677625,
          -0.23241188199913548,
          -0.5904092432346785,
          -0.43279800591728756,
          -0.47205683947127297,
          -0.3483214112912672,
          -0.24401424029232538
         ]
        }
       ],
       "layout": {
        "scene": {
         "xaxis": {
          "title": {
           "text": "X"
          }
         },
         "yaxis": {
          "title": {
           "text": "Y"
          }
         },
         "zaxis": {
          "title": {
           "text": "Z"
          }
         }
        },
        "template": {
         "data": {
          "bar": [
           {
            "error_x": {
             "color": "#2a3f5f"
            },
            "error_y": {
             "color": "#2a3f5f"
            },
            "marker": {
             "line": {
              "color": "#E5ECF6",
              "width": 0.5
             },
             "pattern": {
              "fillmode": "overlay",
              "size": 10,
              "solidity": 0.2
             }
            },
            "type": "bar"
           }
          ],
          "barpolar": [
           {
            "marker": {
             "line": {
              "color": "#E5ECF6",
              "width": 0.5
             },
             "pattern": {
              "fillmode": "overlay",
              "size": 10,
              "solidity": 0.2
             }
            },
            "type": "barpolar"
           }
          ],
          "carpet": [
           {
            "aaxis": {
             "endlinecolor": "#2a3f5f",
             "gridcolor": "white",
             "linecolor": "white",
             "minorgridcolor": "white",
             "startlinecolor": "#2a3f5f"
            },
            "baxis": {
             "endlinecolor": "#2a3f5f",
             "gridcolor": "white",
             "linecolor": "white",
             "minorgridcolor": "white",
             "startlinecolor": "#2a3f5f"
            },
            "type": "carpet"
           }
          ],
          "choropleth": [
           {
            "colorbar": {
             "outlinewidth": 0,
             "ticks": ""
            },
            "type": "choropleth"
           }
          ],
          "contour": [
           {
            "colorbar": {
             "outlinewidth": 0,
             "ticks": ""
            },
            "colorscale": [
             [
              0,
              "#0d0887"
             ],
             [
              0.1111111111111111,
              "#46039f"
             ],
             [
              0.2222222222222222,
              "#7201a8"
             ],
             [
              0.3333333333333333,
              "#9c179e"
             ],
             [
              0.4444444444444444,
              "#bd3786"
             ],
             [
              0.5555555555555556,
              "#d8576b"
             ],
             [
              0.6666666666666666,
              "#ed7953"
             ],
             [
              0.7777777777777778,
              "#fb9f3a"
             ],
             [
              0.8888888888888888,
              "#fdca26"
             ],
             [
              1,
              "#f0f921"
             ]
            ],
            "type": "contour"
           }
          ],
          "contourcarpet": [
           {
            "colorbar": {
             "outlinewidth": 0,
             "ticks": ""
            },
            "type": "contourcarpet"
           }
          ],
          "heatmap": [
           {
            "colorbar": {
             "outlinewidth": 0,
             "ticks": ""
            },
            "colorscale": [
             [
              0,
              "#0d0887"
             ],
             [
              0.1111111111111111,
              "#46039f"
             ],
             [
              0.2222222222222222,
              "#7201a8"
             ],
             [
              0.3333333333333333,
              "#9c179e"
             ],
             [
              0.4444444444444444,
              "#bd3786"
             ],
             [
              0.5555555555555556,
              "#d8576b"
             ],
             [
              0.6666666666666666,
              "#ed7953"
             ],
             [
              0.7777777777777778,
              "#fb9f3a"
             ],
             [
              0.8888888888888888,
              "#fdca26"
             ],
             [
              1,
              "#f0f921"
             ]
            ],
            "type": "heatmap"
           }
          ],
          "heatmapgl": [
           {
            "colorbar": {
             "outlinewidth": 0,
             "ticks": ""
            },
            "colorscale": [
             [
              0,
              "#0d0887"
             ],
             [
              0.1111111111111111,
              "#46039f"
             ],
             [
              0.2222222222222222,
              "#7201a8"
             ],
             [
              0.3333333333333333,
              "#9c179e"
             ],
             [
              0.4444444444444444,
              "#bd3786"
             ],
             [
              0.5555555555555556,
              "#d8576b"
             ],
             [
              0.6666666666666666,
              "#ed7953"
             ],
             [
              0.7777777777777778,
              "#fb9f3a"
             ],
             [
              0.8888888888888888,
              "#fdca26"
             ],
             [
              1,
              "#f0f921"
             ]
            ],
            "type": "heatmapgl"
           }
          ],
          "histogram": [
           {
            "marker": {
             "pattern": {
              "fillmode": "overlay",
              "size": 10,
              "solidity": 0.2
             }
            },
            "type": "histogram"
           }
          ],
          "histogram2d": [
           {
            "colorbar": {
             "outlinewidth": 0,
             "ticks": ""
            },
            "colorscale": [
             [
              0,
              "#0d0887"
             ],
             [
              0.1111111111111111,
              "#46039f"
             ],
             [
              0.2222222222222222,
              "#7201a8"
             ],
             [
              0.3333333333333333,
              "#9c179e"
             ],
             [
              0.4444444444444444,
              "#bd3786"
             ],
             [
              0.5555555555555556,
              "#d8576b"
             ],
             [
              0.6666666666666666,
              "#ed7953"
             ],
             [
              0.7777777777777778,
              "#fb9f3a"
             ],
             [
              0.8888888888888888,
              "#fdca26"
             ],
             [
              1,
              "#f0f921"
             ]
            ],
            "type": "histogram2d"
           }
          ],
          "histogram2dcontour": [
           {
            "colorbar": {
             "outlinewidth": 0,
             "ticks": ""
            },
            "colorscale": [
             [
              0,
              "#0d0887"
             ],
             [
              0.1111111111111111,
              "#46039f"
             ],
             [
              0.2222222222222222,
              "#7201a8"
             ],
             [
              0.3333333333333333,
              "#9c179e"
             ],
             [
              0.4444444444444444,
              "#bd3786"
             ],
             [
              0.5555555555555556,
              "#d8576b"
             ],
             [
              0.6666666666666666,
              "#ed7953"
             ],
             [
              0.7777777777777778,
              "#fb9f3a"
             ],
             [
              0.8888888888888888,
              "#fdca26"
             ],
             [
              1,
              "#f0f921"
             ]
            ],
            "type": "histogram2dcontour"
           }
          ],
          "mesh3d": [
           {
            "colorbar": {
             "outlinewidth": 0,
             "ticks": ""
            },
            "type": "mesh3d"
           }
          ],
          "parcoords": [
           {
            "line": {
             "colorbar": {
              "outlinewidth": 0,
              "ticks": ""
             }
            },
            "type": "parcoords"
           }
          ],
          "pie": [
           {
            "automargin": true,
            "type": "pie"
           }
          ],
          "scatter": [
           {
            "fillpattern": {
             "fillmode": "overlay",
             "size": 10,
             "solidity": 0.2
            },
            "type": "scatter"
           }
          ],
          "scatter3d": [
           {
            "line": {
             "colorbar": {
              "outlinewidth": 0,
              "ticks": ""
             }
            },
            "marker": {
             "colorbar": {
              "outlinewidth": 0,
              "ticks": ""
             }
            },
            "type": "scatter3d"
           }
          ],
          "scattercarpet": [
           {
            "marker": {
             "colorbar": {
              "outlinewidth": 0,
              "ticks": ""
             }
            },
            "type": "scattercarpet"
           }
          ],
          "scattergeo": [
           {
            "marker": {
             "colorbar": {
              "outlinewidth": 0,
              "ticks": ""
             }
            },
            "type": "scattergeo"
           }
          ],
          "scattergl": [
           {
            "marker": {
             "colorbar": {
              "outlinewidth": 0,
              "ticks": ""
             }
            },
            "type": "scattergl"
           }
          ],
          "scattermapbox": [
           {
            "marker": {
             "colorbar": {
              "outlinewidth": 0,
              "ticks": ""
             }
            },
            "type": "scattermapbox"
           }
          ],
          "scatterpolar": [
           {
            "marker": {
             "colorbar": {
              "outlinewidth": 0,
              "ticks": ""
             }
            },
            "type": "scatterpolar"
           }
          ],
          "scatterpolargl": [
           {
            "marker": {
             "colorbar": {
              "outlinewidth": 0,
              "ticks": ""
             }
            },
            "type": "scatterpolargl"
           }
          ],
          "scatterternary": [
           {
            "marker": {
             "colorbar": {
              "outlinewidth": 0,
              "ticks": ""
             }
            },
            "type": "scatterternary"
           }
          ],
          "surface": [
           {
            "colorbar": {
             "outlinewidth": 0,
             "ticks": ""
            },
            "colorscale": [
             [
              0,
              "#0d0887"
             ],
             [
              0.1111111111111111,
              "#46039f"
             ],
             [
              0.2222222222222222,
              "#7201a8"
             ],
             [
              0.3333333333333333,
              "#9c179e"
             ],
             [
              0.4444444444444444,
              "#bd3786"
             ],
             [
              0.5555555555555556,
              "#d8576b"
             ],
             [
              0.6666666666666666,
              "#ed7953"
             ],
             [
              0.7777777777777778,
              "#fb9f3a"
             ],
             [
              0.8888888888888888,
              "#fdca26"
             ],
             [
              1,
              "#f0f921"
             ]
            ],
            "type": "surface"
           }
          ],
          "table": [
           {
            "cells": {
             "fill": {
              "color": "#EBF0F8"
             },
             "line": {
              "color": "white"
             }
            },
            "header": {
             "fill": {
              "color": "#C8D4E3"
             },
             "line": {
              "color": "white"
             }
            },
            "type": "table"
           }
          ]
         },
         "layout": {
          "annotationdefaults": {
           "arrowcolor": "#2a3f5f",
           "arrowhead": 0,
           "arrowwidth": 1
          },
          "autotypenumbers": "strict",
          "coloraxis": {
           "colorbar": {
            "outlinewidth": 0,
            "ticks": ""
           }
          },
          "colorscale": {
           "diverging": [
            [
             0,
             "#8e0152"
            ],
            [
             0.1,
             "#c51b7d"
            ],
            [
             0.2,
             "#de77ae"
            ],
            [
             0.3,
             "#f1b6da"
            ],
            [
             0.4,
             "#fde0ef"
            ],
            [
             0.5,
             "#f7f7f7"
            ],
            [
             0.6,
             "#e6f5d0"
            ],
            [
             0.7,
             "#b8e186"
            ],
            [
             0.8,
             "#7fbc41"
            ],
            [
             0.9,
             "#4d9221"
            ],
            [
             1,
             "#276419"
            ]
           ],
           "sequential": [
            [
             0,
             "#0d0887"
            ],
            [
             0.1111111111111111,
             "#46039f"
            ],
            [
             0.2222222222222222,
             "#7201a8"
            ],
            [
             0.3333333333333333,
             "#9c179e"
            ],
            [
             0.4444444444444444,
             "#bd3786"
            ],
            [
             0.5555555555555556,
             "#d8576b"
            ],
            [
             0.6666666666666666,
             "#ed7953"
            ],
            [
             0.7777777777777778,
             "#fb9f3a"
            ],
            [
             0.8888888888888888,
             "#fdca26"
            ],
            [
             1,
             "#f0f921"
            ]
           ],
           "sequentialminus": [
            [
             0,
             "#0d0887"
            ],
            [
             0.1111111111111111,
             "#46039f"
            ],
            [
             0.2222222222222222,
             "#7201a8"
            ],
            [
             0.3333333333333333,
             "#9c179e"
            ],
            [
             0.4444444444444444,
             "#bd3786"
            ],
            [
             0.5555555555555556,
             "#d8576b"
            ],
            [
             0.6666666666666666,
             "#ed7953"
            ],
            [
             0.7777777777777778,
             "#fb9f3a"
            ],
            [
             0.8888888888888888,
             "#fdca26"
            ],
            [
             1,
             "#f0f921"
            ]
           ]
          },
          "colorway": [
           "#636efa",
           "#EF553B",
           "#00cc96",
           "#ab63fa",
           "#FFA15A",
           "#19d3f3",
           "#FF6692",
           "#B6E880",
           "#FF97FF",
           "#FECB52"
          ],
          "font": {
           "color": "#2a3f5f"
          },
          "geo": {
           "bgcolor": "white",
           "lakecolor": "white",
           "landcolor": "#E5ECF6",
           "showlakes": true,
           "showland": true,
           "subunitcolor": "white"
          },
          "hoverlabel": {
           "align": "left"
          },
          "hovermode": "closest",
          "mapbox": {
           "style": "light"
          },
          "paper_bgcolor": "white",
          "plot_bgcolor": "#E5ECF6",
          "polar": {
           "angularaxis": {
            "gridcolor": "white",
            "linecolor": "white",
            "ticks": ""
           },
           "bgcolor": "#E5ECF6",
           "radialaxis": {
            "gridcolor": "white",
            "linecolor": "white",
            "ticks": ""
           }
          },
          "scene": {
           "xaxis": {
            "backgroundcolor": "#E5ECF6",
            "gridcolor": "white",
            "gridwidth": 2,
            "linecolor": "white",
            "showbackground": true,
            "ticks": "",
            "zerolinecolor": "white"
           },
           "yaxis": {
            "backgroundcolor": "#E5ECF6",
            "gridcolor": "white",
            "gridwidth": 2,
            "linecolor": "white",
            "showbackground": true,
            "ticks": "",
            "zerolinecolor": "white"
           },
           "zaxis": {
            "backgroundcolor": "#E5ECF6",
            "gridcolor": "white",
            "gridwidth": 2,
            "linecolor": "white",
            "showbackground": true,
            "ticks": "",
            "zerolinecolor": "white"
           }
          },
          "shapedefaults": {
           "line": {
            "color": "#2a3f5f"
           }
          },
          "ternary": {
           "aaxis": {
            "gridcolor": "white",
            "linecolor": "white",
            "ticks": ""
           },
           "baxis": {
            "gridcolor": "white",
            "linecolor": "white",
            "ticks": ""
           },
           "bgcolor": "#E5ECF6",
           "caxis": {
            "gridcolor": "white",
            "linecolor": "white",
            "ticks": ""
           }
          },
          "title": {
           "x": 0.05
          },
          "xaxis": {
           "automargin": true,
           "gridcolor": "white",
           "linecolor": "white",
           "ticks": "",
           "title": {
            "standoff": 15
           },
           "zerolinecolor": "white",
           "zerolinewidth": 2
          },
          "yaxis": {
           "automargin": true,
           "gridcolor": "white",
           "linecolor": "white",
           "ticks": "",
           "title": {
            "standoff": 15
           },
           "zerolinecolor": "white",
           "zerolinewidth": 2
          }
         }
        },
        "title": {
         "text": "3D Visualization of Fault Points"
        }
       }
      }
     },
     "metadata": {},
     "output_type": "display_data"
    }
   ],
   "source": [
    "fault_points_list = generate_dataset(n_simple_faults=0, n_bent_faults=1, n_cross_faults=1, n_Y_faults=1, n_parallel_faults=0, n_structures=0, VERBOSE=False)\n",
    "\n",
    "multi_static_plot_better(fault_points_list, None, show_plane=False, show_axes=False)\n",
    "multi_interactive_plot_better(fault_points_list, None, show_plane=False, show_axes=False)"
   ]
  }
 ],
 "metadata": {
  "kernelspec": {
   "display_name": "raienv",
   "language": "python",
   "name": "python3"
  },
  "language_info": {
   "codemirror_mode": {
    "name": "ipython",
    "version": 3
   },
   "file_extension": ".py",
   "mimetype": "text/x-python",
   "name": "python",
   "nbconvert_exporter": "python",
   "pygments_lexer": "ipython3",
   "version": "3.11.5"
  }
 },
 "nbformat": 4,
 "nbformat_minor": 2
}
