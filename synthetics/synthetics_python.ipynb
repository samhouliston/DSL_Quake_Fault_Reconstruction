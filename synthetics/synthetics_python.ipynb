{
 "cells": [
  {
   "cell_type": "markdown",
   "metadata": {},
   "source": [
    "## Main Functions to generate fault characteristics, and sample points"
   ]
  },
  {
   "cell_type": "code",
   "execution_count": 64,
   "metadata": {},
   "outputs": [],
   "source": [
    "import numpy as np\n",
    "import matplotlib.pyplot as plt\n",
    "from mpl_toolkits.mplot3d import Axes3D\n",
    "import plotly.graph_objs as go\n",
    "import random\n",
    "import math\n",
    "import matplotlib.pyplot as plt\n",
    "from collections import Counter\n",
    "\n",
    "def random_unit_vector():\n",
    "    # Generate random spherical coordinates\n",
    "    theta = random.uniform(0, 2*math.pi)  # Azimuthal angle\n",
    "    phi = random.uniform(0, math.pi)      # Polar angle\n",
    "\n",
    "    # Convert spherical coordinates to Cartesian coordinates\n",
    "    x = math.sin(phi) * math.cos(theta)\n",
    "    y = math.sin(phi) * math.sin(theta)\n",
    "    z = math.cos(phi)\n",
    "\n",
    "    return (x, y, z)\n",
    "\n",
    "\n",
    "def plane_main_axes_from_normal(normal): \n",
    "    # Find two axes of plane defined by the center and its normal\n",
    "    length_axis = random_unit_vector()\n",
    "    while np.dot(length_axis, normal) < 0.01:\n",
    "        length_axis = random_unit_vector()\n",
    "\n",
    "    length_axis = np.cross(normal, length_axis)\n",
    "    length_axis = length_axis / np.linalg.norm(length_axis)\n",
    "    width_axis = np.cross(normal, length_axis)\n",
    "\n",
    "    return length_axis, width_axis\n",
    "\n",
    "\n",
    "def sample_vec_close_to(target_vec):\n",
    "    # Sample random vector orthogoanl to target_vec: \n",
    "    rand_vec = random_unit_vector()\n",
    "    rand_vec_orthogonal = np.cross(rand_vec, target_vec)\n",
    "\n",
    "    # Sample angle between -45 and 45 degrees\n",
    "    angle = np.random.uniform(- np.pi / 6, np.pi / 6)\n",
    "    alpha = np.cos(angle)\n",
    "    beta = np.sin(angle)\n",
    "\n",
    "    new_vec = alpha * target_vec + beta * rand_vec_orthogonal \n",
    "    new_vec = new_vec / np.linalg.norm(new_vec)\n",
    "\n",
    "    return new_vec \n",
    "\n",
    "\n",
    "def sample_length_width_axes_from_favoured_axes(favoured_axis_1, favoured_axis_2):\n",
    "    favoured_normal = np.cross(favoured_axis_1, favoured_axis_2)\n",
    "\n",
    "    # SAMPLE THE LENGTH AXIS\n",
    "    # Choose length axis close to either favoured_axis_1 or favoured_axis_2\n",
    "    idx = random.randint(0, 1)\n",
    "    if idx == 0: \n",
    "        length_axis = sample_vec_close_to(favoured_axis_1)\n",
    "    else: \n",
    "        length_axis = sample_vec_close_to(favoured_axis_2)\n",
    "\n",
    "    # OBTRAIN WIDHT AXIS\n",
    "    width_axis = np.cross(length_axis, favoured_normal)\n",
    "    normal_axis = np.cross(length_axis, width_axis)\n",
    "    \n",
    "    return length_axis, width_axis, normal_axis \n",
    "\n",
    "\n",
    "\n",
    "def display_fault_properties(fault_metadata):\n",
    "    (center, length, width, normal, length_axis, width_axis) = fault_metadata\n",
    "    print(f\"         center: {center} \\n         length: {length}, width: {width} \\n         length_axis: {length_axis},   width_axis: {width_axis}\")"
   ]
  },
  {
   "cell_type": "code",
   "execution_count": 65,
   "metadata": {},
   "outputs": [],
   "source": [
    "def generate_faults_metadata(n_simple_faults, n_bent_faults, n_cross_faults, n_Y_faults, n_parallel_faults, n_ladder_structures, eps_center=0.05, domain_scale=1, VERBOSE=False):\n",
    "    \"\"\"\n",
    "    Generate metadata characterizing faults via a plane defined by a center, length, width, normal, length_axis, and width_axis.\n",
    "    \n",
    "    Args:\n",
    "    - n_simple_faults:      number of simple planar faults to generate\n",
    "    - n_bent_faults:        number of bent (bi-planar) faults to generate\n",
    "    - n_ladder_structures:  number of ladder-like fault structures\n",
    "    - eps_center:           minimum distance between fault centers\n",
    "    - domain_scale:         scale=x denotes [-x,x]^3 space. \n",
    "    \n",
    "    Returns:\n",
    "    - faults_info: List of tuples containing fault metadata (center, length, width, normal, length_axis, width_axis)\n",
    "    \"\"\"\n",
    "    \n",
    "    # Set fault plane max length and width as proportion of domain\n",
    "    L_max = 1.5 * domain_scale\n",
    "    L_min = 1 * domain_scale\n",
    "    W_max = 0.7 * domain_scale\n",
    "    W_min= 0.5 * domain_scale\n",
    "    faults_info = []\n",
    "\n",
    "    # Generate two orthogonal directions to align all faults\n",
    "    random_unit_vec = random_unit_vector()\n",
    "    favoured_axis_1, favoured_axis_2 = plane_main_axes_from_normal(random_unit_vec)\n",
    "\n",
    "\n",
    "    # Generate simple fault data\n",
    "    if VERBOSE:\n",
    "        print(f\"--------------------------------------------------\")\n",
    "        print(f\"    Generating {n_simple_faults} simple faults:\")\n",
    "        print(f\"--------------------------------------------------\")\n",
    "    for i_simp in range(n_simple_faults):    \n",
    "        while True: # Ensure centers aren't too close\n",
    "            center = np.random.uniform(-domain_scale, domain_scale, size=3)\n",
    "            if all(np.linalg.norm(center - c) > 2 * eps_center for c, _, _, _, _, _ in faults_info):  \n",
    "                break\n",
    "        length = np.random.uniform(L_min, L_max)\n",
    "        width = np.random.uniform(W_min, W_max)\n",
    "        #normal = random_unit_vector()\n",
    "        #length_axis, width_axis = plane_main_axes_from_normal(normal)\n",
    "        length_axis, width_axis, normal = sample_length_width_axes_from_favoured_axes(favoured_axis_1, favoured_axis_2)\n",
    "        faults_info.append((center, length, width, normal, length_axis, width_axis))\n",
    "\n",
    "        if VERBOSE:\n",
    "            print(f\"    Simple fault number: {i_simp+1}\")\n",
    "            display_fault_properties((center, length, width, normal, length_axis, width_axis))\n",
    "\n",
    "\n",
    "    # Generate bent fault data\n",
    "    if VERBOSE:\n",
    "        print(f\"\\n--------------------------------------------------\")\n",
    "        print(f\"    Generating {n_bent_faults} bent faults:\")\n",
    "        print(f\"--------------------------------------------------\")\n",
    "    for i in range(n_bent_faults):\n",
    "\n",
    "        # Generate the main fault data\n",
    "        while True:\n",
    "            main_center = np.random.uniform(-domain_scale, domain_scale, size=3)\n",
    "            if all(np.linalg.norm(main_center - c) > 2 * eps_center for c, _, _, _, _, _ in faults_info):  \n",
    "                break\n",
    "        main_length = np.random.uniform(L_min, L_max)\n",
    "        main_width = np.random.uniform(W_min, W_max)\n",
    "        #main_normal = random_unit_vector()\n",
    "        #main_length_axis, main_width_axis = plane_main_axes_from_normal(main_normal)\n",
    "        main_length_axis, main_width_axis, main_normal = sample_length_width_axes_from_favoured_axes(favoured_axis_1, favoured_axis_2)\n",
    "        faults_info.append((main_center, main_length, main_width, main_normal, main_length_axis, main_width_axis))\n",
    "\n",
    "        if VERBOSE:\n",
    "            print(f\"    Bent fault number: {i//2 + 1}\")\n",
    "            print(\"       First plane:\")\n",
    "            display_fault_properties((main_center, main_length, main_width, main_normal, main_length_axis, main_width_axis))\n",
    "\n",
    "        # Generate secondary smaller fault: sample plane at an angle\n",
    "        bent_factor = np.random.uniform(0.6, 0.75)\n",
    "        bent_length = bent_factor * main_length\n",
    "        bent_width = bent_factor * main_width \n",
    "\n",
    "        # Sample an angle, calculate new axes\n",
    "        angle = np.random.uniform(-50, 50, size=1)\n",
    "        alpha = np.cos(np.radians(90 - angle))\n",
    "        beta = np.sqrt(1-alpha**2)\n",
    "        bent_length_axis = beta*np.array(main_length_axis)  + alpha*np.array(main_normal)\n",
    "        bent_length_axis = bent_length_axis / np.linalg.norm(bent_length_axis)\n",
    "        bent_width_axis = main_width_axis \n",
    "        \n",
    "        bent_center = main_center + 0.5*main_length*main_length_axis + 0.5*bent_length * bent_length_axis\n",
    "        bent_normal = np.cross(bent_length_axis, bent_width_axis)\n",
    "\n",
    "        faults_info.append((bent_center, bent_length, bent_width, bent_normal, bent_length_axis, bent_width_axis))\n",
    "\n",
    "        if VERBOSE:\n",
    "            print(f\"\\n       Second plane:\")\n",
    "            print(f\"         Angle: {angle}\")\n",
    "            display_fault_properties((bent_center, bent_length, bent_width, bent_normal, bent_length_axis, bent_width_axis))\n",
    "\n",
    "\n",
    "    # Generate cross fault data\n",
    "    if VERBOSE:\n",
    "        print(f\"\\n--------------------------------------------------\")\n",
    "        print(f\"    Generating {n_cross_faults} cross faults:\")\n",
    "        print(f\"--------------------------------------------------\")\n",
    "    for k in range(n_cross_faults):\n",
    "\n",
    "        # Generate main fault data\n",
    "        while True: \n",
    "            cross_center = np.random.uniform(-domain_scale, domain_scale, size=3)\n",
    "            if all(np.linalg.norm(cross_center - c) > 2 * eps_center for c, _, _, _, _, _ in faults_info): \n",
    "                break\n",
    "        main_length = np.random.uniform(L_min, L_max)\n",
    "        main_width = np.random.uniform(W_min, W_max)\n",
    "        #main_normal = random_unit_vector()\n",
    "        #main_length_axis, main_width_axis = plane_main_axes_from_normal(main_normal)\n",
    "        main_length_axis, main_width_axis, main_normal = sample_length_width_axes_from_favoured_axes(favoured_axis_1, favoured_axis_2)\n",
    "        faults_info.append((cross_center, main_length, main_width, main_normal, main_length_axis, main_width_axis))\n",
    "\n",
    "        if VERBOSE:\n",
    "            print(f\"    Cross fault number: {k//2 + 1}\")\n",
    "            print(\"       First plane:\")\n",
    "            display_fault_properties((cross_center, main_length, main_width, main_normal, main_length_axis, main_width_axis))\n",
    "\n",
    "        # Generate secondary perpendicular 'crossed' fault\n",
    "        #cross_factor = np.random.uniform(0.6, 1.4)\n",
    "        cross_factor = 1\n",
    "        crossed_length = cross_factor * main_length\n",
    "        crossed_width = 0.6*cross_factor * main_width \n",
    "        crossed_length_axis = main_width_axis \n",
    "        crossed_width_axis = main_normal\n",
    "        crossed_normal = np.cross(crossed_length_axis, crossed_width_axis)\n",
    "        faults_info.append((cross_center, crossed_length, crossed_width, crossed_normal, crossed_length_axis, crossed_width_axis))\n",
    "\n",
    "        if VERBOSE:\n",
    "            print(f\"\\n       Crosssed plane:\")\n",
    "            display_fault_properties((cross_center, crossed_length, crossed_width, crossed_normal, crossed_length_axis, crossed_width_axis))\n",
    "\n",
    "\n",
    "    # Generate Y-shaped fault data\n",
    "    if VERBOSE:\n",
    "        print(f\"\\n--------------------------------------------------\")\n",
    "        print(f\"    Generating {n_Y_faults} Y - faults:\")\n",
    "        print(f\"--------------------------------------------------\")\n",
    "    for l in range(n_Y_faults):\n",
    "\n",
    "        # Generate main fault data\n",
    "        while True:\n",
    "            main_center = np.random.uniform(-domain_scale, domain_scale, size=3)\n",
    "            if all(np.linalg.norm(main_center - c) > 2 * eps_center for c, _, _, _, _, _ in faults_info):  \n",
    "                break\n",
    "        main_length = 1.4 * np.random.uniform(L_min, L_max)\n",
    "        main_width = 0.7* np.random.uniform(W_min, W_max)\n",
    "        #main_normal = random_unit_vector()\n",
    "        #main_length_axis, main_width_axis = plane_main_axes_from_normal(main_normal)\n",
    "        main_length_axis, main_width_axis, main_normal = sample_length_width_axes_from_favoured_axes(favoured_axis_1, favoured_axis_2)\n",
    "        faults_info.append((main_center, main_length, main_width, main_normal, main_length_axis, main_width_axis))\n",
    "\n",
    "        if VERBOSE:\n",
    "            print(f\"    Y - fault number: {l//2 + 1}\")\n",
    "            print(\"       First plane:\")\n",
    "            display_fault_properties((main_center, main_length, main_width, main_normal, main_length_axis, main_width_axis))\n",
    "\n",
    "        # Generate secondary perpendicular 'branched' fault\n",
    "        branch_length = 0.4*main_length\n",
    "        branch_width = 0.7*main_width \n",
    "\n",
    "        angle = np.random.choice([-1, 1]) * np.random.uniform(20, 35, size=1)\n",
    "        alpha = np.cos(np.radians(90 - angle))\n",
    "        beta = np.sqrt(1-alpha**2)\n",
    "        branch_length_axis = beta*np.array(main_length_axis)  + alpha*np.array(main_normal)\n",
    "        branch_length_axis = branch_length_axis / np.linalg.norm(branch_length_axis)\n",
    "        branch_width_axis = main_width_axis    \n",
    "        branch_normal = np.cross(branch_length_axis, branch_width_axis)    \n",
    "\n",
    "        branch_center = main_center + np.random.uniform(0, 0.15)*main_length*main_length_axis + 0.5* branch_length * branch_length_axis\n",
    "   \n",
    "        \n",
    "        faults_info.append((branch_center, branch_length, branch_width, branch_normal, branch_length_axis, branch_width_axis))\n",
    "\n",
    "        if VERBOSE:\n",
    "            print(f\"\\n       Branch plane:\")\n",
    "            display_fault_properties((branch_center, branch_length, branch_width, branch_normal, branch_length_axis, branch_width_axis))\n",
    "\n",
    "\n",
    "    # Generate two parallel fault data\n",
    "    if VERBOSE:\n",
    "        print(f\"\\n--------------------------------------------------\")\n",
    "        print(f\"    Generating {n_parallel_faults} parallel faults:\")\n",
    "        print(f\"--------------------------------------------------\")\n",
    "    for b in range(n_parallel_faults):\n",
    "\n",
    "        # Generate main fault data\n",
    "        while True: \n",
    "            main_center = np.random.uniform(-domain_scale, domain_scale, size=3)\n",
    "            if all(np.linalg.norm(main_center - c) > 2 * eps_center for c, _, _, _, _, _ in faults_info): \n",
    "                break\n",
    "        main_length = np.random.uniform(L_min, L_max)\n",
    "        main_width = np.random.uniform(W_min, W_max)\n",
    "        #main_normal = random_unit_vector()\n",
    "        #main_length_axis, main_width_axis = plane_main_axes_from_normal(main_normal)\n",
    "        main_length_axis, main_width_axis, main_normal = sample_length_width_axes_from_favoured_axes(favoured_axis_1, favoured_axis_2)\n",
    "        faults_info.append((main_center, main_length, main_width, main_normal, main_length_axis, main_width_axis))\n",
    "\n",
    "        if VERBOSE:\n",
    "            print(f\"    Parallel pair number: {b//2 + 1}\")\n",
    "            print(\"       First plane:\")\n",
    "            display_fault_properties((main_center, main_length, main_width, main_normal, main_length_axis, main_width_axis))\n",
    "\n",
    "        # Generate secondary perpendicular 'crossed' fault\n",
    "        dist_between_parallels = np.random.uniform(0.5*main_width, 0.7*main_width)\n",
    "        distance_shifted = np.random.uniform(0.2, 0.7) * main_length\n",
    "        second_center = main_center + dist_between_parallels * np.array(main_normal) + distance_shifted * main_length_axis\n",
    "        second_factor = np.random.uniform(0.6, 1.5)\n",
    "        second_length = second_factor * main_length\n",
    "        second_width = second_factor * main_width \n",
    "        second_length_axis = main_length_axis\n",
    "        second_width_axis = main_width_axis\n",
    "        second_normal = np.cross(second_length_axis, second_width_axis)\n",
    "        faults_info.append((second_center, second_length, second_width, second_normal, second_length_axis, second_width_axis))\n",
    "\n",
    "        if VERBOSE:\n",
    "            print(f\"\\n       Second plane:\")\n",
    "            display_fault_properties((second_center, second_length, second_width, second_normal, second_length_axis, second_width_axis))\n",
    "\n",
    "\n",
    "    # Generate ladder structures\n",
    "    if VERBOSE:\n",
    "        print(f\"\\n--------------------------------------------------\")\n",
    "        print(f\"    Generating {n_ladder_structures} ladder-like structures:\")\n",
    "        print(f\"--------------------------------------------------\")\n",
    "    for m in range(n_ladder_structures):\n",
    "\n",
    "        print(f\"    Ladder structure {m+1}\")\n",
    "        # Characterise the first main fault\n",
    "        while True:\n",
    "            first_center = np.random.uniform(-domain_scale, domain_scale, size=3)\n",
    "            if all(np.linalg.norm(first_center - c) > 2 * eps_center for c, _, _, _, _, _ in faults_info):  # Ensure centers aren't too close\n",
    "                break\n",
    "        first_length = 1.4 *np.random.uniform(L_min, L_max)\n",
    "        first_width = np.random.uniform(W_min, W_max)\n",
    "        first_normal = random_unit_vector()\n",
    "        first_length_axis, first_width_axis = plane_main_axes_from_normal(first_normal)\n",
    "        faults_info.append((first_center, first_length, first_width, first_normal, first_length_axis, first_width_axis))            \n",
    "        if VERBOSE:\n",
    "            print(f\"            Main parallel fault\")\n",
    "            display_fault_properties((first_center, first_length, first_width, first_normal, first_length_axis, first_width_axis))\n",
    "\n",
    "        # Characterise the second main fault\n",
    "        dist_between_parallels = np.min(np.array([np.random.uniform(1.5*first_width, 3*first_width), 0.7*first_length]))\n",
    "        second_center = first_center + dist_between_parallels * np.array(first_normal)\n",
    "        second_length = first_length\n",
    "        second_width = first_width\n",
    "        second_normal = first_normal\n",
    "        second_length_axis = first_length_axis\n",
    "        second_width_axis = first_width_axis\n",
    "        faults_info.append((second_center, second_length, second_width, second_normal, second_length_axis, second_width_axis))\n",
    "\n",
    "        if VERBOSE:\n",
    "            print(f\"            Second parallel fault\")\n",
    "            display_fault_properties((second_center, second_length, second_width, second_normal, second_length_axis, second_width_axis))\n",
    "\n",
    "        # Characterise smaller, middle faults: \n",
    "        N_smaller_perpendicular_faults = 3\n",
    "        dist_between_smaller_faults = first_length / (N_smaller_perpendicular_faults+2)\n",
    "        mid_length = 1.3 *dist_between_parallels\n",
    "        mid_width = dist_between_parallels / 4\n",
    "\n",
    "        # They are at a slight angle to the normal: \n",
    "        angle = np.random.choice([-1, 1]) * np.random.uniform(10, 20, size=1)\n",
    "        alpha = np.cos(np.radians(90 - angle))\n",
    "        beta = np.sqrt(1-alpha**2)\n",
    "        mid_length_axis = beta*np.array(first_normal)  + alpha*np.array(first_length_axis)\n",
    "        mid_length_axis = mid_length_axis / np.linalg.norm(mid_length_axis)\n",
    "        mid_width_axis = first_width_axis\n",
    "        mid_normal = np.cross(mid_length_axis, mid_width_axis) \n",
    "    \n",
    "        for n in range(N_smaller_perpendicular_faults):\n",
    "            if n % 2 == 0:\n",
    "                m = n // 2\n",
    "            else:\n",
    "                m = -((n + 1) // 2)\n",
    "            mid_center = (first_center + second_center)/2 + m*dist_between_smaller_faults*first_length_axis\n",
    "\n",
    "            faults_info.append((mid_center, mid_length, mid_width, mid_normal, mid_length_axis, mid_width_axis))\n",
    "            if VERBOSE:\n",
    "                print(f\"\\n              Smaller middle fault: fault number {n}\")\n",
    "                display_fault_properties((mid_center, mid_length, mid_width, mid_normal, mid_length_axis, mid_width_axis))\n",
    "        \n",
    "    return faults_info"
   ]
  },
  {
   "cell_type": "code",
   "execution_count": 66,
   "metadata": {},
   "outputs": [],
   "source": [
    "def generate_points_from_plane(center, length, width, normal, length_axis, width_axis, distribution_mode='normal', domain_scale=1):\n",
    "\n",
    "    density = 150 # points per m^2\n",
    "    area = length*width \n",
    "    num_points = int(np.round(density * area)) \n",
    "\n",
    "    # Sample points coordinates on the plane\n",
    "    x = np.random.uniform(-length/2, length/2, num_points).astype(float)\n",
    "    y = np.random.uniform(-width/2, width/2, num_points).astype(float)\n",
    "\n",
    "    # Sample distances from the plane\n",
    "    # Convention for faults: mean distance ~ width => 4*sigma=width\n",
    "    if distribution_mode == 'normal':\n",
    "        distribution_param = width/7\n",
    "        dist = np.random.normal(loc=0, scale=distribution_param, size=num_points)\n",
    "\n",
    "    # Compute fault points\n",
    "    fault_points = center + x[:, None] * length_axis + y[:, None] * width_axis + dist[:, None] * normal\n",
    "\n",
    "    return fault_points\n",
    "\n",
    "\n",
    "\n",
    "def generate_point_list_from_metadata_list(fault_metadata_list, n_simple_faults, n_bent_faults, n_cross_faults, n_Y_faults, n_parallel_faults):\n",
    "     \n",
    "    \"\"\"\n",
    "    Generate point cloud for every fault given its metadata.\n",
    "    \"\"\"\n",
    "    points_list = []\n",
    "    labels = []\n",
    "    k = 0\n",
    "    label = 0\n",
    "    for i, metadata in enumerate(fault_metadata_list):\n",
    "\n",
    "        # Add simple faults\n",
    "        if (i <= n_simple_faults -1) and (n_simple_faults != 0): \n",
    "            (center, length, width, normal, length_axis, width_axis) = metadata\n",
    "            fault_points = generate_points_from_plane(center, length, width, normal, length_axis, width_axis)\n",
    "            points_list.append(fault_points)\n",
    "\n",
    "            # Add labels\n",
    "            fault_labels = [label] * len(fault_points)\n",
    "            labels.extend(fault_labels)\n",
    "\n",
    "\n",
    "        # Add bent faults, make sure to merge main-bent points into one list\n",
    "        elif (i>=n_simple_faults) and (i <= n_simple_faults + 2 * n_bent_faults -1) and (n_bent_faults != 0): \n",
    "            if k%2 == 0: # main points\n",
    "                (main_center, main_length, main_width, main_normal, main_length_axis, main_width_axis) = metadata\n",
    "                \n",
    "                main_fault_points = generate_points_from_plane(main_center, main_length, main_width, main_normal, main_length_axis, main_width_axis)\n",
    "                k+=1\n",
    "\n",
    "            else:        # bent points\n",
    "                (second_center, second_length, second_width, second_normal, second_length_axis, second_width_axis) = metadata\n",
    "                second_fault_points = generate_points_from_plane(second_center, second_length, second_width, second_normal, second_length_axis, second_width_axis)\n",
    "\n",
    "                # Concatenate main and bent points into one array, and add to list.\n",
    "                points_list.append(np.concatenate((main_fault_points, second_fault_points)))\n",
    "                k+=1\n",
    "\n",
    "                # Add labels\n",
    "                fault_labels = [label] * (len(main_fault_points) + len(second_fault_points))\n",
    "                labels.extend(fault_labels)\n",
    "            \n",
    "            \n",
    "\n",
    "\n",
    "        # Add cross faults (a cross consists of two faults, hence they are separate)\n",
    "        elif   (i >= n_simple_faults + 2*n_bent_faults) and (i <= n_simple_faults + 2*n_bent_faults + 2*n_cross_faults -1) and (n_cross_faults != 0):\n",
    "            (center, length, width, normal, length_axis, width_axis) = metadata\n",
    "            fault_points = generate_points_from_plane(center, length, width, normal, length_axis, width_axis)\n",
    "            points_list.append(fault_points)\n",
    "\n",
    "            # Add labels\n",
    "            fault_labels = [label] * len(fault_points)\n",
    "            labels.extend(fault_labels)\n",
    "\n",
    "\n",
    "        # Add Y-shaped faults\n",
    "        elif   (i >= n_simple_faults + 2*n_bent_faults + 2*n_cross_faults) and (i <= n_simple_faults + 2*n_bent_faults + 2*n_cross_faults + 2*n_Y_faults -1) and (n_Y_faults != 0):\n",
    "            (center, length, width, normal, length_axis, width_axis) = metadata\n",
    "            fault_points = generate_points_from_plane(center, length, width, normal, length_axis, width_axis)\n",
    "            points_list.append(fault_points)\n",
    "\n",
    "            # Add labels\n",
    "            fault_labels = [label] * len(fault_points)\n",
    "            labels.extend(fault_labels)\n",
    "            \n",
    "\n",
    "        # Add parallel faults\n",
    "        elif    (i >= n_simple_faults + 2*n_bent_faults + 2*n_cross_faults + 2*n_Y_faults) and (i <= n_simple_faults + 2*n_bent_faults + 2*n_cross_faults + 2*n_Y_faults -1 + 2*n_parallel_faults -1) and (n_parallel_faults != 0):\n",
    "            (center, length, width, normal, length_axis, width_axis) = metadata\n",
    "            fault_points = generate_points_from_plane(center, length, width, normal, length_axis, width_axis)\n",
    "            points_list.append(fault_points)\n",
    "\n",
    "            # Add labels\n",
    "            fault_labels = [label] * len(fault_points)\n",
    "            labels.extend(fault_labels)\n",
    "           \n",
    "\n",
    "        # Add rest of faults that form the ladder structure\n",
    "        else: \n",
    "            (center, length, width, normal, length_axis, width_axis) = metadata\n",
    "            fault_points = generate_points_from_plane(center, length, width, normal, length_axis, width_axis)\n",
    "            points_list.append(fault_points)\n",
    "\n",
    "            # Add labels\n",
    "            fault_labels = [label] * len(fault_points)\n",
    "            labels.extend(fault_labels)\n",
    "            \n",
    "        label += 1\n",
    "        \n",
    "    return points_list, labels\n",
    "\n",
    "\n",
    "\n",
    "def generate_dataset(n_simple_faults, n_bent_faults, n_cross_faults, n_Y_faults, n_parallel_faults, n_structures, VERBOSE=False):\n",
    "\n",
    "    fault_metadata_list = generate_faults_metadata(n_simple_faults, n_bent_faults, n_cross_faults, n_Y_faults, n_parallel_faults, n_structures, eps_center=0.1, domain_scale=1, VERBOSE=False)\n",
    "\n",
    "    fault_points_list, labels = generate_point_list_from_metadata_list(fault_metadata_list, n_simple_faults, n_bent_faults, n_cross_faults, n_Y_faults, n_parallel_faults)\n",
    "    \n",
    "    return fault_points_list, labels"
   ]
  },
  {
   "cell_type": "markdown",
   "metadata": {},
   "source": [
    "### Visualization functions"
   ]
  },
  {
   "cell_type": "code",
   "execution_count": 67,
   "metadata": {},
   "outputs": [],
   "source": [
    "def multi_static_plot_better(fault_points_list, fault_metadata_list=None, show_plane=False, show_axes=False):\n",
    "    \"\"\"\n",
    "    Visualize fault points in 3D and optionally plot the plane and axes.\n",
    "\n",
    "    Args:\n",
    "    - fault_points_list: List of fault points arrays (each array represents points for one fault)\n",
    "    - fault_metadata_list: List of fault metadata tuples (each tuple contains metadata for one fault)\n",
    "    - show_plane: Boolean indicating whether to plot the plane (default is False)\n",
    "    - show_axes: Boolean indicating whether to plot the axes (default is False)\n",
    "    \"\"\"\n",
    "    fig = plt.figure(figsize=(8, 6))\n",
    "    ax = fig.add_subplot(111, projection='3d')\n",
    "\n",
    "    # Plot event points for each fault\n",
    "    for i, fault_points in enumerate(fault_points_list):\n",
    "        ax.scatter(fault_points[:, 0], fault_points[:, 1], fault_points[:, 2], label=f'Fault {i+1}', s=5)\n",
    "\n",
    "    # Plot the plane and axes if requested\n",
    "    if show_plane or show_axes or fault_metadata_list != None:\n",
    "        for metadata in fault_metadata_list:\n",
    "            # Unpack plane data\n",
    "            (center, length, width, normal, length_axis, width_axis) = metadata\n",
    "\n",
    "            if show_plane:\n",
    "                # Define vertices of the plane\n",
    "                plane_vertices = center + np.array([-length/2, length/2, length/2, -length/2, -length/2])[:, None] * length_axis + np.array([-width/2, -width/2, width/2, width/2, -width/2])[:, None] * width_axis\n",
    "\n",
    "                # Plot the plane\n",
    "                ax.plot_trisurf(plane_vertices[:, 0], plane_vertices[:, 1], plane_vertices[:, 2], color='blue', alpha=0.2)\n",
    "\n",
    "            if show_axes:\n",
    "                # Plot length and width axes\n",
    "                ax.plot([center[0], center[0] + length_axis[0]*length/2],\n",
    "                        [center[1], center[1] + length_axis[1]*length/2],\n",
    "                        [center[2], center[2] + length_axis[2]*length/2], color='red', linewidth=3)\n",
    "\n",
    "                ax.plot([center[0], center[0] + width_axis[0]*width/2],\n",
    "                        [center[1], center[1] + width_axis[1]*width/2],\n",
    "                        [center[2], center[2] + width_axis[2]*width/2], color='green', linewidth=3)\n",
    "\n",
    "    ax.set_xlabel('X')\n",
    "    ax.set_ylabel('Y')\n",
    "    ax.set_zlabel('Z')\n",
    "    ax.set_title('Synthetic Seismic Data - Fault Points')\n",
    "    ax.legend()\n",
    "    plt.show()"
   ]
  },
  {
   "cell_type": "code",
   "execution_count": 72,
   "metadata": {},
   "outputs": [
    {
     "data": {
      "image/png": "[encoded data removed]",
      "text/plain": [
       "<Figure size 800x500 with 1 Axes>"
      ]
     },
     "metadata": {},
     "output_type": "display_data"
    }
   ],
   "source": [
    "def multi_interactive_plot_better(fault_points_list, fault_metadata_list, show_plane=False, show_axes=False, domain_scale=1):\n",
    "    \"\"\"\n",
    "    Visualize 3D points of multiple faults in an interactive plot using Plotly.\n",
    "    \"\"\"\n",
    "\n",
    "    fig = go.Figure()\n",
    "\n",
    "    x_range_largest = [-1, 1]\n",
    "    y_range_largest = x_range_largest\n",
    "    z_range_largest = x_range_largest\n",
    "    \n",
    "    for i, points in enumerate(fault_points_list):\n",
    "        # Extract x, y, z coordinates from points\n",
    "        x_coords = points[:, 0]\n",
    "        y_coords = points[:, 1]\n",
    "        z_coords = points[:, 2]\n",
    "\n",
    "        # Plot the points\n",
    "        fig.add_trace(go.Scatter3d(\n",
    "            x=x_coords,\n",
    "            y=y_coords,\n",
    "            z=z_coords,\n",
    "            mode='markers',\n",
    "            marker=dict(\n",
    "                size=3,\n",
    "                opacity=0.8\n",
    "            ),\n",
    "            name=f'Fault {i+1}'\n",
    "        ))\n",
    "\n",
    "    if show_plane or show_axes or fault_metadata_list != None:\n",
    "        j=0\n",
    "        print(fault_metadata_list[0])\n",
    "        for metadata in fault_metadata_list:\n",
    "            # Unpack plane data:\n",
    "            (center, length, width, normal, length_axis, width_axis) = metadata\n",
    "\n",
    "            if show_plane:\n",
    "                # Define vertices of the plane\n",
    "                plane_vertices = center + np.array([-length/2, length/2, length/2, -length/2, -length/2])[:, None] * length_axis + np.array([-width/2, -width/2, width/2, width/2, -width/2])[:, None] * width_axis\n",
    "\n",
    "                plane_trace = go.Mesh3d(x=plane_vertices[:, 0],\n",
    "                                        y=plane_vertices[:, 1],\n",
    "                                        z=plane_vertices[:, 2],\n",
    "                                        i=[0, 1, 2, 0],\n",
    "                                        j=[1, 2, 3, 4],\n",
    "                                        k=[2, 3, 4, 0],\n",
    "                                        opacity=0.2,\n",
    "                                        color='blue',\n",
    "                                        )\n",
    "                fig.add_trace(plane_trace)\n",
    "\n",
    "            if show_axes:\n",
    "                # Plot length and width axes\n",
    "                length_axis_trace = go.Scatter3d(x=[center[0], center[0] + length_axis[0]*length/2],\n",
    "                                                y=[center[1], center[1] + length_axis[1]*length/2],\n",
    "                                                z=[center[2], center[2] + length_axis[2]*length/2],\n",
    "                                                mode='lines',\n",
    "                                                line=dict(color='red', width=3),\n",
    "                                                )\n",
    "\n",
    "                width_axis_trace = go.Scatter3d(x=[center[0], center[0] + width_axis[0]*width/2],\n",
    "                                                y=[center[1], center[1] + width_axis[1]*width/2],\n",
    "                                                z=[center[2], center[2] + width_axis[2]*width/2],\n",
    "                                                mode='lines',\n",
    "                                                line=dict(color='green', width=3),\n",
    "                                                )\n",
    "                fig.add_trace(length_axis_trace)\n",
    "                fig.add_trace(width_axis_trace)\n",
    "            j+=1\n",
    "            \n",
    "    fig.update_layout(scene=dict(\n",
    "        xaxis_title='X',\n",
    "        yaxis_title='Y',\n",
    "        zaxis_title='Z'),\n",
    "        title='3D Visualization of Fault Points'\n",
    "    )\n",
    "\n",
    "    fig.show()\n",
    "\n",
    "\n",
    "def plot_label_distribution(train_labels):\n",
    "    train_labels = np.array(train_labels, dtype=int)\n",
    "    train_counts = np.bincount(train_labels)\n",
    "    total_train_samples = len(train_labels)\n",
    "    num_labels = len(train_counts)\n",
    "\n",
    "    # Plot the bar plot\n",
    "    plt.figure(figsize=(8, 5))\n",
    "    x = np.arange(num_labels)\n",
    "\n",
    "    plt.bar(x, train_counts, edgecolor='black')\n",
    "\n",
    "    # Add text labels on the bars\n",
    "    for i, count in enumerate(train_counts):\n",
    "        plt.text(x[i], count + 0.1, str(count), ha='center', fontsize=10)\n",
    "\n",
    "    plt.ylabel('Number of Samples')\n",
    "    plt.title(\"Label Distribution\")\n",
    "    plt.xticks(x, range(num_labels))\n",
    "    plt.tight_layout()\n",
    "    plt.show()\n",
    "    # plt.savefig(os.path.join(output_dir, f\"{savename}\"))\n",
    "    plt.close()\n",
    "\n",
    "# Example usage\n",
    "labels = [1, 2, 2, 3, 3, 3, 4, 4, 4, 4]\n",
    "plot_label_distribution(labels)\n"
   ]
  },
  {
   "cell_type": "markdown",
   "metadata": {},
   "source": [
    "## Example outputs"
   ]
  },
  {
   "cell_type": "code",
   "execution_count": 74,
   "metadata": {},
   "outputs": [
    {
     "name": "stdout",
     "output_type": "stream",
     "text": [
      "--------------------------------------------------\n",
      "    Generating 0 simple faults:\n",
      "--------------------------------------------------\n",
      "\n",
      "--------------------------------------------------\n",
      "    Generating 1 bent faults:\n",
      "--------------------------------------------------\n",
      "    Bent fault number: 1\n",
      "       First plane:\n",
      "         center: [ 0.16670753  0.75362882 -0.03525002] \n",
      "         length: 1.2578351020356262, width: 0.5830493254837931 \n",
      "         length_axis: [0.50413108 0.18266615 0.84408823],   width_axis: [-0.3215855   0.94188405 -0.01176309]\n",
      "\n",
      "       Second plane:\n",
      "         Angle: [28.83129863]\n",
      "         center: [0.50615414 0.88102676 0.88568042] \n",
      "         length: 0.7818220159786559, width: 0.3624010797019589 \n",
      "         length_axis: [0.05727577 0.03201752 0.99784486],   width_axis: [-0.3215855   0.94188405 -0.01176309]\n",
      "\n",
      "--------------------------------------------------\n",
      "    Generating 0 cross faults:\n",
      "--------------------------------------------------\n",
      "\n",
      "--------------------------------------------------\n",
      "    Generating 0 Y - faults:\n",
      "--------------------------------------------------\n",
      "\n",
      "--------------------------------------------------\n",
      "    Generating 0 parallel faults:\n",
      "--------------------------------------------------\n",
      "\n",
      "--------------------------------------------------\n",
      "    Generating 1 ladder-like structures:\n",
      "--------------------------------------------------\n",
      "    Ladder structure 1\n",
      "            Main parallel fault\n",
      "         center: [ 0.55350455 -0.57414756  0.31053552] \n",
      "         length: 1.6360503000143924, width: 0.5750348303976061 \n",
      "         length_axis: [0.94186461 0.22154142 0.25260732],   width_axis: [ 0.26454116 -0.95247602 -0.15102123]\n",
      "            Second parallel fault\n",
      "         center: [ 0.75784399 -0.36791251 -0.63223089] \n",
      "         length: 1.6360503000143924, width: 0.5750348303976061 \n",
      "         length_axis: [0.94186461 0.22154142 0.25260732],   width_axis: [ 0.26454116 -0.95247602 -0.15102123]\n",
      "\n",
      "              Smaller middle fault: fault number 0\n",
      "         center: [ 0.65567427 -0.47103003 -0.16084768] \n",
      "         length: 1.2823931700638231, width: 0.24661407116611983 \n",
      "         length_axis: [ 0.38572163  0.24803174 -0.88865014],   width_axis: [ 0.26454116 -0.95247602 -0.15102123]\n",
      "\n",
      "              Smaller middle fault: fault number 1\n",
      "         center: [ 0.34748669 -0.54352061 -0.24350334] \n",
      "         length: 1.2823931700638231, width: 0.24661407116611983 \n",
      "         length_axis: [ 0.38572163  0.24803174 -0.88865014],   width_axis: [ 0.26454116 -0.95247602 -0.15102123]\n",
      "\n",
      "              Smaller middle fault: fault number 2\n",
      "         center: [ 0.96386184 -0.39853945 -0.07819203] \n",
      "         length: 1.2823931700638231, width: 0.24661407116611983 \n",
      "         length_axis: [ 0.38572163  0.24803174 -0.88865014],   width_axis: [ 0.26454116 -0.95247602 -0.15102123]\n"
     ]
    },
    {
     "data": {
      "image/png": "[encoded data removed]",
      "text/plain": [
       "<Figure size 800x500 with 1 Axes>"
      ]
     },
     "metadata": {},
     "output_type": "display_data"
    },
    {
     "data": {
      "image/png": "[encoded data removed]",
      "text/plain": [
       "<Figure size 800x600 with 1 Axes>"
      ]
     },
     "metadata": {},
     "output_type": "display_data"
    },
    {
     "name": "stdout",
     "output_type": "stream",
     "text": [
      "(array([ 0.16670753,  0.75362882, -0.03525002]), 1.2578351020356262, 0.5830493254837931, array([-0.79718195, -0.2655164 ,  0.5335758 ]), array([0.50413108, 0.18266615, 0.84408823]), array([-0.3215855 ,  0.94188405, -0.01176309]))\n"
     ]
    },
    {
     "data": {
      "application/vnd.plotly.v1+json": {
       "config": {
        "plotlyServerURL": "https://plot.ly"
       },
       "data": [
        {
         "marker": {
          "opacity": 0.8,
          "size": 3
         },
         "mode": "markers",
         "name": "Fault 1",
         "type": "scatter3d",
         "x": [
          0.1070091296172454,
          0.13096984794405625,
          -0.10918026086816232,
          -0.08614159029548116,
          -0.16283956520771187,
          0.07601796119009613,
          -0.06207657752062902,
          0.1652926560936983,
          0.3677576121321085,
          -0.1567742645798888,
          0.275418183173804,
          0.37692482027221913,
          0.07092219891996451,
          0.34233946068781607,
          0.4771558059061306,
          0.2848980561087214,
          0.05818306250942131,
          0.3920931797654004,
          0.4445409048784267,
          0.022821544409900252,
          0.18446754086164682,
          0.20635558973130247,
          0.15085533461755346,
          0.15939893574675273,
          0.43801522735363,
          0.05652452974804892,
          0.41617085084790356,
          0.37530308545868785,
          0.42997025252619325,
          -0.017235160332005752,
          -0.009859574723915791,
          -0.09706986612371449,
          0.0859035601559521,
          0.17020898204535448,
          0.30860864534924753,
          -0.1829352075795754,
          -0.024895618423123267,
          -0.17224468362766357,
          0.15701896478173835,
          0.09083764756422691,
          0.09066901843578512,
          -0.05713157864391531,
          0.5387774143651731,
          0.08328732507816312,
          0.029357092665529605,
          -0.10538673861132394,
          -0.18748122379377002,
          0.2600127834186575,
          0.39941124564523245,
          0.15517272728280035,
          0.20899043824927438,
          0.3888961646752508,
          0.12415958994350532,
          0.25016676708973073,
          0.36439681393450796,
          -0.12237921863658098,
          0.13113485157282154,
          0.35711748836251556,
          0.001919417772983871,
          0.09292797284548324,
          -0.022580592035829017,
          0.4258730068466443,
          0.3216588569008132,
          0.045059964237449734,
          0.15405689490590682,
          0.07668376076926946,
          0.018700360239133032,
          0.08481816918430861,
          0.02356234212251646,
          0.3170324891104462,
          0.3116301133821366,
          0.2347916168594506,
          0.19487859463309554,
          0.10016300987738493,
          0.3299752336665333,
          0.34214983077472694,
          0.14106014518284854,
          0.023971719037687834,
          0.17457251191170997,
          0.23782104078723484,
          -0.004469773919819869,
          0.5398605443453498,
          0.26951768098438433,
          0.009393874791052206,
          -0.02610820628545582,
          -0.21074874541934882,
          0.08925515964840157,
          0.2698201961688478,
          0.11762431750981066,
          -0.01100900802685534,
          0.3293068761912538,
          0.2534515891951649,
          0.21388468765546018,
          0.5162973813708058,
          0.4247978718984718,
          0.1535062244358112,
          0.36762526271615487,
          0.1362138975354471,
          -0.23118204641007067,
          0.2686422618347923,
          0.35370901865197957,
          0.24958867515594813,
          0.19371846182115676,
          0.07480974981019409,
          0.04295249353054734,
          0.479453169325811,
          0.35940001231973523,
          -0.030486876440096178,
          0.405196211810055,
          0.2304098596296243,
          0.47625223147609236,
          0.479774364990124,
          0.520003142948316,
          0.5091222345978432,
          0.5163930062804064,
          0.5181162117578355,
          0.5147876026184367,
          0.506059345087174,
          0.4800666825781169,
          0.47967665894058986,
          0.4442741539822774,
          0.5477707869655627,
          0.5493440347503926,
          0.5446422481788878,
          0.5756162342895462,
          0.41427742887169083,
          0.5976113748489703,
          0.5083802876777461,
          0.5467439090851095,
          0.5508825924923126,
          0.47312185236043197,
          0.5287237174139179,
          0.596454725241806,
          0.516238322124626,
          0.4210535250406693,
          0.4931626360725503,
          0.3710535113318533,
          0.5383035257507576,
          0.4775762234590693,
          0.45180670120158345,
          0.6060737763935627,
          0.5348269572365595,
          0.5888510757490563,
          0.44916308621752715,
          0.5296583332615993,
          0.5456621128685087,
          0.4808692005974865,
          0.618415338020356,
          0.5913721007649902,
          0.5579684799702684,
          0.5024463662516411,
          0.46013080220782687
         ],
         "y": [
          0.7292359301929626,
          0.5692084276373189,
          0.4582766220651621,
          0.44695343379907027,
          0.6945886414349617,
          0.4193135694327269,
          0.8467150753486142,
          0.6631930433544292,
          0.7552098342600674,
          0.7017814757808384,
          0.7817429463997058,
          0.761756296262286,
          0.9168606437805122,
          0.6430295728062085,
          0.7146114658763711,
          0.6166366203562522,
          0.7594932552262333,
          0.8013514703252442,
          0.6169304801428426,
          0.8316743188416463,
          0.7178931843913056,
          0.851183425632449,
          0.470571820085633,
          0.4814000155460457,
          0.632863962920458,
          0.9428425729208731,
          0.5428703620966977,
          0.8491870618376856,
          0.7581210825593628,
          0.808384061484752,
          0.677599679666555,
          0.8924819378739794,
          0.644445708894593,
          1.001197688026024,
          0.49780053491999254,
          0.8197806972925371,
          0.9424824569464016,
          0.7478151136411515,
          0.5520368414792061,
          1.0144571679686107,
          0.9066427403446649,
          0.863068961775044,
          0.9179141701132463,
          0.8741978748927123,
          0.603315198992556,
          0.5533468441653057,
          0.8268275940733426,
          0.9890282816830583,
          0.9730804074956163,
          0.9237943071372315,
          0.9090865380181092,
          0.6276080709132824,
          1.0369410319793932,
          1.0245422769830426,
          1.034688556474679,
          0.8572369318324535,
          0.669082173242519,
          0.7397047179633424,
          0.7974926978606487,
          0.5681702769567163,
          0.7757949328952184,
          0.8416690028378275,
          0.7133927332247201,
          0.5605173487572799,
          0.4924389274946244,
          0.907231241349269,
          0.9493483819952194,
          0.5080806256552998,
          0.7995341514223999,
          1.068582818477297,
          1.0939126879753158,
          0.5514735701322651,
          0.9744560160993334,
          0.5368908814596145,
          0.5155677506963673,
          0.805216375620667,
          0.9598325221938203,
          0.9274938654510453,
          0.9497356561083011,
          0.7601516668655084,
          0.55472503539229,
          0.694980672125762,
          0.938436089418605,
          0.42666030781759096,
          0.9929419598512219,
          0.9086251881885958,
          0.9031765902567555,
          0.8583064440902322,
          0.6542866637055095,
          0.5762389899858851,
          0.5980644629812191,
          0.6114097720066718,
          0.860920390504045,
          0.6051290738042263,
          0.866364167724186,
          0.7766788317180949,
          0.8540676518239708,
          0.8528153250055778,
          0.6416129133707159,
          1.0258749643903813,
          0.8382481090431915,
          1.0483537371694407,
          0.5712639475501187,
          0.7023048552085337,
          0.42262342342670944,
          0.6428332342791464,
          1.0988501873962588,
          0.6271305846702729,
          0.9269360257787865,
          0.6024744924419952,
          0.9778092884761864,
          0.8587737625912134,
          0.7210170404536014,
          0.7158963660755217,
          0.7233221739347411,
          0.7638633599748507,
          1.0166600825007244,
          0.7540499828928809,
          1.0309933143880476,
          1.0538097738632788,
          0.6734575618141249,
          0.7602119003781775,
          1.0442886310953796,
          0.754918690444656,
          0.7323973505806681,
          1.006476427254685,
          0.8819578628422329,
          0.9848183695381404,
          0.9287088697525057,
          0.8517235967492369,
          1.005034624657315,
          0.908975288605216,
          0.7209967550523997,
          0.9032411288100259,
          0.9224684947478373,
          0.9727449675965725,
          0.9755150172613788,
          0.9562440770885828,
          0.9363582338573412,
          1.0520242276356664,
          0.8316720948492078,
          1.0081845350067187,
          0.8401270007739912,
          0.8391446645751185,
          0.8081810629422437,
          0.8156494351982948,
          0.9398659067747879,
          0.7950272195830053,
          0.9242125624597315,
          0.7668095058626264,
          0.7990145247795204,
          1.0224410054210613
         ],
         "z": [
          0.06345644226308275,
          -0.014960029938484415,
          -0.519519232189551,
          -0.31001822685794345,
          -0.49956733985112545,
          -0.2055250586592046,
          -0.4603083129456647,
          0.00609599628331382,
          0.344384675374266,
          -0.5261674289906996,
          0.18333638823997161,
          0.34281284276086854,
          0.03619746589255314,
          0.11059178486799567,
          0.3601801468518004,
          0.15023629128976168,
          -0.18512288717019898,
          0.378963717004667,
          0.3469677356878389,
          -0.6211042148099051,
          0.20785316307019186,
          0.12644749055222265,
          -0.4588346788160629,
          -0.05281723307824279,
          0.27889849174339554,
          -0.3312298872421525,
          0.23826006392877896,
          0.2235233152762741,
          0.4185065366031181,
          -0.23618967525842327,
          -0.22814679792059026,
          -0.39121831084741426,
          -0.028559992391121128,
          0.016342273690758448,
          -0.06870980991823306,
          -0.5522445220598772,
          -0.30690550466194794,
          -0.5163228426044694,
          0.1395943780283924,
          0.13118315107957665,
          -0.27405767722519875,
          -0.4540353762332749,
          0.44712216983700853,
          -0.14550166400098025,
          -0.20491292062013444,
          -0.47003405070823306,
          -0.4438521761144747,
          0.21943432987914951,
          0.2642974842776832,
          -0.35224524395626916,
          -0.03129454272866695,
          0.03953118798349432,
          0.04745371461056012,
          0.0009387919832656716,
          0.46681821154110575,
          -0.3372836980084941,
          -0.15693346837718622,
          0.40632159839168813,
          -0.37652861574601953,
          -0.1626264341265502,
          -0.13021078026890476,
          0.3896887255174182,
          0.1994212718564711,
          -0.02493342927625905,
          -0.1790992287751391,
          0.062092723460695096,
          -0.07033403093752867,
          -0.368338532174059,
          -0.2427988064510833,
          0.4335593209761278,
          0.22017352516424055,
          0.2748272911526296,
          0.094113897911422,
          -0.20099619241438144,
          -0.028414159957981047,
          0.0030091021785171868,
          0.06629137894702151,
          -0.019017976036276654,
          -0.052819658757248755,
          -0.09047128391009965,
          -0.5902995155383983,
          0.46462420642879376,
          0.08526749458108068,
          -0.39654978907383515,
          -0.10420286689580827,
          -0.5576582323444715,
          0.09977869507628567,
          0.285513024824096,
          0.015899199978753845,
          -0.3960261957164047,
          0.15118288687907563,
          -0.07116628153771673,
          0.0542932534554782,
          -0.0359179908189767,
          0.38253161996787516,
          0.1275504729240531,
          0.45809637342407955,
          0.057035903807399195,
          -0.4310764170625577,
          0.24188098817349646,
          0.28026744444791946,
          0.37006695387190447,
          -0.2537020939911979,
          -0.16833856352125004,
          -0.18543201063506504,
          0.373922974675618,
          0.4983987612816338,
          -0.22227349091562912,
          0.26020838134480423,
          -0.07069336326093398,
          1.0042214649985075,
          1.0838334703032457,
          1.1354594941731013,
          0.9961651104432652,
          1.2704763440529387,
          1.1429342307051338,
          0.8627333922269458,
          0.5126282004018216,
          0.6431215222445671,
          0.6915080058789637,
          0.5323487950596658,
          0.5561314305852165,
          0.8301237366597515,
          1.0054382871737322,
          0.5668809295753404,
          1.236801256039097,
          1.1871487420739542,
          0.5428358453350633,
          1.0643092379169754,
          0.703824359112404,
          1.1836042472798742,
          1.068854032687717,
          0.7465784160532641,
          0.5707488732076413,
          1.2731866270005976,
          0.7646099315417644,
          0.8985077131493101,
          1.1726402469266441,
          0.8164886615485049,
          1.1910244070910554,
          1.1273316787795027,
          0.964745264712234,
          0.9428770916275931,
          0.9202866981857889,
          1.0464549735860895,
          0.9518537670214174,
          0.4950759775529919,
          1.0875430548399714,
          1.2343680512763544,
          0.8359740037434443,
          0.7923442351443921,
          0.959346316073382
         ]
        },
        {
         "marker": {
          "opacity": 0.8,
          "size": 3
         },
         "mode": "markers",
         "name": "Fault 2",
         "type": "scatter3d",
         "x": [
          0.8870989176077251,
          1.0173943171190836,
          -0.04061715260492446,
          0.7879901635167867,
          0.5174112495173915,
          0.006187441907280758,
          0.6573102796195086,
          0.7887511112648579,
          0.5731425526710513,
          0.7750036468027356,
          -0.05479147647172199,
          1.1626871966001937,
          0.7594826687641205,
          0.017892522003468213,
          0.14977311527702775,
          0.9115369324919169,
          0.17085343264611141,
          0.04704064058742903,
          0.5052527074374756,
          1.2739831950213831,
          1.0104427830118758,
          1.1563041526357625,
          0.506544505988834,
          1.1785927666293003,
          0.4360850275860327,
          0.956237353177539,
          0.6811169768954155,
          0.7112856710467457,
          0.6025352020329017,
          -0.1392630615801355,
          -0.06921504139687858,
          1.281391408532788,
          0.10514540529242364,
          -0.08212804464545519,
          0.07152834445886455,
          0.3087099195517949,
          0.9263609284447042,
          0.41748327671529806,
          0.8615033320873066,
          0.3765893445952796,
          0.5424786713647286,
          -0.09070465759798348,
          0.3562074881748209,
          1.2358694989893204,
          1.1411407032520882,
          0.49659674809823073,
          0.9537554228233558,
          0.23472240227761557,
          1.274369627025226,
          0.12099586892428807,
          1.2336708920885973,
          0.03238398698724919,
          0.23622486077602114,
          1.1630784127550557,
          0.34761112875285566,
          0.5461573221010904,
          0.9263609888412208,
          0.1175453643374415,
          -0.020449706831484536,
          0.3828525010559408,
          0.5854191709563125,
          0.6005197616576718,
          0.8938621935318091,
          0.21476203882904704,
          0.6939373578124792,
          0.600225790272318,
          1.298955596727838,
          0.5354423665183131,
          -0.28584823920452374,
          1.0637067234393558,
          0.24490783834152885,
          0.44881461213079693,
          -0.17253174847139383,
          0.4247965952674628,
          0.9427534074634689,
          1.0456376519398591,
          0.8828289068792007,
          0.9324013830909181,
          0.4865323153991831,
          0.8815376689384816,
          0.7888768760065221,
          1.0270892365749336,
          0.9742458047132314,
          1.066223362149524,
          1.0070009601156507,
          1.032878823387018,
          1.135152362174281,
          0.12706211928368139,
          1.0401803501219131,
          0.5146149631409438,
          1.193440989672295,
          1.1302288888220628,
          1.114090879207631,
          1.232973682535528,
          1.1196581209707233,
          0.0730417361038062,
          0.6479019227035955,
          0.6603653882171673,
          0.08394951296561884,
          1.2565926991124718,
          0.6234662157306282,
          1.0670038117196332,
          -0.05338974180852327,
          0.7888678695969965,
          0.26140733652378817,
          0.5633819586025047,
          0.09609220152589351,
          0.29273283581377685,
          -0.222715876634286,
          0.37457837358161683,
          0.4975019609546818,
          0.26681305932871163,
          0.28820191756847446,
          0.1579741271453651,
          0.39842347765184966,
          1.0353534448981125,
          -0.21686274151986612,
          0.2414245109091899,
          0.6047382796588235,
          1.2157033701283404,
          1.3184204737505343,
          0.0010410377919317423,
          0.20251368737114173,
          0.9042969658345071,
          1.0792088681093917,
          0.858504591066266,
          0.18932730643192308,
          0.36146480005121195,
          1.1823041537552246,
          0.05024140920718481,
          0.8598695264578393,
          0.21361257998720268,
          0.9640494557375217,
          0.8972501169296715,
          1.2407146759295777,
          0.4650571088713773,
          0.6765694106740481,
          0.9866418152614806,
          0.49153196735431437,
          0.12415071878372966,
          0.1254018503862051
         ],
         "y": [
          -0.23007656505747467,
          -0.4805199815551577,
          -0.8574961362097268,
          -0.7692673600788829,
          -0.5136773368603264,
          -0.9094895073499694,
          -0.39790476889168275,
          -0.5305706919839202,
          -0.7297273637324113,
          -0.6757495220773458,
          -0.6962187860873577,
          -0.1809393455718034,
          -0.5792606184604313,
          -0.6576637242341781,
          -0.9342019172887994,
          -0.4179711900217249,
          -0.8786735710009415,
          -0.44210376927556033,
          -0.36623973010583555,
          -0.5983576020989887,
          -0.6066829732912832,
          -0.49013735286873766,
          -0.7121294586768951,
          -0.36846498219725765,
          -0.8316765418508746,
          -0.22161193698001344,
          -0.8437045787619931,
          -0.6317802817349949,
          -0.6694691106588141,
          -0.9498061065657705,
          -0.9470525576044467,
          -0.5407141737471917,
          -0.7718193479273595,
          -0.8637366920708052,
          -0.6947152202798774,
          -0.8015531095256723,
          -0.5126880901241662,
          -0.6087371057322555,
          -0.5783930356392709,
          -0.6502319126051612,
          -0.7956999221630493,
          -0.881297309958249,
          -0.6303830315719352,
          -0.375338739236591,
          -0.45378933573965585,
          -0.4132488352463068,
          -0.30024134857858414,
          -0.7990447540011569,
          -0.4189106508533596,
          -0.47005043846121725,
          -0.4984873244834897,
          -0.7526658045250109,
          -0.9028087715988861,
          -0.6221587052362781,
          -0.5972646665344978,
          -0.6126046324098788,
          -0.6548317625556802,
          -0.4542795482715592,
          -0.7495042351784538,
          -0.4364738612680977,
          -0.7063764598705903,
          -0.4492147285197528,
          -0.6951331812173324,
          -0.43740313661716335,
          -0.32354786887952425,
          -0.5331696715197729,
          -0.2660169937721663,
          -0.562325376667331,
          -0.48575356163365896,
          -0.5760206337006897,
          -0.8896554203097623,
          -0.43384018707415467,
          -0.848483213273323,
          -0.40263048487749203,
          -0.6549025954155244,
          -0.5630607461217522,
          -0.42165239251320336,
          -0.3011147710936098,
          -0.6412338105397893,
          -0.21162585854621158,
          -0.43223016965558786,
          -0.586144481801085,
          -0.44067567674394664,
          -0.588705573503688,
          -0.6017262544509895,
          -0.53118272926971,
          -0.1718081100385966,
          -0.7093052791346482,
          -0.4628136946114571,
          -0.6473803559792202,
          -0.6482083588803884,
          -0.5631685834746519,
          -0.4294321018477762,
          -0.5664718363134463,
          -0.3085903889709403,
          -0.9160043822926727,
          -0.3198690973180153,
          -0.745261658175295,
          -0.5530860705334348,
          -0.5849336467234298,
          -0.7675908595287192,
          -0.4389359150428376,
          -0.7572113869368209,
          -0.3459411006974864,
          -0.7567941819980417,
          -0.7952082035832635,
          -0.4445087255216179,
          -0.711821540997005,
          -0.7229354672318961,
          -0.8463032922411342,
          -0.5522772694266421,
          -0.5043988716837101,
          -0.7244554306829408,
          -0.9103161527602851,
          -0.5617801254397027,
          -0.5769652837624124,
          -0.6257576203060305,
          -0.6934034351687423,
          -0.3096278374612082,
          -0.6245024057660504,
          -0.6398686575694782,
          -0.6443959377634112,
          -0.9611532932966057,
          -0.2534893341694867,
          -0.6896291486067471,
          -0.5871060212723732,
          -0.4104613904581175,
          -0.5366669793211875,
          -0.5376169236731307,
          -0.9093447412915096,
          -0.45200853053547185,
          -0.8541583601972312,
          -0.7077099823015497,
          -0.44904663931819105,
          -0.6341264991137657,
          -0.476705686174947,
          -0.8426615501356804,
          -0.2745223841033864,
          -0.6654370287710274,
          -0.7616214216403216,
          -0.8087610975925892
         ],
         "z": [
          0.5502507326072692,
          0.3206293066408226,
          0.18780028842728025,
          0.413251546298397,
          0.4059456517742606,
          0.04846263973028242,
          0.30341241050056417,
          0.2638713290535035,
          0.3024941903501442,
          0.1704020207637892,
          0.22943953124358318,
          0.5833847624411056,
          0.3411386287442132,
          0.10552780687363437,
          0.13220452523471224,
          0.48226471213014094,
          0.21756886823137947,
          0.2910968815721607,
          0.48137346465614156,
          0.7032857477039263,
          0.3728477490366182,
          0.5401879452231406,
          0.3572394238550868,
          0.4722752057156282,
          0.21196790267581395,
          0.49760789044189124,
          0.3786217496733033,
          0.404133430772054,
          0.12651481682100565,
          0.003115326806501867,
          -0.021593131394304174,
          0.4560641256537763,
          0.3064204042904255,
          0.04709869162815775,
          0.10879724424362094,
          0.1979153189479551,
          0.28561823647760315,
          0.22812687806820595,
          0.4369793561590966,
          0.20666137319223687,
          0.2535025876013175,
          -0.006435351279135831,
          0.21668687429869116,
          0.4908035192530748,
          0.4179901979944152,
          0.3146160808345275,
          0.3426278809005637,
          0.31588297256520975,
          0.38575094299268,
          0.4157067465746468,
          0.4114006171308739,
          0.14483362660258947,
          0.06024608473820496,
          0.49385181259501026,
          0.4353627065460576,
          0.30096892407182024,
          0.3822267261176172,
          0.18082269201601758,
          0.04549341728084064,
          0.2660112555733955,
          0.2937300843780784,
          0.44962626091885616,
          0.3880510829223065,
          0.20285861823753312,
          0.32431760025510536,
          0.31451400400624857,
          0.48611763482598785,
          0.3876866153998726,
          0.140251821686544,
          0.3612083125221415,
          0.2967909228443145,
          0.2994494619400209,
          0.02292088462374428,
          0.32951112558684786,
          0.49282795819797964,
          0.3399879842182293,
          0.39401543259348315,
          0.5951323708836332,
          0.32402624269277647,
          0.40869450308510435,
          0.3203722817993701,
          0.4407379330020813,
          0.3833044283852153,
          0.41338346420416483,
          0.49166078037605687,
          0.3781739192787451,
          0.6091915356434974,
          0.12652503874213705,
          0.45086845962023675,
          0.1890695448330992,
          0.3786371431734385,
          0.40040523615670476,
          0.363046362861685,
          0.38163961235335075,
          0.4510190670019814,
          0.05197985173279539,
          0.42334635687115724,
          0.22476610185225948,
          0.11700534126695872,
          0.3731263673739804,
          0.281455513172883,
          0.38298029950458606,
          0.11690781725372774,
          0.5113053382873667,
          0.23119639947085002,
          0.3476452871732767,
          0.017525836466497136,
          0.3663040285301258,
          0.24107341976326618,
          0.039308957335765976,
          0.3198971195478867,
          0.30359855468330826,
          0.20232692240565917,
          0.08031762436363293,
          0.27225371022351,
          0.4339426439789798,
          0.151820303450204,
          0.25612903079666255,
          0.33238479422230294,
          0.5166579162399991,
          0.4668698496976801,
          0.22670915613334675,
          0.25714179254431935,
          0.46037750051388227,
          0.3685181403990758,
          0.3100128674751087,
          0.16395611662993465,
          0.19145929842633203,
          0.40754966607231347,
          -0.12258622641650183,
          0.38097253481286114,
          0.17359062116105883,
          0.33552140475222475,
          0.4420743969091608,
          0.5658076551256099,
          0.45188366729144064,
          0.3290118690957385,
          0.6148897454602841,
          0.30416698535961645,
          0.4122958983173957,
          0.19722615313963898
         ]
        },
        {
         "marker": {
          "opacity": 0.8,
          "size": 3
         },
         "mode": "markers",
         "name": "Fault 3",
         "type": "scatter3d",
         "x": [
          1.551043703486161,
          1.0553372606513345,
          1.3916154739473972,
          1.3174787622919304,
          1.3746887346533285,
          0.024744335256276395,
          0.9949645018992304,
          1.3171901008954272,
          1.2799068973431034,
          0.22791934338067774,
          1.3109718664006922,
          1.222734572524412,
          1.3544813446830404,
          0.8394067958000359,
          0.8607321596314611,
          1.1894339308853235,
          0.9989770357325798,
          0.45211315679658926,
          1.1543692238448753,
          0.34374760563752366,
          0.8638883813572955,
          0.42650757811069523,
          0.1964829848817762,
          1.1126076777130234,
          1.264178699175846,
          0.36792889921119604,
          0.7493937399960672,
          0.4599090378924802,
          1.503916092410983,
          0.9576967754290916,
          1.4512834936195256,
          0.5985098421191769,
          0.6085284520419333,
          0.66699391229611,
          0.1215315151565913,
          1.399444304730572,
          0.7069323538827643,
          1.196488584181542,
          0.9088752144306831,
          1.2642662457459921,
          0.9314789839631256,
          0.28627464867730235,
          1.0241382864358775,
          0.7303202732518362,
          1.3847105071636479,
          1.3798363526188377,
          0.09904537908506578,
          0.31285417541948235,
          0.43099916967039453,
          0.27240703465072086,
          1.0864286488454316,
          0.4897865660156998,
          1.4435852684485055,
          1.3489493102093468,
          1.4587686769563155,
          0.10975706891778483,
          1.0823215718095986,
          1.5516586573466444,
          0.24550959306013762,
          0.10492675748080268,
          0.48073099687610543,
          1.3480908553886621,
          0.2852704166959299,
          0.8377956617706035,
          0.8187911857326625,
          0.27889354905884167,
          0.06259655469421092,
          0.11700894213943851,
          0.9756107683451376,
          0.6897615538978804,
          1.0281571083416214,
          1.361749476678695,
          1.330282714976742,
          0.05777647833655247,
          0.2980746211955519,
          0.08590767278088393,
          0.5701391406099099,
          1.0131381412375042,
          1.3748437410755203,
          0.2568426031853078,
          0.5324903662889025,
          0.5097868944429633,
          1.341605721455835,
          0.31994130309774715,
          0.2675336036012383,
          1.3369601221025167,
          0.3441667928665352,
          0.5150373772921506,
          0.06814652266882536,
          0.13785859415680446,
          0.14565200531193415,
          0.6601080907314357,
          0.28968576844189947,
          1.2441699984354102,
          0.33709738463065064,
          -0.04459498964962749,
          0.012505174824951497,
          0.6595577976066597,
          0.9306511057175572,
          1.429561749688379,
          0.6595993829697563,
          0.019530015448072945,
          0.10664055897037436,
          0.5784678294058029,
          1.0715506771735401,
          0.6897957855737069,
          0.5777926961822475,
          0.11724877059153267,
          1.4012915578136258,
          0.40472162401937817,
          0.9963405456958555,
          1.3623280131060236,
          0.20351177724995861,
          0.005628642682776608,
          1.287850734300572,
          0.6457954426943775,
          0.15833192742750113,
          0.33902781022193806,
          -0.0021052577054128316,
          0.3433130214411907,
          1.2950675958595717,
          0.8117613117665474,
          1.1080864829423944,
          0.2984191665905414,
          0.3197302555557668,
          -0.012379546295253972,
          0.8315775176239631,
          0.7366190481102572,
          0.6509358062494411,
          1.3638210133176498,
          1.2702787748014146,
          0.12581329982895936,
          0.2184821257883823,
          1.1602077875708072,
          1.1082832465376444,
          1.2284671606575894,
          0.2818475815484368,
          0.7269449198888649,
          0.6398079626074072,
          1.467329334904648,
          0.929327050220795
         ],
         "y": [
          -0.4540055239653905,
          -0.10688451377600892,
          0.07194550280372941,
          -0.19442330116608686,
          0.06870023487906429,
          -0.5933913804610338,
          -0.5613688410073813,
          -0.18307022738144696,
          -0.34364454069595357,
          -0.6893237009155884,
          -0.10030535862540978,
          0.0000780133923519756,
          0.02114149497715535,
          -0.13139214032446334,
          -0.07993926952260548,
          -0.49379525143996134,
          -0.2947505477912783,
          -0.5736038709960845,
          -0.10365601456358718,
          -0.31827685787280124,
          -0.22701208523935978,
          -0.37963112738971777,
          -0.4920156487179331,
          -0.055556177507670085,
          -0.037117930834878556,
          -0.5286096287827562,
          -0.09221233129929594,
          -0.5085859839594498,
          -0.46099844559023034,
          -0.339715840729102,
          -0.16155279738807599,
          -0.5209164773660869,
          -0.16120866020593297,
          -0.11988645611093639,
          -0.7607410694539916,
          -0.3881484654862656,
          -0.45349194068670945,
          -0.2648037843671014,
          -0.48590752606843823,
          -0.3391350393652133,
          -0.29222838951112984,
          -0.6176338388972898,
          -0.07411683043445208,
          -0.5144898974002496,
          -0.1084427459771684,
          -0.006573025463848584,
          -0.3792678318319403,
          -0.6243952103027661,
          -0.5939680113002352,
          -0.68572813385281,
          -0.48129743530282454,
          -0.19243790018082385,
          -0.267385159640389,
          -0.4316738265557586,
          -0.27795641965785983,
          -0.5376409978715332,
          -0.1947913145175059,
          -0.2804557369302681,
          -0.2796667385156174,
          -0.6852704916423701,
          -0.5454986379565055,
          0.05025031044503598,
          -0.349084449760396,
          -0.4205712145661542,
          -0.2451020015556296,
          -0.7421489431117694,
          -0.5753259407305732,
          -0.5794019000901487,
          -0.5312794297059342,
          -0.4914177285624112,
          -0.5870482319796412,
          -0.5095850282412278,
          -0.08275667745497464,
          -0.3095190657682589,
          -0.2326989450411338,
          -0.27965503952746856,
          -0.6657815112865749,
          -0.17124680330753242,
          -0.04002635040790737,
          -0.4710496258678903,
          -0.34135694859766796,
          -0.2598160157186764,
          -0.28134384367751364,
          -0.6400718442067861,
          -0.49202677285444174,
          -0.2642599318086233,
          -0.6142476477062154,
          -0.32087589001021416,
          -0.58089313373506,
          -0.46145094669366393,
          -0.5901652674175585,
          -0.26173928998678153,
          -0.592782115844441,
          0.022991926813757575,
          -0.7153477872565517,
          -0.48130952722810894,
          -0.6204658876457722,
          -0.15952297722424982,
          -0.52161021815359,
          -0.1474120219921714,
          -0.23289030792645862,
          -0.43914865414433063,
          -0.6670086748629127,
          -0.3439080338887796,
          -0.12035400342758085,
          -0.10951828085020195,
          -0.25249549720457665,
          -0.6796951885698616,
          -0.018677661058590443,
          -0.5559196384993674,
          -0.4499470059477717,
          -0.2989237946964942,
          -0.5098736295639237,
          -0.3740622850478959,
          -0.2896045698051648,
          -0.5145040197292872,
          -0.5861892581640116,
          -0.2871752982481004,
          -0.45601016943717293,
          -0.6001490062622735,
          -0.5322303684925211,
          -0.1307914630005678,
          -0.09336692492230574,
          -0.40236305516649506,
          -0.4383104432744529,
          -0.5665786578448493,
          -0.47722621117250535,
          -0.11281844012308427,
          -0.1900589460351134,
          -0.15399052037066752,
          0.009416078260186388,
          -0.2721189777801173,
          -0.5208003036532166,
          -0.5166225619394047,
          -0.5081063997415871,
          -0.07216970393655957,
          -0.3675786306904776,
          -0.12964993140111086,
          -0.18641328544427585,
          -0.4022600210494129,
          -0.3401563030023766
         ],
         "z": [
          -0.4804428527162631,
          -0.6106855299879818,
          -0.4358393939470625,
          -0.5318953980417663,
          -0.4749450440302837,
          -0.8528986339993989,
          -0.36982321532548995,
          -0.48688184920966016,
          -0.49786636179333416,
          -0.7896531397647819,
          -0.4733747787353854,
          -0.31476122560571373,
          -0.499449425444328,
          -0.5721575423986566,
          -0.49259773732239814,
          -0.6154674921040003,
          -0.5670255181578117,
          -0.7718423807887747,
          -0.5129646070890164,
          -0.7339402118526062,
          -0.5845968611037475,
          -0.6667066103725797,
          -0.8589718103828852,
          -0.3931136623802848,
          -0.3639513157116298,
          -0.7720208098859166,
          -0.681930984568113,
          -0.6448048670316793,
          -0.5192513592370297,
          -0.5801797311121281,
          -0.4573071987210751,
          -0.6546156074599823,
          -0.6328664949806669,
          -0.5669454081527857,
          -0.8876152949006129,
          -0.4916655907917346,
          -0.638883793431869,
          -0.45834360970367266,
          -0.6983892609562901,
          -0.4842843640167538,
          -0.6157470042795362,
          -0.8455766484692587,
          -0.4696276490857553,
          -0.7381606586939131,
          -0.5155858586926868,
          -0.32445811263396507,
          -0.7940106541828518,
          -0.7617480105077571,
          -0.7246812649503469,
          -0.7638611946702034,
          -0.6504756451577696,
          -0.6519551408722556,
          -0.5294250868740732,
          -0.5713132337442092,
          -0.5813364645272859,
          -0.8369800816512089,
          -0.4578719934343045,
          -0.4931013487764667,
          -0.7281582428629926,
          -0.7360411363606914,
          -0.47274592429688445,
          -0.5474911519975383,
          -0.7371406569289921,
          -0.7124153368404909,
          -0.7212780647731563,
          -0.7372412752879393,
          -0.9960633455971787,
          -0.8732466493516656,
          -0.7322418360732862,
          -0.7540520315659057,
          -0.6215953747982157,
          -0.46248697609390854,
          -0.46812815568309,
          -0.6874681275427701,
          -0.8248446043895264,
          -0.6994788351451859,
          -0.7046460484629554,
          -0.5689561840904234,
          -0.4267424935450597,
          -0.46812142373466736,
          -0.7099706495349922,
          -0.6426746617040923,
          -0.6356135541901478,
          -0.8076992200735712,
          -0.6720605888608435,
          -0.44518666569449716,
          -0.6587414843329018,
          -0.6882855550577136,
          -0.8970993384467773,
          -0.7138836567358431,
          -0.8657113105281595,
          -0.6957841379603648,
          -0.7539794819447523,
          -0.4112193862830285,
          -0.6464277829144569,
          -0.7022043037064987,
          -0.6460947029002944,
          -0.6603986189124187,
          -0.6871060300278572,
          -0.5022146934133573,
          -0.5910852045039892,
          -0.7832857878488508,
          -0.8366171137308078,
          -0.6539163836122184,
          -0.7370210183254593,
          -0.6455327942041729,
          -0.5891770845446151,
          -0.8915380597123018,
          -0.48432889018258374,
          -0.5161538807484995,
          -0.6607780170829404,
          -0.5005123978167055,
          -0.9583554138262006,
          -0.7939718939234793,
          -0.4394912971408389,
          -0.5931311258821396,
          -0.9469880889493565,
          -0.5461853159338196,
          -0.8692155831951017,
          -0.7219677450449191,
          -0.538342890840039,
          -0.5063738984010338,
          -0.5161927172715572,
          -0.7963273305400346,
          -0.891452938475632,
          -0.7545139482265684,
          -0.7508471154068087,
          -0.5678499825401628,
          -0.7349884002059496,
          -0.3449826969315205,
          -0.6026991046369357,
          -0.700337874087668,
          -0.8138462764654367,
          -0.5569654752599545,
          -0.6884550768532405,
          -0.3991889941494358,
          -0.786958842301878,
          -0.5715859210111534,
          -0.5819351938916655,
          -0.4359007765502212,
          -0.5391437910784044
         ]
        },
        {
         "marker": {
          "opacity": 0.8,
          "size": 3
         },
         "mode": "markers",
         "name": "Fault 4",
         "type": "scatter3d",
         "x": [
          0.8204856264758174,
          0.4320424851965233,
          0.42046509691326533,
          0.6026047703320916,
          0.4863927179015609,
          0.5906078319293881,
          0.526033634463064,
          0.42563459636312495,
          0.6041027459714448,
          0.4979564141480585,
          0.571726640414456,
          0.4753397020457981,
          0.7134582007539947,
          0.5815497281924252,
          0.44036998364076274,
          0.5498822592623528,
          0.6981375492883971,
          0.6737820162791495,
          0.515141455516123,
          0.6398336096604906,
          0.5125299098249867,
          0.6987082408813534,
          0.34417085173378037,
          0.8150457110976809,
          0.5106305051577471,
          0.5059154489265956,
          0.7023653070675052,
          0.45298394524738705,
          0.6370935057156932,
          0.49135722202528276,
          0.42675741464196515,
          0.6089644393811707,
          0.5112604627797196,
          0.9180630371203814,
          0.7885404659087037,
          0.5141082945538907,
          0.5223101753448312,
          0.8227800948474459,
          0.8579661242751637,
          0.4904707302358904,
          0.8763902564814481,
          0.7139246010830209,
          0.6789407241916642,
          0.7734295303522446,
          0.5093511242007422,
          0.5142337793680155,
          0.6910565611604977
         ],
         "y": [
          -0.30035059670520536,
          -0.6854698203309844,
          -0.5899520162462232,
          -0.5715907242185817,
          -0.5926024428044533,
          -0.4187240093045665,
          -0.5436186019476351,
          -0.6173680966280921,
          -0.6033948986586671,
          -0.5417893276836975,
          -0.649112324953095,
          -0.6656432871853606,
          -0.41108483977957694,
          -0.45581667674810045,
          -0.6960843537019059,
          -0.6057349575112766,
          -0.3743549989727614,
          -0.40962786725329686,
          -0.4697570321857474,
          -0.45569864574887514,
          -0.611478585842588,
          -0.5117806173245795,
          -0.5317750114726962,
          -0.31594582646064867,
          -0.6390075674476425,
          -0.6987760112833193,
          -0.351827905508213,
          -0.49869550629688564,
          -0.4232331739091239,
          -0.4883844856170703,
          -0.5920920551672625,
          -0.6059486075187174,
          -0.4526529500739489,
          -0.4216129594562709,
          -0.49470110978366144,
          -0.44862913783097164,
          -0.5103851275516114,
          -0.2689852757744462,
          -0.42580563437919955,
          -0.6226348063264089,
          -0.3517136220436606,
          -0.40371779317848205,
          -0.5848800038678054,
          -0.3161122306868609,
          -0.689648762537042,
          -0.6877585641965066,
          -0.3411497135884751
         ],
         "z": [
          -0.5271081348211667,
          0.38897968232468305,
          0.30908601827801335,
          -0.12194371021128467,
          0.1494561448307797,
          0.06644592915608935,
          0.09407733536074363,
          0.3805731676339433,
          0.011246178003129177,
          0.04129856893437286,
          0.08362917082947854,
          0.29868539108329484,
          -0.2353276689029784,
          0.027159065499951167,
          0.29782739137194997,
          0.024640945983044626,
          -0.2694360363019474,
          -0.2868921952461333,
          0.2090033150252121,
          -0.23597745620874322,
          0.06305134104127119,
          -0.29890881834868,
          0.3307745388937924,
          -0.5606155838203054,
          0.11858341060104283,
          0.30677503891038865,
          -0.3103676207172237,
          0.35055395935315986,
          -0.166752413296416,
          0.03828751406802883,
          0.3817627652015299,
          -0.04866361187662038,
          0.15256647460132103,
          -0.6351998631137763,
          -0.435692321378922,
          0.19283545244259778,
          0.1370367226224878,
          -0.702315322973734,
          -0.6060817081129392,
          0.35253897215340285,
          -0.5262986741122272,
          -0.4292469936205332,
          -0.04577218650022275,
          -0.40144849957250667,
          0.35897339475995493,
          0.2912111946843525,
          -0.2619522044895292
         ]
        },
        {
         "marker": {
          "opacity": 0.8,
          "size": 3
         },
         "mode": "markers",
         "name": "Fault 5",
         "type": "scatter3d",
         "x": [
          0.5546332129526301,
          0.23665641973266757,
          0.3394959812449978,
          0.09841029170540441,
          0.09959513801844391,
          0.361121371446255,
          0.5801613091931535,
          0.16651036763586652,
          0.2670100202589337,
          0.2652935760002032,
          0.09798036010332939,
          0.40593653505453603,
          0.47616068221354824,
          0.36850773650303237,
          0.1957920065485837,
          0.3605118087972258,
          0.1368029922129279,
          0.15339267135774887,
          0.5747022028941418,
          0.18194577249650606,
          0.5248591353625275,
          0.5743079558536789,
          0.4365518420698421,
          0.17088064780664367,
          0.2350431488483425,
          0.3137663866260595,
          0.565734939000885,
          0.3716396692180052,
          0.38459432383896625,
          0.33929588987340914,
          0.19009745646959422,
          0.45127602519770527,
          0.4227984906254309,
          0.2816458504938483,
          0.5220119543957266,
          0.4821834744766514,
          0.260315807746744,
          0.45689742309616044,
          0.5196058996004503,
          0.16775434231277322,
          0.38724661511568054,
          0.2044785955595241,
          0.544053153319335,
          0.6300807917019481,
          0.07624758913550378,
          0.3835504768824604,
          0.5459806520990458
         ],
         "y": [
          -0.3691460210402953,
          -0.5062907303139231,
          -0.426078147933944,
          -0.6245597129454843,
          -0.5898581640120237,
          -0.516099024381542,
          -0.40517899681062625,
          -0.725149604290101,
          -0.5635553076956445,
          -0.7155723479539224,
          -0.642453671930338,
          -0.523580564212336,
          -0.6030380607353675,
          -0.5064832040367793,
          -0.5918725377830392,
          -0.6308576514398394,
          -0.6594054328418341,
          -0.6453836111632962,
          -0.43037732322836453,
          -0.7001059165049281,
          -0.35956287543331333,
          -0.4860191290505373,
          -0.5369504269807933,
          -0.7293408427088299,
          -0.6891781456569078,
          -0.57995510712012,
          -0.5008169893472844,
          -0.5236931239819012,
          -0.6477790253568814,
          -0.5270974194867071,
          -0.773074626230859,
          -0.5206232720894606,
          -0.39970604036121465,
          -0.6988722908567732,
          -0.4754938329256204,
          -0.35141469011856,
          -0.5099978499261357,
          -0.6018192503912442,
          -0.45466937430434934,
          -0.749615115467651,
          -0.5519958091400818,
          -0.5119914049027836,
          -0.3865287924404879,
          -0.41357843265565036,
          -0.643764673781578,
          -0.48359202692540276,
          -0.36772398447798377
         ],
         "z": [
          -0.7647690492440316,
          0.02819456296468532,
          -0.2959489152334848,
          0.22832839786606626,
          0.2856287294814712,
          -0.2756323712904913,
          -0.7383776282295352,
          0.20253675289499173,
          -0.01192688615670077,
          -0.08800719203202538,
          0.2635199806186502,
          -0.36175090441011776,
          -0.42318117997173776,
          -0.2974728803431586,
          0.14067497070638985,
          -0.17739421370483552,
          0.19976327668804375,
          0.1918060089532923,
          -0.7773718250081583,
          0.10284824449362553,
          -0.6216128790491996,
          -0.7149680973823402,
          -0.5093575177916415,
          0.19481971769002956,
          0.12085459173304461,
          -0.25620064004414006,
          -0.7592616147243395,
          -0.2648227711165847,
          -0.26971159604529743,
          -0.18882477336297712,
          0.16497300767120046,
          -0.3756608564471977,
          -0.6162236249602449,
          -0.007110803429960664,
          -0.5903116028906533,
          -0.662312857190257,
          -0.19178422282299878,
          -0.36326819260369325,
          -0.5799147158231192,
          0.1852604062732293,
          -0.4508913429150657,
          0.05937266792351904,
          -0.8176996899790652,
          -0.7772595418011983,
          0.2918165980733567,
          -0.2688513959753545,
          -0.6359047077175981
         ]
        },
        {
         "marker": {
          "opacity": 0.8,
          "size": 3
         },
         "mode": "markers",
         "name": "Fault 6",
         "type": "scatter3d",
         "x": [
          1.0298682932809342,
          0.7640237994056319,
          0.9081204949377901,
          0.8649886923775877,
          1.1447355722306538,
          0.7973414522851683,
          1.0718002937755033,
          1.1996663194595245,
          0.8433470948734866,
          0.702333085392454,
          0.9177107175159671,
          0.919850732577818,
          0.9448378619179005,
          1.0494026702083672,
          1.0659977620161092,
          0.7026206620840003,
          1.0274994042454417,
          0.9287264129220487,
          1.1641725956496478,
          0.9391653480866685,
          1.0663632781523014,
          1.1956481826704977,
          1.0469820484485861,
          0.8206699018484442,
          1.1036512504470193,
          1.0606216135713675,
          1.1894100099593503,
          0.8888855224405932,
          1.1471434431949734,
          0.9872742211275405,
          0.9329840353116762,
          1.1238943732202813,
          0.8687868006345003,
          1.157256060132583,
          1.1692400434822923,
          0.9068136485542505,
          0.6854272051145023,
          1.0308115544354324,
          0.8531418643963165,
          0.813877307777522,
          1.0285397419102718,
          0.7913460580994239,
          1.1243866763791621,
          0.8956122817328248,
          0.8313933070479951,
          0.857209507628686,
          1.050358117427454
         ],
         "y": [
          -0.24984296744331397,
          -0.5474716109457581,
          -0.31517917734095974,
          -0.3391524057011672,
          -0.2898442987840294,
          -0.5493728941098498,
          -0.3585503207771662,
          -0.34254482791457574,
          -0.4485554796343576,
          -0.4418723732613483,
          -0.31141640919271096,
          -0.3945344605149416,
          -0.3002895105802586,
          -0.34508586641898337,
          -0.3063333389437481,
          -0.4821673190125219,
          -0.4006546169984287,
          -0.3056560836429716,
          -0.1604219702692022,
          -0.2692595245439057,
          -0.32983564826725764,
          -0.18339179448006918,
          -0.41733612813650833,
          -0.5945239969668883,
          -0.2437033650482367,
          -0.3340192406640281,
          -0.19237428099229226,
          -0.5321602181264347,
          -0.3995810912382094,
          -0.47035254342072136,
          -0.5216765755767331,
          -0.2874611240670456,
          -0.4669866036591582,
          -0.40509766765992633,
          -0.3944352184850524,
          -0.5178444640290697,
          -0.6393272760283683,
          -0.234538400987546,
          -0.42195359295602386,
          -0.48013680560864413,
          -0.4777793456748717,
          -0.3924867588796851,
          -0.2410278537385183,
          -0.42231149539714646,
          -0.443920273982185,
          -0.392399825720052,
          -0.21421847011035464
         ],
         "z": [
          -0.4078911376412825,
          0.3794704341709678,
          -0.023732544132656803,
          0.11367409385103491,
          -0.44202349361605986,
          0.3526171844701828,
          -0.4000528887488314,
          -0.5331800237139364,
          0.1577552638104224,
          0.4869613312432623,
          -0.011494385143613315,
          0.029755713193524564,
          -0.19242136888030809,
          -0.05435049110682373,
          -0.34954734067498616,
          0.3416745278307219,
          -0.07833257854542494,
          -0.07346485336518856,
          -0.6089540244291903,
          -0.16530085698058433,
          -0.3282813966933074,
          -0.6093827414281632,
          -0.18977046635134143,
          0.2770443305158582,
          -0.4365757310094424,
          -0.3889349007922985,
          -0.6128020823879484,
          0.05997074427400993,
          -0.397805654956783,
          -0.019370235637922534,
          0.03441807709930566,
          -0.41305864034812945,
          0.12590867829085667,
          -0.4299371940417274,
          -0.4974572135100645,
          0.13350918039964504,
          0.44294010290939373,
          -0.23377911593623868,
          0.1121358543550622,
          0.22331426559252524,
          -0.10447918104451978,
          0.27692043918948356,
          -0.446675325922977,
          -0.00893106380804694,
          0.15159670184333884,
          0.2138988483953116,
          -0.3396710430095114
         ]
        },
        {
         "color": "blue",
         "i": [
          0,
          1,
          2,
          0
         ],
         "j": [
          1,
          2,
          3,
          4
         ],
         "k": [
          2,
          3,
          4,
          0
         ],
         "opacity": 0.2,
         "type": "mesh3d",
         "x": [
          -0.05659924788505745,
          0.5775145175729057,
          0.39001430711576135,
          -0.2440994583422018,
          -0.05659924788505745
         ],
         "y": [
          0.36416444076228804,
          0.5939283324945962,
          1.1430931909555277,
          0.9133292992232197,
          0.36416444076228804
         ],
         "z": [
          -0.5626826886902467,
          0.49904111269395574,
          0.4921826523335758,
          -0.5695411490506268,
          -0.5626826886902467
         ]
        },
        {
         "line": {
          "color": "red",
          "width": 3
         },
         "mode": "lines",
         "type": "scatter3d",
         "x": [
          0.16670752961535196,
          0.48376441234433354
         ],
         "y": [
          0.753628815858908,
          0.868510761725062
         ],
         "z": [
          -0.03525001817833551,
          0.49561188251376576
         ]
        },
        {
         "line": {
          "color": "green",
          "width": 3
         },
         "mode": "lines",
         "type": "scatter3d",
         "x": [
          0.16670752961535196,
          0.07295742438677978
         ],
         "y": [
          0.753628815858908,
          1.028211245089374
         ],
         "z": [
          -0.03525001817833551,
          -0.03867924835852549
         ]
        },
        {
         "color": "blue",
         "i": [
          0,
          1,
          2,
          0
         ],
         "j": [
          1,
          2,
          3,
          4
         ],
         "k": [
          2,
          3,
          4,
          0
         ],
         "opacity": 0.2,
         "type": "mesh3d",
         "x": [
          0.542035879048828,
          0.5868153382366118,
          0.47027240482762284,
          0.42549294563983897,
          0.542035879048828
         ],
         "y": [
          0.6978408638776739,
          0.7228728684720949,
          1.0642126641668712,
          1.0391806595724502,
          0.6978408638776739
         ],
         "z": [
          0.4977433603588283,
          1.2778804402683557,
          1.2736174845782307,
          0.4934804046687032,
          0.4977433603588283
         ]
        },
        {
         "line": {
          "color": "red",
          "width": 3
         },
         "mode": "lines",
         "type": "scatter3d",
         "x": [
          0.5061541419382254,
          0.5285438715321173
         ],
         "y": [
          0.8810267640222725,
          0.893542766319483
         ],
         "z": [
          0.8856804224685294,
          1.2757489624232932
         ]
        },
        {
         "line": {
          "color": "green",
          "width": 3
         },
         "mode": "lines",
         "type": "scatter3d",
         "x": [
          0.5061541419382254,
          0.4478826752337309
         ],
         "y": [
          0.8810267640222725,
          1.0516966618696606
         ],
         "z": [
          0.8856804224685294,
          0.8835489446234668
         ]
        },
        {
         "color": "blue",
         "i": [
          0,
          1,
          2,
          0
         ],
         "j": [
          1,
          2,
          3,
          4
         ],
         "k": [
          2,
          3,
          4,
          0
         ],
         "opacity": 0.2,
         "type": "mesh3d",
         "x": [
          -0.293024582681603,
          1.247913293660097,
          1.4000336753237936,
          -0.1409042010179064,
          -0.293024582681603
         ],
         "y": [
          -0.48152056769847057,
          -0.11906766184373874,
          -0.6667745463146925,
          -1.0292274521694242,
          -0.48152056769847057
         ],
         "z": [
          0.14731761373197103,
          0.5605958934300176,
          0.4737534248100147,
          0.06047514511196814,
          0.14731761373197103
         ]
        },
        {
         "line": {
          "color": "red",
          "width": 3
         },
         "mode": "lines",
         "type": "scatter3d",
         "x": [
          0.5535045463210952,
          1.3239734844919453
         ],
         "y": [
          -0.5741475570065815,
          -0.3929211040792156
         ],
         "z": [
          0.3105355192709929,
          0.5171746591200161
         ]
        },
        {
         "line": {
          "color": "green",
          "width": 3
         },
         "mode": "lines",
         "type": "scatter3d",
         "x": [
          0.5535045463210952,
          0.6295647371529436
         ],
         "y": [
          -0.5741475570065815,
          -0.8480009992420583
         ],
         "z": [
          0.3105355192709929,
          0.26711428496099143
         ]
        },
        {
         "color": "blue",
         "i": [
          0,
          1,
          2,
          0
         ],
         "j": [
          1,
          2,
          3,
          4
         ],
         "k": [
          2,
          3,
          4,
          0
         ],
         "opacity": 0.2,
         "type": "mesh3d",
         "x": [
          -0.0886851404433015,
          1.4522527358983983,
          1.604373117562095,
          0.06343524122039507,
          -0.0886851404433015
         ],
         "y": [
          -0.2752855188480032,
          0.08716738700672855,
          -0.4605394974642252,
          -0.8229924033189568,
          -0.2752855188480032
         ],
         "z": [
          -0.7954487934577599,
          -0.38217051375971334,
          -0.4690129823797162,
          -0.8822912620777628,
          -0.7954487934577599
         ]
        },
        {
         "line": {
          "color": "red",
          "width": 3
         },
         "mode": "lines",
         "type": "scatter3d",
         "x": [
          0.7578439885593967,
          1.5283129267302467
         ],
         "y": [
          -0.3679125081561142,
          -0.18668605522874832
         ],
         "z": [
          -0.632230887918738,
          -0.4255917480697148
         ]
        },
        {
         "line": {
          "color": "green",
          "width": 3
         },
         "mode": "lines",
         "type": "scatter3d",
         "x": [
          0.7578439885593967,
          0.833904179391245
         ],
         "y": [
          -0.3679125081561142,
          -0.6417659503915911
         ],
         "z": [
          -0.632230887918738,
          -0.6756521222287395
         ]
        },
        {
         "color": "blue",
         "i": [
          0,
          1,
          2,
          0
         ],
         "j": [
          1,
          2,
          3,
          4
         ],
         "k": [
          2,
          3,
          4,
          0
         ],
         "opacity": 0.2,
         "type": "mesh3d",
         "x": [
          0.37573108777710795,
          0.8703778743917824,
          0.9356174471033841,
          0.4409706604887097,
          0.37573108777710795
         ],
         "y": [
          -0.512620146109784,
          -0.19454593099361756,
          -0.42943991905291173,
          -0.7475141341690782,
          -0.512620146109784
         ],
         "z": [
          0.427573732942402,
          -0.7120251406953149,
          -0.7492691015901471,
          0.3903297720475698,
          0.427573732942402
         ]
        },
        {
         "line": {
          "color": "red",
          "width": 3
         },
         "mode": "lines",
         "type": "scatter3d",
         "x": [
          0.655674267440246,
          0.9029976607475833
         ],
         "y": [
          -0.47103003258134785,
          -0.31199292502326464
         ],
         "z": [
          -0.1608476843238726,
          -0.730647121142731
         ]
        },
        {
         "line": {
          "color": "green",
          "width": 3
         },
         "mode": "lines",
         "type": "scatter3d",
         "x": [
          0.655674267440246,
          0.6882940537960469
         ],
         "y": [
          -0.47103003258134785,
          -0.588477026610995
         ],
         "z": [
          -0.1608476843238726,
          -0.1794696647712887
         ]
        },
        {
         "color": "blue",
         "i": [
          0,
          1,
          2,
          0
         ],
         "j": [
          1,
          2,
          3,
          4
         ],
         "k": [
          2,
          3,
          4,
          0
         ],
         "opacity": 0.2,
         "type": "mesh3d",
         "x": [
          0.06754351250876803,
          0.5621902991234424,
          0.6274298718350442,
          0.13278308522036972,
          0.06754351250876803
         ],
         "y": [
          -0.5851107272807303,
          -0.2670365121645639,
          -0.5019305002238581,
          -0.8200047153400245,
          -0.5851107272807303
         ],
         "z": [
          0.34491807700279264,
          -0.7946807966349243,
          -0.8319247575297566,
          0.30767411610796047,
          0.34491807700279264
         ]
        },
        {
         "line": {
          "color": "red",
          "width": 3
         },
         "mode": "lines",
         "type": "scatter3d",
         "x": [
          0.3474866921719061,
          0.5948100854792433
         ],
         "y": [
          -0.5435206137522942,
          -0.384483506194211
         ],
         "z": [
          -0.24350334026348192,
          -0.8133027770823404
         ]
        },
        {
         "line": {
          "color": "green",
          "width": 3
         },
         "mode": "lines",
         "type": "scatter3d",
         "x": [
          0.3474866921719061,
          0.38010647852770696
         ],
         "y": [
          -0.5435206137522942,
          -0.6609676077819413
         ],
         "z": [
          -0.24350334026348192,
          -0.262125320710898
         ]
        },
        {
         "color": "blue",
         "i": [
          0,
          1,
          2,
          0
         ],
         "j": [
          1,
          2,
          3,
          4
         ],
         "k": [
          2,
          3,
          4,
          0
         ],
         "opacity": 0.2,
         "type": "mesh3d",
         "x": [
          0.6839186630454479,
          1.1785654496601223,
          1.243805022371724,
          0.7491582357570497,
          0.6839186630454479
         ],
         "y": [
          -0.4401295649388376,
          -0.12205534982267117,
          -0.35694933788196537,
          -0.6750235529981318,
          -0.4401295649388376
         ],
         "z": [
          0.5102293888820113,
          -0.6293694847557056,
          -0.6666134456505379,
          0.47298542798717913,
          0.5102293888820113
         ]
        },
        {
         "line": {
          "color": "red",
          "width": 3
         },
         "mode": "lines",
         "type": "scatter3d",
         "x": [
          0.963861842708586,
          1.2111852360159232
         ],
         "y": [
          -0.3985394514104015,
          -0.23950234385231828
         ],
         "z": [
          -0.07819202838426327,
          -0.6479914652031218
         ]
        },
        {
         "line": {
          "color": "green",
          "width": 3
         },
         "mode": "lines",
         "type": "scatter3d",
         "x": [
          0.963861842708586,
          0.9964816290643869
         ],
         "y": [
          -0.3985394514104015,
          -0.5159864454400486
         ],
         "z": [
          -0.07819202838426327,
          -0.09681400883167939
         ]
        }
       ],
       "layout": {
        "scene": {
         "xaxis": {
          "title": {
           "text": "X"
          }
         },
         "yaxis": {
          "title": {
           "text": "Y"
          }
         },
         "zaxis": {
          "title": {
           "text": "Z"
          }
         }
        },
        "template": {
         "data": {
          "bar": [
           {
            "error_x": {
             "color": "#2a3f5f"
            },
            "error_y": {
             "color": "#2a3f5f"
            },
            "marker": {
             "line": {
              "color": "#E5ECF6",
              "width": 0.5
             },
             "pattern": {
              "fillmode": "overlay",
              "size": 10,
              "solidity": 0.2
             }
            },
            "type": "bar"
           }
          ],
          "barpolar": [
           {
            "marker": {
             "line": {
              "color": "#E5ECF6",
              "width": 0.5
             },
             "pattern": {
              "fillmode": "overlay",
              "size": 10,
              "solidity": 0.2
             }
            },
            "type": "barpolar"
           }
          ],
          "carpet": [
           {
            "aaxis": {
             "endlinecolor": "#2a3f5f",
             "gridcolor": "white",
             "linecolor": "white",
             "minorgridcolor": "white",
             "startlinecolor": "#2a3f5f"
            },
            "baxis": {
             "endlinecolor": "#2a3f5f",
             "gridcolor": "white",
             "linecolor": "white",
             "minorgridcolor": "white",
             "startlinecolor": "#2a3f5f"
            },
            "type": "carpet"
           }
          ],
          "choropleth": [
           {
            "colorbar": {
             "outlinewidth": 0,
             "ticks": ""
            },
            "type": "choropleth"
           }
          ],
          "contour": [
           {
            "colorbar": {
             "outlinewidth": 0,
             "ticks": ""
            },
            "colorscale": [
             [
              0,
              "#0d0887"
             ],
             [
              0.1111111111111111,
              "#46039f"
             ],
             [
              0.2222222222222222,
              "#7201a8"
             ],
             [
              0.3333333333333333,
              "#9c179e"
             ],
             [
              0.4444444444444444,
              "#bd3786"
             ],
             [
              0.5555555555555556,
              "#d8576b"
             ],
             [
              0.6666666666666666,
              "#ed7953"
             ],
             [
              0.7777777777777778,
              "#fb9f3a"
             ],
             [
              0.8888888888888888,
              "#fdca26"
             ],
             [
              1,
              "#f0f921"
             ]
            ],
            "type": "contour"
           }
          ],
          "contourcarpet": [
           {
            "colorbar": {
             "outlinewidth": 0,
             "ticks": ""
            },
            "type": "contourcarpet"
           }
          ],
          "heatmap": [
           {
            "colorbar": {
             "outlinewidth": 0,
             "ticks": ""
            },
            "colorscale": [
             [
              0,
              "#0d0887"
             ],
             [
              0.1111111111111111,
              "#46039f"
             ],
             [
              0.2222222222222222,
              "#7201a8"
             ],
             [
              0.3333333333333333,
              "#9c179e"
             ],
             [
              0.4444444444444444,
              "#bd3786"
             ],
             [
              0.5555555555555556,
              "#d8576b"
             ],
             [
              0.6666666666666666,
              "#ed7953"
             ],
             [
              0.7777777777777778,
              "#fb9f3a"
             ],
             [
              0.8888888888888888,
              "#fdca26"
             ],
             [
              1,
              "#f0f921"
             ]
            ],
            "type": "heatmap"
           }
          ],
          "heatmapgl": [
           {
            "colorbar": {
             "outlinewidth": 0,
             "ticks": ""
            },
            "colorscale": [
             [
              0,
              "#0d0887"
             ],
             [
              0.1111111111111111,
              "#46039f"
             ],
             [
              0.2222222222222222,
              "#7201a8"
             ],
             [
              0.3333333333333333,
              "#9c179e"
             ],
             [
              0.4444444444444444,
              "#bd3786"
             ],
             [
              0.5555555555555556,
              "#d8576b"
             ],
             [
              0.6666666666666666,
              "#ed7953"
             ],
             [
              0.7777777777777778,
              "#fb9f3a"
             ],
             [
              0.8888888888888888,
              "#fdca26"
             ],
             [
              1,
              "#f0f921"
             ]
            ],
            "type": "heatmapgl"
           }
          ],
          "histogram": [
           {
            "marker": {
             "pattern": {
              "fillmode": "overlay",
              "size": 10,
              "solidity": 0.2
             }
            },
            "type": "histogram"
           }
          ],
          "histogram2d": [
           {
            "colorbar": {
             "outlinewidth": 0,
             "ticks": ""
            },
            "colorscale": [
             [
              0,
              "#0d0887"
             ],
             [
              0.1111111111111111,
              "#46039f"
             ],
             [
              0.2222222222222222,
              "#7201a8"
             ],
             [
              0.3333333333333333,
              "#9c179e"
             ],
             [
              0.4444444444444444,
              "#bd3786"
             ],
             [
              0.5555555555555556,
              "#d8576b"
             ],
             [
              0.6666666666666666,
              "#ed7953"
             ],
             [
              0.7777777777777778,
              "#fb9f3a"
             ],
             [
              0.8888888888888888,
              "#fdca26"
             ],
             [
              1,
              "#f0f921"
             ]
            ],
            "type": "histogram2d"
           }
          ],
          "histogram2dcontour": [
           {
            "colorbar": {
             "outlinewidth": 0,
             "ticks": ""
            },
            "colorscale": [
             [
              0,
              "#0d0887"
             ],
             [
              0.1111111111111111,
              "#46039f"
             ],
             [
              0.2222222222222222,
              "#7201a8"
             ],
             [
              0.3333333333333333,
              "#9c179e"
             ],
             [
              0.4444444444444444,
              "#bd3786"
             ],
             [
              0.5555555555555556,
              "#d8576b"
             ],
             [
              0.6666666666666666,
              "#ed7953"
             ],
             [
              0.7777777777777778,
              "#fb9f3a"
             ],
             [
              0.8888888888888888,
              "#fdca26"
             ],
             [
              1,
              "#f0f921"
             ]
            ],
            "type": "histogram2dcontour"
           }
          ],
          "mesh3d": [
           {
            "colorbar": {
             "outlinewidth": 0,
             "ticks": ""
            },
            "type": "mesh3d"
           }
          ],
          "parcoords": [
           {
            "line": {
             "colorbar": {
              "outlinewidth": 0,
              "ticks": ""
             }
            },
            "type": "parcoords"
           }
          ],
          "pie": [
           {
            "automargin": true,
            "type": "pie"
           }
          ],
          "scatter": [
           {
            "fillpattern": {
             "fillmode": "overlay",
             "size": 10,
             "solidity": 0.2
            },
            "type": "scatter"
           }
          ],
          "scatter3d": [
           {
            "line": {
             "colorbar": {
              "outlinewidth": 0,
              "ticks": ""
             }
            },
            "marker": {
             "colorbar": {
              "outlinewidth": 0,
              "ticks": ""
             }
            },
            "type": "scatter3d"
           }
          ],
          "scattercarpet": [
           {
            "marker": {
             "colorbar": {
              "outlinewidth": 0,
              "ticks": ""
             }
            },
            "type": "scattercarpet"
           }
          ],
          "scattergeo": [
           {
            "marker": {
             "colorbar": {
              "outlinewidth": 0,
              "ticks": ""
             }
            },
            "type": "scattergeo"
           }
          ],
          "scattergl": [
           {
            "marker": {
             "colorbar": {
              "outlinewidth": 0,
              "ticks": ""
             }
            },
            "type": "scattergl"
           }
          ],
          "scattermapbox": [
           {
            "marker": {
             "colorbar": {
              "outlinewidth": 0,
              "ticks": ""
             }
            },
            "type": "scattermapbox"
           }
          ],
          "scatterpolar": [
           {
            "marker": {
             "colorbar": {
              "outlinewidth": 0,
              "ticks": ""
             }
            },
            "type": "scatterpolar"
           }
          ],
          "scatterpolargl": [
           {
            "marker": {
             "colorbar": {
              "outlinewidth": 0,
              "ticks": ""
             }
            },
            "type": "scatterpolargl"
           }
          ],
          "scatterternary": [
           {
            "marker": {
             "colorbar": {
              "outlinewidth": 0,
              "ticks": ""
             }
            },
            "type": "scatterternary"
           }
          ],
          "surface": [
           {
            "colorbar": {
             "outlinewidth": 0,
             "ticks": ""
            },
            "colorscale": [
             [
              0,
              "#0d0887"
             ],
             [
              0.1111111111111111,
              "#46039f"
             ],
             [
              0.2222222222222222,
              "#7201a8"
             ],
             [
              0.3333333333333333,
              "#9c179e"
             ],
             [
              0.4444444444444444,
              "#bd3786"
             ],
             [
              0.5555555555555556,
              "#d8576b"
             ],
             [
              0.6666666666666666,
              "#ed7953"
             ],
             [
              0.7777777777777778,
              "#fb9f3a"
             ],
             [
              0.8888888888888888,
              "#fdca26"
             ],
             [
              1,
              "#f0f921"
             ]
            ],
            "type": "surface"
           }
          ],
          "table": [
           {
            "cells": {
             "fill": {
              "color": "#EBF0F8"
             },
             "line": {
              "color": "white"
             }
            },
            "header": {
             "fill": {
              "color": "#C8D4E3"
             },
             "line": {
              "color": "white"
             }
            },
            "type": "table"
           }
          ]
         },
         "layout": {
          "annotationdefaults": {
           "arrowcolor": "#2a3f5f",
           "arrowhead": 0,
           "arrowwidth": 1
          },
          "autotypenumbers": "strict",
          "coloraxis": {
           "colorbar": {
            "outlinewidth": 0,
            "ticks": ""
           }
          },
          "colorscale": {
           "diverging": [
            [
             0,
             "#8e0152"
            ],
            [
             0.1,
             "#c51b7d"
            ],
            [
             0.2,
             "#de77ae"
            ],
            [
             0.3,
             "#f1b6da"
            ],
            [
             0.4,
             "#fde0ef"
            ],
            [
             0.5,
             "#f7f7f7"
            ],
            [
             0.6,
             "#e6f5d0"
            ],
            [
             0.7,
             "#b8e186"
            ],
            [
             0.8,
             "#7fbc41"
            ],
            [
             0.9,
             "#4d9221"
            ],
            [
             1,
             "#276419"
            ]
           ],
           "sequential": [
            [
             0,
             "#0d0887"
            ],
            [
             0.1111111111111111,
             "#46039f"
            ],
            [
             0.2222222222222222,
             "#7201a8"
            ],
            [
             0.3333333333333333,
             "#9c179e"
            ],
            [
             0.4444444444444444,
             "#bd3786"
            ],
            [
             0.5555555555555556,
             "#d8576b"
            ],
            [
             0.6666666666666666,
             "#ed7953"
            ],
            [
             0.7777777777777778,
             "#fb9f3a"
            ],
            [
             0.8888888888888888,
             "#fdca26"
            ],
            [
             1,
             "#f0f921"
            ]
           ],
           "sequentialminus": [
            [
             0,
             "#0d0887"
            ],
            [
             0.1111111111111111,
             "#46039f"
            ],
            [
             0.2222222222222222,
             "#7201a8"
            ],
            [
             0.3333333333333333,
             "#9c179e"
            ],
            [
             0.4444444444444444,
             "#bd3786"
            ],
            [
             0.5555555555555556,
             "#d8576b"
            ],
            [
             0.6666666666666666,
             "#ed7953"
            ],
            [
             0.7777777777777778,
             "#fb9f3a"
            ],
            [
             0.8888888888888888,
             "#fdca26"
            ],
            [
             1,
             "#f0f921"
            ]
           ]
          },
          "colorway": [
           "#636efa",
           "#EF553B",
           "#00cc96",
           "#ab63fa",
           "#FFA15A",
           "#19d3f3",
           "#FF6692",
           "#B6E880",
           "#FF97FF",
           "#FECB52"
          ],
          "font": {
           "color": "#2a3f5f"
          },
          "geo": {
           "bgcolor": "white",
           "lakecolor": "white",
           "landcolor": "#E5ECF6",
           "showlakes": true,
           "showland": true,
           "subunitcolor": "white"
          },
          "hoverlabel": {
           "align": "left"
          },
          "hovermode": "closest",
          "mapbox": {
           "style": "light"
          },
          "paper_bgcolor": "white",
          "plot_bgcolor": "#E5ECF6",
          "polar": {
           "angularaxis": {
            "gridcolor": "white",
            "linecolor": "white",
            "ticks": ""
           },
           "bgcolor": "#E5ECF6",
           "radialaxis": {
            "gridcolor": "white",
            "linecolor": "white",
            "ticks": ""
           }
          },
          "scene": {
           "xaxis": {
            "backgroundcolor": "#E5ECF6",
            "gridcolor": "white",
            "gridwidth": 2,
            "linecolor": "white",
            "showbackground": true,
            "ticks": "",
            "zerolinecolor": "white"
           },
           "yaxis": {
            "backgroundcolor": "#E5ECF6",
            "gridcolor": "white",
            "gridwidth": 2,
            "linecolor": "white",
            "showbackground": true,
            "ticks": "",
            "zerolinecolor": "white"
           },
           "zaxis": {
            "backgroundcolor": "#E5ECF6",
            "gridcolor": "white",
            "gridwidth": 2,
            "linecolor": "white",
            "showbackground": true,
            "ticks": "",
            "zerolinecolor": "white"
           }
          },
          "shapedefaults": {
           "line": {
            "color": "#2a3f5f"
           }
          },
          "ternary": {
           "aaxis": {
            "gridcolor": "white",
            "linecolor": "white",
            "ticks": ""
           },
           "baxis": {
            "gridcolor": "white",
            "linecolor": "white",
            "ticks": ""
           },
           "bgcolor": "#E5ECF6",
           "caxis": {
            "gridcolor": "white",
            "linecolor": "white",
            "ticks": ""
           }
          },
          "title": {
           "x": 0.05
          },
          "xaxis": {
           "automargin": true,
           "gridcolor": "white",
           "linecolor": "white",
           "ticks": "",
           "title": {
            "standoff": 15
           },
           "zerolinecolor": "white",
           "zerolinewidth": 2
          },
          "yaxis": {
           "automargin": true,
           "gridcolor": "white",
           "linecolor": "white",
           "ticks": "",
           "title": {
            "standoff": 15
           },
           "zerolinecolor": "white",
           "zerolinewidth": 2
          }
         }
        },
        "title": {
         "text": "3D Visualization of Fault Points"
        }
       }
      }
     },
     "metadata": {},
     "output_type": "display_data"
    }
   ],
   "source": [
    "n_simple_faults = 0\n",
    "n_bent_faults = 1\n",
    "n_cross_faults = 0\n",
    "n_Y_faults = 0\n",
    "n_parallel_faults = 0\n",
    "n_structures = 1\n",
    "\n",
    "# Generate fault metadata \n",
    "fault_metadata_list = generate_faults_metadata(n_simple_faults, n_bent_faults, n_cross_faults, n_Y_faults, n_parallel_faults, n_structures, eps_center=0.1, domain_scale=1, VERBOSE=True)\n",
    "\n",
    "# Generate point cloud for the fault \n",
    "fault_points_list, labels = generate_point_list_from_metadata_list(fault_metadata_list, n_simple_faults, n_bent_faults, n_cross_faults, n_Y_faults, n_parallel_faults)\n",
    "\n",
    "plot_label_distribution(labels)\n",
    "multi_static_plot_better(fault_points_list, fault_metadata_list, show_plane=True, show_axes=True)\n",
    "multi_interactive_plot_better(fault_points_list, fault_metadata_list, show_plane=True, show_axes=True)\n"
   ]
  },
  {
   "cell_type": "code",
   "execution_count": null,
   "metadata": {},
   "outputs": [],
   "source": []
  },
  {
   "cell_type": "markdown",
   "metadata": {},
   "source": [
    "## Generating a larger dataset"
   ]
  },
  {
   "cell_type": "code",
   "execution_count": null,
   "metadata": {},
   "outputs": [
    {
     "ename": "TypeError",
     "evalue": "list indices must be integers or slices, not tuple",
     "output_type": "error",
     "traceback": [
      "\u001b[1;31m---------------------------------------------------------------------------\u001b[0m",
      "\u001b[1;31mTypeError\u001b[0m                                 Traceback (most recent call last)",
      "Cell \u001b[1;32mIn[53], line 3\u001b[0m\n\u001b[0;32m      1\u001b[0m fault_points_list \u001b[38;5;241m=\u001b[39m generate_dataset(n_simple_faults\u001b[38;5;241m=\u001b[39m\u001b[38;5;241m0\u001b[39m, n_bent_faults\u001b[38;5;241m=\u001b[39m\u001b[38;5;241m1\u001b[39m, n_cross_faults\u001b[38;5;241m=\u001b[39m\u001b[38;5;241m1\u001b[39m, n_Y_faults\u001b[38;5;241m=\u001b[39m\u001b[38;5;241m1\u001b[39m, n_parallel_faults\u001b[38;5;241m=\u001b[39m\u001b[38;5;241m0\u001b[39m, n_structures\u001b[38;5;241m=\u001b[39m\u001b[38;5;241m0\u001b[39m, VERBOSE\u001b[38;5;241m=\u001b[39m\u001b[38;5;28;01mFalse\u001b[39;00m)\n\u001b[1;32m----> 3\u001b[0m multi_static_plot_better(fault_points_list, \u001b[38;5;28;01mNone\u001b[39;00m, show_plane\u001b[38;5;241m=\u001b[39m\u001b[38;5;28;01mFalse\u001b[39;00m, show_axes\u001b[38;5;241m=\u001b[39m\u001b[38;5;28;01mFalse\u001b[39;00m)\n\u001b[0;32m      4\u001b[0m multi_interactive_plot_better(fault_points_list, \u001b[38;5;28;01mNone\u001b[39;00m, show_plane\u001b[38;5;241m=\u001b[39m\u001b[38;5;28;01mFalse\u001b[39;00m, show_axes\u001b[38;5;241m=\u001b[39m\u001b[38;5;28;01mFalse\u001b[39;00m)\n",
      "Cell \u001b[1;32mIn[50], line 16\u001b[0m, in \u001b[0;36mmulti_static_plot_better\u001b[1;34m(fault_points_list, fault_metadata_list, show_plane, show_axes)\u001b[0m\n\u001b[0;32m     14\u001b[0m \u001b[38;5;66;03m# Plot event points for each fault\u001b[39;00m\n\u001b[0;32m     15\u001b[0m \u001b[38;5;28;01mfor\u001b[39;00m i, fault_points \u001b[38;5;129;01min\u001b[39;00m \u001b[38;5;28menumerate\u001b[39m(fault_points_list):\n\u001b[1;32m---> 16\u001b[0m     ax\u001b[38;5;241m.\u001b[39mscatter(fault_points[:, \u001b[38;5;241m0\u001b[39m], fault_points[:, \u001b[38;5;241m1\u001b[39m], fault_points[:, \u001b[38;5;241m2\u001b[39m], label\u001b[38;5;241m=\u001b[39m\u001b[38;5;124mf\u001b[39m\u001b[38;5;124m'\u001b[39m\u001b[38;5;124mFault \u001b[39m\u001b[38;5;132;01m{\u001b[39;00mi\u001b[38;5;241m+\u001b[39m\u001b[38;5;241m1\u001b[39m\u001b[38;5;132;01m}\u001b[39;00m\u001b[38;5;124m'\u001b[39m, s\u001b[38;5;241m=\u001b[39m\u001b[38;5;241m5\u001b[39m)\n\u001b[0;32m     18\u001b[0m \u001b[38;5;66;03m# Plot the plane and axes if requested\u001b[39;00m\n\u001b[0;32m     19\u001b[0m \u001b[38;5;28;01mif\u001b[39;00m show_plane \u001b[38;5;129;01mor\u001b[39;00m show_axes \u001b[38;5;129;01mor\u001b[39;00m fault_metadata_list \u001b[38;5;241m!=\u001b[39m \u001b[38;5;28;01mNone\u001b[39;00m:\n",
      "\u001b[1;31mTypeError\u001b[0m: list indices must be integers or slices, not tuple"
     ]
    },
    {
     "data": {
      "image/png": "[encoded data removed]",
      "text/plain": [
       "<Figure size 800x600 with 1 Axes>"
      ]
     },
     "metadata": {},
     "output_type": "display_data"
    }
   ],
   "source": [
    "fault_points_list = generate_dataset(n_simple_faults=0, n_bent_faults=1, n_cross_faults=1, n_Y_faults=1, n_parallel_faults=0, n_structures=0, VERBOSE=False)\n",
    "\n",
    "multi_static_plot_better(fault_points_list, None, show_plane=False, show_axes=False)\n",
    "multi_interactive_plot_better(fault_points_list, None, show_plane=False, show_axes=False)"
   ]
  },
  {
   "cell_type": "markdown",
   "metadata": {},
   "source": [
    "### Evaluating the dataset: "
   ]
  },
  {
   "cell_type": "code",
   "execution_count": null,
   "metadata": {},
   "outputs": [],
   "source": [
    "import matplotlib.pyplot as plt\n",
    "import numpy as np\n",
    "from mpl_toolkits.mplot3d import Axes3D\n",
    "from sklearn.cluster import KMeans, AgglomerativeClustering, DBSCAN\n",
    "from sklearn.metrics import silhouette_score\n",
    "from sklearn.linear_model import RANSACRegressor\n",
    "from sklearn.utils import shuffle\n",
    "from sklearn.neighbors import NearestNeighbors\n",
    "# Set the OMP_NUM_THREADS environment variable\n",
    "import os\n",
    "os.environ[\"OMP_NUM_THREADS\"] = \"2\"\n",
    "\n",
    "\n",
    "\n",
    "def assign_clusters_ransac(X, cluster_centers):\n",
    "    # Compute the nearest cluster center for each data point\n",
    "    nbrs = NearestNeighbors(n_neighbors=1).fit(cluster_centers)\n",
    "    distances, indices = nbrs.kneighbors(X)\n",
    "    return indices.flatten()\n",
    "\n",
    "\n",
    "def evaluate_clustering(cracks_points_list, max_clusters, VERBOSE=False):\n",
    "    # Concatenate all points into a single array\n",
    "    all_points = np.concatenate(cracks_points_list)\n",
    "    all_points = shuffle(all_points)\n",
    "\n",
    "    # Initialize dictionaries to store silhouette scores and ideal settings\n",
    "    silhouette_scores = {'KMeans': -1, 'Agglomerative': -1, 'DBSCAN': -1, 'RANSAC': -1}\n",
    "    ideal_settings = {'KMeans': None, 'Agglomerative': None, 'DBSCAN': None, 'RANSAC': None}\n",
    "\n",
    "    # Evaluate clustering using KMeans\n",
    "    for n_clusters in range(2, max_clusters + 1):\n",
    "        kmeans = KMeans(n_clusters=n_clusters)\n",
    "        kmeans_labels = kmeans.fit_predict(all_points)\n",
    "        kmeans_score = silhouette_score(all_points, kmeans_labels)\n",
    "        if kmeans_score > silhouette_scores['KMeans']:\n",
    "            silhouette_scores['KMeans'] = kmeans_score\n",
    "            ideal_settings['KMeans'] = {'n_clusters': n_clusters}\n",
    "    if VERBOSE:\n",
    "        print(f\"Kmeans evaluation done, ideal settings: {ideal_settings['KMeans']}\")\n",
    "\n",
    "    # Evaluate clustering using Agglomerative Clustering\n",
    "    for n_clusters in range(2, max_clusters + 1):\n",
    "        agglomerative = AgglomerativeClustering(n_clusters=n_clusters)\n",
    "        agglomerative_labels = agglomerative.fit_predict(all_points)\n",
    "        agglomerative_score = silhouette_score(all_points, agglomerative_labels)\n",
    "        if agglomerative_score > silhouette_scores['Agglomerative']:\n",
    "            silhouette_scores['Agglomerative'] = agglomerative_score\n",
    "            ideal_settings['Agglomerative'] = {'n_clusters': n_clusters}\n",
    "    if VERBOSE:\n",
    "        print(f\"Agglomerative evaluation done, ideal settings: {ideal_settings['Agglomerative']}\")\n",
    "\n",
    "    # Evaluate clustering using DBSCAN\n",
    "    for min_samples in range(2, 5):  # Try different values of min_samples for DBSCAN\n",
    "        for eps in [0.04, 0.08, 0.12, 0.5, 1.0]:  # Try different values of eps for DBSCAN\n",
    "            dbscan = DBSCAN(min_samples=min_samples, eps=eps)\n",
    "            dbscan_labels = dbscan.fit_predict(all_points)\n",
    "            unique_labels = np.unique(dbscan_labels)\n",
    "            if len(unique_labels) > 1:\n",
    "                dbscan_score = silhouette_score(all_points, dbscan_labels)\n",
    "            else:\n",
    "                dbscan_score = -1  # Avoid considering single cluster solution\n",
    "                ideal_settings['DBSCAN'] = {'min_samples': 2, 'eps': 0.1}\n",
    "\n",
    "            if dbscan_score > silhouette_scores['KMeans']:\n",
    "                silhouette_scores['KMeans'] = dbscan_score\n",
    "                ideal_settings['DBSCAN'] = {'min_samples': min_samples, 'eps': eps}\n",
    "\n",
    "    if VERBOSE:\n",
    "        print(f\"DBSCAN evaluation done, ideal settings: {ideal_settings['DBSCAN']}\")\n",
    "\n",
    "\n",
    "    # Evaluate clustering using RANSAC\n",
    "    kmeans = KMeans(n_clusters=10)  # Choose the number of clusters\n",
    "    kmeans.fit(all_points[:100])  # Fit KMeans on a subset of points\n",
    "\n",
    "    ransac = RANSACRegressor()\n",
    "    ransac_labels = assign_clusters_ransac(all_points, kmeans.cluster_centers_)\n",
    "    ransac_score = silhouette_score(all_points, ransac_labels)\n",
    "    silhouette_scores['RANSAC'] = ransac_score\n",
    "    ideal_settings['RANSAC'] = None  # No hyperparameters to tune for RANSAC\n",
    "    if VERBOSE:\n",
    "        print(f\"RANSAC evaluation done, ideal settings: {ideal_settings['RANSAC']}\")\n",
    "\n",
    "    return silhouette_scores, ideal_settings\n",
    "\n",
    "\n",
    "def plot_clusters_3d(points, labels, algorithm):\n",
    "    fig = plt.figure(figsize=(8, 6))\n",
    "    ax = fig.add_subplot(111, projection='3d')\n",
    "\n",
    "    # Plot points color-coded by cluster\n",
    "    unique_labels = np.unique(labels)\n",
    "    colors = plt.cm.get_cmap('tab10', len(unique_labels))\n",
    "    for i, label in enumerate(unique_labels):\n",
    "        cluster_points = points[labels == label]\n",
    "        ax.scatter(cluster_points[:, 0], cluster_points[:, 1], cluster_points[:, 2], label=f'Cluster {label}', c=[colors(i)], s=5)\n",
    "\n",
    "    ax.set_xlabel('X')\n",
    "    ax.set_ylabel('Y')\n",
    "    ax.set_zlabel('Z')\n",
    "    ax.set_title(f'Clusters for {algorithm}')\n",
    "    ax.legend()\n",
    "\n",
    "    plt.show()"
   ]
  },
  {
   "cell_type": "code",
   "execution_count": null,
   "metadata": {},
   "outputs": [
    {
     "ename": "NameError",
     "evalue": "name 'cracks_points_list' is not defined",
     "output_type": "error",
     "traceback": [
      "\u001b[1;31m---------------------------------------------------------------------------\u001b[0m",
      "\u001b[1;31mNameError\u001b[0m                                 Traceback (most recent call last)",
      "Cell \u001b[1;32mIn[28], line 2\u001b[0m\n\u001b[0;32m      1\u001b[0m \u001b[38;5;66;03m# Evaluate clustering algorithms\u001b[39;00m\n\u001b[1;32m----> 2\u001b[0m silhouette_scores, ideal_settings \u001b[38;5;241m=\u001b[39m evaluate_clustering(cracks_points_list, max_clusters\u001b[38;5;241m+\u001b[39m\u001b[38;5;241m3\u001b[39m, \u001b[38;5;28;01mTrue\u001b[39;00m)\n\u001b[0;32m      4\u001b[0m \u001b[38;5;28mprint\u001b[39m(\u001b[38;5;124mf\u001b[39m\u001b[38;5;124m\"\u001b[39m\u001b[38;5;124mThe silhouette scores are \u001b[39m\u001b[38;5;132;01m{\u001b[39;00msilhouette_scores\u001b[38;5;132;01m}\u001b[39;00m\u001b[38;5;124m \u001b[39m\u001b[38;5;130;01m\\n\u001b[39;00m\u001b[38;5;124m \u001b[39m\u001b[38;5;130;01m\\n\u001b[39;00m\u001b[38;5;124m and the ideal settings are: \u001b[39m\u001b[38;5;132;01m{\u001b[39;00mideal_settings\u001b[38;5;132;01m}\u001b[39;00m\u001b[38;5;124m\"\u001b[39m)\n\u001b[0;32m      6\u001b[0m \u001b[38;5;66;03m# Plot clusters for each algorithm\u001b[39;00m\n",
      "\u001b[1;31mNameError\u001b[0m: name 'cracks_points_list' is not defined"
     ]
    }
   ],
   "source": [
    "# Evaluate clustering algorithms\n",
    "silhouette_scores, ideal_settings = evaluate_clustering(cracks_points_list, max_clusters+3, True)\n",
    "\n",
    "print(f\"The silhouette scores are {silhouette_scores} \\n \\n and the ideal settings are: {ideal_settings}\")\n",
    "\n",
    "# Plot clusters for each algorithm\n",
    "for algorithm in silhouette_scores.keys():\n",
    "    if algorithm == 'KMeans':\n",
    "        n_clusters = ideal_settings['KMeans']['n_clusters']\n",
    "        kmeans = KMeans(n_clusters=n_clusters)\n",
    "        labels = kmeans.fit_predict(np.concatenate(cracks_points_list))\n",
    "    elif algorithm == 'Agglomerative':\n",
    "        n_clusters = ideal_settings['Agglomerative']['n_clusters']\n",
    "        agglomerative = AgglomerativeClustering(n_clusters=n_clusters)\n",
    "        labels = agglomerative.fit_predict(np.concatenate(cracks_points_list))\n",
    "    elif algorithm == 'DBSCAN':\n",
    "        min_samples = ideal_settings['DBSCAN']['min_samples']\n",
    "        dbscan = DBSCAN(min_samples=min_samples)\n",
    "        labels = dbscan.fit_predict(np.concatenate(cracks_points_list))\n",
    "    plot_clusters_3d(np.concatenate(cracks_points_list), labels, algorithm)"
   ]
  }
 ],
 "metadata": {
  "kernelspec": {
   "display_name": "raienv",
   "language": "python",
   "name": "python3"
  },
  "language_info": {
   "codemirror_mode": {
    "name": "ipython",
    "version": 3
   },
   "file_extension": ".py",
   "mimetype": "text/x-python",
   "name": "python",
   "nbconvert_exporter": "python",
   "pygments_lexer": "ipython3",
   "version": "3.11.5"
  }
 },
 "nbformat": 4,
 "nbformat_minor": 2
}
