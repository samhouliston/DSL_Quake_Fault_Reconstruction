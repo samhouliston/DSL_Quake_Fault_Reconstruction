{
 "cells": [
  {
   "cell_type": "markdown",
   "metadata": {},
   "source": [
    "## Main Functions to generate fault characteristics, and sample points"
   ]
  },
  {
   "cell_type": "code",
   "execution_count": 2,
   "metadata": {},
   "outputs": [],
   "source": [
    "import numpy as np\n",
    "import matplotlib.pyplot as plt\n",
    "from mpl_toolkits.mplot3d import Axes3D\n",
    "import plotly.graph_objs as go\n",
    "import random\n",
    "import math\n",
    "\n",
    "\n",
    "def random_unit_vector():\n",
    "    # Generate random spherical coordinates\n",
    "    theta = random.uniform(0, 2*math.pi)  # Azimuthal angle\n",
    "    phi = random.uniform(0, math.pi)      # Polar angle\n",
    "\n",
    "    # Convert spherical coordinates to Cartesian coordinates\n",
    "    x = math.sin(phi) * math.cos(theta)\n",
    "    y = math.sin(phi) * math.sin(theta)\n",
    "    z = math.cos(phi)\n",
    "    \n",
    "    return (x, y, z)\n",
    "\n",
    "\n",
    "def plane_main_axes_from_normal(normal): \n",
    "    # Find two axes of plane defined by the center and its normal\n",
    "    length_axis = random_unit_vector()\n",
    "    while np.dot(length_axis, normal) < 0.01:\n",
    "        length_axis = random_unit_vector()\n",
    "\n",
    "    length_axis = np.cross(normal, length_axis)\n",
    "    length_axis = length_axis / np.linalg.norm(length_axis)\n",
    "    width_axis = np.cross(normal, length_axis)\n",
    "\n",
    "    return length_axis, width_axis\n",
    "\n",
    "\n",
    "def display_fault_properties(fault_metadata):\n",
    "    (center, length, width, normal, length_axis, width_axis) = fault_metadata\n",
    "    print(f\"         center: {center} \\n         length: {length}, width: {width} \\n         length_axis: {length_axis},   width_axis: {width_axis}\")"
   ]
  },
  {
   "cell_type": "code",
   "execution_count": 36,
   "metadata": {},
   "outputs": [],
   "source": [
    "def generate_faults_metadata(n_simple_faults, n_bent_faults, n_cross_faults, n_Y_faults, n_parallel_faults, n_ladder_structures, eps_center=0.1, domain_scale=1, VERBOSE=False):\n",
    "    \"\"\"\n",
    "    Generate metadata characterizing faults via a plane defined by a center, length, width, normal, length_axis, and width_axis.\n",
    "    \n",
    "    Args:\n",
    "    - n_simple_faults:      number of simple planar faults to generate\n",
    "    - n_bent_faults:        number of bent (bi-planar) faults to generate\n",
    "    - n_ladder_structures:  number of ladder-like fault structures\n",
    "    - eps_center:           minimum distance between fault centers\n",
    "    - domain_scale:         scale=x denotes [-x,x]^3 space. \n",
    "    \n",
    "    Returns:\n",
    "    - faults_info: List of tuples containing fault metadata (center, length, width, normal, length_axis, width_axis)\n",
    "    \"\"\"\n",
    "    \n",
    "    # Set fault plane max length and width as proportion of domain\n",
    "    L_max = 1.5 * domain_scale\n",
    "    L_min = 1 * domain_scale\n",
    "    W_max = 0.7 * domain_scale\n",
    "    W_min= 0.5 * domain_scale\n",
    "    faults_info = []\n",
    "    \n",
    "\n",
    "    # Generate simple fault data\n",
    "    if VERBOSE:\n",
    "        print(f\"--------------------------------------------------\")\n",
    "        print(f\"    Generating {n_simple_faults} simple faults:\")\n",
    "        print(f\"--------------------------------------------------\")\n",
    "    for i_simp in range(n_simple_faults):    \n",
    "        while True: # Ensure centers aren't too close\n",
    "            center = np.random.uniform(-domain_scale, domain_scale, size=3)\n",
    "            if all(np.linalg.norm(center - c) > 2 * eps_center for c, _, _, _, _, _ in faults_info):  \n",
    "                break\n",
    "        length = np.random.uniform(L_min, L_max)\n",
    "        width = np.random.uniform(W_min, W_max)\n",
    "        normal = random_unit_vector()\n",
    "        length_axis, width_axis = plane_main_axes_from_normal(normal)\n",
    "        faults_info.append((center, length, width, normal, length_axis, width_axis))\n",
    "\n",
    "        if VERBOSE:\n",
    "            print(f\"    Simple fault number: {i_simp+1}\")\n",
    "            display_fault_properties((center, length, width, normal, length_axis, width_axis))\n",
    "\n",
    "\n",
    "    # Generate bent fault data\n",
    "    if VERBOSE:\n",
    "        print(f\"\\n--------------------------------------------------\")\n",
    "        print(f\"    Generating {n_bent_faults} bent faults:\")\n",
    "        print(f\"--------------------------------------------------\")\n",
    "    for i in range(n_bent_faults):\n",
    "\n",
    "        # Generate the main fault data\n",
    "        while True:\n",
    "            main_center = np.random.uniform(-domain_scale, domain_scale, size=3)\n",
    "            if all(np.linalg.norm(main_center - c) > 2 * eps_center for c, _, _, _, _, _ in faults_info):  \n",
    "                break\n",
    "        main_length = np.random.uniform(L_min, L_max)\n",
    "        main_width = np.random.uniform(W_min, W_max)\n",
    "        main_normal = random_unit_vector()\n",
    "        main_length_axis, main_width_axis = plane_main_axes_from_normal(main_normal)\n",
    "        faults_info.append((main_center, main_length, main_width, main_normal, main_length_axis, main_width_axis))\n",
    "\n",
    "        if VERBOSE:\n",
    "            print(f\"    Bent fault number: {i//2 + 1}\")\n",
    "            print(\"       First plane:\")\n",
    "            display_fault_properties((main_center, main_length, main_width, main_normal, main_length_axis, main_width_axis))\n",
    "\n",
    "        # Generate secondary smaller fault: sample plane at an angle\n",
    "        bent_factor = np.random.uniform(0.6, 0.75)\n",
    "        bent_length = bent_factor * main_length\n",
    "        bent_width = bent_factor * main_width \n",
    "\n",
    "        # Sample an angle, calculate new axes\n",
    "        angle = np.random.uniform(-50, 50, size=1)\n",
    "        alpha = np.cos(np.radians(90 - angle))\n",
    "        beta = np.sqrt(1-alpha**2)\n",
    "        bent_length_axis = beta*np.array(main_length_axis)  + alpha*np.array(main_normal)\n",
    "        bent_length_axis = bent_length_axis / np.linalg.norm(bent_length_axis)\n",
    "        bent_width_axis = main_width_axis \n",
    "        \n",
    "        bent_center = main_center + 0.5*main_length*main_length_axis + 0.5*bent_length * bent_length_axis\n",
    "        bent_normal = np.cross(bent_length_axis, bent_width_axis)\n",
    "\n",
    "        faults_info.append((bent_center, bent_length, bent_width, bent_normal, bent_length_axis, bent_width_axis))\n",
    "\n",
    "        if VERBOSE:\n",
    "            print(f\"\\n       Second plane:\")\n",
    "            print(f\"         Angle: {angle}\")\n",
    "            display_fault_properties((bent_center, bent_length, bent_width, bent_normal, bent_length_axis, bent_width_axis))\n",
    "\n",
    "\n",
    "    # Generate cross fault data\n",
    "    if VERBOSE:\n",
    "        print(f\"\\n--------------------------------------------------\")\n",
    "        print(f\"    Generating {n_cross_faults} cross faults:\")\n",
    "        print(f\"--------------------------------------------------\")\n",
    "    for k in range(n_cross_faults):\n",
    "\n",
    "        # Generate main fault data\n",
    "        while True: \n",
    "            cross_center = np.random.uniform(-domain_scale, domain_scale, size=3)\n",
    "            if all(np.linalg.norm(cross_center - c) > 2 * eps_center for c, _, _, _, _, _ in faults_info): \n",
    "                break\n",
    "        main_length = np.random.uniform(L_min, L_max)\n",
    "        main_width = np.random.uniform(W_min, W_max)\n",
    "        main_normal = random_unit_vector()\n",
    "        main_length_axis, main_width_axis = plane_main_axes_from_normal(main_normal)\n",
    "        faults_info.append((cross_center, main_length, main_width, main_normal, main_length_axis, main_width_axis))\n",
    "\n",
    "        if VERBOSE:\n",
    "            print(f\"    Cross fault number: {k//2 + 1}\")\n",
    "            print(\"       First plane:\")\n",
    "            display_fault_properties((cross_center, main_length, main_width, main_normal, main_length_axis, main_width_axis))\n",
    "\n",
    "        # Generate secondary perpendicular 'crossed' fault\n",
    "        #cross_factor = np.random.uniform(0.6, 1.4)\n",
    "        cross_factor = 1\n",
    "        crossed_length = cross_factor * main_length\n",
    "        crossed_width = 0.6*cross_factor * main_width \n",
    "        crossed_length_axis = main_width_axis \n",
    "        crossed_width_axis = main_length_axis \n",
    "        crossed_normal = np.cross(crossed_length_axis, crossed_width_axis)\n",
    "        faults_info.append((cross_center, crossed_length, crossed_width, crossed_normal, crossed_length_axis, crossed_width_axis))\n",
    "\n",
    "        if VERBOSE:\n",
    "            print(f\"\\n       Crosssed plane:\")\n",
    "            display_fault_properties((cross_center, crossed_length, crossed_width, crossed_normal, crossed_length_axis, crossed_width_axis))\n",
    "\n",
    "\n",
    "    # Generate Y-shaped fault data\n",
    "    if VERBOSE:\n",
    "        print(f\"\\n--------------------------------------------------\")\n",
    "        print(f\"    Generating {n_Y_faults} Y - faults:\")\n",
    "        print(f\"--------------------------------------------------\")\n",
    "    for l in range(n_Y_faults):\n",
    "\n",
    "        # Generate main fault data\n",
    "        while True:\n",
    "            main_center = np.random.uniform(-domain_scale, domain_scale, size=3)\n",
    "            if all(np.linalg.norm(main_center - c) > 2 * eps_center for c, _, _, _, _, _ in faults_info):  \n",
    "                break\n",
    "        main_length = 1.4 * np.random.uniform(L_min, L_max)\n",
    "        main_width = 0.7* np.random.uniform(W_min, W_max)\n",
    "        main_normal = random_unit_vector()\n",
    "        main_length_axis, main_width_axis = plane_main_axes_from_normal(main_normal)\n",
    "        faults_info.append((main_center, main_length, main_width, main_normal, main_length_axis, main_width_axis))\n",
    "\n",
    "        if VERBOSE:\n",
    "            print(f\"    Y - fault number: {l//2 + 1}\")\n",
    "            print(\"       First plane:\")\n",
    "            display_fault_properties((main_center, main_length, main_width, main_normal, main_length_axis, main_width_axis))\n",
    "\n",
    "        # Generate secondary perpendicular 'branched' fault\n",
    "        branch_length = 0.4*main_length\n",
    "        branch_width = 0.7*main_width \n",
    "\n",
    "        angle = np.random.choice([-1, 1]) * np.random.uniform(20, 35, size=1)\n",
    "        alpha = np.cos(np.radians(90 - angle))\n",
    "        beta = np.sqrt(1-alpha**2)\n",
    "        branch_length_axis = beta*np.array(main_length_axis)  + alpha*np.array(main_normal)\n",
    "        branch_length_axis = branch_length_axis / np.linalg.norm(branch_length_axis)\n",
    "        branch_width_axis = main_width_axis    \n",
    "        branch_normal = np.cross(branch_length_axis, branch_width_axis)    \n",
    "\n",
    "        branch_center = main_center + np.random.uniform(0, 0.15)*main_length*main_length_axis + 0.5* branch_length * branch_length_axis\n",
    "   \n",
    "        \n",
    "        faults_info.append((branch_center, branch_length, branch_width, branch_normal, branch_length_axis, branch_width_axis))\n",
    "\n",
    "        if VERBOSE:\n",
    "            print(f\"\\n       Branch plane:\")\n",
    "            display_fault_properties((branch_center, branch_length, branch_width, branch_normal, branch_length_axis, branch_width_axis))\n",
    "\n",
    "\n",
    "    # Generate two parallel fault data\n",
    "    if VERBOSE:\n",
    "        print(f\"\\n--------------------------------------------------\")\n",
    "        print(f\"    Generating {n_parallel_faults} parallel faults:\")\n",
    "        print(f\"--------------------------------------------------\")\n",
    "    for b in range(n_parallel_faults):\n",
    "\n",
    "        # Generate main fault data\n",
    "        while True: \n",
    "            main_center = np.random.uniform(-domain_scale, domain_scale, size=3)\n",
    "            if all(np.linalg.norm(main_center - c) > 2 * eps_center for c, _, _, _, _, _ in faults_info): \n",
    "                break\n",
    "        main_length = np.random.uniform(L_min, L_max)\n",
    "        main_width = np.random.uniform(W_min, W_max)\n",
    "        main_normal = random_unit_vector()\n",
    "        main_length_axis, main_width_axis = plane_main_axes_from_normal(main_normal)\n",
    "        faults_info.append((main_center, main_length, main_width, main_normal, main_length_axis, main_width_axis))\n",
    "\n",
    "        if VERBOSE:\n",
    "            print(f\"    Parallel pair number: {b//2 + 1}\")\n",
    "            print(\"       First plane:\")\n",
    "            display_fault_properties((main_center, main_length, main_width, main_normal, main_length_axis, main_width_axis))\n",
    "\n",
    "        # Generate secondary perpendicular 'crossed' fault\n",
    "        dist_between_parallels = np.random.uniform(0.5*main_width, 0.7*main_width)\n",
    "        distance_shifted = np.random.uniform(0.2, 0.7) * main_length\n",
    "        second_center = main_center + dist_between_parallels * np.array(main_normal) + distance_shifted * main_length_axis\n",
    "        second_factor = np.random.uniform(0.6, 1.5)\n",
    "        second_length = second_factor * main_length\n",
    "        second_width = second_factor * main_width \n",
    "        second_length_axis = main_length_axis\n",
    "        second_width_axis = main_width_axis\n",
    "        second_normal = np.cross(second_length_axis, second_width_axis)\n",
    "        faults_info.append((second_center, second_length, second_width, second_normal, second_length_axis, second_width_axis))\n",
    "\n",
    "        if VERBOSE:\n",
    "            print(f\"\\n       Second plane:\")\n",
    "            display_fault_properties((second_center, second_length, second_width, second_normal, second_length_axis, second_width_axis))\n",
    "\n",
    "\n",
    "    # Generate ladder structures\n",
    "    if VERBOSE:\n",
    "        print(f\"\\n--------------------------------------------------\")\n",
    "        print(f\"    Generating {n_ladder_structures} ladder-like structures:\")\n",
    "        print(f\"--------------------------------------------------\")\n",
    "    for m in range(n_ladder_structures):\n",
    "\n",
    "        print(f\"    Ladder structure {m+1}\")\n",
    "        # Characterise the first main fault\n",
    "        while True:\n",
    "            first_center = np.random.uniform(-domain_scale, domain_scale, size=3)\n",
    "            if all(np.linalg.norm(first_center - c) > 2 * eps_center for c, _, _, _, _, _ in faults_info):  # Ensure centers aren't too close\n",
    "                break\n",
    "        first_length = 1.4 *np.random.uniform(L_min, L_max)\n",
    "        first_width = np.random.uniform(W_min, W_max)\n",
    "        first_normal = random_unit_vector()\n",
    "        first_length_axis, first_width_axis = plane_main_axes_from_normal(first_normal)\n",
    "        faults_info.append((first_center, first_length, first_width, first_normal, first_length_axis, first_width_axis))            \n",
    "        if VERBOSE:\n",
    "            print(f\"            Main parallel fault\")\n",
    "            display_fault_properties((first_center, first_length, first_width, first_normal, first_length_axis, first_width_axis))\n",
    "\n",
    "        # Characterise the second main fault\n",
    "        dist_between_parallels = np.min(np.array([np.random.uniform(1.5*first_width, 3*first_width), 0.7*first_length]))\n",
    "        second_center = first_center + dist_between_parallels * np.array(first_normal)\n",
    "        second_length = first_length\n",
    "        second_width = first_width\n",
    "        second_normal = first_normal\n",
    "        second_length_axis = first_length_axis\n",
    "        second_width_axis = first_width_axis\n",
    "        faults_info.append((second_center, second_length, second_width, second_normal, second_length_axis, second_width_axis))\n",
    "\n",
    "        if VERBOSE:\n",
    "            print(f\"            Second parallel fault\")\n",
    "            display_fault_properties((second_center, second_length, second_width, second_normal, second_length_axis, second_width_axis))\n",
    "\n",
    "        # Characterise smaller, middle faults: \n",
    "        N_smaller_perpendicular_faults = 3\n",
    "        dist_between_smaller_faults = first_length / (N_smaller_perpendicular_faults+1)\n",
    "        mid_length = 1.3 *dist_between_parallels\n",
    "        mid_width = dist_between_parallels / 3\n",
    "\n",
    "        # They are at a slight angle to the normal: \n",
    "        angle = np.random.choice([-1, 1]) * np.random.uniform(10, 20, size=1)\n",
    "        alpha = np.cos(np.radians(90 - angle))\n",
    "        beta = np.sqrt(1-alpha**2)\n",
    "        mid_length_axis = beta*np.array(first_normal)  + alpha*np.array(first_length_axis)\n",
    "        mid_length_axis = mid_length_axis / np.linalg.norm(mid_length_axis)\n",
    "        mid_width_axis = first_width_axis\n",
    "        mid_normal = np.cross(mid_length_axis, mid_width_axis) \n",
    "    \n",
    "        for n in range(N_smaller_perpendicular_faults):\n",
    "            if n % 2 == 0:\n",
    "                m = n // 2\n",
    "            else:\n",
    "                m = -((n + 1) // 2)\n",
    "            mid_center = (first_center + second_center)/2 + m*dist_between_smaller_faults*first_length_axis\n",
    "\n",
    "            faults_info.append((mid_center, mid_length, mid_width, mid_normal, mid_length_axis, mid_width_axis))\n",
    "            if VERBOSE:\n",
    "                print(f\"\\n              Smaller middle fault: fault number {n}\")\n",
    "                display_fault_properties((mid_center, mid_length, mid_width, mid_normal, mid_length_axis, mid_width_axis))\n",
    "        \n",
    "    return faults_info"
   ]
  },
  {
   "cell_type": "code",
   "execution_count": 31,
   "metadata": {},
   "outputs": [],
   "source": [
    "def generate_points_from_plane(center, length, width, normal, length_axis, width_axis, distribution_mode='normal', domain_scale=1):\n",
    "\n",
    "    density = 100 # points per m^2\n",
    "    area = length*width \n",
    "    num_points = int(np.round(density * area)) \n",
    "\n",
    "    # Sample points coordinates on the plane\n",
    "    x = np.random.uniform(-length/2, length/2, num_points).astype(float)\n",
    "    y = np.random.uniform(-width/2, width/2, num_points).astype(float)\n",
    "\n",
    "    # Sample distances from the plane\n",
    "    # Convention for faults: mean distance ~ width => 4*sigma=width\n",
    "    if distribution_mode == 'normal':\n",
    "        distribution_param = width/5\n",
    "        dist = np.random.normal(loc=0, scale=distribution_param, size=num_points)\n",
    "\n",
    "    # Compute fault points\n",
    "    fault_points = center + x[:, None] * length_axis + y[:, None] * width_axis + dist[:, None] * normal\n",
    "\n",
    "    return fault_points\n",
    "\n",
    "\n",
    "\n",
    "def generate_point_list_from_metadata_list(fault_metadata_list, n_simple_faults, n_bent_faults, n_cross_faults, n_Y_faults, n_parallel_faults):\n",
    "     \n",
    "    \"\"\"\n",
    "    Generate point cloud for every fault given its metadata.\n",
    "    \"\"\"\n",
    "    points_list = []\n",
    "    k = 0\n",
    "    for i, metadata in enumerate(fault_metadata_list):\n",
    "\n",
    "        # Add simple faults\n",
    "        if (i <= n_simple_faults -1) and (n_simple_faults != 0): \n",
    "            (center, length, width, normal, length_axis, width_axis) = metadata\n",
    "            points_list.append(generate_points_from_plane(center, length, width, normal, length_axis, width_axis))\n",
    "\n",
    "\n",
    "        # Add bent faults, make sure to merge main-bent points into one list\n",
    "        elif (i>=n_simple_faults) and (i <= n_simple_faults + 2 * n_bent_faults -1) and (n_bent_faults != 0): \n",
    "            if k%2 == 0: # main points\n",
    "                (main_center, main_length, main_width, main_normal, main_length_axis, main_width_axis) = metadata\n",
    "                main_fault_points = generate_points_from_plane(main_center, main_length, main_width, main_normal, main_length_axis, main_width_axis)\n",
    "                k+=1\n",
    "            else:        # bent points\n",
    "                (second_center, second_length, second_width, second_normal, second_length_axis, second_width_axis) = metadata\n",
    "                second_fault_points = generate_points_from_plane(second_center, second_length, second_width, second_normal, second_length_axis, second_width_axis)\n",
    "\n",
    "                # Concatenate main and bent points into one array, and add to list.\n",
    "                points_list.append(np.concatenate((main_fault_points, second_fault_points)))\n",
    "                k+=1\n",
    "\n",
    "\n",
    "        # Add cross faults (a cross consists of two faults, hence they are separate)\n",
    "        elif   (i >= n_simple_faults + 2*n_bent_faults) and (i <= n_simple_faults + 2*n_bent_faults + 2*n_cross_faults -1) and (n_cross_faults != 0):\n",
    "            (center, length, width, normal, length_axis, width_axis) = metadata\n",
    "            points_list.append(generate_points_from_plane(center, length, width, normal, length_axis, width_axis))\n",
    "\n",
    "\n",
    "        # Add Y-shaped faults\n",
    "        elif   (i >= n_simple_faults + 2*n_bent_faults + 2*n_cross_faults) and (i <= n_simple_faults + 2*n_bent_faults + 2*n_cross_faults + 2*n_Y_faults -1) and (n_Y_faults != 0):\n",
    "            if k%2 == 0: # main points\n",
    "                (main_center, main_length, main_width, main_normal, main_length_axis, main_width_axis) = metadata\n",
    "                main_fault_points = generate_points_from_plane(main_center, main_length, main_width, main_normal, main_length_axis, main_width_axis)\n",
    "                k+=1\n",
    "            else:        # branch points\n",
    "                (second_center, second_length, second_width, second_normal, second_length_axis, second_width_axis) = metadata\n",
    "                second_fault_points = generate_points_from_plane(second_center, second_length, second_width, second_normal, second_length_axis, second_width_axis)\n",
    "\n",
    "                # Concatenate main and bent points into one array, and add to list.\n",
    "                points_list.append(np.concatenate((main_fault_points, second_fault_points)))\n",
    "                k+=1\n",
    "\n",
    "\n",
    "        # Add parallel faults\n",
    "        elif    (i >= n_simple_faults + 2*n_bent_faults + 2*n_cross_faults + 2*n_Y_faults) and (i <= n_simple_faults + 2*n_bent_faults + 2*n_cross_faults + 2*n_Y_faults -1 + 2*n_parallel_faults -1) and (n_parallel_faults != 0):\n",
    "            if k%2 == 0: # main points\n",
    "                (main_center, main_length, main_width, main_normal, main_length_axis, main_width_axis) = metadata\n",
    "                main_fault_points = generate_points_from_plane(main_center, main_length, main_width, main_normal, main_length_axis, main_width_axis)\n",
    "                k+=1\n",
    "            else:        # parallel points\n",
    "                (second_center, second_length, second_width, second_normal, second_length_axis, second_width_axis) = metadata\n",
    "                second_fault_points = generate_points_from_plane(second_center, second_length, second_width, second_normal, second_length_axis, second_width_axis)\n",
    "\n",
    "                # Concatenate main and parallel points into one array, and add to list.\n",
    "                points_list.append(np.concatenate((main_fault_points, second_fault_points)))\n",
    "                k+=1\n",
    "\n",
    "\n",
    "        # Add rest of faults that form the ladder structure\n",
    "        else: \n",
    "            (center, length, width, normal, length_axis, width_axis) = metadata\n",
    "            points_list.append(generate_points_from_plane(center, length, width, normal, length_axis, width_axis))\n",
    "\n",
    "        \n",
    "    return points_list\n",
    "\n",
    "\n",
    "def generate_dataset(n_simple_faults, n_bent_faults, n_cross_faults, n_Y_faults, n_parallel_faults, n_structures, VERBOSE=False):\n",
    "\n",
    "    fault_metadata_list = generate_faults_metadata(n_simple_faults, n_bent_faults, n_cross_faults, n_Y_faults, n_parallel_faults, n_structures, eps_center=0.1, domain_scale=1, VERBOSE=False)\n",
    "\n",
    "    fault_points_list = generate_point_list_from_metadata_list(fault_metadata_list, n_simple_faults, n_bent_faults, n_cross_faults, n_Y_faults, n_parallel_faults)\n",
    "    \n",
    "    return fault_points_list"
   ]
  },
  {
   "cell_type": "markdown",
   "metadata": {},
   "source": [
    "### Visualization functions"
   ]
  },
  {
   "cell_type": "code",
   "execution_count": 5,
   "metadata": {},
   "outputs": [],
   "source": [
    "def multi_static_plot_better(fault_points_list, fault_metadata_list=None, show_plane=False, show_axes=False):\n",
    "    \"\"\"\n",
    "    Visualize fault points in 3D and optionally plot the plane and axes.\n",
    "\n",
    "    Args:\n",
    "    - fault_points_list: List of fault points arrays (each array represents points for one fault)\n",
    "    - fault_metadata_list: List of fault metadata tuples (each tuple contains metadata for one fault)\n",
    "    - show_plane: Boolean indicating whether to plot the plane (default is False)\n",
    "    - show_axes: Boolean indicating whether to plot the axes (default is False)\n",
    "    \"\"\"\n",
    "    fig = plt.figure(figsize=(8, 6))\n",
    "    ax = fig.add_subplot(111, projection='3d')\n",
    "\n",
    "    # Plot event points for each fault\n",
    "    for i, fault_points in enumerate(fault_points_list):\n",
    "        ax.scatter(fault_points[:, 0], fault_points[:, 1], fault_points[:, 2], label=f'Fault {i+1}', s=5)\n",
    "\n",
    "    # Plot the plane and axes if requested\n",
    "    if show_plane or show_axes or fault_metadata_list != None:\n",
    "        for metadata in fault_metadata_list:\n",
    "            # Unpack plane data\n",
    "            (center, length, width, normal, length_axis, width_axis) = metadata\n",
    "\n",
    "            if show_plane:\n",
    "                # Define vertices of the plane\n",
    "                plane_vertices = center + np.array([-length/2, length/2, length/2, -length/2, -length/2])[:, None] * length_axis + np.array([-width/2, -width/2, width/2, width/2, -width/2])[:, None] * width_axis\n",
    "\n",
    "                # Plot the plane\n",
    "                ax.plot_trisurf(plane_vertices[:, 0], plane_vertices[:, 1], plane_vertices[:, 2], color='blue', alpha=0.2)\n",
    "\n",
    "            if show_axes:\n",
    "                # Plot length and width axes\n",
    "                ax.plot([center[0], center[0] + length_axis[0]*length/2],\n",
    "                        [center[1], center[1] + length_axis[1]*length/2],\n",
    "                        [center[2], center[2] + length_axis[2]*length/2], color='red', linewidth=3)\n",
    "\n",
    "                ax.plot([center[0], center[0] + width_axis[0]*width/2],\n",
    "                        [center[1], center[1] + width_axis[1]*width/2],\n",
    "                        [center[2], center[2] + width_axis[2]*width/2], color='green', linewidth=3)\n",
    "\n",
    "    ax.set_xlabel('X')\n",
    "    ax.set_ylabel('Y')\n",
    "    ax.set_zlabel('Z')\n",
    "    ax.set_title('Synthetic Seismic Data - Fault Points')\n",
    "    ax.legend()\n",
    "    plt.show()"
   ]
  },
  {
   "cell_type": "code",
   "execution_count": 6,
   "metadata": {},
   "outputs": [],
   "source": [
    "def multi_interactive_plot_better(fault_points_list, fault_metadata_list=None, show_plane=False, show_axes=False, domain_scale=1):\n",
    "    \"\"\"\n",
    "    Visualize 3D points of multiple faults in an interactive plot using Plotly.\n",
    "    \"\"\"\n",
    "\n",
    "    fig = go.Figure()\n",
    "\n",
    "    x_range_largest = [-1, 1]\n",
    "    y_range_largest = x_range_largest\n",
    "    z_range_largest = x_range_largest\n",
    "    \n",
    "    for i, points in enumerate(fault_points_list):\n",
    "        # Extract x, y, z coordinates from points\n",
    "        x_coords = points[:, 0]\n",
    "        y_coords = points[:, 1]\n",
    "        z_coords = points[:, 2]\n",
    "\n",
    "        # Plot the points\n",
    "        fig.add_trace(go.Scatter3d(\n",
    "            x=x_coords,\n",
    "            y=y_coords,\n",
    "            z=z_coords,\n",
    "            mode='markers',\n",
    "            marker=dict(\n",
    "                size=3,\n",
    "                opacity=0.8\n",
    "            ),\n",
    "            name=f'Fault {i+1}'\n",
    "        ))\n",
    "\n",
    "    if show_plane or show_axes or fault_metadata_list != None:\n",
    "        for j, metadata in enumerate(fault_metadata_list):\n",
    "            # Unpack plane data:\n",
    "            (center, length, width, normal, length_axis, width_axis) = metadata\n",
    "\n",
    "            if show_plane:\n",
    "                # Define vertices of the plane\n",
    "                plane_vertices = center + np.array([-length/2, length/2, length/2, -length/2, -length/2])[:, None] * length_axis + np.array([-width/2, -width/2, width/2, width/2, -width/2])[:, None] * width_axis\n",
    "\n",
    "                plane_trace = go.Mesh3d(x=plane_vertices[:, 0],\n",
    "                                        y=plane_vertices[:, 1],\n",
    "                                        z=plane_vertices[:, 2],\n",
    "                                        i=[0, 1, 2, 0],\n",
    "                                        j=[1, 2, 3, 4],\n",
    "                                        k=[2, 3, 4, 0],\n",
    "                                        opacity=0.2,\n",
    "                                        color='blue',\n",
    "                                        )\n",
    "                fig.add_trace(plane_trace)\n",
    "\n",
    "            if show_axes:\n",
    "                # Plot length and width axes\n",
    "                length_axis_trace = go.Scatter3d(x=[center[0], center[0] + length_axis[0]*length/2],\n",
    "                                                y=[center[1], center[1] + length_axis[1]*length/2],\n",
    "                                                z=[center[2], center[2] + length_axis[2]*length/2],\n",
    "                                                mode='lines',\n",
    "                                                line=dict(color='red', width=3),\n",
    "                                                )\n",
    "\n",
    "                width_axis_trace = go.Scatter3d(x=[center[0], center[0] + width_axis[0]*width/2],\n",
    "                                                y=[center[1], center[1] + width_axis[1]*width/2],\n",
    "                                                z=[center[2], center[2] + width_axis[2]*width/2],\n",
    "                                                mode='lines',\n",
    "                                                line=dict(color='green', width=3),\n",
    "                                                )\n",
    "                fig.add_trace(length_axis_trace)\n",
    "                fig.add_trace(width_axis_trace)\n",
    "\n",
    "    fig.update_layout(scene=dict(\n",
    "        xaxis_title='X',\n",
    "        yaxis_title='Y',\n",
    "        zaxis_title='Z'),\n",
    "        title='3D Visualization of Fault Points'\n",
    "    )\n",
    "\n",
    "    fig.show()"
   ]
  },
  {
   "cell_type": "markdown",
   "metadata": {},
   "source": [
    "## Example outputs"
   ]
  },
  {
   "cell_type": "code",
   "execution_count": 41,
   "metadata": {},
   "outputs": [
    {
     "name": "stdout",
     "output_type": "stream",
     "text": [
      "--------------------------------------------------\n",
      "    Generating 0 simple faults:\n",
      "--------------------------------------------------\n",
      "\n",
      "--------------------------------------------------\n",
      "    Generating 0 bent faults:\n",
      "--------------------------------------------------\n",
      "\n",
      "--------------------------------------------------\n",
      "    Generating 1 cross faults:\n",
      "--------------------------------------------------\n",
      "    Cross fault number: 1\n",
      "       First plane:\n",
      "         center: [-0.40749784 -0.17676335 -0.67404548] \n",
      "         length: 1.2690880580395931, width: 0.5662862668845218 \n",
      "         length_axis: [-0.12642108  0.57842934 -0.80587667],   width_axis: [-0.94691089  0.1717155   0.2717969 ]\n",
      "\n",
      "       Crosssed plane:\n",
      "         center: [-0.40749784 -0.17676335 -0.67404548] \n",
      "         length: 1.2690880580395931, width: 0.33977176013071303 \n",
      "         length_axis: [-0.94691089  0.1717155   0.2717969 ],   width_axis: [-0.12642108  0.57842934 -0.80587667]\n",
      "\n",
      "--------------------------------------------------\n",
      "    Generating 0 Y - faults:\n",
      "--------------------------------------------------\n",
      "\n",
      "--------------------------------------------------\n",
      "    Generating 0 parallel faults:\n",
      "--------------------------------------------------\n",
      "\n",
      "--------------------------------------------------\n",
      "    Generating 0 ladder-like structures:\n",
      "--------------------------------------------------\n"
     ]
    },
    {
     "data": {
      "application/vnd.plotly.v1+json": {
       "config": {
        "plotlyServerURL": "https://plot.ly"
       },
       "data": [
        {
         "marker": {
          "opacity": 0.8,
          "size": 3
         },
         "mode": "markers",
         "name": "Fault 1",
         "type": "scatter3d",
         "x": [
          -0.6916658521387301,
          -0.4481957022196409,
          -0.3780763052549747,
          -0.49350366826742764,
          -0.30526389434433204,
          -0.30355151736887237,
          -0.17166554919760144,
          -0.3367498046389093,
          -0.6450404487316376,
          -0.19198646188010626,
          -0.17047043008081078,
          -0.5239212486420827,
          -0.6813316968189338,
          -0.135968898134249,
          -0.7538038575591012,
          -0.2594109508998912,
          -0.1568099370954168,
          -0.5343199826621438,
          -0.3597844288484024,
          -0.4441725436741272,
          -0.6720437877391272,
          -0.35888898598093555,
          -0.5686027958904337,
          -0.21149548379467348,
          -0.28189749785967516,
          -0.4468737278414482,
          -0.1595842703508379,
          -0.23220015649217796,
          -0.323962342763071,
          -0.19353498262060448,
          -0.4335919518302818,
          -0.3938876146603161,
          -0.6724080354893782,
          -0.5664453743344241,
          -0.22756054164598682,
          -0.07140638249579001,
          -0.5425057417933415,
          -0.3921363748396605,
          -0.5275225415253286,
          -0.16736608440218867,
          -0.2311329858856278,
          -0.188962337002864,
          -0.2286469647800068,
          -0.5116496893720597,
          -0.2841624281547847,
          -0.40207305994149967,
          -0.5084272682311547,
          -0.15998581427452302,
          -0.21617623365025138,
          -0.3179626571861829,
          -0.5238356224753513,
          -0.4648895112529714,
          -0.1354669071285162,
          -0.26358269865321565,
          -0.3928517503564781,
          -0.6448543846378073,
          -0.285988480073612,
          -0.5603307965905922,
          -0.3487610115038087,
          -0.20253288463607222,
          -0.34128244988492695,
          -0.11115052034206471,
          -0.28906685953956346,
          -0.5799374894306907,
          -0.4346748449197453,
          -0.2619447059834166,
          -0.2720673682087206,
          -0.41987645255975814,
          -0.24699203601159953,
          -0.49618028450323826,
          -0.10309216094764999,
          -0.6769048294279625
         ],
         "y": [
          0.2167793710805323,
          -0.26639045901851016,
          -0.07916213610710886,
          0.323497221936075,
          -0.590995339311226,
          -0.2686806912323151,
          -0.15121165561468025,
          -0.478935390520578,
          0.06329391810760987,
          -0.16819917014794808,
          -0.3883791365152715,
          -0.1866201273217995,
          0.048902676547380515,
          -0.37502594023061625,
          0.019353796946184693,
          -0.20893968047859507,
          -0.4504317056155617,
          -0.06349285410099997,
          -0.0020502138034382555,
          -0.43102845451052374,
          -0.010108900448793555,
          0.0004101041274243017,
          0.07381264425506967,
          -0.3629516594595761,
          -0.40019247472110936,
          -0.11039359105974149,
          0.09426520627134402,
          0.08449828186119512,
          0.1603271099447929,
          -0.26869228708777854,
          -0.40497955587730944,
          -0.3459378984856959,
          0.21396964244843236,
          -0.48769504107632694,
          -0.5132384863041515,
          -0.5146547304849057,
          -0.3409378859825472,
          -0.2533832542408717,
          -0.48384086901927503,
          -0.12303765601694835,
          -0.18797040646794747,
          -0.31460469963569626,
          -0.25589165120958735,
          -0.5019374399798604,
          0.024133904653454247,
          -0.39980369812891636,
          0.033903241680878625,
          -0.24175811247564444,
          -0.6413789201858019,
          -0.45317234525728156,
          -0.3393691661404738,
          -0.18424238015759567,
          -0.519162251170362,
          -0.34730489766685213,
          -0.25895283587823215,
          -0.11840211838395634,
          0.16407910895904246,
          0.2112753517863959,
          -0.22677591333865282,
          -0.482573374963322,
          -0.41342310485012934,
          -0.1152591242429682,
          -0.18089966298441604,
          -0.20608139870574443,
          -0.3637162066018423,
          -0.4106047504624278,
          0.17951097311702424,
          -0.018615015981543234,
          -0.4121223485085194,
          -0.10746110267761756,
          -0.1267650277358275,
          0.28144313989737935
         ],
         "z": [
          -1.0866003544292773,
          -0.927269939778302,
          -0.8462211265489998,
          -1.0495403322233554,
          -0.4254950243220153,
          -0.656162055024928,
          -0.6174079404887933,
          -0.3113519886323254,
          -0.7996189074766036,
          -0.48176419814754207,
          -0.6669224866174964,
          -1.0038798411766583,
          -0.7734228070680503,
          -0.36633504338115075,
          -1.1028850538771562,
          -0.8016192784658394,
          -0.44056126036628024,
          -0.9476432937376703,
          -0.7900382765936045,
          -0.17562604912527463,
          -0.6684526951299123,
          -0.7899691990465106,
          -0.886247676997777,
          -0.6152630106387366,
          -0.4747323530356846,
          -0.8335757937729671,
          -0.8713263202296366,
          -0.8928575863148149,
          -1.1545412901527745,
          -0.5383665980526602,
          -0.3926007194685567,
          -0.0856318588728761,
          -0.8801346127329324,
          -0.402008240021467,
          -0.268985670257968,
          -0.23530166100841993,
          -0.0895149129900734,
          -0.5067493423425418,
          -0.12622128698435955,
          -0.9028256758315159,
          -0.43447007500056595,
          -0.3832754882577669,
          -0.8944094239400947,
          -0.10710785958291898,
          -0.7245939305871616,
          -0.25069995024696207,
          -0.8700379195499107,
          -0.6607194705707086,
          -0.38423368119209705,
          -0.6349924956758539,
          -0.37008535538829523,
          -0.5112105145522371,
          -0.327354958598113,
          -0.431166451237115,
          -0.3745755254994687,
          -0.7936026167375352,
          -1.1654217983723782,
          -1.0059226571756956,
          -0.3904535170252992,
          -0.6532865743656645,
          -0.8348730414129136,
          -0.6706656618166204,
          -0.43590132098898765,
          -0.6060975649630276,
          -0.058037518091457005,
          -0.31797469790858246,
          -1.06955000850837,
          -1.0869962985462078,
          -0.45326625566514933,
          -0.6421648024443555,
          -0.5737351900239777,
          -1.0739840768014395
         ]
        },
        {
         "marker": {
          "opacity": 0.8,
          "size": 3
         },
         "mode": "markers",
         "name": "Fault 2",
         "type": "scatter3d",
         "x": [
          -0.5941552200866332,
          -0.6715828327306054,
          -0.19047366920246722,
          -0.958090238915154,
          -0.8599807810595202,
          -0.8984157163404781,
          -0.9826414352621979,
          -0.14708908707083046,
          -0.1642757517803097,
          -0.7286999408733517,
          -0.2947889218369652,
          -0.5407871564849681,
          -0.9767112336768469,
          -0.7512074651458716,
          -0.7439463060520434,
          -0.4147863263769117,
          -0.6041474940338802,
          -0.054661828615540906,
          -1.0128106930297047,
          -0.0985629449821685,
          -0.5747462817257201,
          -0.20970558263115785,
          0.11894086948652718,
          -0.6444226403937109,
          0.18201349654860788,
          -0.9836390744706985,
          0.1485594759345046,
          -0.5702867056686851,
          -1.0081362826563425,
          -0.903470142097362,
          -0.7595473879679676,
          -0.7482773223729436,
          -0.597691106918254,
          -0.2950167371449439,
          -0.4440856349197274,
          -0.8130928128502791,
          -0.6215800220293021,
          -0.5511585439474358,
          -0.6124884688146383,
          -0.9035730115789264,
          -0.07268535964725356,
          -0.4599764253697178,
          -0.5783595114597584
         ],
         "y": [
          -0.2689352197361445,
          0.02155660993072238,
          -0.24288811506815314,
          -0.09709810690547416,
          -0.04306266596601097,
          -0.26183446216049433,
          -0.22694556854030834,
          -0.1952772132322836,
          -0.31513249049472547,
          -0.1077141498044091,
          -0.14232875271471573,
          -0.2332517099854736,
          -0.08886023410598659,
          -0.1077532033207209,
          -0.12265299884798538,
          -0.32272778759555387,
          -0.2417696871167206,
          -0.24297328203537558,
          -0.08513210607969504,
          -0.2247693685297782,
          -0.14497552752231907,
          -0.12209732496307993,
          -0.3051313492774349,
          -0.21302340577367787,
          -0.15709228222400293,
          -0.043170807930958864,
          -0.27300936059275316,
          -0.06586497256428485,
          -0.09203291763187704,
          -0.2573247913661338,
          -0.1337203586272364,
          -0.04296657972352118,
          -0.05268600133008461,
          -0.25637285229028645,
          -0.33154533092931526,
          -0.08104248519884696,
          -0.14005293411288433,
          -0.08727370553861906,
          -0.16670312607815302,
          -0.16848649205474947,
          -0.15594652533150727,
          -0.10045434357179545,
          -0.17200070548515484
         ],
         "z": [
          -0.5623171348135395,
          -0.6680949992024979,
          -0.7316305079622946,
          -0.6948268827518327,
          -0.5200638444528188,
          -0.5150206313262887,
          -0.41151801648059505,
          -0.8257938543934996,
          -0.8775193218414616,
          -0.4421997332889751,
          -0.8020225259028153,
          -0.5113298144423213,
          -0.3881095097300277,
          -0.3597997295037011,
          -0.5723711234844252,
          -0.7398852669910312,
          -0.6523545247399991,
          -0.6536206221276619,
          -0.6169860757606015,
          -0.7894761162365405,
          -0.6668969879334201,
          -0.7733911366166634,
          -0.9103122928723967,
          -0.496427638487346,
          -0.9239308924232839,
          -0.590727046530037,
          -0.7482712669523678,
          -0.6811610541517866,
          -0.727068849835266,
          -0.5911426156397013,
          -0.4168342586375331,
          -0.5223873673053236,
          -0.7350870390431727,
          -0.8629157087988581,
          -0.654722816801702,
          -0.5895130577762213,
          -0.7754902650547008,
          -0.663863325758266,
          -0.5410416440411314,
          -0.5789212232714763,
          -0.8919500193836026,
          -0.8121374691450531,
          -0.6420728454384386
         ]
        },
        {
         "color": "blue",
         "i": [
          0,
          1,
          2,
          0
         ],
         "j": [
          1,
          2,
          3,
          4
         ],
         "k": [
          2,
          3,
          4,
          0
         ],
         "opacity": 0.2,
         "type": "mesh3d",
         "x": [
          -0.059166782631733694,
          -0.2196062662513909,
          -0.7558288975301293,
          -0.5953894139104721,
          -0.059166782631733694
         ],
         "y": [
          -0.5924223031798722,
          0.14165546937512097,
          0.23889560148219846,
          -0.4951821710727947,
          -0.5924223031798722
         ],
         "z": [
          -0.23963868227741267,
          -1.2623671384158262,
          -1.1084522837905753,
          -0.0857238276521616,
          -0.23963868227741267
         ]
        },
        {
         "line": {
          "color": "red",
          "width": 3
         },
         "mode": "lines",
         "type": "scatter3d",
         "x": [
          -0.4074978400809315,
          -0.4877175818907601
         ],
         "y": [
          -0.17676335084883688,
          0.19027553542865971
         ],
         "z": [
          -0.6740454830339939,
          -1.1854097111032007
         ]
        },
        {
         "line": {
          "color": "green",
          "width": 3
         },
         "mode": "lines",
         "type": "scatter3d",
         "x": [
          -0.4074978400809315,
          -0.6756091557203007
         ],
         "y": [
          -0.17676335084883688,
          -0.12814328479529813
         ],
         "z": [
          -0.6740454830339939,
          -0.5970880557213684
         ]
        },
        {
         "color": "blue",
         "i": [
          0,
          1,
          2,
          0
         ],
         "j": [
          1,
          2,
          3,
          4
         ],
         "k": [
          2,
          3,
          4,
          0
         ],
         "opacity": 0.2,
         "type": "mesh3d",
         "x": [
          0.21483596581610287,
          -0.9868773329194049,
          -1.0298316459779657,
          0.17188165275754208,
          0.21483596581610287
         ],
         "y": [
          -0.3839913771449872,
          -0.16606928078510896,
          0.030464675447313405,
          -0.18745742091256481,
          -0.3839913771449872
         ],
         "z": [
          -0.7096055191050048,
          -0.36467131288728893,
          -0.638485446962983,
          -0.9834196531806989,
          -0.7096055191050048
         ]
        },
        {
         "line": {
          "color": "red",
          "width": 3
         },
         "mode": "lines",
         "type": "scatter3d",
         "x": [
          -0.4074978400809315,
          -1.0083544894486853
         ],
         "y": [
          -0.17676335084883688,
          -0.06780230266889778
         ],
         "z": [
          -0.6740454830339939,
          -0.501578379925136
         ]
        },
        {
         "line": {
          "color": "green",
          "width": 3
         },
         "mode": "lines",
         "type": "scatter3d",
         "x": [
          -0.4074978400809315,
          -0.4289749966102119
         ],
         "y": [
          -0.17676335084883688,
          -0.07849637273262569
         ],
         "z": [
          -0.6740454830339939,
          -0.810952550071841
         ]
        }
       ],
       "layout": {
        "scene": {
         "xaxis": {
          "title": {
           "text": "X"
          }
         },
         "yaxis": {
          "title": {
           "text": "Y"
          }
         },
         "zaxis": {
          "title": {
           "text": "Z"
          }
         }
        },
        "template": {
         "data": {
          "bar": [
           {
            "error_x": {
             "color": "#2a3f5f"
            },
            "error_y": {
             "color": "#2a3f5f"
            },
            "marker": {
             "line": {
              "color": "#E5ECF6",
              "width": 0.5
             },
             "pattern": {
              "fillmode": "overlay",
              "size": 10,
              "solidity": 0.2
             }
            },
            "type": "bar"
           }
          ],
          "barpolar": [
           {
            "marker": {
             "line": {
              "color": "#E5ECF6",
              "width": 0.5
             },
             "pattern": {
              "fillmode": "overlay",
              "size": 10,
              "solidity": 0.2
             }
            },
            "type": "barpolar"
           }
          ],
          "carpet": [
           {
            "aaxis": {
             "endlinecolor": "#2a3f5f",
             "gridcolor": "white",
             "linecolor": "white",
             "minorgridcolor": "white",
             "startlinecolor": "#2a3f5f"
            },
            "baxis": {
             "endlinecolor": "#2a3f5f",
             "gridcolor": "white",
             "linecolor": "white",
             "minorgridcolor": "white",
             "startlinecolor": "#2a3f5f"
            },
            "type": "carpet"
           }
          ],
          "choropleth": [
           {
            "colorbar": {
             "outlinewidth": 0,
             "ticks": ""
            },
            "type": "choropleth"
           }
          ],
          "contour": [
           {
            "colorbar": {
             "outlinewidth": 0,
             "ticks": ""
            },
            "colorscale": [
             [
              0,
              "#0d0887"
             ],
             [
              0.1111111111111111,
              "#46039f"
             ],
             [
              0.2222222222222222,
              "#7201a8"
             ],
             [
              0.3333333333333333,
              "#9c179e"
             ],
             [
              0.4444444444444444,
              "#bd3786"
             ],
             [
              0.5555555555555556,
              "#d8576b"
             ],
             [
              0.6666666666666666,
              "#ed7953"
             ],
             [
              0.7777777777777778,
              "#fb9f3a"
             ],
             [
              0.8888888888888888,
              "#fdca26"
             ],
             [
              1,
              "#f0f921"
             ]
            ],
            "type": "contour"
           }
          ],
          "contourcarpet": [
           {
            "colorbar": {
             "outlinewidth": 0,
             "ticks": ""
            },
            "type": "contourcarpet"
           }
          ],
          "heatmap": [
           {
            "colorbar": {
             "outlinewidth": 0,
             "ticks": ""
            },
            "colorscale": [
             [
              0,
              "#0d0887"
             ],
             [
              0.1111111111111111,
              "#46039f"
             ],
             [
              0.2222222222222222,
              "#7201a8"
             ],
             [
              0.3333333333333333,
              "#9c179e"
             ],
             [
              0.4444444444444444,
              "#bd3786"
             ],
             [
              0.5555555555555556,
              "#d8576b"
             ],
             [
              0.6666666666666666,
              "#ed7953"
             ],
             [
              0.7777777777777778,
              "#fb9f3a"
             ],
             [
              0.8888888888888888,
              "#fdca26"
             ],
             [
              1,
              "#f0f921"
             ]
            ],
            "type": "heatmap"
           }
          ],
          "heatmapgl": [
           {
            "colorbar": {
             "outlinewidth": 0,
             "ticks": ""
            },
            "colorscale": [
             [
              0,
              "#0d0887"
             ],
             [
              0.1111111111111111,
              "#46039f"
             ],
             [
              0.2222222222222222,
              "#7201a8"
             ],
             [
              0.3333333333333333,
              "#9c179e"
             ],
             [
              0.4444444444444444,
              "#bd3786"
             ],
             [
              0.5555555555555556,
              "#d8576b"
             ],
             [
              0.6666666666666666,
              "#ed7953"
             ],
             [
              0.7777777777777778,
              "#fb9f3a"
             ],
             [
              0.8888888888888888,
              "#fdca26"
             ],
             [
              1,
              "#f0f921"
             ]
            ],
            "type": "heatmapgl"
           }
          ],
          "histogram": [
           {
            "marker": {
             "pattern": {
              "fillmode": "overlay",
              "size": 10,
              "solidity": 0.2
             }
            },
            "type": "histogram"
           }
          ],
          "histogram2d": [
           {
            "colorbar": {
             "outlinewidth": 0,
             "ticks": ""
            },
            "colorscale": [
             [
              0,
              "#0d0887"
             ],
             [
              0.1111111111111111,
              "#46039f"
             ],
             [
              0.2222222222222222,
              "#7201a8"
             ],
             [
              0.3333333333333333,
              "#9c179e"
             ],
             [
              0.4444444444444444,
              "#bd3786"
             ],
             [
              0.5555555555555556,
              "#d8576b"
             ],
             [
              0.6666666666666666,
              "#ed7953"
             ],
             [
              0.7777777777777778,
              "#fb9f3a"
             ],
             [
              0.8888888888888888,
              "#fdca26"
             ],
             [
              1,
              "#f0f921"
             ]
            ],
            "type": "histogram2d"
           }
          ],
          "histogram2dcontour": [
           {
            "colorbar": {
             "outlinewidth": 0,
             "ticks": ""
            },
            "colorscale": [
             [
              0,
              "#0d0887"
             ],
             [
              0.1111111111111111,
              "#46039f"
             ],
             [
              0.2222222222222222,
              "#7201a8"
             ],
             [
              0.3333333333333333,
              "#9c179e"
             ],
             [
              0.4444444444444444,
              "#bd3786"
             ],
             [
              0.5555555555555556,
              "#d8576b"
             ],
             [
              0.6666666666666666,
              "#ed7953"
             ],
             [
              0.7777777777777778,
              "#fb9f3a"
             ],
             [
              0.8888888888888888,
              "#fdca26"
             ],
             [
              1,
              "#f0f921"
             ]
            ],
            "type": "histogram2dcontour"
           }
          ],
          "mesh3d": [
           {
            "colorbar": {
             "outlinewidth": 0,
             "ticks": ""
            },
            "type": "mesh3d"
           }
          ],
          "parcoords": [
           {
            "line": {
             "colorbar": {
              "outlinewidth": 0,
              "ticks": ""
             }
            },
            "type": "parcoords"
           }
          ],
          "pie": [
           {
            "automargin": true,
            "type": "pie"
           }
          ],
          "scatter": [
           {
            "fillpattern": {
             "fillmode": "overlay",
             "size": 10,
             "solidity": 0.2
            },
            "type": "scatter"
           }
          ],
          "scatter3d": [
           {
            "line": {
             "colorbar": {
              "outlinewidth": 0,
              "ticks": ""
             }
            },
            "marker": {
             "colorbar": {
              "outlinewidth": 0,
              "ticks": ""
             }
            },
            "type": "scatter3d"
           }
          ],
          "scattercarpet": [
           {
            "marker": {
             "colorbar": {
              "outlinewidth": 0,
              "ticks": ""
             }
            },
            "type": "scattercarpet"
           }
          ],
          "scattergeo": [
           {
            "marker": {
             "colorbar": {
              "outlinewidth": 0,
              "ticks": ""
             }
            },
            "type": "scattergeo"
           }
          ],
          "scattergl": [
           {
            "marker": {
             "colorbar": {
              "outlinewidth": 0,
              "ticks": ""
             }
            },
            "type": "scattergl"
           }
          ],
          "scattermapbox": [
           {
            "marker": {
             "colorbar": {
              "outlinewidth": 0,
              "ticks": ""
             }
            },
            "type": "scattermapbox"
           }
          ],
          "scatterpolar": [
           {
            "marker": {
             "colorbar": {
              "outlinewidth": 0,
              "ticks": ""
             }
            },
            "type": "scatterpolar"
           }
          ],
          "scatterpolargl": [
           {
            "marker": {
             "colorbar": {
              "outlinewidth": 0,
              "ticks": ""
             }
            },
            "type": "scatterpolargl"
           }
          ],
          "scatterternary": [
           {
            "marker": {
             "colorbar": {
              "outlinewidth": 0,
              "ticks": ""
             }
            },
            "type": "scatterternary"
           }
          ],
          "surface": [
           {
            "colorbar": {
             "outlinewidth": 0,
             "ticks": ""
            },
            "colorscale": [
             [
              0,
              "#0d0887"
             ],
             [
              0.1111111111111111,
              "#46039f"
             ],
             [
              0.2222222222222222,
              "#7201a8"
             ],
             [
              0.3333333333333333,
              "#9c179e"
             ],
             [
              0.4444444444444444,
              "#bd3786"
             ],
             [
              0.5555555555555556,
              "#d8576b"
             ],
             [
              0.6666666666666666,
              "#ed7953"
             ],
             [
              0.7777777777777778,
              "#fb9f3a"
             ],
             [
              0.8888888888888888,
              "#fdca26"
             ],
             [
              1,
              "#f0f921"
             ]
            ],
            "type": "surface"
           }
          ],
          "table": [
           {
            "cells": {
             "fill": {
              "color": "#EBF0F8"
             },
             "line": {
              "color": "white"
             }
            },
            "header": {
             "fill": {
              "color": "#C8D4E3"
             },
             "line": {
              "color": "white"
             }
            },
            "type": "table"
           }
          ]
         },
         "layout": {
          "annotationdefaults": {
           "arrowcolor": "#2a3f5f",
           "arrowhead": 0,
           "arrowwidth": 1
          },
          "autotypenumbers": "strict",
          "coloraxis": {
           "colorbar": {
            "outlinewidth": 0,
            "ticks": ""
           }
          },
          "colorscale": {
           "diverging": [
            [
             0,
             "#8e0152"
            ],
            [
             0.1,
             "#c51b7d"
            ],
            [
             0.2,
             "#de77ae"
            ],
            [
             0.3,
             "#f1b6da"
            ],
            [
             0.4,
             "#fde0ef"
            ],
            [
             0.5,
             "#f7f7f7"
            ],
            [
             0.6,
             "#e6f5d0"
            ],
            [
             0.7,
             "#b8e186"
            ],
            [
             0.8,
             "#7fbc41"
            ],
            [
             0.9,
             "#4d9221"
            ],
            [
             1,
             "#276419"
            ]
           ],
           "sequential": [
            [
             0,
             "#0d0887"
            ],
            [
             0.1111111111111111,
             "#46039f"
            ],
            [
             0.2222222222222222,
             "#7201a8"
            ],
            [
             0.3333333333333333,
             "#9c179e"
            ],
            [
             0.4444444444444444,
             "#bd3786"
            ],
            [
             0.5555555555555556,
             "#d8576b"
            ],
            [
             0.6666666666666666,
             "#ed7953"
            ],
            [
             0.7777777777777778,
             "#fb9f3a"
            ],
            [
             0.8888888888888888,
             "#fdca26"
            ],
            [
             1,
             "#f0f921"
            ]
           ],
           "sequentialminus": [
            [
             0,
             "#0d0887"
            ],
            [
             0.1111111111111111,
             "#46039f"
            ],
            [
             0.2222222222222222,
             "#7201a8"
            ],
            [
             0.3333333333333333,
             "#9c179e"
            ],
            [
             0.4444444444444444,
             "#bd3786"
            ],
            [
             0.5555555555555556,
             "#d8576b"
            ],
            [
             0.6666666666666666,
             "#ed7953"
            ],
            [
             0.7777777777777778,
             "#fb9f3a"
            ],
            [
             0.8888888888888888,
             "#fdca26"
            ],
            [
             1,
             "#f0f921"
            ]
           ]
          },
          "colorway": [
           "#636efa",
           "#EF553B",
           "#00cc96",
           "#ab63fa",
           "#FFA15A",
           "#19d3f3",
           "#FF6692",
           "#B6E880",
           "#FF97FF",
           "#FECB52"
          ],
          "font": {
           "color": "#2a3f5f"
          },
          "geo": {
           "bgcolor": "white",
           "lakecolor": "white",
           "landcolor": "#E5ECF6",
           "showlakes": true,
           "showland": true,
           "subunitcolor": "white"
          },
          "hoverlabel": {
           "align": "left"
          },
          "hovermode": "closest",
          "mapbox": {
           "style": "light"
          },
          "paper_bgcolor": "white",
          "plot_bgcolor": "#E5ECF6",
          "polar": {
           "angularaxis": {
            "gridcolor": "white",
            "linecolor": "white",
            "ticks": ""
           },
           "bgcolor": "#E5ECF6",
           "radialaxis": {
            "gridcolor": "white",
            "linecolor": "white",
            "ticks": ""
           }
          },
          "scene": {
           "xaxis": {
            "backgroundcolor": "#E5ECF6",
            "gridcolor": "white",
            "gridwidth": 2,
            "linecolor": "white",
            "showbackground": true,
            "ticks": "",
            "zerolinecolor": "white"
           },
           "yaxis": {
            "backgroundcolor": "#E5ECF6",
            "gridcolor": "white",
            "gridwidth": 2,
            "linecolor": "white",
            "showbackground": true,
            "ticks": "",
            "zerolinecolor": "white"
           },
           "zaxis": {
            "backgroundcolor": "#E5ECF6",
            "gridcolor": "white",
            "gridwidth": 2,
            "linecolor": "white",
            "showbackground": true,
            "ticks": "",
            "zerolinecolor": "white"
           }
          },
          "shapedefaults": {
           "line": {
            "color": "#2a3f5f"
           }
          },
          "ternary": {
           "aaxis": {
            "gridcolor": "white",
            "linecolor": "white",
            "ticks": ""
           },
           "baxis": {
            "gridcolor": "white",
            "linecolor": "white",
            "ticks": ""
           },
           "bgcolor": "#E5ECF6",
           "caxis": {
            "gridcolor": "white",
            "linecolor": "white",
            "ticks": ""
           }
          },
          "title": {
           "x": 0.05
          },
          "xaxis": {
           "automargin": true,
           "gridcolor": "white",
           "linecolor": "white",
           "ticks": "",
           "title": {
            "standoff": 15
           },
           "zerolinecolor": "white",
           "zerolinewidth": 2
          },
          "yaxis": {
           "automargin": true,
           "gridcolor": "white",
           "linecolor": "white",
           "ticks": "",
           "title": {
            "standoff": 15
           },
           "zerolinecolor": "white",
           "zerolinewidth": 2
          }
         }
        },
        "title": {
         "text": "3D Visualization of Fault Points"
        }
       }
      }
     },
     "metadata": {},
     "output_type": "display_data"
    }
   ],
   "source": [
    "n_simple_faults = 0\n",
    "n_bent_faults = 0\n",
    "n_cross_faults = 1\n",
    "n_Y_faults = 0\n",
    "n_parallel_faults = 0\n",
    "n_structures = 0\n",
    "\n",
    "# Generate fault metadata \n",
    "fault_metadata_list = generate_faults_metadata(n_simple_faults, n_bent_faults, n_cross_faults, n_Y_faults, n_parallel_faults, n_structures, eps_center=0.1, domain_scale=1, VERBOSE=True)\n",
    "\n",
    "# Generate point cloud for the fault \n",
    "fault_points_list = generate_point_list_from_metadata_list(fault_metadata_list, n_simple_faults, n_bent_faults, n_cross_faults, n_Y_faults, n_parallel_faults)\n",
    "\n",
    "#multi_static_plot_better(fault_points_list, fault_metadata_list, show_plane=True, show_axes=True)\n",
    "multi_interactive_plot_better(fault_points_list, fault_metadata_list, show_plane=True, show_axes=True)\n"
   ]
  },
  {
   "cell_type": "markdown",
   "metadata": {},
   "source": [
    "## Generating a larger dataset"
   ]
  },
  {
   "cell_type": "code",
   "execution_count": 39,
   "metadata": {},
   "outputs": [
    {
     "data": {
      "image/png": "[encoded data removed]",
      "text/plain": [
       "<Figure size 800x600 with 1 Axes>"
      ]
     },
     "metadata": {},
     "output_type": "display_data"
    },
    {
     "data": {
      "application/vnd.plotly.v1+json": {
       "config": {
        "plotlyServerURL": "https://plot.ly"
       },
       "data": [
        {
         "marker": {
          "opacity": 0.8,
          "size": 3
         },
         "mode": "markers",
         "name": "Fault 1",
         "type": "scatter3d",
         "x": [
          -0.547849037642344,
          -0.8755960813824327,
          -0.6346806521170848,
          -1.0534282721896748,
          -1.203716256052429,
          -0.9236260463010788,
          -0.8157292360219528,
          -0.5467949788471659,
          -0.670646941329829,
          -1.1081818105594068,
          -0.6011050708159004,
          -0.9488241444148386,
          -0.9286119209237002,
          -0.6709656032789166,
          -1.0742972072312273,
          -0.9758500196143418,
          -0.9896319993282712,
          -1.0146043006114183,
          -0.8388529279514508,
          -0.7842446886353615,
          -0.917131053552386,
          -0.5910398517172234,
          -1.0279465198965398,
          -0.9059795321587087,
          -1.1180824967662413,
          -0.9576525613390615,
          -1.3133292929100735,
          -0.7325985933535596,
          -1.2963450569716262,
          -0.6481778260057169,
          -1.0391328315760788,
          -0.9711845048616461,
          -0.9345064941328481,
          -1.0338738608893134,
          -0.9851602401925663,
          -0.5944016247947254,
          -0.7578287722897233,
          -1.0777420753899833,
          -1.0842284622133078,
          -0.916348654974557,
          -1.2164937662188537,
          -1.0714823635718544,
          -1.2154774402452475,
          -0.7943188997257734,
          -1.0331440702681876,
          -0.9507268221646265,
          -0.8506059762712471,
          -0.5181854095059834,
          -0.6271496246820354,
          -1.0110707160486685,
          -0.7240203884450436,
          -1.0805874928590646,
          -1.2682279809321053,
          -0.9642040474139196,
          -1.1337909159182962,
          -0.9279641030171492,
          -0.723701813089846,
          -0.7030949795054513,
          -0.6520313611084589,
          -1.3245107517521517,
          -1.22487547647219,
          -1.0420182603852106,
          -0.731630586748832,
          -0.900441707900368,
          -0.552204892602221,
          -0.7877851092210012,
          -1.250259665727306,
          -1.1328260946634743,
          -1.0069426876917014,
          -0.5851936968809062,
          -0.7439908547134247,
          -0.3852996983591649,
          -0.46411775913681513,
          -0.4378320848777961,
          -0.5909031514887194,
          -0.40176251279344155,
          -0.7137416781100234,
          -0.46748684282263014,
          -0.7311255934933812,
          -0.5612252137943298,
          -0.6153382048902517,
          -0.6203409749485612,
          -0.6282358091358876,
          -0.7677266819466638,
          -0.46471210295729154,
          -0.3860241338213005,
          -0.6149053056303515,
          -0.8382006180746572,
          -0.3763828915101297,
          -0.6099392746502462,
          -0.5943506850488112,
          -0.8729535229456374,
          -0.6725649716523988,
          -0.6536038540610133
         ],
         "y": [
          -0.41502468559321576,
          0.025446979445411,
          -0.202879608197943,
          -0.28490643132676563,
          -0.25379375547887373,
          0.04151108077775301,
          -0.2884963675710959,
          -0.4467677387846643,
          -0.36099743127449646,
          -0.35187920203129214,
          -0.17060689871464832,
          0.00780542828289961,
          -0.24162214635533533,
          -0.3925759663966474,
          -0.3265805297033556,
          -0.13987682297904808,
          -0.267839567184052,
          -0.3975082371167623,
          -0.5502855858859824,
          0.017363494444745498,
          -0.4451795681870206,
          -0.1730200953863486,
          -0.4628698626492441,
          -0.19843441910366733,
          -0.22159891063534112,
          0.11999525099775918,
          -0.15844651125183962,
          -0.43381467026139625,
          -0.010695359475340671,
          -0.4235392016923785,
          0.004211024348044545,
          -0.078296767442114,
          -0.11953449818539019,
          -0.38415943116508866,
          0.05070056613818552,
          -0.07665852374996282,
          -0.5412553528048936,
          -0.3844355755558874,
          0.005910698322301511,
          -0.07012214074000399,
          -0.030716358974622132,
          -0.20619405113765088,
          -0.05316166094885441,
          -0.34459115899268444,
          -0.006204803844549779,
          -0.27545775843491693,
          -0.18057209132772387,
          -0.5438871647361654,
          -0.41245151672548197,
          -0.33407516934986053,
          -0.44175043999837527,
          -0.22778724757687496,
          -0.22124557984699653,
          0.07247276877681015,
          -0.2209993208987815,
          -0.46811215401497674,
          -0.13177423351440945,
          -0.450447769743799,
          -0.15016109086604829,
          0.03203243092826448,
          -0.13337684012454012,
          -0.2247439478463315,
          0.01904553150025111,
          0.09546558885089365,
          -0.21914337669871692,
          -0.08422601016451409,
          -0.1768775898565159,
          -0.24158778329694264,
          -0.22225288397951198,
          -0.7787610255486016,
          -0.8137822802128923,
          -0.846782306730914,
          -0.7097886454502023,
          -0.8018405181595052,
          -0.5658263290712741,
          -0.9345530691780735,
          -0.6394267849285057,
          -0.7808665328755006,
          -0.6902865729541428,
          -0.5717861729623376,
          -0.609896960276076,
          -0.7635552162289336,
          -0.648922651840963,
          -0.8444304194959735,
          -0.799198136068938,
          -0.8619037668355002,
          -0.707795260014535,
          -0.5453079425178607,
          -1.0178519190061412,
          -0.75350516978788,
          -0.709895314126845,
          -0.5237827360026016,
          -0.9931529104952121,
          -0.8265629610103982
         ],
         "z": [
          0.1655718976209815,
          0.6764356189833572,
          -0.05721413409905224,
          0.36301717709352077,
          0.6101841860748739,
          0.7826299111806515,
          0.4999502212604613,
          0.26898124149674757,
          0.03718391644678737,
          -0.03888798540504616,
          0.5660279062179762,
          0.944267081917233,
          0.566779191562252,
          0.047314852821093864,
          0.17025589349133274,
          0.5198037021424027,
          0.3362313461591613,
          0.13544503200264554,
          0.1903067942235606,
          0.40991497859823833,
          0.14094727351292663,
          0.441577508264174,
          0.4359025948458924,
          0.8076861967982454,
          1.039788206220111,
          0.5678740148672338,
          0.9647551993277458,
          0.11248551857937146,
          0.5268059838115571,
          0.17884725922824476,
          0.5199571465374002,
          0.8396215734062304,
          0.6323662584869794,
          0.33829999541483846,
          0.33113005886792535,
          0.30163678078863193,
          0.19766608898818883,
          0.19565388434494949,
          0.3607278555504308,
          0.48376088399882444,
          0.639410286104527,
          0.8105140140736808,
          0.9410673806911457,
          -0.0209413332387665,
          0.6702474092043735,
          0.3753210826336819,
          0.2188993804135551,
          0.19060663503767133,
          0.4211859073175097,
          0.2678848832117536,
          0.1698988926921524,
          0.6187857984420565,
          0.7445006561476534,
          0.720347419053392,
          0.4571259331909894,
          0.32127988858322737,
          0.42945416924112123,
          0.0798370169316637,
          0.6375182374139176,
          0.7445686882836275,
          0.6055400609145183,
          0.7072936638407671,
          0.5015777117556668,
          0.7101857237151001,
          0.17464788650353974,
          0.7864490365006931,
          0.6447828648811997,
          0.5824746367027074,
          0.37383635344601673,
          -0.07219867979427783,
          -0.1180797128199983,
          -0.2914890572289665,
          -0.07816696787896261,
          -0.07344840545217324,
          0.060104930898550804,
          -0.2089597140710526,
          -0.15279186704867134,
          -0.18231992695730315,
          -0.105824403979928,
          0.0077449174138635125,
          -0.02947082248988695,
          -0.0035459358819537184,
          0.056924723312638356,
          -0.15036453733676033,
          -0.10768725275245508,
          -0.13947106498575257,
          -0.09220551986030287,
          -0.09271105697259487,
          -0.13566494373743537,
          -0.004519965641867532,
          -0.05087809606056173,
          -0.00639899776875575,
          -0.13380310728557673,
          -0.17547079806955843
         ]
        },
        {
         "marker": {
          "opacity": 0.8,
          "size": 3
         },
         "mode": "markers",
         "name": "Fault 2",
         "type": "scatter3d",
         "x": [
          -0.00014627026371254181,
          0.041035303979805565,
          0.676817679771454,
          0.3517589393753613,
          0.7892185933866392,
          0.6145451110143714,
          0.44613710088288183,
          0.31776346321833915,
          0.09415153175818124,
          0.50670342146616,
          -0.034549930138055504,
          0.4253719403008968,
          0.030626257447207938,
          0.47846050249469113,
          0.44044775826341015,
          0.9259017902418472,
          0.4267618037707498,
          0.7384289449035514,
          0.12822562621652675,
          0.75298342344275,
          0.6209048562120972,
          0.34074577769852576,
          0.38469408363552837,
          0.12250893756841832,
          0.6068952256410654,
          0.6475735134320237,
          0.6828491205220516,
          0.04239928477083142,
          0.2866891197043416,
          0.468640284038222,
          0.1790627965584091,
          0.20448428199778368,
          0.6591399124116972,
          0.3634831392820402,
          0.2086438400604132,
          0.2902484879519024,
          0.6297068355586446,
          0.6280622377181349,
          0.43715109572921323,
          0.4070528509314783,
          0.7085434781809126,
          0.5557849994095007,
          0.689467661723677,
          0.1780908018498953,
          1.006217994013501,
          0.6557354656435567,
          0.38072035623342265,
          0.6676913110490871,
          0.5890512844781317,
          0.27308681239712407,
          -0.0072672685320811295,
          0.005936444940380222,
          0.6103406548502228,
          0.8495415690598731,
          0.1810911900788898,
          0.33511785380915265,
          0.21340316584235258,
          0.4645543303615313,
          0.4070007360775632,
          0.7078327587907612,
          0.12196843976562965,
          0.5991227622483405,
          0.5809251234478547,
          0.5722611911152946,
          0.2463367907560907,
          0.26718908325015067,
          0.3467404987182717,
          0.9041072179912483,
          1.14927088195643,
          0.9716964964811522,
          1.2313681385049942,
          1.1843599317232978,
          1.3831689821692916,
          1.3744320188991745,
          1.0177988193682879,
          0.792516443595894,
          1.006731100476956,
          0.7455986591489858,
          1.028220964336246,
          0.8111699644922501,
          1.2171974066259788,
          1.4204062171754486,
          1.0402558385159313,
          0.8212275700822959,
          1.1038991437716792,
          1.0375103593357669,
          1.0766864078541505,
          0.7982813135359828,
          1.0207288522669877,
          0.7630827303733445,
          1.202524885917282,
          0.950282296979649,
          1.3588381121962685,
          1.1294072890478775,
          0.945487687507071,
          1.2327031988492414,
          0.9392726407878956,
          1.264456120984327,
          0.778535783169476,
          0.9709404314662671
         ],
         "y": [
          -0.5713073131676254,
          -0.5947968077451261,
          -0.6732629374711847,
          -0.5289917847204364,
          -0.8165194424745883,
          -0.7140031879649891,
          -1.0425720166864267,
          -0.5563587652166831,
          -0.5169957439715023,
          -0.7046989961338419,
          -0.7540939591629358,
          -0.8956457072943651,
          -0.5885984031412346,
          -0.9788846077358035,
          -0.1527187600873926,
          -0.7054728078222321,
          -0.5798408311380497,
          -0.7991889229975261,
          -0.6760829169660524,
          -0.6644258876220505,
          -0.7853828446374505,
          -0.6415208286195967,
          -0.6852148288263723,
          -0.6891485180461763,
          -1.023786615413978,
          -0.7533592195203225,
          -0.8387253266758301,
          -0.8016560496412067,
          -0.5312659650333361,
          -0.6659513620101247,
          -0.3982895219216708,
          -0.8543232686239427,
          -0.7869170064797346,
          -0.8539853562939844,
          -0.5258979732148347,
          -0.5893748915703444,
          -0.49732321541067925,
          -0.8996218025812365,
          -0.8944952078499478,
          -0.5750798384045623,
          -0.7268612000571955,
          -0.6573722574454767,
          -0.731016388411816,
          -0.5344430946387022,
          -0.7514184948050844,
          -0.8309678961158574,
          -0.6287531515189786,
          -0.7352247349138271,
          -0.6786148168626598,
          -0.7157563880061488,
          -0.6253061383752421,
          -0.5715879317527504,
          -0.7127003705148027,
          -0.8943435934610624,
          -0.6342520386446339,
          -0.8264019780494644,
          -0.9207967761712601,
          -0.8259288114985837,
          -0.37380417947644906,
          -0.8489874317811944,
          -0.6646079291264825,
          -0.5418950191129299,
          -0.8649052467012333,
          -0.5782829559956254,
          -0.785525496797513,
          -0.7899263875099678,
          -0.8426407591503781,
          -0.9734080438192635,
          -1.0876008701591755,
          -0.7269886829286053,
          -1.0996059623819674,
          -1.083480762060037,
          -1.0871138371497273,
          -1.0615891862883429,
          -1.0388844445893715,
          -0.980467906083128,
          -0.7922228711553283,
          -0.7979568176024964,
          -1.0459556077457715,
          -0.8681295234976011,
          -1.0460173679631193,
          -0.8866372484887816,
          -0.8256951586733677,
          -0.8100769111309428,
          -0.966340221865528,
          -1.03091177029059,
          -0.8910651444344592,
          -0.9753884921335586,
          -1.1152437284948913,
          -0.7945149414583074,
          -0.8296020810794644,
          -0.9437228412788539,
          -0.9441821247391323,
          -0.9690157190026079,
          -0.8204593267409988,
          -0.9575665636844201,
          -0.8677014931858282,
          -1.0546197666610786,
          -0.8166246303915169,
          -0.8498248050474789
         ],
         "z": [
          -0.037361369018807315,
          0.04929098428521489,
          0.06239090636787538,
          -0.5169518569858814,
          0.21413761586325303,
          0.44544485905830933,
          0.33112748843736867,
          -0.14038583502777086,
          0.028538539443735078,
          0.14487204739798215,
          -0.06830235477793925,
          0.13359320704964603,
          -0.2589075623107056,
          -0.43220074977792255,
          -0.29833460189285343,
          0.17923033572284414,
          -0.06666324349352486,
          0.3417171057363673,
          -0.21091524518180574,
          -0.08325311941364405,
          -0.3117770867894867,
          -0.04046042095229022,
          -0.06599405480001938,
          -0.1817495711277441,
          0.28694823818177095,
          -0.02603247555575815,
          0.427443603001179,
          -0.10312739766912381,
          -0.36356993323981024,
          -0.2792667510250288,
          -0.244527125372446,
          -0.23722871209160118,
          -0.29078856864373576,
          -0.3496673026396401,
          -0.30250086258301745,
          -0.16013116996258017,
          0.36457271773567024,
          0.05085759844231345,
          0.07523653621843207,
          -0.20024205689972874,
          -0.17566477775093123,
          0.024939517134062436,
          0.12417371349235078,
          -0.4761671976722719,
          -0.004218930631016986,
          0.24825211003749892,
          -0.4211929494179987,
          0.48559749410985026,
          -0.19226314319290813,
          -0.3595887673735974,
          -0.28091393400358533,
          -0.0603641477780965,
          0.40048915789450334,
          0.06731535417762013,
          -0.12399701361716606,
          0.13409030711985392,
          -0.04824881574387003,
          0.17850286636327792,
          -0.2810294239192578,
          -0.0831312596107289,
          -0.08400673477494207,
          0.2602821979750489,
          0.3653468250150995,
          0.11101296637048559,
          0.14421791887913335,
          -0.6095252175862387,
          -0.5447162270785356,
          0.579944953552794,
          0.5965415765974721,
          0.18993878102333273,
          0.5653899654945886,
          0.5697513668301096,
          0.4591510929270653,
          0.48170021318893447,
          0.2591107148818988,
          0.2581938972163776,
          0.2013811697908332,
          0.38525429720238363,
          0.706275787946101,
          0.44507022766639515,
          0.8044004236345819,
          0.615101004439263,
          0.19284849352655445,
          0.42083665133843495,
          0.5068730089808277,
          0.5853764389788968,
          0.6968153215647656,
          0.28558886767794023,
          0.6506306917021794,
          0.4510999236069478,
          0.38856607015151823,
          0.40010019040287526,
          0.6637720170027342,
          0.35221112008183836,
          0.3887865166801734,
          0.7981368530610101,
          0.35912305788162446,
          0.45787400615496343,
          0.389957819055422,
          0.41676556126983616
         ]
        },
        {
         "marker": {
          "opacity": 0.8,
          "size": 3
         },
         "mode": "markers",
         "name": "Fault 3",
         "type": "scatter3d",
         "x": [
          -0.30127914963075697,
          -0.3130149163331983,
          0.2949189993921622,
          0.19292075685048932,
          0.2942565151075903,
          0.6218877376212343,
          -0.055961794963262944,
          0.3771130262401118,
          0.6497396232905415,
          0.12075026515134389,
          0.18787209701976,
          -0.11612403592856703,
          0.7423805019393999,
          0.7256726901746057,
          0.6781314483397304,
          0.6260832591678823,
          -0.10318627311491071,
          -0.00754243873453482,
          -0.21745919961575336,
          0.6295932997210092,
          0.2492806733158328,
          0.7564465986342597,
          0.16277256127248277,
          0.5016429198758452,
          0.4952870459195426,
          -0.23682588912981883,
          0.04516249868891824,
          0.4684087754951233,
          0.05222431140897636,
          -0.25303270412160467,
          0.30750669322524615,
          0.4443518702604763,
          0.1865588033313209,
          -0.03196089896678633,
          0.682860150135091,
          0.4359137432946609,
          -0.17950734424015083,
          0.3815475448641017,
          0.6345225123121734,
          -0.2142271156286796,
          0.32574433608530523,
          0.6507575840187135,
          0.2790938373465164,
          0.6205780774643911,
          -0.13280832571065795,
          0.7947434405775655,
          0.11961537220648849,
          -0.09719455789961676,
          0.6756320559108867,
          0.6213217609131687,
          0.656465224014958,
          0.3324119032122901,
          -0.05645866418910197,
          0.044472337002552625,
          0.07310931677513242,
          0.09031211974582154,
          0.021930976283845882,
          0.13331917831364107,
          0.03923744737507498,
          0.06899738842274705,
          0.05991704198065012,
          -0.03891802512266579,
          -0.035218183896171124,
          0.17867300195802344,
          0.08274506410900306,
          0.11884437143308155,
          0.047433316260178056,
          0.031870518779125695
         ],
         "y": [
          0.3133970017437871,
          0.30000114345998696,
          -0.1692978212705169,
          0.01788364995505914,
          -0.1061233981360333,
          -0.4407897314387819,
          0.08653165211938572,
          -0.35053906121223755,
          -0.36920191551940085,
          0.1318135799579853,
          -0.006349103452659056,
          0.1717200199627786,
          -0.5584372994885244,
          -0.6181622551359502,
          -0.20830013323620955,
          -0.39117505476107234,
          0.31684149510461374,
          0.20008856027575617,
          0.39562600412950183,
          -0.36065298329088596,
          -0.2150129870861492,
          -0.3624210239543494,
          0.02581569382156458,
          -0.3528477435700753,
          -0.2510583605011922,
          0.23095671920394759,
          0.0797301360265183,
          -0.23915559684362186,
          0.1590085337350361,
          0.2802841789724272,
          -0.1602008945959918,
          -0.2928179179917019,
          -0.06020478530948882,
          0.48270472525961416,
          -0.3178767695505072,
          -0.4448780384784463,
          0.3044837683364613,
          -0.2567522015694469,
          -0.595180479910895,
          0.24494107118351566,
          -0.19245875423507686,
          -0.5853070639119826,
          0.04235380961366701,
          -0.559891802373603,
          0.27691731254350466,
          -0.503606401279235,
          -0.05401080233366954,
          0.10065195989468327,
          -0.6236688239298708,
          -0.4242326529319115,
          -0.3931116060182969,
          -0.1115655925720743,
          -0.04327495078667923,
          0.3115531206060559,
          0.5457941522152242,
          0.09232779492611018,
          0.1913352304240745,
          0.1760494717130691,
          0.4475530833556922,
          0.3083931587055835,
          0.2485834914021814,
          0.5069685596523316,
          0.4117868139029977,
          0.16609150180756918,
          0.13816832667605128,
          0.008734702426728408,
          0.33661406002427496,
          0.4755070567042583
         ],
         "z": [
          -0.11703029005990317,
          0.015206948102910968,
          -0.1939058538214193,
          -0.0540121174261872,
          -0.052755938622339314,
          -0.2118566493262976,
          -0.007572191082292717,
          -0.12673289151437261,
          -0.2689165987877919,
          -0.0010309003330026024,
          0.0712030144688645,
          -0.0993260665253391,
          -0.25332149181053976,
          -0.09569089914563565,
          -0.16264740825619106,
          -0.010076896044656372,
          -0.06513254824555592,
          -0.25119539608615743,
          0.10416686047109266,
          -0.04164129198046844,
          -0.15882703448219107,
          -0.05635284419518683,
          -0.14652182456498322,
          0.011661817580347796,
          0.040410510639741194,
          -0.12106071992969841,
          0.027310735096320975,
          -0.07020216371747043,
          0.05060735685153909,
          -0.06245403102299285,
          -0.1119851072759177,
          -0.11623440113985185,
          -0.24870643489082367,
          -0.19360544084556758,
          -0.15310160662736808,
          -0.25385423581657784,
          -0.04761280730318298,
          -0.16932388094534986,
          -0.10268436124917579,
          -0.070054057117313,
          -0.1969121363334584,
          -0.2911239748701996,
          -0.03219299046674047,
          -0.25548079200739665,
          -0.03310040107462496,
          -0.2551846929828979,
          -0.22671460303898716,
          -0.12626512465454034,
          -0.268194259059176,
          -0.2871811244978587,
          -0.1721188930180015,
          -0.20109887984141694,
          -0.12734227907250512,
          0.008921705316543287,
          -0.05295038614991879,
          -0.044420972698138356,
          -0.09325325826354927,
          -0.05879399481656386,
          -0.02563289808696516,
          -0.04687045439005649,
          -0.2036613160235386,
          -0.1895025438397252,
          -0.17029534965383494,
          -0.09524758825588209,
          -0.04736971284414744,
          -0.06837598429753582,
          -0.027634779169757977,
          -0.207203838402179
         ]
        },
        {
         "marker": {
          "opacity": 0.8,
          "size": 3
         },
         "mode": "markers",
         "name": "Fault 4",
         "type": "scatter3d",
         "x": [
          0.40661601413669696,
          0.2756047273612931,
          0.2905472266074137,
          0.010380485597244877,
          -0.08675383390644574,
          0.5432183983942204,
          -0.04747091805358009,
          0.12752537013092202,
          0.39873556915123404,
          0.09258105340127018,
          -0.11827191509889685,
          0.3481887633557425,
          0.209775116805811,
          -0.013533662710682643,
          0.4692521915182733,
          -0.09250273532249376,
          -0.0033459005092737735,
          -0.09271202802668746,
          0.09695420627779466,
          -0.02511959753217649,
          0.3953126047230665,
          -0.011295532219209651,
          0.31478919610522305,
          0.39569786484447317,
          0.1659622882479004,
          0.4095906240225261,
          0.03117654425876035,
          0.37246591537656343,
          0.28626903280340626,
          0.3450583486843333,
          0.44001243683481583,
          0.3861159831218951,
          0.052828677216981826,
          0.5507867688346764,
          0.11176929199575147,
          -0.04628341983385612,
          0.33818552022140197,
          -0.14157169693942573,
          0.08993062906836166,
          -0.040741856761706816,
          0.5544699379795001,
          -0.20684215815103585,
          0.3790013333186385,
          0.33467131901602265,
          0.5023939426105871,
          0.1747290407556559,
          0.22102997608875474,
          0.08779422553740965,
          0.4491636877178401,
          -0.1478958841341205
         ],
         "y": [
          0.713899476738527,
          0.7244851427293807,
          0.4987234022945692,
          0.4797048942646953,
          0.23788558761150322,
          0.44870651876879913,
          0.5621316066795692,
          0.37242570455192453,
          0.7538242055140874,
          0.3437693100289954,
          0.2911908862943643,
          0.5566462204330394,
          0.3442997454067839,
          0.4397516341581086,
          0.701116108870939,
          0.39938171295517944,
          0.523269356801186,
          0.4513434583583412,
          0.5689500481802952,
          0.5769659834522738,
          0.6916054548500947,
          0.4463025016602751,
          0.40791796413669273,
          0.8324100099115967,
          0.2991056277884149,
          0.6961451600054344,
          0.6048061819807196,
          0.6651129749132283,
          0.7079858180120974,
          0.6441578529755376,
          0.5540243903247006,
          0.4848960861189813,
          0.11633782915062357,
          0.5625911244313913,
          0.14928159320271867,
          0.03977082250207886,
          0.8941459858513079,
          0.17542016478307856,
          0.5201709437041038,
          0.03070896991530552,
          0.5984104804466571,
          0.45274105589950087,
          0.9168746044868299,
          0.4996438361051823,
          0.7108797239559002,
          0.5340807018112149,
          0.8296438901119038,
          0.430796330653101,
          0.567036634659743,
          0.5316137420104472
         ],
         "z": [
          -0.1454657108888116,
          0.1127298288514137,
          -0.049272920786532594,
          -0.16311298827164394,
          0.03228768014978841,
          -0.20908568274811934,
          -0.07715852298781098,
          -0.03519912571078864,
          -0.11211150722622429,
          -0.281091952070902,
          0.043647805250799476,
          -0.29149103429748235,
          -0.023946594629268944,
          -0.06250380767920385,
          -0.17047893347777432,
          -0.16049597063454557,
          -0.03587028428422809,
          -0.06057518754247375,
          -0.07666509250847409,
          0.13236779512379457,
          0.015778322851003307,
          -0.137420767549363,
          -0.17090633379379416,
          -0.256701084464372,
          0.05599142975830927,
          -0.15681403321526902,
          0.011131340481784414,
          -0.29015075948747465,
          -0.0044262772623124835,
          -0.3911018030421068,
          -0.27136480410254854,
          -0.14422020439481512,
          -0.2525439582755007,
          -0.36501964977413337,
          -0.1889169899889655,
          -0.10641387396087083,
          -0.31486119247698674,
          0.03203981798825223,
          -0.14844508180525523,
          -0.04676003345679729,
          -0.17055470210048007,
          -0.12006872193382002,
          0.006371351348431642,
          -0.030509724301504948,
          -0.13390328101609025,
          -0.2345932099221108,
          -0.08430177673828385,
          -0.25357326047332285,
          -0.09379511474933741,
          -0.09028309187704815
         ]
        }
       ],
       "layout": {
        "scene": {
         "xaxis": {
          "title": {
           "text": "X"
          }
         },
         "yaxis": {
          "title": {
           "text": "Y"
          }
         },
         "zaxis": {
          "title": {
           "text": "Z"
          }
         }
        },
        "template": {
         "data": {
          "bar": [
           {
            "error_x": {
             "color": "#2a3f5f"
            },
            "error_y": {
             "color": "#2a3f5f"
            },
            "marker": {
             "line": {
              "color": "#E5ECF6",
              "width": 0.5
             },
             "pattern": {
              "fillmode": "overlay",
              "size": 10,
              "solidity": 0.2
             }
            },
            "type": "bar"
           }
          ],
          "barpolar": [
           {
            "marker": {
             "line": {
              "color": "#E5ECF6",
              "width": 0.5
             },
             "pattern": {
              "fillmode": "overlay",
              "size": 10,
              "solidity": 0.2
             }
            },
            "type": "barpolar"
           }
          ],
          "carpet": [
           {
            "aaxis": {
             "endlinecolor": "#2a3f5f",
             "gridcolor": "white",
             "linecolor": "white",
             "minorgridcolor": "white",
             "startlinecolor": "#2a3f5f"
            },
            "baxis": {
             "endlinecolor": "#2a3f5f",
             "gridcolor": "white",
             "linecolor": "white",
             "minorgridcolor": "white",
             "startlinecolor": "#2a3f5f"
            },
            "type": "carpet"
           }
          ],
          "choropleth": [
           {
            "colorbar": {
             "outlinewidth": 0,
             "ticks": ""
            },
            "type": "choropleth"
           }
          ],
          "contour": [
           {
            "colorbar": {
             "outlinewidth": 0,
             "ticks": ""
            },
            "colorscale": [
             [
              0,
              "#0d0887"
             ],
             [
              0.1111111111111111,
              "#46039f"
             ],
             [
              0.2222222222222222,
              "#7201a8"
             ],
             [
              0.3333333333333333,
              "#9c179e"
             ],
             [
              0.4444444444444444,
              "#bd3786"
             ],
             [
              0.5555555555555556,
              "#d8576b"
             ],
             [
              0.6666666666666666,
              "#ed7953"
             ],
             [
              0.7777777777777778,
              "#fb9f3a"
             ],
             [
              0.8888888888888888,
              "#fdca26"
             ],
             [
              1,
              "#f0f921"
             ]
            ],
            "type": "contour"
           }
          ],
          "contourcarpet": [
           {
            "colorbar": {
             "outlinewidth": 0,
             "ticks": ""
            },
            "type": "contourcarpet"
           }
          ],
          "heatmap": [
           {
            "colorbar": {
             "outlinewidth": 0,
             "ticks": ""
            },
            "colorscale": [
             [
              0,
              "#0d0887"
             ],
             [
              0.1111111111111111,
              "#46039f"
             ],
             [
              0.2222222222222222,
              "#7201a8"
             ],
             [
              0.3333333333333333,
              "#9c179e"
             ],
             [
              0.4444444444444444,
              "#bd3786"
             ],
             [
              0.5555555555555556,
              "#d8576b"
             ],
             [
              0.6666666666666666,
              "#ed7953"
             ],
             [
              0.7777777777777778,
              "#fb9f3a"
             ],
             [
              0.8888888888888888,
              "#fdca26"
             ],
             [
              1,
              "#f0f921"
             ]
            ],
            "type": "heatmap"
           }
          ],
          "heatmapgl": [
           {
            "colorbar": {
             "outlinewidth": 0,
             "ticks": ""
            },
            "colorscale": [
             [
              0,
              "#0d0887"
             ],
             [
              0.1111111111111111,
              "#46039f"
             ],
             [
              0.2222222222222222,
              "#7201a8"
             ],
             [
              0.3333333333333333,
              "#9c179e"
             ],
             [
              0.4444444444444444,
              "#bd3786"
             ],
             [
              0.5555555555555556,
              "#d8576b"
             ],
             [
              0.6666666666666666,
              "#ed7953"
             ],
             [
              0.7777777777777778,
              "#fb9f3a"
             ],
             [
              0.8888888888888888,
              "#fdca26"
             ],
             [
              1,
              "#f0f921"
             ]
            ],
            "type": "heatmapgl"
           }
          ],
          "histogram": [
           {
            "marker": {
             "pattern": {
              "fillmode": "overlay",
              "size": 10,
              "solidity": 0.2
             }
            },
            "type": "histogram"
           }
          ],
          "histogram2d": [
           {
            "colorbar": {
             "outlinewidth": 0,
             "ticks": ""
            },
            "colorscale": [
             [
              0,
              "#0d0887"
             ],
             [
              0.1111111111111111,
              "#46039f"
             ],
             [
              0.2222222222222222,
              "#7201a8"
             ],
             [
              0.3333333333333333,
              "#9c179e"
             ],
             [
              0.4444444444444444,
              "#bd3786"
             ],
             [
              0.5555555555555556,
              "#d8576b"
             ],
             [
              0.6666666666666666,
              "#ed7953"
             ],
             [
              0.7777777777777778,
              "#fb9f3a"
             ],
             [
              0.8888888888888888,
              "#fdca26"
             ],
             [
              1,
              "#f0f921"
             ]
            ],
            "type": "histogram2d"
           }
          ],
          "histogram2dcontour": [
           {
            "colorbar": {
             "outlinewidth": 0,
             "ticks": ""
            },
            "colorscale": [
             [
              0,
              "#0d0887"
             ],
             [
              0.1111111111111111,
              "#46039f"
             ],
             [
              0.2222222222222222,
              "#7201a8"
             ],
             [
              0.3333333333333333,
              "#9c179e"
             ],
             [
              0.4444444444444444,
              "#bd3786"
             ],
             [
              0.5555555555555556,
              "#d8576b"
             ],
             [
              0.6666666666666666,
              "#ed7953"
             ],
             [
              0.7777777777777778,
              "#fb9f3a"
             ],
             [
              0.8888888888888888,
              "#fdca26"
             ],
             [
              1,
              "#f0f921"
             ]
            ],
            "type": "histogram2dcontour"
           }
          ],
          "mesh3d": [
           {
            "colorbar": {
             "outlinewidth": 0,
             "ticks": ""
            },
            "type": "mesh3d"
           }
          ],
          "parcoords": [
           {
            "line": {
             "colorbar": {
              "outlinewidth": 0,
              "ticks": ""
             }
            },
            "type": "parcoords"
           }
          ],
          "pie": [
           {
            "automargin": true,
            "type": "pie"
           }
          ],
          "scatter": [
           {
            "fillpattern": {
             "fillmode": "overlay",
             "size": 10,
             "solidity": 0.2
            },
            "type": "scatter"
           }
          ],
          "scatter3d": [
           {
            "line": {
             "colorbar": {
              "outlinewidth": 0,
              "ticks": ""
             }
            },
            "marker": {
             "colorbar": {
              "outlinewidth": 0,
              "ticks": ""
             }
            },
            "type": "scatter3d"
           }
          ],
          "scattercarpet": [
           {
            "marker": {
             "colorbar": {
              "outlinewidth": 0,
              "ticks": ""
             }
            },
            "type": "scattercarpet"
           }
          ],
          "scattergeo": [
           {
            "marker": {
             "colorbar": {
              "outlinewidth": 0,
              "ticks": ""
             }
            },
            "type": "scattergeo"
           }
          ],
          "scattergl": [
           {
            "marker": {
             "colorbar": {
              "outlinewidth": 0,
              "ticks": ""
             }
            },
            "type": "scattergl"
           }
          ],
          "scattermapbox": [
           {
            "marker": {
             "colorbar": {
              "outlinewidth": 0,
              "ticks": ""
             }
            },
            "type": "scattermapbox"
           }
          ],
          "scatterpolar": [
           {
            "marker": {
             "colorbar": {
              "outlinewidth": 0,
              "ticks": ""
             }
            },
            "type": "scatterpolar"
           }
          ],
          "scatterpolargl": [
           {
            "marker": {
             "colorbar": {
              "outlinewidth": 0,
              "ticks": ""
             }
            },
            "type": "scatterpolargl"
           }
          ],
          "scatterternary": [
           {
            "marker": {
             "colorbar": {
              "outlinewidth": 0,
              "ticks": ""
             }
            },
            "type": "scatterternary"
           }
          ],
          "surface": [
           {
            "colorbar": {
             "outlinewidth": 0,
             "ticks": ""
            },
            "colorscale": [
             [
              0,
              "#0d0887"
             ],
             [
              0.1111111111111111,
              "#46039f"
             ],
             [
              0.2222222222222222,
              "#7201a8"
             ],
             [
              0.3333333333333333,
              "#9c179e"
             ],
             [
              0.4444444444444444,
              "#bd3786"
             ],
             [
              0.5555555555555556,
              "#d8576b"
             ],
             [
              0.6666666666666666,
              "#ed7953"
             ],
             [
              0.7777777777777778,
              "#fb9f3a"
             ],
             [
              0.8888888888888888,
              "#fdca26"
             ],
             [
              1,
              "#f0f921"
             ]
            ],
            "type": "surface"
           }
          ],
          "table": [
           {
            "cells": {
             "fill": {
              "color": "#EBF0F8"
             },
             "line": {
              "color": "white"
             }
            },
            "header": {
             "fill": {
              "color": "#C8D4E3"
             },
             "line": {
              "color": "white"
             }
            },
            "type": "table"
           }
          ]
         },
         "layout": {
          "annotationdefaults": {
           "arrowcolor": "#2a3f5f",
           "arrowhead": 0,
           "arrowwidth": 1
          },
          "autotypenumbers": "strict",
          "coloraxis": {
           "colorbar": {
            "outlinewidth": 0,
            "ticks": ""
           }
          },
          "colorscale": {
           "diverging": [
            [
             0,
             "#8e0152"
            ],
            [
             0.1,
             "#c51b7d"
            ],
            [
             0.2,
             "#de77ae"
            ],
            [
             0.3,
             "#f1b6da"
            ],
            [
             0.4,
             "#fde0ef"
            ],
            [
             0.5,
             "#f7f7f7"
            ],
            [
             0.6,
             "#e6f5d0"
            ],
            [
             0.7,
             "#b8e186"
            ],
            [
             0.8,
             "#7fbc41"
            ],
            [
             0.9,
             "#4d9221"
            ],
            [
             1,
             "#276419"
            ]
           ],
           "sequential": [
            [
             0,
             "#0d0887"
            ],
            [
             0.1111111111111111,
             "#46039f"
            ],
            [
             0.2222222222222222,
             "#7201a8"
            ],
            [
             0.3333333333333333,
             "#9c179e"
            ],
            [
             0.4444444444444444,
             "#bd3786"
            ],
            [
             0.5555555555555556,
             "#d8576b"
            ],
            [
             0.6666666666666666,
             "#ed7953"
            ],
            [
             0.7777777777777778,
             "#fb9f3a"
            ],
            [
             0.8888888888888888,
             "#fdca26"
            ],
            [
             1,
             "#f0f921"
            ]
           ],
           "sequentialminus": [
            [
             0,
             "#0d0887"
            ],
            [
             0.1111111111111111,
             "#46039f"
            ],
            [
             0.2222222222222222,
             "#7201a8"
            ],
            [
             0.3333333333333333,
             "#9c179e"
            ],
            [
             0.4444444444444444,
             "#bd3786"
            ],
            [
             0.5555555555555556,
             "#d8576b"
            ],
            [
             0.6666666666666666,
             "#ed7953"
            ],
            [
             0.7777777777777778,
             "#fb9f3a"
            ],
            [
             0.8888888888888888,
             "#fdca26"
            ],
            [
             1,
             "#f0f921"
            ]
           ]
          },
          "colorway": [
           "#636efa",
           "#EF553B",
           "#00cc96",
           "#ab63fa",
           "#FFA15A",
           "#19d3f3",
           "#FF6692",
           "#B6E880",
           "#FF97FF",
           "#FECB52"
          ],
          "font": {
           "color": "#2a3f5f"
          },
          "geo": {
           "bgcolor": "white",
           "lakecolor": "white",
           "landcolor": "#E5ECF6",
           "showlakes": true,
           "showland": true,
           "subunitcolor": "white"
          },
          "hoverlabel": {
           "align": "left"
          },
          "hovermode": "closest",
          "mapbox": {
           "style": "light"
          },
          "paper_bgcolor": "white",
          "plot_bgcolor": "#E5ECF6",
          "polar": {
           "angularaxis": {
            "gridcolor": "white",
            "linecolor": "white",
            "ticks": ""
           },
           "bgcolor": "#E5ECF6",
           "radialaxis": {
            "gridcolor": "white",
            "linecolor": "white",
            "ticks": ""
           }
          },
          "scene": {
           "xaxis": {
            "backgroundcolor": "#E5ECF6",
            "gridcolor": "white",
            "gridwidth": 2,
            "linecolor": "white",
            "showbackground": true,
            "ticks": "",
            "zerolinecolor": "white"
           },
           "yaxis": {
            "backgroundcolor": "#E5ECF6",
            "gridcolor": "white",
            "gridwidth": 2,
            "linecolor": "white",
            "showbackground": true,
            "ticks": "",
            "zerolinecolor": "white"
           },
           "zaxis": {
            "backgroundcolor": "#E5ECF6",
            "gridcolor": "white",
            "gridwidth": 2,
            "linecolor": "white",
            "showbackground": true,
            "ticks": "",
            "zerolinecolor": "white"
           }
          },
          "shapedefaults": {
           "line": {
            "color": "#2a3f5f"
           }
          },
          "ternary": {
           "aaxis": {
            "gridcolor": "white",
            "linecolor": "white",
            "ticks": ""
           },
           "baxis": {
            "gridcolor": "white",
            "linecolor": "white",
            "ticks": ""
           },
           "bgcolor": "#E5ECF6",
           "caxis": {
            "gridcolor": "white",
            "linecolor": "white",
            "ticks": ""
           }
          },
          "title": {
           "x": 0.05
          },
          "xaxis": {
           "automargin": true,
           "gridcolor": "white",
           "linecolor": "white",
           "ticks": "",
           "title": {
            "standoff": 15
           },
           "zerolinecolor": "white",
           "zerolinewidth": 2
          },
          "yaxis": {
           "automargin": true,
           "gridcolor": "white",
           "linecolor": "white",
           "ticks": "",
           "title": {
            "standoff": 15
           },
           "zerolinecolor": "white",
           "zerolinewidth": 2
          }
         }
        },
        "title": {
         "text": "3D Visualization of Fault Points"
        }
       }
      }
     },
     "metadata": {},
     "output_type": "display_data"
    }
   ],
   "source": [
    "fault_points_list = generate_dataset(n_simple_faults=0, n_bent_faults=2, n_cross_faults=0, n_Y_faults=1, n_parallel_faults=1, n_structures=0, VERBOSE=False)\n",
    "\n",
    "multi_static_plot_better(fault_points_list, None, show_plane=False, show_axes=False)\n",
    "multi_interactive_plot_better(fault_points_list, None, show_plane=False, show_axes=False)"
   ]
  }
 ],
 "metadata": {
  "kernelspec": {
   "display_name": "raienv",
   "language": "python",
   "name": "python3"
  },
  "language_info": {
   "codemirror_mode": {
    "name": "ipython",
    "version": 3
   },
   "file_extension": ".py",
   "mimetype": "text/x-python",
   "name": "python",
   "nbconvert_exporter": "python",
   "pygments_lexer": "ipython3",
   "version": "3.11.5"
  }
 },
 "nbformat": 4,
 "nbformat_minor": 2
}
