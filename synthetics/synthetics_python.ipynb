{
 "cells": [
  {
   "cell_type": "markdown",
   "metadata": {},
   "source": [
    "## Main Functions to generate fault characteristics, and sample points"
   ]
  },
  {
   "cell_type": "code",
   "execution_count": 8,
   "metadata": {},
   "outputs": [],
   "source": [
    "import numpy as np\n",
    "import matplotlib.pyplot as plt\n",
    "from mpl_toolkits.mplot3d import Axes3D\n",
    "import plotly.graph_objs as go\n",
    "import random\n",
    "import math\n",
    "import matplotlib.pyplot as plt\n",
    "from collections import Counter\n",
    "\n",
    "def random_unit_vector():\n",
    "    # Generate random spherical coordinates\n",
    "    theta = random.uniform(0, 2*math.pi)  # Azimuthal angle\n",
    "    phi = random.uniform(0, math.pi)      # Polar angle\n",
    "\n",
    "    # Convert spherical coordinates to Cartesian coordinates\n",
    "    x = math.sin(phi) * math.cos(theta)\n",
    "    y = math.sin(phi) * math.sin(theta)\n",
    "    z = math.cos(phi)\n",
    "\n",
    "    return (x, y, z)\n",
    "\n",
    "\n",
    "def plane_main_axes_from_normal(normal): \n",
    "    # Find two axes of plane defined by the center and its normal\n",
    "    length_axis = random_unit_vector()\n",
    "    while np.dot(length_axis, normal) < 0.01:\n",
    "        length_axis = random_unit_vector()\n",
    "\n",
    "    length_axis = np.cross(normal, length_axis)\n",
    "    length_axis = length_axis / np.linalg.norm(length_axis)\n",
    "    width_axis = np.cross(normal, length_axis)\n",
    "\n",
    "    return length_axis, width_axis\n",
    "\n",
    "\n",
    "def sample_vec_close_to(target_vec):\n",
    "    # Sample random vector orthogoanl to target_vec: \n",
    "    rand_vec = random_unit_vector()\n",
    "    rand_vec_orthogonal = np.cross(rand_vec, target_vec)\n",
    "\n",
    "    # Sample angle between -45 and 45 degrees\n",
    "    angle = np.random.uniform(- np.pi / 6, np.pi / 6)\n",
    "    alpha = np.cos(angle)\n",
    "    beta = np.sin(angle)\n",
    "\n",
    "    new_vec = alpha * target_vec + beta * rand_vec_orthogonal \n",
    "    new_vec = new_vec / np.linalg.norm(new_vec)\n",
    "\n",
    "    return new_vec \n",
    "\n",
    "\n",
    "def sample_length_width_axes_from_favoured_axes(favoured_axis_1, favoured_axis_2):\n",
    "    favoured_normal = np.cross(favoured_axis_1, favoured_axis_2)\n",
    "\n",
    "    # SAMPLE THE LENGTH AXIS\n",
    "    # Choose length axis close to either favoured_axis_1 or favoured_axis_2\n",
    "    idx = random.randint(0, 1)\n",
    "    if idx == 0: \n",
    "        length_axis = sample_vec_close_to(favoured_axis_1)\n",
    "    else: \n",
    "        length_axis = sample_vec_close_to(favoured_axis_2)\n",
    "\n",
    "    # OBTRAIN WIDHT AXIS\n",
    "    width_axis = np.cross(length_axis, favoured_normal)\n",
    "    normal_axis = np.cross(length_axis, width_axis)\n",
    "    \n",
    "    return length_axis, width_axis, normal_axis \n",
    "\n",
    "\n",
    "\n",
    "def display_fault_properties(fault_metadata):\n",
    "    (center, length, width, normal, length_axis, width_axis) = fault_metadata\n",
    "    print(f\"         center: {center} \\n         length: {length}, width: {width} \\n         length_axis: {length_axis},   width_axis: {width_axis}\")\n",
    "\n",
    "\n",
    "def sample_new_center(centers_list, favoured_axis_1, favoured_axis_2, domain_scale=1, eps_center=0.1):\n",
    "    \"\"\"\n",
    "    Samples a new center at least eps_center distance from previous centers in centers_list.\n",
    "    The new center is sampled either preferable along axis_1 or axis_2. \n",
    "    \"\"\"\n",
    "    third_axis = np.cross(favoured_axis_1, favoured_axis_2)\n",
    "    length = domain_scale\n",
    "\n",
    "    # Ensure centers aren't too close\n",
    "    while True: \n",
    "            # Choose to favour one axis or the other: \n",
    "            idx = random.randint(1,2)\n",
    "            if idx == 1:\n",
    "                alpha = np.random.uniform(-2 *length, 2 *length)\n",
    "                beta = np.random.uniform(-length/3, length/3)\n",
    "                gamma = np.random.uniform(-length/3, length/3)\n",
    "            \n",
    "            else:\n",
    "                alpha = np.random.uniform(-length/3, length/3)\n",
    "                beta = np.random.uniform(-2*length, 2*length)\n",
    "                gamma = np.random.uniform(-length/3, length/3)\n",
    "                \n",
    "            center = alpha * favoured_axis_1 + beta * favoured_axis_2 + gamma * third_axis\n",
    "            np.random.uniform(-domain_scale, domain_scale, size=3)\n",
    "            \n",
    "            if all(np.linalg.norm(center - c) > 2 * eps_center for c in centers_list):  \n",
    "                break\n",
    "\n",
    "    return center"
   ]
  },
  {
   "cell_type": "code",
   "execution_count": 9,
   "metadata": {},
   "outputs": [],
   "source": [
    "def generate_faults_metadata(n_simple_faults, n_bent_faults, n_cross_faults, n_Y_faults, n_parallel_faults, n_ladder_structures, eps_center=0.3, domain_scale=1, VERBOSE=False):\n",
    "    \"\"\"\n",
    "    Generate metadata characterizing faults via a plane defined by a center, length, width, normal, length_axis, and width_axis.\n",
    "    \n",
    "    Args:\n",
    "    - n_simple_faults:      number of simple planar faults to generate\n",
    "    - n_bent_faults:        number of bent (bi-planar) faults to generate\n",
    "    - n_ladder_structures:  number of ladder-like fault structures\n",
    "    - eps_center:           minimum distance between fault centers\n",
    "    - domain_scale:         scale=x denotes [-x,x]^3 space. \n",
    "    \n",
    "    Returns:\n",
    "    - faults_info: List of tuples containing fault metadata (center, length, width, normal, length_axis, width_axis)\n",
    "    \"\"\"\n",
    "    \n",
    "    # Set fault plane max length and width as proportion of domain\n",
    "    L_max = 1.5 * domain_scale\n",
    "    L_min = 1 * domain_scale\n",
    "    W_max = 0.7 * domain_scale\n",
    "    W_min= 0.5 * domain_scale\n",
    "    faults_info = []\n",
    "    centers_list = []\n",
    "\n",
    "    # Generate two orthogonal directions to align all faults\n",
    "    random_unit_vec = random_unit_vector()\n",
    "    favoured_axis_1, favoured_axis_2 = plane_main_axes_from_normal(random_unit_vec)\n",
    "\n",
    "\n",
    "    # Generate simple fault data\n",
    "    if VERBOSE:\n",
    "        print(f\"--------------------------------------------------\")\n",
    "        print(f\"    Generating {n_simple_faults} simple faults:\")\n",
    "        print(f\"--------------------------------------------------\")\n",
    "    for i_simp in range(n_simple_faults):    \n",
    "        center = sample_new_center(centers_list, favoured_axis_1, favoured_axis_2, domain_scale=1, eps_center=0.05)\n",
    "        centers_list.append(center)\n",
    "        length = np.random.uniform(L_min, L_max)\n",
    "        width = np.random.uniform(W_min, W_max)\n",
    "        #normal = random_unit_vector()\n",
    "        #length_axis, width_axis = plane_main_axes_from_normal(normal)\n",
    "        length_axis, width_axis, normal = sample_length_width_axes_from_favoured_axes(favoured_axis_1, favoured_axis_2)\n",
    "        faults_info.append((center, length, width, normal, length_axis, width_axis))\n",
    "\n",
    "        if VERBOSE:\n",
    "            print(f\"    Simple fault number: {i_simp+1}\")\n",
    "            display_fault_properties((center, length, width, normal, length_axis, width_axis))\n",
    "\n",
    "\n",
    "    # Generate bent fault data\n",
    "    if VERBOSE:\n",
    "        print(f\"\\n--------------------------------------------------\")\n",
    "        print(f\"    Generating {n_bent_faults} bent faults:\")\n",
    "        print(f\"--------------------------------------------------\")\n",
    "    for i in range(n_bent_faults):\n",
    "\n",
    "        # Generate the main fault data\n",
    "        main_center = sample_new_center(centers_list, favoured_axis_1, favoured_axis_2, domain_scale=1, eps_center=0.05)\n",
    "        centers_list.append(main_center)\n",
    "        main_length = np.random.uniform(L_min, L_max)\n",
    "        main_width = np.random.uniform(W_min, W_max)\n",
    "        #main_normal = random_unit_vector()\n",
    "        #main_length_axis, main_width_axis = plane_main_axes_from_normal(main_normal)\n",
    "        main_length_axis, main_width_axis, main_normal = sample_length_width_axes_from_favoured_axes(favoured_axis_1, favoured_axis_2)\n",
    "        faults_info.append((main_center, main_length, main_width, main_normal, main_length_axis, main_width_axis))\n",
    "\n",
    "        if VERBOSE:\n",
    "            print(f\"    Bent fault number: {i//2 + 1}\")\n",
    "            print(\"       First plane:\")\n",
    "            display_fault_properties((main_center, main_length, main_width, main_normal, main_length_axis, main_width_axis))\n",
    "\n",
    "        # Generate secondary smaller fault: sample plane at an angle\n",
    "        bent_factor = np.random.uniform(0.6, 0.75)\n",
    "        bent_length = bent_factor * main_length\n",
    "        bent_width = bent_factor * main_width \n",
    "\n",
    "        # Sample an angle, calculate new axes\n",
    "        angle = np.random.uniform(-50, 50, size=1)\n",
    "        alpha = np.cos(np.radians(90 - angle))\n",
    "        beta = np.sqrt(1-alpha**2)\n",
    "        bent_length_axis = beta*np.array(main_length_axis)  + alpha*np.array(main_normal)\n",
    "        bent_length_axis = bent_length_axis / np.linalg.norm(bent_length_axis)\n",
    "        bent_width_axis = main_width_axis \n",
    "        \n",
    "        bent_center = main_center + 0.5*main_length*main_length_axis + 0.5*bent_length * bent_length_axis\n",
    "        bent_normal = np.cross(bent_length_axis, bent_width_axis)\n",
    "\n",
    "        faults_info.append((bent_center, bent_length, bent_width, bent_normal, bent_length_axis, bent_width_axis))\n",
    "\n",
    "        if VERBOSE:\n",
    "            print(f\"\\n       Second plane:\")\n",
    "            print(f\"         Angle: {angle}\")\n",
    "            display_fault_properties((bent_center, bent_length, bent_width, bent_normal, bent_length_axis, bent_width_axis))\n",
    "\n",
    "\n",
    "    # Generate cross fault data\n",
    "    if VERBOSE:\n",
    "        print(f\"\\n--------------------------------------------------\")\n",
    "        print(f\"    Generating {n_cross_faults} cross faults:\")\n",
    "        print(f\"--------------------------------------------------\")\n",
    "    for k in range(n_cross_faults):\n",
    "\n",
    "        # Generate main fault data\n",
    "        cross_center = sample_new_center(centers_list, favoured_axis_1, favoured_axis_2, domain_scale=1, eps_center=0.05)\n",
    "        centers_list.append(cross_center)\n",
    "        main_length = np.random.uniform(L_min, L_max)\n",
    "        main_width = np.random.uniform(W_min, W_max)\n",
    "        #main_normal = random_unit_vector()\n",
    "        #main_length_axis, main_width_axis = plane_main_axes_from_normal(main_normal)\n",
    "        main_length_axis, main_width_axis, main_normal = sample_length_width_axes_from_favoured_axes(favoured_axis_1, favoured_axis_2)\n",
    "        faults_info.append((cross_center, main_length, main_width, main_normal, main_length_axis, main_width_axis))\n",
    "\n",
    "        if VERBOSE:\n",
    "            print(f\"    Cross fault number: {k//2 + 1}\")\n",
    "            print(\"       First plane:\")\n",
    "            display_fault_properties((cross_center, main_length, main_width, main_normal, main_length_axis, main_width_axis))\n",
    "\n",
    "        # Generate secondary perpendicular 'crossed' fault\n",
    "        #cross_factor = np.random.uniform(0.6, 1.4)\n",
    "        cross_factor = 1\n",
    "        crossed_length = cross_factor * main_length\n",
    "        crossed_width = 0.8*cross_factor * main_width \n",
    "        crossed_normal = main_length_axis\n",
    "        crossed_length_axis = main_normal \n",
    "        crossed_width_axis = np.cross(crossed_length_axis, crossed_normal)\n",
    "    \n",
    "        faults_info.append((cross_center, crossed_length, crossed_width, crossed_normal, crossed_length_axis, crossed_width_axis))\n",
    "\n",
    "        if VERBOSE:\n",
    "            print(f\"\\n       Crosssed plane:\")\n",
    "            display_fault_properties((cross_center, crossed_length, crossed_width, crossed_normal, crossed_length_axis, crossed_width_axis))\n",
    "\n",
    "\n",
    "    # Generate Y-shaped fault data\n",
    "    if VERBOSE:\n",
    "        print(f\"\\n--------------------------------------------------\")\n",
    "        print(f\"    Generating {n_Y_faults} Y - faults:\")\n",
    "        print(f\"--------------------------------------------------\")\n",
    "    for l in range(n_Y_faults):\n",
    "\n",
    "        # Generate main fault data\n",
    "        main_center = sample_new_center(centers_list, favoured_axis_1, favoured_axis_2, domain_scale=1, eps_center=0.05)\n",
    "        centers_list.append(main_center)\n",
    "        main_length = 1.4 * np.random.uniform(L_min, L_max)\n",
    "        main_width = 0.7* np.random.uniform(W_min, W_max)\n",
    "        #main_normal = random_unit_vector()\n",
    "        #main_length_axis, main_width_axis = plane_main_axes_from_normal(main_normal)\n",
    "        main_length_axis, main_width_axis, main_normal = sample_length_width_axes_from_favoured_axes(favoured_axis_1, favoured_axis_2)\n",
    "        faults_info.append((main_center, main_length, main_width, main_normal, main_length_axis, main_width_axis))\n",
    "\n",
    "        if VERBOSE:\n",
    "            print(f\"    Y - fault number: {l//2 + 1}\")\n",
    "            print(\"       First plane:\")\n",
    "            display_fault_properties((main_center, main_length, main_width, main_normal, main_length_axis, main_width_axis))\n",
    "\n",
    "        # Generate secondary perpendicular 'branched' fault\n",
    "        branch_length = 0.4*main_length\n",
    "        branch_width = 0.7*main_width \n",
    "\n",
    "        angle = np.random.choice([-1, 1]) * np.random.uniform(20, 35, size=1)\n",
    "        alpha = np.cos(np.radians(90 - angle))\n",
    "        beta = np.sqrt(1-alpha**2)\n",
    "        branch_length_axis = beta*np.array(main_length_axis)  + alpha*np.array(main_normal)\n",
    "        branch_length_axis = branch_length_axis / np.linalg.norm(branch_length_axis)\n",
    "        branch_width_axis = main_width_axis    \n",
    "        branch_normal = np.cross(branch_length_axis, branch_width_axis)    \n",
    "\n",
    "        branch_center = main_center + np.random.uniform(0, 0.15)*main_length*main_length_axis + 0.5* branch_length * branch_length_axis\n",
    "   \n",
    "        \n",
    "        faults_info.append((branch_center, branch_length, branch_width, branch_normal, branch_length_axis, branch_width_axis))\n",
    "\n",
    "        if VERBOSE:\n",
    "            print(f\"\\n       Branch plane:\")\n",
    "            display_fault_properties((branch_center, branch_length, branch_width, branch_normal, branch_length_axis, branch_width_axis))\n",
    "\n",
    "\n",
    "    # Generate two parallel fault data\n",
    "    if VERBOSE:\n",
    "        print(f\"\\n--------------------------------------------------\")\n",
    "        print(f\"    Generating {n_parallel_faults} parallel faults:\")\n",
    "        print(f\"--------------------------------------------------\")\n",
    "    for b in range(n_parallel_faults):\n",
    "\n",
    "        # Generate main fault data\n",
    "        main_center = sample_new_center(centers_list, favoured_axis_1, favoured_axis_2, domain_scale=1, eps_center=0.05)\n",
    "        centers_list.append(main_center)\n",
    "        main_length = np.random.uniform(L_min, L_max)\n",
    "        main_width = np.random.uniform(W_min, W_max)\n",
    "        #main_normal = random_unit_vector()\n",
    "        #main_length_axis, main_width_axis = plane_main_axes_from_normal(main_normal)\n",
    "        main_length_axis, main_width_axis, main_normal = sample_length_width_axes_from_favoured_axes(favoured_axis_1, favoured_axis_2)\n",
    "        faults_info.append((main_center, main_length, main_width, main_normal, main_length_axis, main_width_axis))\n",
    "\n",
    "        if VERBOSE:\n",
    "            print(f\"    Parallel pair number: {b//2 + 1}\")\n",
    "            print(\"       First plane:\")\n",
    "            display_fault_properties((main_center, main_length, main_width, main_normal, main_length_axis, main_width_axis))\n",
    "\n",
    "        # Generate secondary perpendicular 'crossed' fault\n",
    "        dist_between_parallels = np.random.uniform(0.5*main_width, 0.7*main_width)\n",
    "        distance_shifted = np.random.uniform(0.2, 0.7) * main_length\n",
    "        second_center = main_center + dist_between_parallels * np.array(main_normal) + distance_shifted * main_length_axis\n",
    "        second_factor = np.random.uniform(0.6, 1.5)\n",
    "        second_length = second_factor * main_length\n",
    "        second_width = second_factor * main_width \n",
    "        second_length_axis = main_length_axis\n",
    "        second_width_axis = main_width_axis\n",
    "        second_normal = np.cross(second_length_axis, second_width_axis)\n",
    "        faults_info.append((second_center, second_length, second_width, second_normal, second_length_axis, second_width_axis))\n",
    "\n",
    "        if VERBOSE:\n",
    "            print(f\"\\n       Second plane:\")\n",
    "            display_fault_properties((second_center, second_length, second_width, second_normal, second_length_axis, second_width_axis))\n",
    "\n",
    "\n",
    "    # Generate ladder structures\n",
    "    if VERBOSE:\n",
    "        print(f\"\\n--------------------------------------------------\")\n",
    "        print(f\"    Generating {n_ladder_structures} ladder-like structures:\")\n",
    "        print(f\"--------------------------------------------------\")\n",
    "    for m in range(n_ladder_structures):\n",
    "\n",
    "        print(f\"    Ladder structure {m+1}\")\n",
    "        # Characterise the first main fault\n",
    "        first_center = sample_new_center(centers_list, favoured_axis_1, favoured_axis_2, domain_scale=1, eps_center=0.05)\n",
    "        centers_list.append(first_center)\n",
    "        first_length = 1.4 *np.random.uniform(L_min, L_max)\n",
    "        first_width = np.random.uniform(W_min, W_max)\n",
    "        first_normal = random_unit_vector()\n",
    "        first_length_axis, first_width_axis = plane_main_axes_from_normal(first_normal)\n",
    "        faults_info.append((first_center, first_length, first_width, first_normal, first_length_axis, first_width_axis))            \n",
    "        if VERBOSE:\n",
    "            print(f\"            Main parallel fault\")\n",
    "            display_fault_properties((first_center, first_length, first_width, first_normal, first_length_axis, first_width_axis))\n",
    "\n",
    "        # Characterise the second main fault\n",
    "        dist_between_parallels = np.min(np.array([np.random.uniform(1.5*first_width, 3*first_width), 0.7*first_length]))\n",
    "        second_center = first_center + dist_between_parallels * np.array(first_normal)\n",
    "        second_length = first_length\n",
    "        second_width = first_width\n",
    "        second_normal = first_normal\n",
    "        second_length_axis = first_length_axis\n",
    "        second_width_axis = first_width_axis\n",
    "        faults_info.append((second_center, second_length, second_width, second_normal, second_length_axis, second_width_axis))\n",
    "\n",
    "        if VERBOSE:\n",
    "            print(f\"            Second parallel fault\")\n",
    "            display_fault_properties((second_center, second_length, second_width, second_normal, second_length_axis, second_width_axis))\n",
    "\n",
    "        # Characterise smaller, middle faults: \n",
    "        N_smaller_perpendicular_faults = 3\n",
    "        dist_between_smaller_faults = first_length / (N_smaller_perpendicular_faults+2)\n",
    "        mid_length = 1.3 *dist_between_parallels\n",
    "        mid_width = dist_between_parallels / 4\n",
    "\n",
    "        # They are at a slight angle to the normal: \n",
    "        angle = np.random.choice([-1, 1]) * np.random.uniform(10, 20, size=1)\n",
    "        alpha = np.cos(np.radians(90 - angle))\n",
    "        beta = np.sqrt(1-alpha**2)\n",
    "        mid_length_axis = beta*np.array(first_normal)  + alpha*np.array(first_length_axis)\n",
    "        mid_length_axis = mid_length_axis / np.linalg.norm(mid_length_axis)\n",
    "        mid_width_axis = first_width_axis\n",
    "        mid_normal = np.cross(mid_length_axis, mid_width_axis) \n",
    "    \n",
    "        for n in range(N_smaller_perpendicular_faults):\n",
    "            if n % 2 == 0:\n",
    "                m = n // 2\n",
    "            else:\n",
    "                m = -((n + 1) // 2)\n",
    "            mid_center = (first_center + second_center)/2 + m*dist_between_smaller_faults*first_length_axis\n",
    "\n",
    "            faults_info.append((mid_center, mid_length, mid_width, mid_normal, mid_length_axis, mid_width_axis))\n",
    "            if VERBOSE:\n",
    "                print(f\"\\n              Smaller middle fault: fault number {n}\")\n",
    "                display_fault_properties((mid_center, mid_length, mid_width, mid_normal, mid_length_axis, mid_width_axis))\n",
    "        \n",
    "    return faults_info"
   ]
  },
  {
   "cell_type": "code",
   "execution_count": 10,
   "metadata": {},
   "outputs": [],
   "source": [
    "def generate_points_from_plane(center, length, width, normal, length_axis, width_axis, distribution_mode='normal', domain_scale=1):\n",
    "\n",
    "    density = 150 # points per m^2\n",
    "    area = length*width \n",
    "    num_points = int(np.round(density * area)) \n",
    "\n",
    "    # Sample points coordinates on the plane\n",
    "    x = np.random.uniform(-length/2, length/2, num_points).astype(float)\n",
    "    y = np.random.uniform(-width/2, width/2, num_points).astype(float)\n",
    "\n",
    "    # Sample distances from the plane\n",
    "    # Convention for faults: mean distance ~ width => 4*sigma=width\n",
    "    if distribution_mode == 'normal':\n",
    "        distribution_param = width/7\n",
    "        dist = np.random.normal(loc=0, scale=distribution_param, size=num_points)\n",
    "\n",
    "    # Compute fault points\n",
    "    fault_points = center + x[:, None] * length_axis + y[:, None] * width_axis + dist[:, None] * normal\n",
    "\n",
    "    return fault_points\n",
    "\n",
    "\n",
    "\n",
    "def generate_point_list_from_metadata_list(fault_metadata_list, n_simple_faults, n_bent_faults, n_cross_faults, n_Y_faults, n_parallel_faults):\n",
    "     \n",
    "    \"\"\"\n",
    "    Generate point cloud for every fault given its metadata.\n",
    "    \"\"\"\n",
    "    points_list = []\n",
    "    labels = []\n",
    "    k = 0\n",
    "    label = 0\n",
    "    for i, metadata in enumerate(fault_metadata_list):\n",
    "\n",
    "        # Add simple faults\n",
    "        if (i <= n_simple_faults -1) and (n_simple_faults != 0): \n",
    "            (center, length, width, normal, length_axis, width_axis) = metadata\n",
    "            fault_points = generate_points_from_plane(center, length, width, normal, length_axis, width_axis)\n",
    "            points_list.append(fault_points)\n",
    "\n",
    "            # Add labels\n",
    "            fault_labels = [label] * len(fault_points)\n",
    "            labels.extend(fault_labels)\n",
    "\n",
    "\n",
    "        # Add bent faults, make sure to merge main-bent points into one list\n",
    "        elif (i>=n_simple_faults) and (i <= n_simple_faults + 2 * n_bent_faults -1) and (n_bent_faults != 0): \n",
    "            if k%2 == 0: # main points\n",
    "                (main_center, main_length, main_width, main_normal, main_length_axis, main_width_axis) = metadata\n",
    "                \n",
    "                main_fault_points = generate_points_from_plane(main_center, main_length, main_width, main_normal, main_length_axis, main_width_axis)\n",
    "                k+=1\n",
    "\n",
    "            else:        # bent points\n",
    "                (second_center, second_length, second_width, second_normal, second_length_axis, second_width_axis) = metadata\n",
    "                second_fault_points = generate_points_from_plane(second_center, second_length, second_width, second_normal, second_length_axis, second_width_axis)\n",
    "\n",
    "                # Concatenate main and bent points into one array, and add to list.\n",
    "                points_list.append(np.concatenate((main_fault_points, second_fault_points)))\n",
    "                k+=1\n",
    "\n",
    "                # Add labels\n",
    "                fault_labels = [label] * (len(main_fault_points) + len(second_fault_points))\n",
    "                labels.extend(fault_labels)\n",
    "            \n",
    "            \n",
    "\n",
    "\n",
    "        # Add cross faults (a cross consists of two faults, hence they are separate)\n",
    "        elif   (i >= n_simple_faults + 2*n_bent_faults) and (i <= n_simple_faults + 2*n_bent_faults + 2*n_cross_faults -1) and (n_cross_faults != 0):\n",
    "            (center, length, width, normal, length_axis, width_axis) = metadata\n",
    "            fault_points = generate_points_from_plane(center, length, width, normal, length_axis, width_axis)\n",
    "            points_list.append(fault_points)\n",
    "\n",
    "            # Add labels\n",
    "            fault_labels = [label] * len(fault_points)\n",
    "            labels.extend(fault_labels)\n",
    "\n",
    "\n",
    "        # Add Y-shaped faults\n",
    "        elif   (i >= n_simple_faults + 2*n_bent_faults + 2*n_cross_faults) and (i <= n_simple_faults + 2*n_bent_faults + 2*n_cross_faults + 2*n_Y_faults -1) and (n_Y_faults != 0):\n",
    "            (center, length, width, normal, length_axis, width_axis) = metadata\n",
    "            fault_points = generate_points_from_plane(center, length, width, normal, length_axis, width_axis)\n",
    "            points_list.append(fault_points)\n",
    "\n",
    "            # Add labels\n",
    "            fault_labels = [label] * len(fault_points)\n",
    "            labels.extend(fault_labels)\n",
    "            \n",
    "\n",
    "        # Add parallel faults\n",
    "        elif    (i >= n_simple_faults + 2*n_bent_faults + 2*n_cross_faults + 2*n_Y_faults) and (i <= n_simple_faults + 2*n_bent_faults + 2*n_cross_faults + 2*n_Y_faults -1 + 2*n_parallel_faults -1) and (n_parallel_faults != 0):\n",
    "            (center, length, width, normal, length_axis, width_axis) = metadata\n",
    "            fault_points = generate_points_from_plane(center, length, width, normal, length_axis, width_axis)\n",
    "            points_list.append(fault_points)\n",
    "\n",
    "            # Add labels\n",
    "            fault_labels = [label] * len(fault_points)\n",
    "            labels.extend(fault_labels)\n",
    "           \n",
    "\n",
    "        # Add rest of faults that form the ladder structure\n",
    "        else: \n",
    "            (center, length, width, normal, length_axis, width_axis) = metadata\n",
    "            fault_points = generate_points_from_plane(center, length, width, normal, length_axis, width_axis)\n",
    "            points_list.append(fault_points)\n",
    "\n",
    "            # Add labels\n",
    "            fault_labels = [label] * len(fault_points)\n",
    "            labels.extend(fault_labels)\n",
    "            \n",
    "        label += 1\n",
    "        \n",
    "    return points_list, labels\n",
    "\n",
    "\n",
    "\n",
    "def generate_dataset(n_simple_faults, n_bent_faults, n_cross_faults, n_Y_faults, n_parallel_faults, n_structures, VERBOSE=False):\n",
    "\n",
    "    fault_metadata_list = generate_faults_metadata(n_simple_faults, n_bent_faults, n_cross_faults, n_Y_faults, n_parallel_faults, n_structures, eps_center=0.1, domain_scale=1, VERBOSE=False)\n",
    "\n",
    "    fault_points_list, labels = generate_point_list_from_metadata_list(fault_metadata_list, n_simple_faults, n_bent_faults, n_cross_faults, n_Y_faults, n_parallel_faults)\n",
    "    \n",
    "    return fault_points_list, labels"
   ]
  },
  {
   "cell_type": "markdown",
   "metadata": {},
   "source": [
    "### Visualization functions"
   ]
  },
  {
   "cell_type": "code",
   "execution_count": 11,
   "metadata": {},
   "outputs": [],
   "source": [
    "def multi_static_plot_better(fault_points_list, fault_metadata_list=None, show_plane=False, show_axes=False):\n",
    "    \"\"\"\n",
    "    Visualize fault points in 3D and optionally plot the plane and axes.\n",
    "\n",
    "    Args:\n",
    "    - fault_points_list: List of fault points arrays (each array represents points for one fault)\n",
    "    - fault_metadata_list: List of fault metadata tuples (each tuple contains metadata for one fault)\n",
    "    - show_plane: Boolean indicating whether to plot the plane (default is False)\n",
    "    - show_axes: Boolean indicating whether to plot the axes (default is False)\n",
    "    \"\"\"\n",
    "    fig = plt.figure(figsize=(8, 6))\n",
    "    ax = fig.add_subplot(111, projection='3d')\n",
    "\n",
    "    # Plot event points for each fault\n",
    "    for i, fault_points in enumerate(fault_points_list):\n",
    "        ax.scatter(fault_points[:, 0], fault_points[:, 1], fault_points[:, 2], label=f'Fault {i+1}', s=5)\n",
    "\n",
    "    # Plot the plane and axes if requested\n",
    "    if show_plane or show_axes or fault_metadata_list != None:\n",
    "        for metadata in fault_metadata_list:\n",
    "            # Unpack plane data\n",
    "            (center, length, width, normal, length_axis, width_axis) = metadata\n",
    "\n",
    "            if show_plane:\n",
    "                # Define vertices of the plane\n",
    "                plane_vertices = center + np.array([-length/2, length/2, length/2, -length/2, -length/2])[:, None] * length_axis + np.array([-width/2, -width/2, width/2, width/2, -width/2])[:, None] * width_axis\n",
    "\n",
    "                # Plot the plane\n",
    "                ax.plot_trisurf(plane_vertices[:, 0], plane_vertices[:, 1], plane_vertices[:, 2], color='blue', alpha=0.2)\n",
    "\n",
    "            if show_axes:\n",
    "                # Plot length and width axes\n",
    "                ax.plot([center[0], center[0] + length_axis[0]*length/2],\n",
    "                        [center[1], center[1] + length_axis[1]*length/2],\n",
    "                        [center[2], center[2] + length_axis[2]*length/2], color='red', linewidth=3)\n",
    "\n",
    "                ax.plot([center[0], center[0] + width_axis[0]*width/2],\n",
    "                        [center[1], center[1] + width_axis[1]*width/2],\n",
    "                        [center[2], center[2] + width_axis[2]*width/2], color='green', linewidth=3)\n",
    "\n",
    "    ax.set_xlabel('X')\n",
    "    ax.set_ylabel('Y')\n",
    "    ax.set_zlabel('Z')\n",
    "    ax.set_title('Synthetic Seismic Data - Fault Points')\n",
    "    ax.legend()\n",
    "    plt.show()"
   ]
  },
  {
   "cell_type": "code",
   "execution_count": 12,
   "metadata": {},
   "outputs": [
    {
     "data": {
      "image/png": "[encoded data removed]",
      "text/plain": [
       "<Figure size 800x500 with 1 Axes>"
      ]
     },
     "metadata": {},
     "output_type": "display_data"
    }
   ],
   "source": [
    "def multi_interactive_plot_better(fault_points_list, fault_metadata_list, show_plane=False, show_axes=False, domain_scale=1):\n",
    "    \"\"\"\n",
    "    Visualize 3D points of multiple faults in an interactive plot using Plotly.\n",
    "    \"\"\"\n",
    "\n",
    "    fig = go.Figure()\n",
    "\n",
    "    x_range_largest = [-1, 1]\n",
    "    y_range_largest = x_range_largest\n",
    "    z_range_largest = x_range_largest\n",
    "    \n",
    "    for i, points in enumerate(fault_points_list):\n",
    "        # Extract x, y, z coordinates from points\n",
    "        x_coords = points[:, 0]\n",
    "        y_coords = points[:, 1]\n",
    "        z_coords = points[:, 2]\n",
    "\n",
    "        # Plot the points\n",
    "        fig.add_trace(go.Scatter3d(\n",
    "            x=x_coords,\n",
    "            y=y_coords,\n",
    "            z=z_coords,\n",
    "            mode='markers',\n",
    "            marker=dict(\n",
    "                size=3,\n",
    "                opacity=0.8\n",
    "            ),\n",
    "            name=f'Fault {i+1}'\n",
    "        ))\n",
    "\n",
    "    if show_plane or show_axes or fault_metadata_list != None:\n",
    "        j=0\n",
    "        print(fault_metadata_list[0])\n",
    "        for metadata in fault_metadata_list:\n",
    "            # Unpack plane data:\n",
    "            (center, length, width, normal, length_axis, width_axis) = metadata\n",
    "\n",
    "            if show_plane:\n",
    "                # Define vertices of the plane\n",
    "                plane_vertices = center + np.array([-length/2, length/2, length/2, -length/2, -length/2])[:, None] * length_axis + np.array([-width/2, -width/2, width/2, width/2, -width/2])[:, None] * width_axis\n",
    "\n",
    "                plane_trace = go.Mesh3d(x=plane_vertices[:, 0],\n",
    "                                        y=plane_vertices[:, 1],\n",
    "                                        z=plane_vertices[:, 2],\n",
    "                                        i=[0, 1, 2, 0],\n",
    "                                        j=[1, 2, 3, 4],\n",
    "                                        k=[2, 3, 4, 0],\n",
    "                                        opacity=0.2,\n",
    "                                        color='blue',\n",
    "                                        )\n",
    "                fig.add_trace(plane_trace)\n",
    "\n",
    "            if show_axes:\n",
    "                # Plot length and width axes\n",
    "                length_axis_trace = go.Scatter3d(x=[center[0], center[0] + length_axis[0]*length/2],\n",
    "                                                y=[center[1], center[1] + length_axis[1]*length/2],\n",
    "                                                z=[center[2], center[2] + length_axis[2]*length/2],\n",
    "                                                mode='lines',\n",
    "                                                line=dict(color='red', width=3),\n",
    "                                                )\n",
    "\n",
    "                width_axis_trace = go.Scatter3d(x=[center[0], center[0] + width_axis[0]*width/2],\n",
    "                                                y=[center[1], center[1] + width_axis[1]*width/2],\n",
    "                                                z=[center[2], center[2] + width_axis[2]*width/2],\n",
    "                                                mode='lines',\n",
    "                                                line=dict(color='green', width=3),\n",
    "                                                )\n",
    "                fig.add_trace(length_axis_trace)\n",
    "                fig.add_trace(width_axis_trace)\n",
    "            j+=1\n",
    "            \n",
    "    fig.update_layout(scene=dict(\n",
    "        xaxis_title='X',\n",
    "        yaxis_title='Y',\n",
    "        zaxis_title='Z'),\n",
    "        title='3D Visualization of Fault Points'\n",
    "    )\n",
    "\n",
    "    fig.show()\n",
    "\n",
    "\n",
    "def plot_label_distribution(train_labels):\n",
    "    train_labels = np.array(train_labels, dtype=int)\n",
    "    train_counts = np.bincount(train_labels)\n",
    "    total_train_samples = len(train_labels)\n",
    "    num_labels = len(train_counts)\n",
    "\n",
    "    # Plot the bar plot\n",
    "    plt.figure(figsize=(8, 5))\n",
    "    x = np.arange(num_labels)\n",
    "\n",
    "    plt.bar(x, train_counts, edgecolor='black')\n",
    "\n",
    "    # Add text labels on the bars\n",
    "    for i, count in enumerate(train_counts):\n",
    "        plt.text(x[i], count + 0.1, str(count), ha='center', fontsize=10)\n",
    "\n",
    "    plt.ylabel('Number of Samples')\n",
    "    plt.title(\"Label Distribution\")\n",
    "    plt.xticks(x, range(num_labels))\n",
    "    plt.tight_layout()\n",
    "    plt.show()\n",
    "    # plt.savefig(os.path.join(output_dir, f\"{savename}\"))\n",
    "    plt.close()\n",
    "\n",
    "# Example usage\n",
    "labels = [1, 2, 2, 3, 3, 3, 4, 4, 4, 4]\n",
    "plot_label_distribution(labels)\n"
   ]
  },
  {
   "cell_type": "markdown",
   "metadata": {},
   "source": [
    "## Example outputs"
   ]
  },
  {
   "cell_type": "markdown",
   "metadata": {},
   "source": []
  },
  {
   "cell_type": "markdown",
   "metadata": {},
   "source": []
  },
  {
   "cell_type": "code",
   "execution_count": 13,
   "metadata": {},
   "outputs": [
    {
     "name": "stdout",
     "output_type": "stream",
     "text": [
      "--------------------------------------------------\n",
      "    Generating 0 simple faults:\n",
      "--------------------------------------------------\n",
      "\n",
      "--------------------------------------------------\n",
      "    Generating 0 bent faults:\n",
      "--------------------------------------------------\n",
      "\n",
      "--------------------------------------------------\n",
      "    Generating 1 cross faults:\n",
      "--------------------------------------------------\n",
      "    Cross fault number: 1\n",
      "       First plane:\n",
      "         center: [ 0.43789813 -0.30921628 -0.23186764] \n",
      "         length: 1.2470776969179713, width: 0.6384840626210996 \n",
      "         length_axis: [ 0.45210108 -0.42595284 -0.78368922],   width_axis: [-0.70393614  0.36024298 -0.60189268]\n",
      "\n",
      "       Crosssed plane:\n",
      "         center: [ 0.43789813 -0.30921628 -0.23186764] \n",
      "         length: 1.2470776969179713, width: 0.5107872500968796 \n",
      "         length_axis: [ 0.53869643  0.8237835  -0.13697735],   width_axis: [-0.70393614  0.36024298 -0.60189268]\n",
      "\n",
      "--------------------------------------------------\n",
      "    Generating 0 Y - faults:\n",
      "--------------------------------------------------\n",
      "\n",
      "--------------------------------------------------\n",
      "    Generating 0 parallel faults:\n",
      "--------------------------------------------------\n",
      "\n",
      "--------------------------------------------------\n",
      "    Generating 0 ladder-like structures:\n",
      "--------------------------------------------------\n"
     ]
    },
    {
     "data": {
      "image/png": "[encoded data removed]",
      "text/plain": [
       "<Figure size 800x500 with 1 Axes>"
      ]
     },
     "metadata": {},
     "output_type": "display_data"
    },
    {
     "data": {
      "image/png": "[encoded data removed]",
      "text/plain": [
       "<Figure size 800x600 with 1 Axes>"
      ]
     },
     "metadata": {},
     "output_type": "display_data"
    },
    {
     "name": "stdout",
     "output_type": "stream",
     "text": [
      "(array([ 0.43789813, -0.30921628, -0.23186764]), 1.2470776969179713, 0.6384840626210996, array([ 0.53869643,  0.8237835 , -0.13697735]), array([ 0.45210108, -0.42595284, -0.78368922]), array([-0.70393614,  0.36024298, -0.60189268]))\n"
     ]
    },
    {
     "data": {
      "application/vnd.plotly.v1+json": {
       "config": {
        "plotlyServerURL": "https://plot.ly"
       },
       "data": [
        {
         "marker": {
          "opacity": 0.8,
          "size": 3
         },
         "mode": "markers",
         "name": "Fault 1",
         "type": "scatter3d",
         "x": [
          0.6961170355666036,
          0.7166050146715309,
          0.48852098979935665,
          0.7148315546577295,
          0.2348619136376578,
          0.4729720216902217,
          0.5545014109775375,
          0.3220563827379216,
          0.6351591987320453,
          0.24318039286385423,
          0.8036960239630557,
          0.8129587656997301,
          0.6870426325980896,
          0.49681454384745866,
          0.08353523418102542,
          0.5373382920696905,
          0.3806259952513627,
          0.10058238701543713,
          0.5807111406442886,
          0.2657543979172894,
          0.4630560537262827,
          0.272360943214093,
          0.18881187421853377,
          0.1549016341356452,
          0.3753449484844139,
          0.640291307611069,
          0.5567129491696271,
          0.5381746752708746,
          0.4976875019671453,
          0.09450854280699077,
          0.7558241677018143,
          0.8619836637662104,
          0.7958685939442937,
          0.5945351163195516,
          0.08297933060845704,
          0.5404825953219953,
          0.2619220050497471,
          0.2537540595648371,
          0.5971043449146131,
          0.3273728161664862,
          0.7238987158939244,
          0.4888392643235699,
          0.5952700459593395,
          0.6835986780453078,
          0.35699565683118506,
          0.6215011908908421,
          0.7995263121426583,
          0.5555082422876911,
          0.9395192372617075,
          0.7071733805996626,
          0.39926301360538824,
          0.06776801571574323,
          0.850378162718014,
          0.7980998426517742,
          0.53335545290112,
          0.07272111356352562,
          0.34322495854926754,
          0.09753235046500779,
          0.5757405368637871,
          0.452980572173018,
          0.5234862139010327,
          0.40415063885272406,
          0.5154344516353966,
          0.1646092059897794,
          0.5442210961676309,
          0.4534784323237729,
          0.564965044342849,
          0.732508342420972,
          0.34771315591168567,
          0.3940802229687784,
          0.06387450653116772,
          0.43872302059841817,
          0.06808679607807046,
          0.34953239143646647,
          0.3315892884882479,
          0.3641001382613517,
          0.43695205376681284,
          0.624091562236156,
          0.26133783235184904,
          0.49191954486928746,
          0.5683189815171503,
          0.7324762167710618,
          0.5029646300245976,
          0.49942105262973047,
          0.15364488986045466,
          0.5077254152747678,
          0.19945591489886408,
          0.1018443202784659,
          0.349380635059914,
          0.7282676136228995,
          0.709806930537193,
          0.6562312376017907,
          0.3688407864161612,
          0.6018304896048662,
          0.4299473857657625,
          0.5916155716717926,
          0.6210312737754948,
          0.8435811191028276,
          0.09727751145597484,
          0.6285948686972525,
          0.5111939284438888,
          0.38427821698936737,
          0.6115962062458329,
          0.3503255757417637,
          0.2359019611037511,
          0.3775732044468996,
          0.42941567314739004,
          0.32629144168493135,
          0.28828789926375853,
          0.2245562805956694,
          0.07328691540627444,
          0.6083204624833863,
          0.42005578243794944,
          0.20005877940380282,
          0.36912610058655754,
          0.47005405959531665,
          0.21027381062279657,
          0.47043063175768285,
          0.4279425158979677
         ],
         "y": [
          -0.6122124626091419,
          -0.4298049204259546,
          -0.1931535675244302,
          -0.33538731634558705,
          -0.17150123113538193,
          -0.305897977256855,
          -0.2891434576911836,
          -0.2751398800032957,
          -0.4733897573768795,
          0.12344460363478352,
          -0.45993088987660946,
          -0.5423072457240654,
          -0.6537701509689999,
          -0.16396371587965894,
          0.020827313531802994,
          -0.22564687122845375,
          -0.3880325876634553,
          -0.08420107891951858,
          -0.6345733433953673,
          -0.3902494627080205,
          -0.10432782764500739,
          -0.3445610976360979,
          -0.05685283944426496,
          -0.07591489417274137,
          -0.2453970353116806,
          -0.44221812388634996,
          -0.2849905190237422,
          -0.3360344443855544,
          -0.4418802760364428,
          0.0033839872891598573,
          -0.4120256860959919,
          -0.497492802877386,
          -0.3462800289843768,
          -0.512390550595147,
          -0.052160828739313776,
          -0.2475416252043681,
          -0.10404825722102792,
          -0.16263246887926713,
          -0.516569724266456,
          -0.19978709807666753,
          -0.44306737374207916,
          -0.35813472711146194,
          -0.4348771157501503,
          -0.468371927287595,
          -0.17388058690985236,
          -0.2685510428407347,
          -0.5660447962505083,
          -0.43268308248086496,
          -0.48203137306201277,
          -0.6144836772695539,
          -0.27831420373155347,
          0.04094860786372221,
          -0.6722521121363558,
          -0.696716236111068,
          -0.21117074152121312,
          -0.19538442603975764,
          -0.19950364875084473,
          -0.08161330109013742,
          -0.4365990511153252,
          -0.38007343893958945,
          -0.36784937772437054,
          -0.28862740388008434,
          -0.3807167669189912,
          -0.08592423807713086,
          -0.5357359924201321,
          -0.25148759992459657,
          -0.5492695479196593,
          -0.4761235971261717,
          -0.31104769408780614,
          -0.43890716666406804,
          -0.008811697521372692,
          -0.411150408818326,
          -0.004664805133035908,
          -0.10915226444972553,
          -0.263706819404041,
          -0.44448591867598497,
          -0.15843312897161643,
          -0.30060481501323894,
          -0.15092472047399813,
          -0.1299902616451178,
          -0.35410452761656286,
          -0.5775664173862026,
          -0.47743995217320623,
          -0.08541399713975778,
          -0.19049126445857156,
          -0.37362804885173595,
          -0.19140568474556838,
          -0.20482619669341817,
          -0.07334771920408392,
          -0.42401356320506867,
          -0.6569575720222671,
          -0.29508409556753723,
          -0.12984014234708702,
          -0.3073275385399235,
          -0.4219753129250291,
          -0.3357221364040629,
          -0.3015332894649173,
          -0.5789398473848044,
          0.047057023155851,
          -0.7648577152538181,
          -0.10280642149659538,
          -0.4790003048695604,
          -0.4688982053623986,
          -0.17840777376324005,
          -0.42703559485949394,
          -0.5464391654146298,
          -0.3761265634539697,
          -0.25560459393367335,
          -0.2328439189170515,
          -0.035054688358903976,
          -0.22370597250141247,
          -0.32592839803782003,
          -0.33423738302813594,
          -0.06586711758631389,
          -0.14445753552602847,
          -0.18687580119552172,
          0.04753997668363252,
          -0.18333659891074902,
          -0.4569573614251734
         ],
         "z": [
          -0.4508716794894411,
          -0.3845109435471294,
          -0.06268268566643508,
          -0.24100003660409586,
          -0.1893059650685194,
          -0.7315024738962856,
          -0.6421551431038336,
          0.08437301978263846,
          -0.22829138871286545,
          0.0007409919239592458,
          -0.5710717210634491,
          -0.30957506320100875,
          -0.4710216040945771,
          -0.6518785465560416,
          0.172638934140906,
          -0.23603596882366865,
          -0.6971689691381626,
          0.070448198231609,
          -0.5919375155645515,
          -0.2426628645519695,
          -0.09278907015009208,
          -0.507611837423195,
          -0.027116819751882994,
          0.1873012148500345,
          -0.5245137538313143,
          -0.5945464269453489,
          -0.8527192219154073,
          -0.05799677354166755,
          -0.28710540579576344,
          0.13582864735493913,
          -0.14726640763808443,
          -0.6268000607725398,
          -0.2522873726380638,
          -0.7523427333540457,
          0.03363258988037595,
          0.0687922981645339,
          -0.033797336799748376,
          -0.16372085665299185,
          -0.4350889910864642,
          -0.12616033127705728,
          -0.3910042792885728,
          -0.24396457139282351,
          -0.28464241114763095,
          -0.6247483205759172,
          -0.30503977305225183,
          0.02188298997508067,
          -0.29875655241409804,
          0.016202338648415984,
          -0.6133304380480468,
          -0.44459159821480587,
          -0.47550383714992717,
          0.07664555611884973,
          -0.5700110560149694,
          -0.48406734706666377,
          -0.15910718708784444,
          -0.014991016354375629,
          0.3104671869426348,
          0.16567362016734752,
          -0.07515600308291576,
          0.1538999016677803,
          -0.2611751919279496,
          0.25709375882113,
          -0.163876717431744,
          0.2734119110817278,
          -0.630113093497546,
          -0.40092589981105115,
          -0.6826454227415901,
          -0.4429478592953455,
          -0.38534879244169457,
          -0.17715989530626408,
          0.0252409885394713,
          -0.79425388499489,
          0.08482115742726871,
          -0.036914987828470906,
          -0.07289678763330439,
          -0.3482211434552213,
          -0.3986917465946633,
          0.0698875431371107,
          0.3403050349732612,
          0.3029224120947088,
          -0.543894195878376,
          -0.37211784523485814,
          -0.10725390397706082,
          -0.2651403404088929,
          0.3211999905949032,
          -0.08837539735031266,
          -0.25227529472443355,
          0.06550438911389611,
          -0.20943725626265736,
          -0.2890276621772513,
          -0.5928589945407411,
          -0.5171568044855085,
          -0.16136269829129063,
          -0.20336294126770627,
          0.038732887973715935,
          -0.6752354409657865,
          0.06327989605758508,
          -0.45226459663185564,
          0.06016570886924405,
          -0.5125577275955413,
          0.07890858413492367,
          -0.4725365765591285,
          -0.019173952824556265,
          -0.33565620788913897,
          -0.25098184432643295,
          -0.3205091027946344,
          -0.5435154908494264,
          -0.3170264125869908,
          -0.15930060985041877,
          -0.23150084319625597,
          -0.124380284624696,
          -0.5795624726122804,
          -0.07499949477335072,
          -0.14002111022859615,
          -0.5600023290776667,
          0.020639446749329285,
          0.19533460290421334,
          0.04983032796520165,
          -0.2162113605913655
         ]
        },
        {
         "marker": {
          "opacity": 0.8,
          "size": 3
         },
         "mode": "markers",
         "name": "Fault 2",
         "type": "scatter3d",
         "x": [
          0.5057860885605098,
          0.661125848904782,
          0.13526909496291162,
          0.39663376571103887,
          0.6263399773809215,
          0.36051658005809845,
          0.2042328795626266,
          0.6175309896641514,
          0.5389965057684211,
          0.6429735967704723,
          0.2932087544375243,
          0.8295972896716226,
          0.4463519032790242,
          0.7655924861688828,
          0.6777776577310681,
          0.758977024235807,
          0.42227631628561246,
          0.5906365646724219,
          0.15992303680621298,
          0.5508264239601304,
          0.2597321015506756,
          0.05655638612373384,
          0.6023618802067002,
          0.690566595819379,
          0.302063997866201,
          0.712568241961143,
          0.08740474784202906,
          0.528541074114472,
          0.2042376484672047,
          0.23008497870158232,
          0.20779924926463414,
          0.29363548294576675,
          0.6882008661347638,
          0.6737980367575478,
          0.8505496076447767,
          0.5641977481367321,
          0.11418107270504499,
          0.37438643567925045,
          0.4141821447443659,
          0.5512367777701354,
          0.5824115225151998,
          0.16427565930907745,
          -0.015585889882830963,
          0.4838469699745537,
          0.1882232388226845,
          0.5904862950619246,
          0.06088000871871822,
          0.39228715377171475,
          0.4647688299866505,
          0.9532933348315921,
          0.06603226165811252,
          -0.05043941996972001,
          0.3035448437764362,
          0.6812512018779933,
          0.14614370602652743,
          0.32923714836571244,
          0.8494143288064339,
          0.14467319103946025,
          0.5509278300317089,
          0.6418554498768034,
          0.34303219844827615,
          0.555196054052052,
          0.20890622438591586,
          0.31435089752115924,
          0.21479713490398192,
          0.4578350168049021,
          0.6151906606185904,
          0.48129246725548824,
          0.5824149100853698,
          0.4184552624898024,
          0.5618255985186273,
          0.03902471433477349,
          0.27679228471860934,
          0.2878217573734744,
          0.4691547665715826,
          0.8427095421364503,
          0.18981478968181703,
          0.8068622123564877,
          0.7364734337792181,
          0.8025108307010982,
          0.12605066061298167,
          0.7369275002795316,
          0.26097930997713903,
          0.24869697589790918,
          0.39454544997806756,
          0.15590025888288153,
          0.5200622346784403,
          0.38530112746256645,
          -0.04885071525431685,
          0.8120749911998947,
          0.84342287312696,
          0.7712042097284291,
          0.031219756808954738,
          0.11951317779966993,
          0.42718642488843406,
          0.713342555651082
         ],
         "y": [
          0.21978272895940365,
          0.004408623357521686,
          -0.311776214471855,
          -0.13404501903064162,
          -0.2682511620163972,
          -0.8593926295352057,
          -0.761294194914949,
          -0.06470054552692056,
          -0.11242347867258079,
          -0.05828606971883111,
          -0.8357881707663337,
          -0.008881907153755135,
          -0.45706584229051667,
          -0.19372482495707113,
          -0.04077839773676583,
          0.08535420537823235,
          -0.25025668725737554,
          -0.33863155392039657,
          -0.5249395188395719,
          0.1137123359028422,
          -0.6970476745183563,
          -0.6351192464109479,
          -0.22789728849077412,
          -0.20589299249472634,
          -0.551936930041783,
          -0.1292288583376922,
          -0.7088416145709511,
          -0.32913437298387216,
          -0.2886333010647689,
          -0.4468313727701545,
          -0.8566832614958132,
          -0.5956390084580307,
          -0.09493244934324341,
          0.14783008568218792,
          0.11817622239458787,
          0.07643864569520073,
          -0.5245945144600337,
          -0.7182889563442136,
          -0.08332592138350531,
          0.1561342351564779,
          -0.19685749547186232,
          -0.2838716395765183,
          -0.7065691858977879,
          -0.4887367448560883,
          -0.86823221459581,
          -0.47646539072704913,
          -0.6363755357611156,
          -0.350857048380076,
          -0.10547946660590951,
          0.09172791060397384,
          -0.7652173058386864,
          -0.6266697594786369,
          -0.5273452612583004,
          -0.051799732776301434,
          -0.47653356221411686,
          -0.8351638874896599,
          0.031068860810613216,
          -0.731326601045235,
          -0.010693751083021494,
          -0.013394384771286592,
          -0.6409608107825422,
          -0.17158983382711906,
          -0.8612080914462213,
          -0.20474976899331268,
          -0.4221816123109593,
          -0.4512910573147933,
          0.2598284753164615,
          -0.15753978830512277,
          -0.0037035448251918415,
          -0.46109838301452344,
          -0.4769422540255303,
          -0.5706137965614856,
          -0.7592471385783043,
          -0.6016996999468647,
          -0.3409789242746338,
          -0.11616430659536518,
          -0.6519802780431992,
          0.08696127868101634,
          0.09765900005164696,
          0.1550290579528932,
          -0.7271374139159359,
          -0.1006346886975174,
          -0.3872746760665832,
          -0.42948025282052504,
          -0.5499526937252841,
          -0.5111860373876185,
          -0.3084224281782179,
          -0.38227759189881066,
          -0.6707971412938769,
          0.13726337720197404,
          -0.03531587297387615,
          0.0044972509743092595,
          -0.6935909576616305,
          -0.8159980654354055,
          0.06871637419919462,
          -0.12679969397419283
         ],
         "z": [
          -0.39485738465747083,
          -0.39607186310729925,
          -0.2342855839227712,
          -0.2462414879810657,
          -0.299283075170782,
          -0.09643751279386478,
          -0.07271055165014619,
          -0.5458476872165404,
          -0.4243579713200067,
          -0.31886941492518617,
          0.022900633039262867,
          -0.24380223604637513,
          -0.17323444494579437,
          -0.22354769231842223,
          -0.28208659298180006,
          -0.3661607697524904,
          -0.32610800054366884,
          -0.13921406099489128,
          -0.29411152613461006,
          -0.4655830244361051,
          -0.00053844482352082,
          -0.27361221895254856,
          -0.14072690728390472,
          -0.14680046386057316,
          -0.18807689787888732,
          -0.07642464670436165,
          -0.41265811907477795,
          -0.15688725473231196,
          -0.28849245495564435,
          -0.07520428329357233,
          0.030090494134975616,
          -0.1254424889037016,
          -0.2728393962720507,
          -0.32393729617692796,
          -0.16858304637188437,
          -0.3946116228167563,
          -0.3348177395546008,
          -0.019670000285767045,
          -0.39653477897184397,
          -0.47762992181341035,
          -0.2278782875671824,
          -0.2550017205712275,
          -0.24481794326404846,
          -0.15534207554299215,
          -0.16750202328851482,
          -0.17329518760369533,
          -0.2842308132631827,
          -0.21548115615688726,
          -0.32914271637267295,
          -0.242379463155277,
          -0.11079389116884228,
          -0.26634945785019226,
          -0.2175283751971563,
          -0.20591197546965984,
          -0.1119791180829524,
          -0.03620006189810635,
          -0.1248867404368367,
          -0.07352865662192204,
          -0.25398460747951557,
          -0.4485420940878353,
          0.08746044371716932,
          -0.3560697546682832,
          -0.23815719594301332,
          -0.3540976099133208,
          -0.10716343596183965,
          -0.17913857369401698,
          -0.4942937455860335,
          -0.294227530390147,
          -0.215118298018035,
          -0.4167710069580256,
          -0.1122903973805779,
          -0.3126335470972858,
          -0.24696015567730123,
          -0.29608616602411236,
          -0.06554796849890052,
          -0.2928910443758117,
          -0.16499330647246108,
          -0.2142183331040495,
          -0.36423735277624575,
          -0.0955870949517612,
          -0.22748682599473602,
          -0.2895747552321796,
          -0.2909301583718325,
          -0.32620390533366983,
          -0.18774636853623633,
          -0.42962386008766706,
          -0.2372374785512437,
          -0.3885900027233122,
          -0.28489831707716784,
          -0.14207995761993814,
          -0.17168730824240427,
          -0.22081020106654226,
          -0.15620419060824003,
          -0.3573664981206621,
          -0.34887264516401745,
          -0.11102061384113483
         ]
        },
        {
         "color": "blue",
         "i": [
          0,
          1,
          2,
          0
         ],
         "j": [
          1,
          2,
          3,
          4
         ],
         "k": [
          2,
          3,
          4,
          0
         ],
         "opacity": 0.2,
         "type": "mesh3d",
         "x": [
          0.38072154117362794,
          0.9445267183313649,
          0.49507471222629096,
          -0.06873046493144602,
          0.38072154117362794
         ],
         "y": [
          -0.15862283995715315,
          -0.6898191205615516,
          -0.45980972116400953,
          0.07138655944038891,
          -0.15862283995715315
         ],
         "z": [
          0.44894247401092224,
          -0.5283788732604947,
          -0.9126777596386434,
          0.06464358763277353,
          0.44894247401092224
         ]
        },
        {
         "color": "blue",
         "i": [
          0,
          1,
          2,
          0
         ],
         "j": [
          1,
          2,
          3,
          4
         ],
         "k": [
          2,
          3,
          4,
          0
         ],
         "opacity": 0.2,
         "type": "mesh3d",
         "x": [
          0.2817807757660574,
          0.9535770825179206,
          0.5940154776338615,
          -0.07778082911800177,
          0.2817807757660574
         ],
         "y": [
          -0.9148810541620518,
          0.1124409735228554,
          0.29644849304088905,
          -0.730873534644018,
          -0.9148810541620518
         ],
         "z": [
          0.0072626135567872285,
          -0.16355879008198934,
          -0.4709978991845083,
          -0.3001764955457318,
          0.0072626135567872285
         ]
        }
       ],
       "layout": {
        "scene": {
         "xaxis": {
          "title": {
           "text": "X"
          }
         },
         "yaxis": {
          "title": {
           "text": "Y"
          }
         },
         "zaxis": {
          "title": {
           "text": "Z"
          }
         }
        },
        "template": {
         "data": {
          "bar": [
           {
            "error_x": {
             "color": "#2a3f5f"
            },
            "error_y": {
             "color": "#2a3f5f"
            },
            "marker": {
             "line": {
              "color": "#E5ECF6",
              "width": 0.5
             },
             "pattern": {
              "fillmode": "overlay",
              "size": 10,
              "solidity": 0.2
             }
            },
            "type": "bar"
           }
          ],
          "barpolar": [
           {
            "marker": {
             "line": {
              "color": "#E5ECF6",
              "width": 0.5
             },
             "pattern": {
              "fillmode": "overlay",
              "size": 10,
              "solidity": 0.2
             }
            },
            "type": "barpolar"
           }
          ],
          "carpet": [
           {
            "aaxis": {
             "endlinecolor": "#2a3f5f",
             "gridcolor": "white",
             "linecolor": "white",
             "minorgridcolor": "white",
             "startlinecolor": "#2a3f5f"
            },
            "baxis": {
             "endlinecolor": "#2a3f5f",
             "gridcolor": "white",
             "linecolor": "white",
             "minorgridcolor": "white",
             "startlinecolor": "#2a3f5f"
            },
            "type": "carpet"
           }
          ],
          "choropleth": [
           {
            "colorbar": {
             "outlinewidth": 0,
             "ticks": ""
            },
            "type": "choropleth"
           }
          ],
          "contour": [
           {
            "colorbar": {
             "outlinewidth": 0,
             "ticks": ""
            },
            "colorscale": [
             [
              0,
              "#0d0887"
             ],
             [
              0.1111111111111111,
              "#46039f"
             ],
             [
              0.2222222222222222,
              "#7201a8"
             ],
             [
              0.3333333333333333,
              "#9c179e"
             ],
             [
              0.4444444444444444,
              "#bd3786"
             ],
             [
              0.5555555555555556,
              "#d8576b"
             ],
             [
              0.6666666666666666,
              "#ed7953"
             ],
             [
              0.7777777777777778,
              "#fb9f3a"
             ],
             [
              0.8888888888888888,
              "#fdca26"
             ],
             [
              1,
              "#f0f921"
             ]
            ],
            "type": "contour"
           }
          ],
          "contourcarpet": [
           {
            "colorbar": {
             "outlinewidth": 0,
             "ticks": ""
            },
            "type": "contourcarpet"
           }
          ],
          "heatmap": [
           {
            "colorbar": {
             "outlinewidth": 0,
             "ticks": ""
            },
            "colorscale": [
             [
              0,
              "#0d0887"
             ],
             [
              0.1111111111111111,
              "#46039f"
             ],
             [
              0.2222222222222222,
              "#7201a8"
             ],
             [
              0.3333333333333333,
              "#9c179e"
             ],
             [
              0.4444444444444444,
              "#bd3786"
             ],
             [
              0.5555555555555556,
              "#d8576b"
             ],
             [
              0.6666666666666666,
              "#ed7953"
             ],
             [
              0.7777777777777778,
              "#fb9f3a"
             ],
             [
              0.8888888888888888,
              "#fdca26"
             ],
             [
              1,
              "#f0f921"
             ]
            ],
            "type": "heatmap"
           }
          ],
          "heatmapgl": [
           {
            "colorbar": {
             "outlinewidth": 0,
             "ticks": ""
            },
            "colorscale": [
             [
              0,
              "#0d0887"
             ],
             [
              0.1111111111111111,
              "#46039f"
             ],
             [
              0.2222222222222222,
              "#7201a8"
             ],
             [
              0.3333333333333333,
              "#9c179e"
             ],
             [
              0.4444444444444444,
              "#bd3786"
             ],
             [
              0.5555555555555556,
              "#d8576b"
             ],
             [
              0.6666666666666666,
              "#ed7953"
             ],
             [
              0.7777777777777778,
              "#fb9f3a"
             ],
             [
              0.8888888888888888,
              "#fdca26"
             ],
             [
              1,
              "#f0f921"
             ]
            ],
            "type": "heatmapgl"
           }
          ],
          "histogram": [
           {
            "marker": {
             "pattern": {
              "fillmode": "overlay",
              "size": 10,
              "solidity": 0.2
             }
            },
            "type": "histogram"
           }
          ],
          "histogram2d": [
           {
            "colorbar": {
             "outlinewidth": 0,
             "ticks": ""
            },
            "colorscale": [
             [
              0,
              "#0d0887"
             ],
             [
              0.1111111111111111,
              "#46039f"
             ],
             [
              0.2222222222222222,
              "#7201a8"
             ],
             [
              0.3333333333333333,
              "#9c179e"
             ],
             [
              0.4444444444444444,
              "#bd3786"
             ],
             [
              0.5555555555555556,
              "#d8576b"
             ],
             [
              0.6666666666666666,
              "#ed7953"
             ],
             [
              0.7777777777777778,
              "#fb9f3a"
             ],
             [
              0.8888888888888888,
              "#fdca26"
             ],
             [
              1,
              "#f0f921"
             ]
            ],
            "type": "histogram2d"
           }
          ],
          "histogram2dcontour": [
           {
            "colorbar": {
             "outlinewidth": 0,
             "ticks": ""
            },
            "colorscale": [
             [
              0,
              "#0d0887"
             ],
             [
              0.1111111111111111,
              "#46039f"
             ],
             [
              0.2222222222222222,
              "#7201a8"
             ],
             [
              0.3333333333333333,
              "#9c179e"
             ],
             [
              0.4444444444444444,
              "#bd3786"
             ],
             [
              0.5555555555555556,
              "#d8576b"
             ],
             [
              0.6666666666666666,
              "#ed7953"
             ],
             [
              0.7777777777777778,
              "#fb9f3a"
             ],
             [
              0.8888888888888888,
              "#fdca26"
             ],
             [
              1,
              "#f0f921"
             ]
            ],
            "type": "histogram2dcontour"
           }
          ],
          "mesh3d": [
           {
            "colorbar": {
             "outlinewidth": 0,
             "ticks": ""
            },
            "type": "mesh3d"
           }
          ],
          "parcoords": [
           {
            "line": {
             "colorbar": {
              "outlinewidth": 0,
              "ticks": ""
             }
            },
            "type": "parcoords"
           }
          ],
          "pie": [
           {
            "automargin": true,
            "type": "pie"
           }
          ],
          "scatter": [
           {
            "fillpattern": {
             "fillmode": "overlay",
             "size": 10,
             "solidity": 0.2
            },
            "type": "scatter"
           }
          ],
          "scatter3d": [
           {
            "line": {
             "colorbar": {
              "outlinewidth": 0,
              "ticks": ""
             }
            },
            "marker": {
             "colorbar": {
              "outlinewidth": 0,
              "ticks": ""
             }
            },
            "type": "scatter3d"
           }
          ],
          "scattercarpet": [
           {
            "marker": {
             "colorbar": {
              "outlinewidth": 0,
              "ticks": ""
             }
            },
            "type": "scattercarpet"
           }
          ],
          "scattergeo": [
           {
            "marker": {
             "colorbar": {
              "outlinewidth": 0,
              "ticks": ""
             }
            },
            "type": "scattergeo"
           }
          ],
          "scattergl": [
           {
            "marker": {
             "colorbar": {
              "outlinewidth": 0,
              "ticks": ""
             }
            },
            "type": "scattergl"
           }
          ],
          "scattermapbox": [
           {
            "marker": {
             "colorbar": {
              "outlinewidth": 0,
              "ticks": ""
             }
            },
            "type": "scattermapbox"
           }
          ],
          "scatterpolar": [
           {
            "marker": {
             "colorbar": {
              "outlinewidth": 0,
              "ticks": ""
             }
            },
            "type": "scatterpolar"
           }
          ],
          "scatterpolargl": [
           {
            "marker": {
             "colorbar": {
              "outlinewidth": 0,
              "ticks": ""
             }
            },
            "type": "scatterpolargl"
           }
          ],
          "scatterternary": [
           {
            "marker": {
             "colorbar": {
              "outlinewidth": 0,
              "ticks": ""
             }
            },
            "type": "scatterternary"
           }
          ],
          "surface": [
           {
            "colorbar": {
             "outlinewidth": 0,
             "ticks": ""
            },
            "colorscale": [
             [
              0,
              "#0d0887"
             ],
             [
              0.1111111111111111,
              "#46039f"
             ],
             [
              0.2222222222222222,
              "#7201a8"
             ],
             [
              0.3333333333333333,
              "#9c179e"
             ],
             [
              0.4444444444444444,
              "#bd3786"
             ],
             [
              0.5555555555555556,
              "#d8576b"
             ],
             [
              0.6666666666666666,
              "#ed7953"
             ],
             [
              0.7777777777777778,
              "#fb9f3a"
             ],
             [
              0.8888888888888888,
              "#fdca26"
             ],
             [
              1,
              "#f0f921"
             ]
            ],
            "type": "surface"
           }
          ],
          "table": [
           {
            "cells": {
             "fill": {
              "color": "#EBF0F8"
             },
             "line": {
              "color": "white"
             }
            },
            "header": {
             "fill": {
              "color": "#C8D4E3"
             },
             "line": {
              "color": "white"
             }
            },
            "type": "table"
           }
          ]
         },
         "layout": {
          "annotationdefaults": {
           "arrowcolor": "#2a3f5f",
           "arrowhead": 0,
           "arrowwidth": 1
          },
          "autotypenumbers": "strict",
          "coloraxis": {
           "colorbar": {
            "outlinewidth": 0,
            "ticks": ""
           }
          },
          "colorscale": {
           "diverging": [
            [
             0,
             "#8e0152"
            ],
            [
             0.1,
             "#c51b7d"
            ],
            [
             0.2,
             "#de77ae"
            ],
            [
             0.3,
             "#f1b6da"
            ],
            [
             0.4,
             "#fde0ef"
            ],
            [
             0.5,
             "#f7f7f7"
            ],
            [
             0.6,
             "#e6f5d0"
            ],
            [
             0.7,
             "#b8e186"
            ],
            [
             0.8,
             "#7fbc41"
            ],
            [
             0.9,
             "#4d9221"
            ],
            [
             1,
             "#276419"
            ]
           ],
           "sequential": [
            [
             0,
             "#0d0887"
            ],
            [
             0.1111111111111111,
             "#46039f"
            ],
            [
             0.2222222222222222,
             "#7201a8"
            ],
            [
             0.3333333333333333,
             "#9c179e"
            ],
            [
             0.4444444444444444,
             "#bd3786"
            ],
            [
             0.5555555555555556,
             "#d8576b"
            ],
            [
             0.6666666666666666,
             "#ed7953"
            ],
            [
             0.7777777777777778,
             "#fb9f3a"
            ],
            [
             0.8888888888888888,
             "#fdca26"
            ],
            [
             1,
             "#f0f921"
            ]
           ],
           "sequentialminus": [
            [
             0,
             "#0d0887"
            ],
            [
             0.1111111111111111,
             "#46039f"
            ],
            [
             0.2222222222222222,
             "#7201a8"
            ],
            [
             0.3333333333333333,
             "#9c179e"
            ],
            [
             0.4444444444444444,
             "#bd3786"
            ],
            [
             0.5555555555555556,
             "#d8576b"
            ],
            [
             0.6666666666666666,
             "#ed7953"
            ],
            [
             0.7777777777777778,
             "#fb9f3a"
            ],
            [
             0.8888888888888888,
             "#fdca26"
            ],
            [
             1,
             "#f0f921"
            ]
           ]
          },
          "colorway": [
           "#636efa",
           "#EF553B",
           "#00cc96",
           "#ab63fa",
           "#FFA15A",
           "#19d3f3",
           "#FF6692",
           "#B6E880",
           "#FF97FF",
           "#FECB52"
          ],
          "font": {
           "color": "#2a3f5f"
          },
          "geo": {
           "bgcolor": "white",
           "lakecolor": "white",
           "landcolor": "#E5ECF6",
           "showlakes": true,
           "showland": true,
           "subunitcolor": "white"
          },
          "hoverlabel": {
           "align": "left"
          },
          "hovermode": "closest",
          "mapbox": {
           "style": "light"
          },
          "paper_bgcolor": "white",
          "plot_bgcolor": "#E5ECF6",
          "polar": {
           "angularaxis": {
            "gridcolor": "white",
            "linecolor": "white",
            "ticks": ""
           },
           "bgcolor": "#E5ECF6",
           "radialaxis": {
            "gridcolor": "white",
            "linecolor": "white",
            "ticks": ""
           }
          },
          "scene": {
           "xaxis": {
            "backgroundcolor": "#E5ECF6",
            "gridcolor": "white",
            "gridwidth": 2,
            "linecolor": "white",
            "showbackground": true,
            "ticks": "",
            "zerolinecolor": "white"
           },
           "yaxis": {
            "backgroundcolor": "#E5ECF6",
            "gridcolor": "white",
            "gridwidth": 2,
            "linecolor": "white",
            "showbackground": true,
            "ticks": "",
            "zerolinecolor": "white"
           },
           "zaxis": {
            "backgroundcolor": "#E5ECF6",
            "gridcolor": "white",
            "gridwidth": 2,
            "linecolor": "white",
            "showbackground": true,
            "ticks": "",
            "zerolinecolor": "white"
           }
          },
          "shapedefaults": {
           "line": {
            "color": "#2a3f5f"
           }
          },
          "ternary": {
           "aaxis": {
            "gridcolor": "white",
            "linecolor": "white",
            "ticks": ""
           },
           "baxis": {
            "gridcolor": "white",
            "linecolor": "white",
            "ticks": ""
           },
           "bgcolor": "#E5ECF6",
           "caxis": {
            "gridcolor": "white",
            "linecolor": "white",
            "ticks": ""
           }
          },
          "title": {
           "x": 0.05
          },
          "xaxis": {
           "automargin": true,
           "gridcolor": "white",
           "linecolor": "white",
           "ticks": "",
           "title": {
            "standoff": 15
           },
           "zerolinecolor": "white",
           "zerolinewidth": 2
          },
          "yaxis": {
           "automargin": true,
           "gridcolor": "white",
           "linecolor": "white",
           "ticks": "",
           "title": {
            "standoff": 15
           },
           "zerolinecolor": "white",
           "zerolinewidth": 2
          }
         }
        },
        "title": {
         "text": "3D Visualization of Fault Points"
        }
       }
      }
     },
     "metadata": {},
     "output_type": "display_data"
    }
   ],
   "source": [
    "n_simple_faults = 0\n",
    "n_bent_faults = 0\n",
    "n_cross_faults = 1\n",
    "n_Y_faults = 0\n",
    "n_parallel_faults = 0\n",
    "n_structures = 0\n",
    "\n",
    "# Generate fault metadata \n",
    "fault_metadata_list = generate_faults_metadata(n_simple_faults, n_bent_faults, n_cross_faults, n_Y_faults, n_parallel_faults, n_structures, eps_center=0.5, domain_scale=1, VERBOSE=True)\n",
    "\n",
    "# Generate point cloud for the fault \n",
    "fault_points_list, labels = generate_point_list_from_metadata_list(fault_metadata_list, n_simple_faults, n_bent_faults, n_cross_faults, n_Y_faults, n_parallel_faults)\n",
    "\n",
    "plot_label_distribution(labels)\n",
    "multi_static_plot_better(fault_points_list, fault_metadata_list, show_plane=True, show_axes=True)\n",
    "multi_interactive_plot_better(fault_points_list, fault_metadata_list, show_plane=True, show_axes=False)\n"
   ]
  },
  {
   "cell_type": "code",
   "execution_count": null,
   "metadata": {},
   "outputs": [],
   "source": []
  },
  {
   "cell_type": "markdown",
   "metadata": {},
   "source": [
    "## Generating a larger dataset"
   ]
  },
  {
   "cell_type": "code",
   "execution_count": 14,
   "metadata": {},
   "outputs": [
    {
     "ename": "TypeError",
     "evalue": "list indices must be integers or slices, not tuple",
     "output_type": "error",
     "traceback": [
      "\u001b[1;31m---------------------------------------------------------------------------\u001b[0m",
      "\u001b[1;31mTypeError\u001b[0m                                 Traceback (most recent call last)",
      "Cell \u001b[1;32mIn[14], line 3\u001b[0m\n\u001b[0;32m      1\u001b[0m fault_points_list \u001b[38;5;241m=\u001b[39m generate_dataset(n_simple_faults\u001b[38;5;241m=\u001b[39m\u001b[38;5;241m0\u001b[39m, n_bent_faults\u001b[38;5;241m=\u001b[39m\u001b[38;5;241m1\u001b[39m, n_cross_faults\u001b[38;5;241m=\u001b[39m\u001b[38;5;241m1\u001b[39m, n_Y_faults\u001b[38;5;241m=\u001b[39m\u001b[38;5;241m1\u001b[39m, n_parallel_faults\u001b[38;5;241m=\u001b[39m\u001b[38;5;241m0\u001b[39m, n_structures\u001b[38;5;241m=\u001b[39m\u001b[38;5;241m0\u001b[39m, VERBOSE\u001b[38;5;241m=\u001b[39m\u001b[38;5;28;01mFalse\u001b[39;00m)\n\u001b[1;32m----> 3\u001b[0m multi_static_plot_better(fault_points_list, \u001b[38;5;28;01mNone\u001b[39;00m, show_plane\u001b[38;5;241m=\u001b[39m\u001b[38;5;28;01mFalse\u001b[39;00m, show_axes\u001b[38;5;241m=\u001b[39m\u001b[38;5;28;01mFalse\u001b[39;00m)\n\u001b[0;32m      4\u001b[0m multi_interactive_plot_better(fault_points_list, \u001b[38;5;28;01mNone\u001b[39;00m, show_plane\u001b[38;5;241m=\u001b[39m\u001b[38;5;28;01mFalse\u001b[39;00m, show_axes\u001b[38;5;241m=\u001b[39m\u001b[38;5;28;01mFalse\u001b[39;00m)\n",
      "Cell \u001b[1;32mIn[11], line 16\u001b[0m, in \u001b[0;36mmulti_static_plot_better\u001b[1;34m(fault_points_list, fault_metadata_list, show_plane, show_axes)\u001b[0m\n\u001b[0;32m     14\u001b[0m \u001b[38;5;66;03m# Plot event points for each fault\u001b[39;00m\n\u001b[0;32m     15\u001b[0m \u001b[38;5;28;01mfor\u001b[39;00m i, fault_points \u001b[38;5;129;01min\u001b[39;00m \u001b[38;5;28menumerate\u001b[39m(fault_points_list):\n\u001b[1;32m---> 16\u001b[0m     ax\u001b[38;5;241m.\u001b[39mscatter(fault_points[:, \u001b[38;5;241m0\u001b[39m], fault_points[:, \u001b[38;5;241m1\u001b[39m], fault_points[:, \u001b[38;5;241m2\u001b[39m], label\u001b[38;5;241m=\u001b[39m\u001b[38;5;124mf\u001b[39m\u001b[38;5;124m'\u001b[39m\u001b[38;5;124mFault \u001b[39m\u001b[38;5;132;01m{\u001b[39;00mi\u001b[38;5;241m+\u001b[39m\u001b[38;5;241m1\u001b[39m\u001b[38;5;132;01m}\u001b[39;00m\u001b[38;5;124m'\u001b[39m, s\u001b[38;5;241m=\u001b[39m\u001b[38;5;241m5\u001b[39m)\n\u001b[0;32m     18\u001b[0m \u001b[38;5;66;03m# Plot the plane and axes if requested\u001b[39;00m\n\u001b[0;32m     19\u001b[0m \u001b[38;5;28;01mif\u001b[39;00m show_plane \u001b[38;5;129;01mor\u001b[39;00m show_axes \u001b[38;5;129;01mor\u001b[39;00m fault_metadata_list \u001b[38;5;241m!=\u001b[39m \u001b[38;5;28;01mNone\u001b[39;00m:\n",
      "\u001b[1;31mTypeError\u001b[0m: list indices must be integers or slices, not tuple"
     ]
    },
    {
     "data": {
      "image/png": "[encoded data removed]",
      "text/plain": [
       "<Figure size 800x600 with 1 Axes>"
      ]
     },
     "metadata": {},
     "output_type": "display_data"
    }
   ],
   "source": [
    "fault_points_list = generate_dataset(n_simple_faults=0, n_bent_faults=1, n_cross_faults=1, n_Y_faults=1, n_parallel_faults=0, n_structures=0, VERBOSE=False)\n",
    "\n",
    "multi_static_plot_better(fault_points_list, None, show_plane=False, show_axes=False)\n",
    "multi_interactive_plot_better(fault_points_list, None, show_plane=False, show_axes=False)"
   ]
  },
  {
   "cell_type": "markdown",
   "metadata": {},
   "source": [
    "### Evaluating the dataset: "
   ]
  },
  {
   "cell_type": "code",
   "execution_count": null,
   "metadata": {},
   "outputs": [],
   "source": [
    "import matplotlib.pyplot as plt\n",
    "import numpy as np\n",
    "from mpl_toolkits.mplot3d import Axes3D\n",
    "from sklearn.cluster import KMeans, AgglomerativeClustering, DBSCAN\n",
    "from sklearn.metrics import silhouette_score\n",
    "from sklearn.linear_model import RANSACRegressor\n",
    "from sklearn.utils import shuffle\n",
    "from sklearn.neighbors import NearestNeighbors\n",
    "# Set the OMP_NUM_THREADS environment variable\n",
    "import os\n",
    "os.environ[\"OMP_NUM_THREADS\"] = \"2\"\n",
    "\n",
    "\n",
    "\n",
    "def assign_clusters_ransac(X, cluster_centers):\n",
    "    # Compute the nearest cluster center for each data point\n",
    "    nbrs = NearestNeighbors(n_neighbors=1).fit(cluster_centers)\n",
    "    distances, indices = nbrs.kneighbors(X)\n",
    "    return indices.flatten()\n",
    "\n",
    "\n",
    "def evaluate_clustering(cracks_points_list, max_clusters, VERBOSE=False):\n",
    "    # Concatenate all points into a single array\n",
    "    all_points = np.concatenate(cracks_points_list)\n",
    "    all_points = shuffle(all_points)\n",
    "\n",
    "    # Initialize dictionaries to store silhouette scores and ideal settings\n",
    "    silhouette_scores = {'KMeans': -1, 'Agglomerative': -1, 'DBSCAN': -1, 'RANSAC': -1}\n",
    "    ideal_settings = {'KMeans': None, 'Agglomerative': None, 'DBSCAN': None, 'RANSAC': None}\n",
    "\n",
    "    # Evaluate clustering using KMeans\n",
    "    for n_clusters in range(2, max_clusters + 1):\n",
    "        kmeans = KMeans(n_clusters=n_clusters)\n",
    "        kmeans_labels = kmeans.fit_predict(all_points)\n",
    "        kmeans_score = silhouette_score(all_points, kmeans_labels)\n",
    "        if kmeans_score > silhouette_scores['KMeans']:\n",
    "            silhouette_scores['KMeans'] = kmeans_score\n",
    "            ideal_settings['KMeans'] = {'n_clusters': n_clusters}\n",
    "    if VERBOSE:\n",
    "        print(f\"Kmeans evaluation done, ideal settings: {ideal_settings['KMeans']}\")\n",
    "\n",
    "    # Evaluate clustering using Agglomerative Clustering\n",
    "    for n_clusters in range(2, max_clusters + 1):\n",
    "        agglomerative = AgglomerativeClustering(n_clusters=n_clusters)\n",
    "        agglomerative_labels = agglomerative.fit_predict(all_points)\n",
    "        agglomerative_score = silhouette_score(all_points, agglomerative_labels)\n",
    "        if agglomerative_score > silhouette_scores['Agglomerative']:\n",
    "            silhouette_scores['Agglomerative'] = agglomerative_score\n",
    "            ideal_settings['Agglomerative'] = {'n_clusters': n_clusters}\n",
    "    if VERBOSE:\n",
    "        print(f\"Agglomerative evaluation done, ideal settings: {ideal_settings['Agglomerative']}\")\n",
    "\n",
    "    # Evaluate clustering using DBSCAN\n",
    "    for min_samples in range(2, 5):  # Try different values of min_samples for DBSCAN\n",
    "        for eps in [0.04, 0.08, 0.12, 0.5, 1.0]:  # Try different values of eps for DBSCAN\n",
    "            dbscan = DBSCAN(min_samples=min_samples, eps=eps)\n",
    "            dbscan_labels = dbscan.fit_predict(all_points)\n",
    "            unique_labels = np.unique(dbscan_labels)\n",
    "            if len(unique_labels) > 1:\n",
    "                dbscan_score = silhouette_score(all_points, dbscan_labels)\n",
    "            else:\n",
    "                dbscan_score = -1  # Avoid considering single cluster solution\n",
    "                ideal_settings['DBSCAN'] = {'min_samples': 2, 'eps': 0.1}\n",
    "\n",
    "            if dbscan_score > silhouette_scores['KMeans']:\n",
    "                silhouette_scores['KMeans'] = dbscan_score\n",
    "                ideal_settings['DBSCAN'] = {'min_samples': min_samples, 'eps': eps}\n",
    "\n",
    "    if VERBOSE:\n",
    "        print(f\"DBSCAN evaluation done, ideal settings: {ideal_settings['DBSCAN']}\")\n",
    "\n",
    "\n",
    "    # Evaluate clustering using RANSAC\n",
    "    kmeans = KMeans(n_clusters=10)  # Choose the number of clusters\n",
    "    kmeans.fit(all_points[:100])  # Fit KMeans on a subset of points\n",
    "\n",
    "    ransac = RANSACRegressor()\n",
    "    ransac_labels = assign_clusters_ransac(all_points, kmeans.cluster_centers_)\n",
    "    ransac_score = silhouette_score(all_points, ransac_labels)\n",
    "    silhouette_scores['RANSAC'] = ransac_score\n",
    "    ideal_settings['RANSAC'] = None  # No hyperparameters to tune for RANSAC\n",
    "    if VERBOSE:\n",
    "        print(f\"RANSAC evaluation done, ideal settings: {ideal_settings['RANSAC']}\")\n",
    "\n",
    "    return silhouette_scores, ideal_settings\n",
    "\n",
    "\n",
    "def plot_clusters_3d(points, labels, algorithm):\n",
    "    fig = plt.figure(figsize=(8, 6))\n",
    "    ax = fig.add_subplot(111, projection='3d')\n",
    "\n",
    "    # Plot points color-coded by cluster\n",
    "    unique_labels = np.unique(labels)\n",
    "    colors = plt.cm.get_cmap('tab10', len(unique_labels))\n",
    "    for i, label in enumerate(unique_labels):\n",
    "        cluster_points = points[labels == label]\n",
    "        ax.scatter(cluster_points[:, 0], cluster_points[:, 1], cluster_points[:, 2], label=f'Cluster {label}', c=[colors(i)], s=5)\n",
    "\n",
    "    ax.set_xlabel('X')\n",
    "    ax.set_ylabel('Y')\n",
    "    ax.set_zlabel('Z')\n",
    "    ax.set_title(f'Clusters for {algorithm}')\n",
    "    ax.legend()\n",
    "\n",
    "    plt.show()"
   ]
  },
  {
   "cell_type": "code",
   "execution_count": null,
   "metadata": {},
   "outputs": [
    {
     "ename": "NameError",
     "evalue": "name 'cracks_points_list' is not defined",
     "output_type": "error",
     "traceback": [
      "\u001b[1;31m---------------------------------------------------------------------------\u001b[0m",
      "\u001b[1;31mNameError\u001b[0m                                 Traceback (most recent call last)",
      "Cell \u001b[1;32mIn[28], line 2\u001b[0m\n\u001b[0;32m      1\u001b[0m \u001b[38;5;66;03m# Evaluate clustering algorithms\u001b[39;00m\n\u001b[1;32m----> 2\u001b[0m silhouette_scores, ideal_settings \u001b[38;5;241m=\u001b[39m evaluate_clustering(cracks_points_list, max_clusters\u001b[38;5;241m+\u001b[39m\u001b[38;5;241m3\u001b[39m, \u001b[38;5;28;01mTrue\u001b[39;00m)\n\u001b[0;32m      4\u001b[0m \u001b[38;5;28mprint\u001b[39m(\u001b[38;5;124mf\u001b[39m\u001b[38;5;124m\"\u001b[39m\u001b[38;5;124mThe silhouette scores are \u001b[39m\u001b[38;5;132;01m{\u001b[39;00msilhouette_scores\u001b[38;5;132;01m}\u001b[39;00m\u001b[38;5;124m \u001b[39m\u001b[38;5;130;01m\\n\u001b[39;00m\u001b[38;5;124m \u001b[39m\u001b[38;5;130;01m\\n\u001b[39;00m\u001b[38;5;124m and the ideal settings are: \u001b[39m\u001b[38;5;132;01m{\u001b[39;00mideal_settings\u001b[38;5;132;01m}\u001b[39;00m\u001b[38;5;124m\"\u001b[39m)\n\u001b[0;32m      6\u001b[0m \u001b[38;5;66;03m# Plot clusters for each algorithm\u001b[39;00m\n",
      "\u001b[1;31mNameError\u001b[0m: name 'cracks_points_list' is not defined"
     ]
    }
   ],
   "source": [
    "# Evaluate clustering algorithms\n",
    "silhouette_scores, ideal_settings = evaluate_clustering(cracks_points_list, max_clusters+3, True)\n",
    "\n",
    "print(f\"The silhouette scores are {silhouette_scores} \\n \\n and the ideal settings are: {ideal_settings}\")\n",
    "\n",
    "# Plot clusters for each algorithm\n",
    "for algorithm in silhouette_scores.keys():\n",
    "    if algorithm == 'KMeans':\n",
    "        n_clusters = ideal_settings['KMeans']['n_clusters']\n",
    "        kmeans = KMeans(n_clusters=n_clusters)\n",
    "        labels = kmeans.fit_predict(np.concatenate(cracks_points_list))\n",
    "    elif algorithm == 'Agglomerative':\n",
    "        n_clusters = ideal_settings['Agglomerative']['n_clusters']\n",
    "        agglomerative = AgglomerativeClustering(n_clusters=n_clusters)\n",
    "        labels = agglomerative.fit_predict(np.concatenate(cracks_points_list))\n",
    "    elif algorithm == 'DBSCAN':\n",
    "        min_samples = ideal_settings['DBSCAN']['min_samples']\n",
    "        dbscan = DBSCAN(min_samples=min_samples)\n",
    "        labels = dbscan.fit_predict(np.concatenate(cracks_points_list))\n",
    "    plot_clusters_3d(np.concatenate(cracks_points_list), labels, algorithm)"
   ]
  }
 ],
 "metadata": {
  "kernelspec": {
   "display_name": "raienv",
   "language": "python",
   "name": "python3"
  },
  "language_info": {
   "codemirror_mode": {
    "name": "ipython",
    "version": 3
   },
   "file_extension": ".py",
   "mimetype": "text/x-python",
   "name": "python",
   "nbconvert_exporter": "python",
   "pygments_lexer": "ipython3",
   "version": "3.11.5"
  }
 },
 "nbformat": 4,
 "nbformat_minor": 2
}
