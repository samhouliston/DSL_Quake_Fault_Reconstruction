{
 "cells": [
  {
   "cell_type": "markdown",
   "metadata": {},
   "source": [
    "## Main Functions to generate fault characteristics, and sample points"
   ]
  },
  {
   "cell_type": "code",
   "execution_count": 2,
   "metadata": {},
   "outputs": [],
   "source": [
    "import numpy as np\n",
    "import matplotlib.pyplot as plt\n",
    "from mpl_toolkits.mplot3d import Axes3D\n",
    "import plotly.graph_objs as go\n",
    "import random\n",
    "import math\n",
    "\n",
    "\n",
    "def random_unit_vector():\n",
    "    # Generate random spherical coordinates\n",
    "    theta = random.uniform(0, 2*math.pi)  # Azimuthal angle\n",
    "    phi = random.uniform(0, math.pi)      # Polar angle\n",
    "\n",
    "    # Convert spherical coordinates to Cartesian coordinates\n",
    "    x = math.sin(phi) * math.cos(theta)\n",
    "    y = math.sin(phi) * math.sin(theta)\n",
    "    z = math.cos(phi)\n",
    "    \n",
    "    return (x, y, z)\n",
    "\n",
    "\n",
    "def plane_main_axes_from_normal(normal): \n",
    "    # Find two axes of plane defined by the center and its normal\n",
    "    length_axis = random_unit_vector()\n",
    "    while np.dot(length_axis, normal) < 0.01:\n",
    "        length_axis = random_unit_vector()\n",
    "\n",
    "    length_axis = np.cross(normal, length_axis)\n",
    "    length_axis = length_axis / np.linalg.norm(length_axis)\n",
    "    width_axis = np.cross(normal, length_axis)\n",
    "\n",
    "    return length_axis, width_axis\n",
    "\n",
    "\n",
    "def display_fault_properties(fault_metadata):\n",
    "    (center, length, width, normal, length_axis, width_axis) = fault_metadata\n",
    "    print(f\"         center: {center} \\n         length: {length}, width: {width} \\n         length_axis: {length_axis},   width_axis: {width_axis}\")"
   ]
  },
  {
   "cell_type": "code",
   "execution_count": 36,
   "metadata": {},
   "outputs": [],
   "source": [
    "def generate_faults_metadata(n_simple_faults, n_bent_faults, n_cross_faults, n_Y_faults, n_parallel_faults, n_ladder_structures, eps_center=0.1, domain_scale=1, VERBOSE=False):\n",
    "    \"\"\"\n",
    "    Generate metadata characterizing faults via a plane defined by a center, length, width, normal, length_axis, and width_axis.\n",
    "    \n",
    "    Args:\n",
    "    - n_simple_faults:      number of simple planar faults to generate\n",
    "    - n_bent_faults:        number of bent (bi-planar) faults to generate\n",
    "    - n_ladder_structures:  number of ladder-like fault structures\n",
    "    - eps_center:           minimum distance between fault centers\n",
    "    - domain_scale:         scale=x denotes [-x,x]^3 space. \n",
    "    \n",
    "    Returns:\n",
    "    - faults_info: List of tuples containing fault metadata (center, length, width, normal, length_axis, width_axis)\n",
    "    \"\"\"\n",
    "    \n",
    "    # Set fault plane max length and width as proportion of domain\n",
    "    L_max = 1.5 * domain_scale\n",
    "    L_min = 1 * domain_scale\n",
    "    W_max = 0.7 * domain_scale\n",
    "    W_min= 0.5 * domain_scale\n",
    "    faults_info = []\n",
    "    \n",
    "\n",
    "    # Generate simple fault data\n",
    "    if VERBOSE:\n",
    "        print(f\"--------------------------------------------------\")\n",
    "        print(f\"    Generating {n_simple_faults} simple faults:\")\n",
    "        print(f\"--------------------------------------------------\")\n",
    "    for i_simp in range(n_simple_faults):    \n",
    "        while True: # Ensure centers aren't too close\n",
    "            center = np.random.uniform(-domain_scale, domain_scale, size=3)\n",
    "            if all(np.linalg.norm(center - c) > 2 * eps_center for c, _, _, _, _, _ in faults_info):  \n",
    "                break\n",
    "        length = np.random.uniform(L_min, L_max)\n",
    "        width = np.random.uniform(W_min, W_max)\n",
    "        normal = random_unit_vector()\n",
    "        length_axis, width_axis = plane_main_axes_from_normal(normal)\n",
    "        faults_info.append((center, length, width, normal, length_axis, width_axis))\n",
    "\n",
    "        if VERBOSE:\n",
    "            print(f\"    Simple fault number: {i_simp+1}\")\n",
    "            display_fault_properties((center, length, width, normal, length_axis, width_axis))\n",
    "\n",
    "\n",
    "    # Generate bent fault data\n",
    "    if VERBOSE:\n",
    "        print(f\"\\n--------------------------------------------------\")\n",
    "        print(f\"    Generating {n_bent_faults} bent faults:\")\n",
    "        print(f\"--------------------------------------------------\")\n",
    "    for i in range(n_bent_faults):\n",
    "\n",
    "        # Generate the main fault data\n",
    "        while True:\n",
    "            main_center = np.random.uniform(-domain_scale, domain_scale, size=3)\n",
    "            if all(np.linalg.norm(main_center - c) > 2 * eps_center for c, _, _, _, _, _ in faults_info):  \n",
    "                break\n",
    "        main_length = np.random.uniform(L_min, L_max)\n",
    "        main_width = np.random.uniform(W_min, W_max)\n",
    "        main_normal = random_unit_vector()\n",
    "        main_length_axis, main_width_axis = plane_main_axes_from_normal(main_normal)\n",
    "        faults_info.append((main_center, main_length, main_width, main_normal, main_length_axis, main_width_axis))\n",
    "\n",
    "        if VERBOSE:\n",
    "            print(f\"    Bent fault number: {i//2 + 1}\")\n",
    "            print(\"       First plane:\")\n",
    "            display_fault_properties((main_center, main_length, main_width, main_normal, main_length_axis, main_width_axis))\n",
    "\n",
    "        # Generate secondary smaller fault: sample plane at an angle\n",
    "        bent_factor = np.random.uniform(0.6, 0.75)\n",
    "        bent_length = bent_factor * main_length\n",
    "        bent_width = bent_factor * main_width \n",
    "\n",
    "        # Sample an angle, calculate new axes\n",
    "        angle = np.random.uniform(-50, 50, size=1)\n",
    "        alpha = np.cos(np.radians(90 - angle))\n",
    "        beta = np.sqrt(1-alpha**2)\n",
    "        bent_length_axis = beta*np.array(main_length_axis)  + alpha*np.array(main_normal)\n",
    "        bent_length_axis = bent_length_axis / np.linalg.norm(bent_length_axis)\n",
    "        bent_width_axis = main_width_axis \n",
    "        \n",
    "        bent_center = main_center + 0.5*main_length*main_length_axis + 0.5*bent_length * bent_length_axis\n",
    "        bent_normal = np.cross(bent_length_axis, bent_width_axis)\n",
    "\n",
    "        faults_info.append((bent_center, bent_length, bent_width, bent_normal, bent_length_axis, bent_width_axis))\n",
    "\n",
    "        if VERBOSE:\n",
    "            print(f\"\\n       Second plane:\")\n",
    "            print(f\"         Angle: {angle}\")\n",
    "            display_fault_properties((bent_center, bent_length, bent_width, bent_normal, bent_length_axis, bent_width_axis))\n",
    "\n",
    "\n",
    "    # Generate cross fault data\n",
    "    if VERBOSE:\n",
    "        print(f\"\\n--------------------------------------------------\")\n",
    "        print(f\"    Generating {n_cross_faults} cross faults:\")\n",
    "        print(f\"--------------------------------------------------\")\n",
    "    for k in range(n_cross_faults):\n",
    "\n",
    "        # Generate main fault data\n",
    "        while True: \n",
    "            cross_center = np.random.uniform(-domain_scale, domain_scale, size=3)\n",
    "            if all(np.linalg.norm(cross_center - c) > 2 * eps_center for c, _, _, _, _, _ in faults_info): \n",
    "                break\n",
    "        main_length = np.random.uniform(L_min, L_max)\n",
    "        main_width = np.random.uniform(W_min, W_max)\n",
    "        main_normal = random_unit_vector()\n",
    "        main_length_axis, main_width_axis = plane_main_axes_from_normal(main_normal)\n",
    "        faults_info.append((cross_center, main_length, main_width, main_normal, main_length_axis, main_width_axis))\n",
    "\n",
    "        if VERBOSE:\n",
    "            print(f\"    Cross fault number: {k//2 + 1}\")\n",
    "            print(\"       First plane:\")\n",
    "            display_fault_properties((cross_center, main_length, main_width, main_normal, main_length_axis, main_width_axis))\n",
    "\n",
    "        # Generate secondary perpendicular 'crossed' fault\n",
    "        #cross_factor = np.random.uniform(0.6, 1.4)\n",
    "        cross_factor = 1\n",
    "        crossed_length = cross_factor * main_length\n",
    "        crossed_width = 0.6*cross_factor * main_width \n",
    "        crossed_length_axis = main_width_axis \n",
    "        crossed_width_axis = main_length_axis \n",
    "        crossed_normal = np.cross(crossed_length_axis, crossed_width_axis)\n",
    "        faults_info.append((cross_center, crossed_length, crossed_width, crossed_normal, crossed_length_axis, crossed_width_axis))\n",
    "\n",
    "        if VERBOSE:\n",
    "            print(f\"\\n       Crosssed plane:\")\n",
    "            display_fault_properties((cross_center, crossed_length, crossed_width, crossed_normal, crossed_length_axis, crossed_width_axis))\n",
    "\n",
    "\n",
    "    # Generate Y-shaped fault data\n",
    "    if VERBOSE:\n",
    "        print(f\"\\n--------------------------------------------------\")\n",
    "        print(f\"    Generating {n_Y_faults} Y - faults:\")\n",
    "        print(f\"--------------------------------------------------\")\n",
    "    for l in range(n_Y_faults):\n",
    "\n",
    "        # Generate main fault data\n",
    "        while True:\n",
    "            main_center = np.random.uniform(-domain_scale, domain_scale, size=3)\n",
    "            if all(np.linalg.norm(main_center - c) > 2 * eps_center for c, _, _, _, _, _ in faults_info):  \n",
    "                break\n",
    "        main_length = 1.4 * np.random.uniform(L_min, L_max)\n",
    "        main_width = 0.7* np.random.uniform(W_min, W_max)\n",
    "        main_normal = random_unit_vector()\n",
    "        main_length_axis, main_width_axis = plane_main_axes_from_normal(main_normal)\n",
    "        faults_info.append((main_center, main_length, main_width, main_normal, main_length_axis, main_width_axis))\n",
    "\n",
    "        if VERBOSE:\n",
    "            print(f\"    Y - fault number: {l//2 + 1}\")\n",
    "            print(\"       First plane:\")\n",
    "            display_fault_properties((main_center, main_length, main_width, main_normal, main_length_axis, main_width_axis))\n",
    "\n",
    "        # Generate secondary perpendicular 'branched' fault\n",
    "        branch_length = 0.4*main_length\n",
    "        branch_width = 0.7*main_width \n",
    "\n",
    "        angle = np.random.choice([-1, 1]) * np.random.uniform(20, 35, size=1)\n",
    "        alpha = np.cos(np.radians(90 - angle))\n",
    "        beta = np.sqrt(1-alpha**2)\n",
    "        branch_length_axis = beta*np.array(main_length_axis)  + alpha*np.array(main_normal)\n",
    "        branch_length_axis = branch_length_axis / np.linalg.norm(branch_length_axis)\n",
    "        branch_width_axis = main_width_axis    \n",
    "        branch_normal = np.cross(branch_length_axis, branch_width_axis)    \n",
    "\n",
    "        branch_center = main_center + np.random.uniform(0, 0.15)*main_length*main_length_axis + 0.5* branch_length * branch_length_axis\n",
    "   \n",
    "        \n",
    "        faults_info.append((branch_center, branch_length, branch_width, branch_normal, branch_length_axis, branch_width_axis))\n",
    "\n",
    "        if VERBOSE:\n",
    "            print(f\"\\n       Branch plane:\")\n",
    "            display_fault_properties((branch_center, branch_length, branch_width, branch_normal, branch_length_axis, branch_width_axis))\n",
    "\n",
    "\n",
    "    # Generate two parallel fault data\n",
    "    if VERBOSE:\n",
    "        print(f\"\\n--------------------------------------------------\")\n",
    "        print(f\"    Generating {n_parallel_faults} parallel faults:\")\n",
    "        print(f\"--------------------------------------------------\")\n",
    "    for b in range(n_parallel_faults):\n",
    "\n",
    "        # Generate main fault data\n",
    "        while True: \n",
    "            main_center = np.random.uniform(-domain_scale, domain_scale, size=3)\n",
    "            if all(np.linalg.norm(main_center - c) > 2 * eps_center for c, _, _, _, _, _ in faults_info): \n",
    "                break\n",
    "        main_length = np.random.uniform(L_min, L_max)\n",
    "        main_width = np.random.uniform(W_min, W_max)\n",
    "        main_normal = random_unit_vector()\n",
    "        main_length_axis, main_width_axis = plane_main_axes_from_normal(main_normal)\n",
    "        faults_info.append((main_center, main_length, main_width, main_normal, main_length_axis, main_width_axis))\n",
    "\n",
    "        if VERBOSE:\n",
    "            print(f\"    Parallel pair number: {b//2 + 1}\")\n",
    "            print(\"       First plane:\")\n",
    "            display_fault_properties((main_center, main_length, main_width, main_normal, main_length_axis, main_width_axis))\n",
    "\n",
    "        # Generate secondary perpendicular 'crossed' fault\n",
    "        dist_between_parallels = np.random.uniform(0.5*main_width, 0.7*main_width)\n",
    "        distance_shifted = np.random.uniform(0.2, 0.7) * main_length\n",
    "        second_center = main_center + dist_between_parallels * np.array(main_normal) + distance_shifted * main_length_axis\n",
    "        second_factor = np.random.uniform(0.6, 1.5)\n",
    "        second_length = second_factor * main_length\n",
    "        second_width = second_factor * main_width \n",
    "        second_length_axis = main_length_axis\n",
    "        second_width_axis = main_width_axis\n",
    "        second_normal = np.cross(second_length_axis, second_width_axis)\n",
    "        faults_info.append((second_center, second_length, second_width, second_normal, second_length_axis, second_width_axis))\n",
    "\n",
    "        if VERBOSE:\n",
    "            print(f\"\\n       Second plane:\")\n",
    "            display_fault_properties((second_center, second_length, second_width, second_normal, second_length_axis, second_width_axis))\n",
    "\n",
    "\n",
    "    # Generate ladder structures\n",
    "    if VERBOSE:\n",
    "        print(f\"\\n--------------------------------------------------\")\n",
    "        print(f\"    Generating {n_ladder_structures} ladder-like structures:\")\n",
    "        print(f\"--------------------------------------------------\")\n",
    "    for m in range(n_ladder_structures):\n",
    "\n",
    "        print(f\"    Ladder structure {m+1}\")\n",
    "        # Characterise the first main fault\n",
    "        while True:\n",
    "            first_center = np.random.uniform(-domain_scale, domain_scale, size=3)\n",
    "            if all(np.linalg.norm(first_center - c) > 2 * eps_center for c, _, _, _, _, _ in faults_info):  # Ensure centers aren't too close\n",
    "                break\n",
    "        first_length = 1.4 *np.random.uniform(L_min, L_max)\n",
    "        first_width = np.random.uniform(W_min, W_max)\n",
    "        first_normal = random_unit_vector()\n",
    "        first_length_axis, first_width_axis = plane_main_axes_from_normal(first_normal)\n",
    "        faults_info.append((first_center, first_length, first_width, first_normal, first_length_axis, first_width_axis))            \n",
    "        if VERBOSE:\n",
    "            print(f\"            Main parallel fault\")\n",
    "            display_fault_properties((first_center, first_length, first_width, first_normal, first_length_axis, first_width_axis))\n",
    "\n",
    "        # Characterise the second main fault\n",
    "        dist_between_parallels = np.min(np.array([np.random.uniform(1.5*first_width, 3*first_width), 0.7*first_length]))\n",
    "        second_center = first_center + dist_between_parallels * np.array(first_normal)\n",
    "        second_length = first_length\n",
    "        second_width = first_width\n",
    "        second_normal = first_normal\n",
    "        second_length_axis = first_length_axis\n",
    "        second_width_axis = first_width_axis\n",
    "        faults_info.append((second_center, second_length, second_width, second_normal, second_length_axis, second_width_axis))\n",
    "\n",
    "        if VERBOSE:\n",
    "            print(f\"            Second parallel fault\")\n",
    "            display_fault_properties((second_center, second_length, second_width, second_normal, second_length_axis, second_width_axis))\n",
    "\n",
    "        # Characterise smaller, middle faults: \n",
    "        N_smaller_perpendicular_faults = 3\n",
    "        dist_between_smaller_faults = first_length / (N_smaller_perpendicular_faults+1)\n",
    "        mid_length = 1.3 *dist_between_parallels\n",
    "        mid_width = dist_between_parallels / 3\n",
    "\n",
    "        # They are at a slight angle to the normal: \n",
    "        angle = np.random.choice([-1, 1]) * np.random.uniform(10, 20, size=1)\n",
    "        alpha = np.cos(np.radians(90 - angle))\n",
    "        beta = np.sqrt(1-alpha**2)\n",
    "        mid_length_axis = beta*np.array(first_normal)  + alpha*np.array(first_length_axis)\n",
    "        mid_length_axis = mid_length_axis / np.linalg.norm(mid_length_axis)\n",
    "        mid_width_axis = first_width_axis\n",
    "        mid_normal = np.cross(mid_length_axis, mid_width_axis) \n",
    "    \n",
    "        for n in range(N_smaller_perpendicular_faults):\n",
    "            if n % 2 == 0:\n",
    "                m = n // 2\n",
    "            else:\n",
    "                m = -((n + 1) // 2)\n",
    "            mid_center = (first_center + second_center)/2 + m*dist_between_smaller_faults*first_length_axis\n",
    "\n",
    "            faults_info.append((mid_center, mid_length, mid_width, mid_normal, mid_length_axis, mid_width_axis))\n",
    "            if VERBOSE:\n",
    "                print(f\"\\n              Smaller middle fault: fault number {n}\")\n",
    "                display_fault_properties((mid_center, mid_length, mid_width, mid_normal, mid_length_axis, mid_width_axis))\n",
    "        \n",
    "    return faults_info"
   ]
  },
  {
   "cell_type": "code",
   "execution_count": 43,
   "metadata": {},
   "outputs": [],
   "source": [
    "def generate_points_from_plane(center, length, width, normal, length_axis, width_axis, distribution_mode='normal', domain_scale=1):\n",
    "\n",
    "    density = 150 # points per m^2\n",
    "    area = length*width \n",
    "    num_points = int(np.round(density * area)) \n",
    "\n",
    "    # Sample points coordinates on the plane\n",
    "    x = np.random.uniform(-length/2, length/2, num_points).astype(float)\n",
    "    y = np.random.uniform(-width/2, width/2, num_points).astype(float)\n",
    "\n",
    "    # Sample distances from the plane\n",
    "    # Convention for faults: mean distance ~ width => 4*sigma=width\n",
    "    if distribution_mode == 'normal':\n",
    "        distribution_param = width/5\n",
    "        dist = np.random.normal(loc=0, scale=distribution_param, size=num_points)\n",
    "\n",
    "    # Compute fault points\n",
    "    fault_points = center + x[:, None] * length_axis + y[:, None] * width_axis + dist[:, None] * normal\n",
    "\n",
    "    return fault_points\n",
    "\n",
    "\n",
    "\n",
    "def generate_point_list_from_metadata_list(fault_metadata_list, n_simple_faults, n_bent_faults, n_cross_faults, n_Y_faults, n_parallel_faults):\n",
    "     \n",
    "    \"\"\"\n",
    "    Generate point cloud for every fault given its metadata.\n",
    "    \"\"\"\n",
    "    points_list = []\n",
    "    k = 0\n",
    "    for i, metadata in enumerate(fault_metadata_list):\n",
    "\n",
    "        # Add simple faults\n",
    "        if (i <= n_simple_faults -1) and (n_simple_faults != 0): \n",
    "            (center, length, width, normal, length_axis, width_axis) = metadata\n",
    "            points_list.append(generate_points_from_plane(center, length, width, normal, length_axis, width_axis))\n",
    "\n",
    "\n",
    "        # Add bent faults, make sure to merge main-bent points into one list\n",
    "        elif (i>=n_simple_faults) and (i <= n_simple_faults + 2 * n_bent_faults -1) and (n_bent_faults != 0): \n",
    "            if k%2 == 0: # main points\n",
    "                (main_center, main_length, main_width, main_normal, main_length_axis, main_width_axis) = metadata\n",
    "                main_fault_points = generate_points_from_plane(main_center, main_length, main_width, main_normal, main_length_axis, main_width_axis)\n",
    "                k+=1\n",
    "            else:        # bent points\n",
    "                (second_center, second_length, second_width, second_normal, second_length_axis, second_width_axis) = metadata\n",
    "                second_fault_points = generate_points_from_plane(second_center, second_length, second_width, second_normal, second_length_axis, second_width_axis)\n",
    "\n",
    "                # Concatenate main and bent points into one array, and add to list.\n",
    "                points_list.append(np.concatenate((main_fault_points, second_fault_points)))\n",
    "                k+=1\n",
    "\n",
    "\n",
    "        # Add cross faults (a cross consists of two faults, hence they are separate)\n",
    "        elif   (i >= n_simple_faults + 2*n_bent_faults) and (i <= n_simple_faults + 2*n_bent_faults + 2*n_cross_faults -1) and (n_cross_faults != 0):\n",
    "            (center, length, width, normal, length_axis, width_axis) = metadata\n",
    "            points_list.append(generate_points_from_plane(center, length, width, normal, length_axis, width_axis))\n",
    "\n",
    "\n",
    "        # Add Y-shaped faults\n",
    "        elif   (i >= n_simple_faults + 2*n_bent_faults + 2*n_cross_faults) and (i <= n_simple_faults + 2*n_bent_faults + 2*n_cross_faults + 2*n_Y_faults -1) and (n_Y_faults != 0):\n",
    "            if k%2 == 0: # main points\n",
    "                (main_center, main_length, main_width, main_normal, main_length_axis, main_width_axis) = metadata\n",
    "                main_fault_points = generate_points_from_plane(main_center, main_length, main_width, main_normal, main_length_axis, main_width_axis)\n",
    "                k+=1\n",
    "            else:        # branch points\n",
    "                (second_center, second_length, second_width, second_normal, second_length_axis, second_width_axis) = metadata\n",
    "                second_fault_points = generate_points_from_plane(second_center, second_length, second_width, second_normal, second_length_axis, second_width_axis)\n",
    "\n",
    "                # Concatenate main and bent points into one array, and add to list.\n",
    "                points_list.append(np.concatenate((main_fault_points, second_fault_points)))\n",
    "                k+=1\n",
    "\n",
    "\n",
    "        # Add parallel faults\n",
    "        elif    (i >= n_simple_faults + 2*n_bent_faults + 2*n_cross_faults + 2*n_Y_faults) and (i <= n_simple_faults + 2*n_bent_faults + 2*n_cross_faults + 2*n_Y_faults -1 + 2*n_parallel_faults -1) and (n_parallel_faults != 0):\n",
    "            if k%2 == 0: # main points\n",
    "                (main_center, main_length, main_width, main_normal, main_length_axis, main_width_axis) = metadata\n",
    "                main_fault_points = generate_points_from_plane(main_center, main_length, main_width, main_normal, main_length_axis, main_width_axis)\n",
    "                k+=1\n",
    "            else:        # parallel points\n",
    "                (second_center, second_length, second_width, second_normal, second_length_axis, second_width_axis) = metadata\n",
    "                second_fault_points = generate_points_from_plane(second_center, second_length, second_width, second_normal, second_length_axis, second_width_axis)\n",
    "\n",
    "                # Concatenate main and parallel points into one array, and add to list.\n",
    "                points_list.append(np.concatenate((main_fault_points, second_fault_points)))\n",
    "                k+=1\n",
    "\n",
    "\n",
    "        # Add rest of faults that form the ladder structure\n",
    "        else: \n",
    "            (center, length, width, normal, length_axis, width_axis) = metadata\n",
    "            points_list.append(generate_points_from_plane(center, length, width, normal, length_axis, width_axis))\n",
    "\n",
    "        \n",
    "    return points_list\n",
    "\n",
    "\n",
    "def generate_dataset(n_simple_faults, n_bent_faults, n_cross_faults, n_Y_faults, n_parallel_faults, n_structures, VERBOSE=False):\n",
    "\n",
    "    fault_metadata_list = generate_faults_metadata(n_simple_faults, n_bent_faults, n_cross_faults, n_Y_faults, n_parallel_faults, n_structures, eps_center=0.1, domain_scale=1, VERBOSE=False)\n",
    "\n",
    "    fault_points_list = generate_point_list_from_metadata_list(fault_metadata_list, n_simple_faults, n_bent_faults, n_cross_faults, n_Y_faults, n_parallel_faults)\n",
    "    \n",
    "    return fault_points_list"
   ]
  },
  {
   "cell_type": "markdown",
   "metadata": {},
   "source": [
    "### Visualization functions"
   ]
  },
  {
   "cell_type": "code",
   "execution_count": 5,
   "metadata": {},
   "outputs": [],
   "source": [
    "def multi_static_plot_better(fault_points_list, fault_metadata_list=None, show_plane=False, show_axes=False):\n",
    "    \"\"\"\n",
    "    Visualize fault points in 3D and optionally plot the plane and axes.\n",
    "\n",
    "    Args:\n",
    "    - fault_points_list: List of fault points arrays (each array represents points for one fault)\n",
    "    - fault_metadata_list: List of fault metadata tuples (each tuple contains metadata for one fault)\n",
    "    - show_plane: Boolean indicating whether to plot the plane (default is False)\n",
    "    - show_axes: Boolean indicating whether to plot the axes (default is False)\n",
    "    \"\"\"\n",
    "    fig = plt.figure(figsize=(8, 6))\n",
    "    ax = fig.add_subplot(111, projection='3d')\n",
    "\n",
    "    # Plot event points for each fault\n",
    "    for i, fault_points in enumerate(fault_points_list):\n",
    "        ax.scatter(fault_points[:, 0], fault_points[:, 1], fault_points[:, 2], label=f'Fault {i+1}', s=5)\n",
    "\n",
    "    # Plot the plane and axes if requested\n",
    "    if show_plane or show_axes or fault_metadata_list != None:\n",
    "        for metadata in fault_metadata_list:\n",
    "            # Unpack plane data\n",
    "            (center, length, width, normal, length_axis, width_axis) = metadata\n",
    "\n",
    "            if show_plane:\n",
    "                # Define vertices of the plane\n",
    "                plane_vertices = center + np.array([-length/2, length/2, length/2, -length/2, -length/2])[:, None] * length_axis + np.array([-width/2, -width/2, width/2, width/2, -width/2])[:, None] * width_axis\n",
    "\n",
    "                # Plot the plane\n",
    "                ax.plot_trisurf(plane_vertices[:, 0], plane_vertices[:, 1], plane_vertices[:, 2], color='blue', alpha=0.2)\n",
    "\n",
    "            if show_axes:\n",
    "                # Plot length and width axes\n",
    "                ax.plot([center[0], center[0] + length_axis[0]*length/2],\n",
    "                        [center[1], center[1] + length_axis[1]*length/2],\n",
    "                        [center[2], center[2] + length_axis[2]*length/2], color='red', linewidth=3)\n",
    "\n",
    "                ax.plot([center[0], center[0] + width_axis[0]*width/2],\n",
    "                        [center[1], center[1] + width_axis[1]*width/2],\n",
    "                        [center[2], center[2] + width_axis[2]*width/2], color='green', linewidth=3)\n",
    "\n",
    "    ax.set_xlabel('X')\n",
    "    ax.set_ylabel('Y')\n",
    "    ax.set_zlabel('Z')\n",
    "    ax.set_title('Synthetic Seismic Data - Fault Points')\n",
    "    ax.legend()\n",
    "    plt.show()"
   ]
  },
  {
   "cell_type": "code",
   "execution_count": 53,
   "metadata": {},
   "outputs": [],
   "source": [
    "def multi_interactive_plot_better(fault_points_list, fault_metadata_list, show_plane=False, show_axes=False, domain_scale=1):\n",
    "    \"\"\"\n",
    "    Visualize 3D points of multiple faults in an interactive plot using Plotly.\n",
    "    \"\"\"\n",
    "\n",
    "    fig = go.Figure()\n",
    "\n",
    "    x_range_largest = [-1, 1]\n",
    "    y_range_largest = x_range_largest\n",
    "    z_range_largest = x_range_largest\n",
    "    \n",
    "    for i, points in enumerate(fault_points_list):\n",
    "        # Extract x, y, z coordinates from points\n",
    "        x_coords = points[:, 0]\n",
    "        y_coords = points[:, 1]\n",
    "        z_coords = points[:, 2]\n",
    "\n",
    "        # Plot the points\n",
    "        fig.add_trace(go.Scatter3d(\n",
    "            x=x_coords,\n",
    "            y=y_coords,\n",
    "            z=z_coords,\n",
    "            mode='markers',\n",
    "            marker=dict(\n",
    "                size=3,\n",
    "                opacity=0.8\n",
    "            ),\n",
    "            name=f'Fault {i+1}'\n",
    "        ))\n",
    "\n",
    "    if show_plane or show_axes or fault_metadata_list != None:\n",
    "        j=0\n",
    "        print(fault_metadata_list[0])\n",
    "        for metadata in fault_metadata_list:\n",
    "            # Unpack plane data:\n",
    "            (center, length, width, normal, length_axis, width_axis) = metadata\n",
    "\n",
    "            if show_plane:\n",
    "                # Define vertices of the plane\n",
    "                plane_vertices = center + np.array([-length/2, length/2, length/2, -length/2, -length/2])[:, None] * length_axis + np.array([-width/2, -width/2, width/2, width/2, -width/2])[:, None] * width_axis\n",
    "\n",
    "                plane_trace = go.Mesh3d(x=plane_vertices[:, 0],\n",
    "                                        y=plane_vertices[:, 1],\n",
    "                                        z=plane_vertices[:, 2],\n",
    "                                        i=[0, 1, 2, 0],\n",
    "                                        j=[1, 2, 3, 4],\n",
    "                                        k=[2, 3, 4, 0],\n",
    "                                        opacity=0.2,\n",
    "                                        color='blue',\n",
    "                                        )\n",
    "                fig.add_trace(plane_trace)\n",
    "\n",
    "            if show_axes:\n",
    "                # Plot length and width axes\n",
    "                length_axis_trace = go.Scatter3d(x=[center[0], center[0] + length_axis[0]*length/2],\n",
    "                                                y=[center[1], center[1] + length_axis[1]*length/2],\n",
    "                                                z=[center[2], center[2] + length_axis[2]*length/2],\n",
    "                                                mode='lines',\n",
    "                                                line=dict(color='red', width=3),\n",
    "                                                )\n",
    "\n",
    "                width_axis_trace = go.Scatter3d(x=[center[0], center[0] + width_axis[0]*width/2],\n",
    "                                                y=[center[1], center[1] + width_axis[1]*width/2],\n",
    "                                                z=[center[2], center[2] + width_axis[2]*width/2],\n",
    "                                                mode='lines',\n",
    "                                                line=dict(color='green', width=3),\n",
    "                                                )\n",
    "                fig.add_trace(length_axis_trace)\n",
    "                fig.add_trace(width_axis_trace)\n",
    "            j+=1\n",
    "            \n",
    "    fig.update_layout(scene=dict(\n",
    "        xaxis_title='X',\n",
    "        yaxis_title='Y',\n",
    "        zaxis_title='Z'),\n",
    "        title='3D Visualization of Fault Points'\n",
    "    )\n",
    "\n",
    "    fig.show()"
   ]
  },
  {
   "cell_type": "markdown",
   "metadata": {},
   "source": [
    "## Example outputs"
   ]
  },
  {
   "cell_type": "code",
   "execution_count": 54,
   "metadata": {},
   "outputs": [
    {
     "name": "stdout",
     "output_type": "stream",
     "text": [
      "--------------------------------------------------\n",
      "    Generating 0 simple faults:\n",
      "--------------------------------------------------\n",
      "\n",
      "--------------------------------------------------\n",
      "    Generating 0 bent faults:\n",
      "--------------------------------------------------\n",
      "\n",
      "--------------------------------------------------\n",
      "    Generating 1 cross faults:\n",
      "--------------------------------------------------\n",
      "    Cross fault number: 1\n",
      "       First plane:\n",
      "         center: [0.48445608 0.54627439 0.31258014] \n",
      "         length: 1.2853258572169848, width: 0.6174231367578584 \n",
      "         length_axis: [-0.99608454 -0.08493973 -0.02451186],   width_axis: [ 0.04799937 -0.28677534 -0.95679463]\n",
      "\n",
      "       Crosssed plane:\n",
      "         center: [0.48445608 0.54627439 0.31258014] \n",
      "         length: 1.2853258572169848, width: 0.370453882054715 \n",
      "         length_axis: [ 0.04799937 -0.28677534 -0.95679463],   width_axis: [-0.99608454 -0.08493973 -0.02451186]\n",
      "\n",
      "--------------------------------------------------\n",
      "    Generating 0 Y - faults:\n",
      "--------------------------------------------------\n",
      "\n",
      "--------------------------------------------------\n",
      "    Generating 0 parallel faults:\n",
      "--------------------------------------------------\n",
      "\n",
      "--------------------------------------------------\n",
      "    Generating 0 ladder-like structures:\n",
      "--------------------------------------------------\n"
     ]
    },
    {
     "data": {
      "image/png": "[encoded data removed]",
      "text/plain": [
       "<Figure size 800x600 with 1 Axes>"
      ]
     },
     "metadata": {},
     "output_type": "display_data"
    },
    {
     "name": "stdout",
     "output_type": "stream",
     "text": [
      "(array([0.48445608, 0.54627439, 0.31258014]), 1.2853258572169848, 0.6174231367578584, (0.07424048078059264, -0.9542248940195698, 0.28972953361162107), array([-0.99608454, -0.08493973, -0.02451186]), array([ 0.04799937, -0.28677534, -0.95679463]))\n"
     ]
    },
    {
     "data": {
      "application/vnd.plotly.v1+json": {
       "config": {
        "plotlyServerURL": "https://plot.ly"
       },
       "data": [
        {
         "marker": {
          "opacity": 0.8,
          "size": 3
         },
         "mode": "markers",
         "name": "Fault 1",
         "type": "scatter3d",
         "x": [
          0.5459298291283623,
          0.6617199513230934,
          0.22101775381155425,
          0.0879061736432124,
          0.6884092983742466,
          0.025137321912546418,
          0.676136719894668,
          0.3597980362409481,
          -0.1303876421733924,
          -0.11942236210293851,
          0.004060608233514906,
          1.1071492490253374,
          0.29434226840448396,
          0.96119460598669,
          1.1152224352240523,
          0.45973977279861433,
          0.5127259255843242,
          0.3027286148832092,
          0.032434076213837454,
          1.0358613905247798,
          0.7653371372074044,
          0.7787576206763723,
          0.3289242366327296,
          0.817558760848542,
          0.8913233874528373,
          0.29337407743740834,
          1.0952303578473623,
          0.47506731116276196,
          0.5758640385485255,
          0.2584219930720579,
          0.6489656245002997,
          0.34140521117812883,
          0.5911328958551344,
          0.41781529801328815,
          0.05488024775419173,
          0.982084554442831,
          0.7412911971151382,
          0.5763077085372378,
          0.46994289452691623,
          0.2530189413173606,
          0.43389699770291074,
          -0.1695189061139322,
          0.4540420887338868,
          0.3524079609251673,
          0.6907069097735237,
          1.0509141320466475,
          0.25737606453936046,
          0.76369387687319,
          0.6085824270319686,
          0.6687160392937597,
          0.021283611142544925,
          0.6111625855636065,
          0.39995449409647704,
          1.0603773181259477,
          0.20423755823179238,
          -0.034602877818335875,
          -0.09610634585088365,
          0.9021620753009818,
          0.6025163078100293,
          0.729139084154721,
          -0.05366920802111265,
          -0.11172532766819393,
          0.3838868175708367,
          0.07495464768175195,
          0.050957213909639885,
          0.7085828844301003,
          0.008723048181806439,
          0.704545145420691,
          0.5316932818235237,
          0.8528373572573128,
          0.37670167824035816,
          0.2987890502250131,
          0.05858306806698549,
          0.1294398691402171,
          0.5578358789235295,
          1.0090599139057417,
          1.0083783725598479,
          0.9150197411527493,
          0.8096653635345492,
          0.4409013680831743,
          -0.014539145486165733,
          0.14979353012720825,
          0.5018788212579975,
          -0.15332180578366886,
          0.20513742788050138,
          0.6383030826706801,
          0.5936598880412897,
          0.29512875181465437,
          0.1584493090029466,
          0.40632269199786925,
          0.524144122191678,
          0.4346772930306602,
          0.19359296200706164,
          0.7085490211792198,
          0.5770849847792076,
          0.70427625354193,
          0.6931305713111114,
          0.649989038191713,
          0.7704200090092378,
          1.035959615654237,
          0.23050103303916025,
          0.4052385563750994,
          0.16274379725898286,
          0.9399194681230423,
          0.5938194188652431,
          0.03738128797998975,
          -0.10434571117706773,
          0.3889868448958692,
          0.8533714307049363,
          0.19766742329078346,
          0.49460709105983125,
          0.6588065641636075,
          1.0838474635417643,
          0.7731920544625075,
          0.9752701190916632,
          0.28883218202374655,
          0.30497854217338427,
          -0.03431873489628173,
          0.36423405670573566
         ],
         "y": [
          0.7239814309753647,
          0.9734795399610566,
          0.6761843744130316,
          0.2829209330063243,
          0.5098242463532084,
          0.4195608827979902,
          0.5874515126994025,
          0.5158578533673837,
          0.4552718675944683,
          0.4801390360476837,
          0.5037002576246778,
          0.6667924240420693,
          0.5893334018232026,
          0.5477133379884166,
          0.5618358823426038,
          0.6713671266626654,
          0.5549539496290085,
          0.4949639302165884,
          0.5148439044424072,
          0.776761390179028,
          0.5666508323463959,
          0.7696703958990774,
          0.4591515219235772,
          0.6118219339571216,
          0.6271239287026564,
          0.4790805711346826,
          0.7340514592296268,
          0.42609568665362557,
          0.5621816695558729,
          0.5691227201670099,
          0.4032973065357123,
          0.3991397836453495,
          0.6117638819553878,
          0.7130624554698596,
          0.4055561500003748,
          0.565629919864539,
          0.5137618474203418,
          0.6656259412447981,
          0.5492921867839162,
          0.5264828875034121,
          0.39378510308347897,
          0.6695144016070919,
          0.5221747112143847,
          0.36871353342361235,
          0.7057791118779211,
          0.480737192794083,
          0.4215893612147435,
          0.6780555924381497,
          0.5945283897145268,
          0.5834716607589067,
          0.6056918296508957,
          0.44577977242403555,
          0.6196643612342112,
          0.6120534672914041,
          0.2977951680954613,
          0.5715016755905145,
          0.4684035148809769,
          0.6345008960163248,
          0.5236948618263505,
          0.6061343242293155,
          0.5178689767471122,
          0.393954400803856,
          0.5454980296672464,
          0.5029661466918003,
          0.33452490873399243,
          0.6853000533269747,
          0.5182916085421779,
          0.5595762883383552,
          0.5961931972896916,
          0.6531875525631128,
          0.6426311277990808,
          0.6924398366885467,
          0.4531469647295524,
          0.6310472477097059,
          0.23485838162972172,
          0.5752266795558933,
          0.37838650414223984,
          0.49632471110323695,
          0.851106660949274,
          0.49272946145269525,
          0.5162552038273521,
          0.5960046339301616,
          0.5263619969440345,
          0.5589409437269909,
          0.4058029678111607,
          0.6008990033589555,
          0.38262400490685505,
          0.6479178024492535,
          0.7398360196324911,
          0.5225340089561114,
          0.2646999101434187,
          0.5649792107844968,
          0.7267319329731188,
          0.6383918097716547,
          0.6196825758998746,
          0.37579302049825003,
          0.654276051091521,
          0.5051693978815769,
          0.45905331474589806,
          0.5924795166032345,
          0.6491928974965063,
          0.6449784142261841,
          0.4642268928460716,
          0.4986737323071621,
          0.6637250112280408,
          0.6360005089751585,
          0.3259077824555924,
          0.5524417673385464,
          0.5545578089165776,
          0.5598383842331612,
          0.38431691978091187,
          0.4266830035485958,
          0.5732567919973971,
          0.6062712829436047,
          0.5025843667282179,
          0.5662283450365238,
          0.33354931165196267,
          0.3831059749572939,
          0.6269075082602521
         ],
         "z": [
          0.4201848160046457,
          0.42414906811613,
          0.2229766115952652,
          0.5769487878727407,
          0.21588270396262788,
          0.07838098240337611,
          0.28122579380172663,
          0.10198646635744865,
          0.20053312002705018,
          0.3235866090787567,
          0.09667584647913441,
          0.41428942526729284,
          0.36923216856263713,
          0.3590314108799454,
          0.32287218485308644,
          0.4550629368674171,
          0.030087489974591642,
          0.49373271167370214,
          0.12643857648631476,
          0.09369876836054616,
          0.020504751488657772,
          0.4689898205944118,
          0.26711617362825296,
          0.23416943675563626,
          0.4476060205840428,
          0.5480628377621396,
          0.5462166412835411,
          0.22875018892483012,
          0.5260042232665522,
          0.5633525237606526,
          0.24400249013650888,
          0.45538024893896933,
          0.03703569496978212,
          0.5563055938855876,
          0.5811859841425037,
          0.5154312560939794,
          0.012835492765429708,
          0.39518840896353613,
          0.11086200645173516,
          0.5928675430844838,
          0.47789772643789663,
          0.3316128097011548,
          0.030212609172116718,
          0.09523049952365188,
          0.40700756830476575,
          0.3710824731119492,
          0.5314260979366426,
          0.17389512158629924,
          0.6082059318703145,
          0.3716312577259182,
          -0.039854912112555006,
          0.3938189320766941,
          0.3547248278316621,
          0.07716016795581247,
          0.0693312883051074,
          0.444016564397479,
          0.05950937261155831,
          0.039805289624682695,
          0.22287413266012318,
          0.37844133405979064,
          0.2521701870375603,
          0.30427768599952376,
          0.12823228412195092,
          0.5760663292892028,
          0.37094707602607313,
          0.28645988200282313,
          0.46216442651816325,
          0.10620797605472848,
          0.3031006326007378,
          0.561762148649119,
          0.19940672771298026,
          0.3457653439614875,
          0.28331829241550666,
          0.15047481304010013,
          0.16359077071270098,
          0.4354145670324616,
          0.07752710356252993,
          0.3543970683511247,
          0.5556194064555287,
          0.5890443690680471,
          0.04716245945746814,
          0.570967693422409,
          0.251724543255824,
          0.2846683662631921,
          0.0322074475816286,
          0.42485691040799584,
          0.21496778411993828,
          0.5352122352318145,
          0.3753633886455408,
          0.4512028737106905,
          0.6221071699317828,
          0.291966316751535,
          -0.025029714924966584,
          0.4091792905590625,
          0.5053349172420922,
          0.08779721553058671,
          0.4117541400881988,
          0.13487329191814115,
          0.4737238422499819,
          0.5010481240153373,
          0.1618920449192069,
          0.43470135516812375,
          0.04616620495372125,
          0.13695190611801528,
          0.39508694366811603,
          0.1773285108632691,
          0.05780340841380033,
          0.3875812269605378,
          0.45331136329072297,
          0.1273242080953848,
          0.10428398570050376,
          0.03579898372315401,
          0.1539918090391878,
          0.3202695680657978,
          0.3557514995152119,
          0.33646120929452467,
          0.3147737884413211,
          0.5059701622451063,
          0.5317940181520406
         ]
        },
        {
         "marker": {
          "opacity": 0.8,
          "size": 3
         },
         "mode": "markers",
         "name": "Fault 2",
         "type": "scatter3d",
         "x": [
          0.3287904923193997,
          0.5345711352613479,
          0.3767374761966163,
          0.4254357882029331,
          0.46731567266777463,
          0.5161861323446834,
          0.3137001098525842,
          0.44921107240107655,
          0.5556474183675021,
          0.4908551913941289,
          0.5285902728127942,
          0.29225839131121273,
          0.42383868373851574,
          0.38487154421047765,
          0.5977785866698736,
          0.3153725154611592,
          0.36323170994256815,
          0.6002760260931106,
          0.5762162370075509,
          0.543493687451387,
          0.42622106813098276,
          0.5777765302916988,
          0.6424205123740678,
          0.3366295468181882,
          0.38452390354938454,
          0.4215143873775269,
          0.5370075963191607,
          0.31182603646489465,
          0.4742272379591938,
          0.6463206666593782,
          0.39895045802797763,
          0.42443444823427684,
          0.6415247975922403,
          0.41571238274499267,
          0.488336184885517,
          0.49285152210335237,
          0.39389728420627845,
          0.5513180270792788,
          0.39534668120591293,
          0.6099568758650107,
          0.6042410856315191,
          0.6618511377165263,
          0.42561926522327775,
          0.35500917795509745,
          0.27800490920395576,
          0.37239502645521044,
          0.2946992397797484,
          0.6468800255579609,
          0.28215191227433456,
          0.5001652716499742,
          0.6289152344856523,
          0.44326085577102,
          0.5401050710707591,
          0.5341554477121987,
          0.38941938067306325,
          0.5113650495227803,
          0.6124696858263223,
          0.6832039728861171,
          0.6168628640518031,
          0.5525828465841123,
          0.5772160628963144,
          0.49684971476089623,
          0.3877783866149696,
          0.32341514613926575,
          0.3188041673837456,
          0.4447394960798811,
          0.6346585486413321,
          0.31173749916121996,
          0.6301509463220593,
          0.5728355843320353,
          0.5647696222427602
         ],
         "y": [
          0.7819233724119325,
          0.5593607330435725,
          0.5893169330689544,
          0.40536620676977253,
          0.7327019413185202,
          0.7111709960393822,
          0.6347104498567048,
          0.590204769962152,
          0.66676630230353,
          0.4250579409500654,
          0.7881354095419348,
          0.6251159387252462,
          0.5441434499407721,
          0.690399973822474,
          0.4043285851874252,
          0.5299745558077638,
          0.5532866871511017,
          0.5552056443017864,
          0.6471472594534464,
          0.559771704206201,
          0.686146910047909,
          0.449043548847201,
          0.4566573085260134,
          0.5314182815331044,
          0.35251981316808634,
          0.4436650853464261,
          0.3207085424455278,
          0.5270971691898727,
          0.4912584867416336,
          0.408784687664694,
          0.22824845528176307,
          0.7218939988783165,
          0.6127503365727349,
          0.6588915186206249,
          0.6472352573768397,
          0.539258995303668,
          0.37806286027430847,
          0.5596722336239738,
          0.573180090468065,
          0.5914587242376843,
          0.43323975701429185,
          0.3197235009984595,
          0.5799594965050509,
          0.6684345891897717,
          0.752506187004177,
          0.3494438891448655,
          0.6161843442350019,
          0.5870815491002003,
          0.7395504976541162,
          0.3272519995487011,
          0.5681343574970968,
          0.5433063888267536,
          0.6553933432344794,
          0.6326984978584729,
          0.537863237421721,
          0.6297880140345595,
          0.3446389873051599,
          0.31622210723392385,
          0.8031668706402306,
          0.48345584065925684,
          0.425644974328412,
          0.7333599795746629,
          0.714625349448768,
          0.5056981296496672,
          0.5497294012188847,
          0.576719950005671,
          0.6288310685574422,
          0.4867518816547039,
          0.4527309868038396,
          0.3657500062415681,
          0.6433170245899591
         ],
         "z": [
          0.6723697696144204,
          0.0627749121217632,
          0.8033830849012178,
          -0.14322926788801302,
          0.8160722879145791,
          0.42181120125827964,
          0.437283010907465,
          0.3639505476680074,
          0.07270348157393891,
          -0.22294495178721038,
          0.7687044132399541,
          0.700367412025242,
          0.25295288689067413,
          0.4522667788397825,
          -0.04014172399417,
          0.3728530900458742,
          0.677015403513531,
          -0.13267291975800374,
          0.5631812611504539,
          0.2495345161917507,
          0.55844252252207,
          0.0632209214911401,
          -0.013943145244879931,
          0.2801420899653099,
          -0.0163322093565547,
          0.30716934277517305,
          0.010842189066566497,
          0.6167629937241088,
          0.22606981032327747,
          -0.1331286875815788,
          -0.09685749330835586,
          0.7535090191243664,
          0.47849004609671625,
          0.6475540691042482,
          0.45042689109536016,
          0.04005131914515178,
          -0.106742063447071,
          0.033968757836382125,
          0.18198410039983753,
          0.6497653603336829,
          -0.05706086691727596,
          -0.1549114509735043,
          0.5900288059885653,
          0.8472665041043579,
          0.7751692511119513,
          0.05646039692736017,
          0.5971172900374215,
          -0.02022322658692452,
          0.8165601758900851,
          -0.11919237713178156,
          0.37164462103415974,
          0.031771627930142286,
          0.5267437563302004,
          0.943699642826565,
          0.3050816045801537,
          0.4096778481235795,
          -0.16767136070243524,
          0.057276262510401105,
          0.6244272425299977,
          0.4060657966361383,
          -0.034524393511139034,
          0.9240578210399971,
          0.8253081700843891,
          0.5888868249715865,
          0.6141207117809565,
          0.4826753171534772,
          0.513240488904391,
          0.31716463315083526,
          0.04529330596861739,
          -0.17322734762248673,
          0.6495168438329788
         ]
        },
        {
         "color": "blue",
         "i": [
          0,
          1,
          2,
          0
         ],
         "j": [
          1,
          2,
          3,
          4
         ],
         "k": [
          2,
          3,
          4,
          0
         ],
         "opacity": 0.2,
         "type": "mesh3d",
         "x": [
          1.109784726288975,
          -0.17050848934193474,
          -0.14087256740613763,
          1.1394206482247724,
          1.109784726288975
         ],
         "y": [
          0.6893928700356973,
          0.5802176404635904,
          0.40315591211751767,
          0.5123311416896246,
          0.6893928700356973
         ],
         "z": [
          0.6237065747248441,
          0.5922008532139943,
          0.001453710783300699,
          0.03295943229415055,
          0.6237065747248441
         ]
        },
        {
         "line": {
          "color": "red",
          "width": 3
         },
         "mode": "lines",
         "type": "scatter3d",
         "x": [
          0.4844560794414188,
          -0.15569052837403619
         ],
         "y": [
          0.5462743910766075,
          0.491686776290554
         ],
         "z": [
          0.3125801427540724,
          0.2968272819986475
         ]
        },
        {
         "line": {
          "color": "green",
          "width": 3
         },
         "mode": "lines",
         "type": "scatter3d",
         "x": [
          0.4844560794414188,
          0.49927404040931733
         ],
         "y": [
          0.5462743910766075,
          0.4577435269035711
         ],
         "z": [
          0.3125801427540724,
          0.017206571538725624
         ]
        },
        {
         "color": "blue",
         "i": [
          0,
          1,
          2,
          0
         ],
         "j": [
          1,
          2,
          3,
          4
         ],
         "k": [
          2,
          3,
          4,
          0
         ],
         "opacity": 0.2,
         "type": "mesh3d",
         "x": [
          0.6381103557893745,
          0.6998051879049435,
          0.3308018030934631,
          0.26910697097789404,
          0.6381103557893745
         ],
         "y": [
          0.7463073953602155,
          0.3777076390216543,
          0.34624138679299943,
          0.7148411431315607,
          0.7463073953602155
         ],
         "z": [
          0.9320168385085753,
          -0.29777604102356864,
          -0.3068565530004305,
          0.9229363265317135,
          0.9320168385085753
         ]
        },
        {
         "line": {
          "color": "red",
          "width": 3
         },
         "mode": "lines",
         "type": "scatter3d",
         "x": [
          0.4844560794414188,
          0.5153034954992033
         ],
         "y": [
          0.5462743910766075,
          0.36197451290732685
         ],
         "z": [
          0.3125801427540724,
          -0.3023162970119996
         ]
        },
        {
         "line": {
          "color": "green",
          "width": 3
         },
         "mode": "lines",
         "type": "scatter3d",
         "x": [
          0.4844560794414188,
          0.29995438703567856
         ],
         "y": [
          0.5462743910766075,
          0.53054126496228
         ],
         "z": [
          0.3125801427540724,
          0.3080398867656415
         ]
        }
       ],
       "layout": {
        "scene": {
         "xaxis": {
          "title": {
           "text": "X"
          }
         },
         "yaxis": {
          "title": {
           "text": "Y"
          }
         },
         "zaxis": {
          "title": {
           "text": "Z"
          }
         }
        },
        "template": {
         "data": {
          "bar": [
           {
            "error_x": {
             "color": "#2a3f5f"
            },
            "error_y": {
             "color": "#2a3f5f"
            },
            "marker": {
             "line": {
              "color": "#E5ECF6",
              "width": 0.5
             },
             "pattern": {
              "fillmode": "overlay",
              "size": 10,
              "solidity": 0.2
             }
            },
            "type": "bar"
           }
          ],
          "barpolar": [
           {
            "marker": {
             "line": {
              "color": "#E5ECF6",
              "width": 0.5
             },
             "pattern": {
              "fillmode": "overlay",
              "size": 10,
              "solidity": 0.2
             }
            },
            "type": "barpolar"
           }
          ],
          "carpet": [
           {
            "aaxis": {
             "endlinecolor": "#2a3f5f",
             "gridcolor": "white",
             "linecolor": "white",
             "minorgridcolor": "white",
             "startlinecolor": "#2a3f5f"
            },
            "baxis": {
             "endlinecolor": "#2a3f5f",
             "gridcolor": "white",
             "linecolor": "white",
             "minorgridcolor": "white",
             "startlinecolor": "#2a3f5f"
            },
            "type": "carpet"
           }
          ],
          "choropleth": [
           {
            "colorbar": {
             "outlinewidth": 0,
             "ticks": ""
            },
            "type": "choropleth"
           }
          ],
          "contour": [
           {
            "colorbar": {
             "outlinewidth": 0,
             "ticks": ""
            },
            "colorscale": [
             [
              0,
              "#0d0887"
             ],
             [
              0.1111111111111111,
              "#46039f"
             ],
             [
              0.2222222222222222,
              "#7201a8"
             ],
             [
              0.3333333333333333,
              "#9c179e"
             ],
             [
              0.4444444444444444,
              "#bd3786"
             ],
             [
              0.5555555555555556,
              "#d8576b"
             ],
             [
              0.6666666666666666,
              "#ed7953"
             ],
             [
              0.7777777777777778,
              "#fb9f3a"
             ],
             [
              0.8888888888888888,
              "#fdca26"
             ],
             [
              1,
              "#f0f921"
             ]
            ],
            "type": "contour"
           }
          ],
          "contourcarpet": [
           {
            "colorbar": {
             "outlinewidth": 0,
             "ticks": ""
            },
            "type": "contourcarpet"
           }
          ],
          "heatmap": [
           {
            "colorbar": {
             "outlinewidth": 0,
             "ticks": ""
            },
            "colorscale": [
             [
              0,
              "#0d0887"
             ],
             [
              0.1111111111111111,
              "#46039f"
             ],
             [
              0.2222222222222222,
              "#7201a8"
             ],
             [
              0.3333333333333333,
              "#9c179e"
             ],
             [
              0.4444444444444444,
              "#bd3786"
             ],
             [
              0.5555555555555556,
              "#d8576b"
             ],
             [
              0.6666666666666666,
              "#ed7953"
             ],
             [
              0.7777777777777778,
              "#fb9f3a"
             ],
             [
              0.8888888888888888,
              "#fdca26"
             ],
             [
              1,
              "#f0f921"
             ]
            ],
            "type": "heatmap"
           }
          ],
          "heatmapgl": [
           {
            "colorbar": {
             "outlinewidth": 0,
             "ticks": ""
            },
            "colorscale": [
             [
              0,
              "#0d0887"
             ],
             [
              0.1111111111111111,
              "#46039f"
             ],
             [
              0.2222222222222222,
              "#7201a8"
             ],
             [
              0.3333333333333333,
              "#9c179e"
             ],
             [
              0.4444444444444444,
              "#bd3786"
             ],
             [
              0.5555555555555556,
              "#d8576b"
             ],
             [
              0.6666666666666666,
              "#ed7953"
             ],
             [
              0.7777777777777778,
              "#fb9f3a"
             ],
             [
              0.8888888888888888,
              "#fdca26"
             ],
             [
              1,
              "#f0f921"
             ]
            ],
            "type": "heatmapgl"
           }
          ],
          "histogram": [
           {
            "marker": {
             "pattern": {
              "fillmode": "overlay",
              "size": 10,
              "solidity": 0.2
             }
            },
            "type": "histogram"
           }
          ],
          "histogram2d": [
           {
            "colorbar": {
             "outlinewidth": 0,
             "ticks": ""
            },
            "colorscale": [
             [
              0,
              "#0d0887"
             ],
             [
              0.1111111111111111,
              "#46039f"
             ],
             [
              0.2222222222222222,
              "#7201a8"
             ],
             [
              0.3333333333333333,
              "#9c179e"
             ],
             [
              0.4444444444444444,
              "#bd3786"
             ],
             [
              0.5555555555555556,
              "#d8576b"
             ],
             [
              0.6666666666666666,
              "#ed7953"
             ],
             [
              0.7777777777777778,
              "#fb9f3a"
             ],
             [
              0.8888888888888888,
              "#fdca26"
             ],
             [
              1,
              "#f0f921"
             ]
            ],
            "type": "histogram2d"
           }
          ],
          "histogram2dcontour": [
           {
            "colorbar": {
             "outlinewidth": 0,
             "ticks": ""
            },
            "colorscale": [
             [
              0,
              "#0d0887"
             ],
             [
              0.1111111111111111,
              "#46039f"
             ],
             [
              0.2222222222222222,
              "#7201a8"
             ],
             [
              0.3333333333333333,
              "#9c179e"
             ],
             [
              0.4444444444444444,
              "#bd3786"
             ],
             [
              0.5555555555555556,
              "#d8576b"
             ],
             [
              0.6666666666666666,
              "#ed7953"
             ],
             [
              0.7777777777777778,
              "#fb9f3a"
             ],
             [
              0.8888888888888888,
              "#fdca26"
             ],
             [
              1,
              "#f0f921"
             ]
            ],
            "type": "histogram2dcontour"
           }
          ],
          "mesh3d": [
           {
            "colorbar": {
             "outlinewidth": 0,
             "ticks": ""
            },
            "type": "mesh3d"
           }
          ],
          "parcoords": [
           {
            "line": {
             "colorbar": {
              "outlinewidth": 0,
              "ticks": ""
             }
            },
            "type": "parcoords"
           }
          ],
          "pie": [
           {
            "automargin": true,
            "type": "pie"
           }
          ],
          "scatter": [
           {
            "fillpattern": {
             "fillmode": "overlay",
             "size": 10,
             "solidity": 0.2
            },
            "type": "scatter"
           }
          ],
          "scatter3d": [
           {
            "line": {
             "colorbar": {
              "outlinewidth": 0,
              "ticks": ""
             }
            },
            "marker": {
             "colorbar": {
              "outlinewidth": 0,
              "ticks": ""
             }
            },
            "type": "scatter3d"
           }
          ],
          "scattercarpet": [
           {
            "marker": {
             "colorbar": {
              "outlinewidth": 0,
              "ticks": ""
             }
            },
            "type": "scattercarpet"
           }
          ],
          "scattergeo": [
           {
            "marker": {
             "colorbar": {
              "outlinewidth": 0,
              "ticks": ""
             }
            },
            "type": "scattergeo"
           }
          ],
          "scattergl": [
           {
            "marker": {
             "colorbar": {
              "outlinewidth": 0,
              "ticks": ""
             }
            },
            "type": "scattergl"
           }
          ],
          "scattermapbox": [
           {
            "marker": {
             "colorbar": {
              "outlinewidth": 0,
              "ticks": ""
             }
            },
            "type": "scattermapbox"
           }
          ],
          "scatterpolar": [
           {
            "marker": {
             "colorbar": {
              "outlinewidth": 0,
              "ticks": ""
             }
            },
            "type": "scatterpolar"
           }
          ],
          "scatterpolargl": [
           {
            "marker": {
             "colorbar": {
              "outlinewidth": 0,
              "ticks": ""
             }
            },
            "type": "scatterpolargl"
           }
          ],
          "scatterternary": [
           {
            "marker": {
             "colorbar": {
              "outlinewidth": 0,
              "ticks": ""
             }
            },
            "type": "scatterternary"
           }
          ],
          "surface": [
           {
            "colorbar": {
             "outlinewidth": 0,
             "ticks": ""
            },
            "colorscale": [
             [
              0,
              "#0d0887"
             ],
             [
              0.1111111111111111,
              "#46039f"
             ],
             [
              0.2222222222222222,
              "#7201a8"
             ],
             [
              0.3333333333333333,
              "#9c179e"
             ],
             [
              0.4444444444444444,
              "#bd3786"
             ],
             [
              0.5555555555555556,
              "#d8576b"
             ],
             [
              0.6666666666666666,
              "#ed7953"
             ],
             [
              0.7777777777777778,
              "#fb9f3a"
             ],
             [
              0.8888888888888888,
              "#fdca26"
             ],
             [
              1,
              "#f0f921"
             ]
            ],
            "type": "surface"
           }
          ],
          "table": [
           {
            "cells": {
             "fill": {
              "color": "#EBF0F8"
             },
             "line": {
              "color": "white"
             }
            },
            "header": {
             "fill": {
              "color": "#C8D4E3"
             },
             "line": {
              "color": "white"
             }
            },
            "type": "table"
           }
          ]
         },
         "layout": {
          "annotationdefaults": {
           "arrowcolor": "#2a3f5f",
           "arrowhead": 0,
           "arrowwidth": 1
          },
          "autotypenumbers": "strict",
          "coloraxis": {
           "colorbar": {
            "outlinewidth": 0,
            "ticks": ""
           }
          },
          "colorscale": {
           "diverging": [
            [
             0,
             "#8e0152"
            ],
            [
             0.1,
             "#c51b7d"
            ],
            [
             0.2,
             "#de77ae"
            ],
            [
             0.3,
             "#f1b6da"
            ],
            [
             0.4,
             "#fde0ef"
            ],
            [
             0.5,
             "#f7f7f7"
            ],
            [
             0.6,
             "#e6f5d0"
            ],
            [
             0.7,
             "#b8e186"
            ],
            [
             0.8,
             "#7fbc41"
            ],
            [
             0.9,
             "#4d9221"
            ],
            [
             1,
             "#276419"
            ]
           ],
           "sequential": [
            [
             0,
             "#0d0887"
            ],
            [
             0.1111111111111111,
             "#46039f"
            ],
            [
             0.2222222222222222,
             "#7201a8"
            ],
            [
             0.3333333333333333,
             "#9c179e"
            ],
            [
             0.4444444444444444,
             "#bd3786"
            ],
            [
             0.5555555555555556,
             "#d8576b"
            ],
            [
             0.6666666666666666,
             "#ed7953"
            ],
            [
             0.7777777777777778,
             "#fb9f3a"
            ],
            [
             0.8888888888888888,
             "#fdca26"
            ],
            [
             1,
             "#f0f921"
            ]
           ],
           "sequentialminus": [
            [
             0,
             "#0d0887"
            ],
            [
             0.1111111111111111,
             "#46039f"
            ],
            [
             0.2222222222222222,
             "#7201a8"
            ],
            [
             0.3333333333333333,
             "#9c179e"
            ],
            [
             0.4444444444444444,
             "#bd3786"
            ],
            [
             0.5555555555555556,
             "#d8576b"
            ],
            [
             0.6666666666666666,
             "#ed7953"
            ],
            [
             0.7777777777777778,
             "#fb9f3a"
            ],
            [
             0.8888888888888888,
             "#fdca26"
            ],
            [
             1,
             "#f0f921"
            ]
           ]
          },
          "colorway": [
           "#636efa",
           "#EF553B",
           "#00cc96",
           "#ab63fa",
           "#FFA15A",
           "#19d3f3",
           "#FF6692",
           "#B6E880",
           "#FF97FF",
           "#FECB52"
          ],
          "font": {
           "color": "#2a3f5f"
          },
          "geo": {
           "bgcolor": "white",
           "lakecolor": "white",
           "landcolor": "#E5ECF6",
           "showlakes": true,
           "showland": true,
           "subunitcolor": "white"
          },
          "hoverlabel": {
           "align": "left"
          },
          "hovermode": "closest",
          "mapbox": {
           "style": "light"
          },
          "paper_bgcolor": "white",
          "plot_bgcolor": "#E5ECF6",
          "polar": {
           "angularaxis": {
            "gridcolor": "white",
            "linecolor": "white",
            "ticks": ""
           },
           "bgcolor": "#E5ECF6",
           "radialaxis": {
            "gridcolor": "white",
            "linecolor": "white",
            "ticks": ""
           }
          },
          "scene": {
           "xaxis": {
            "backgroundcolor": "#E5ECF6",
            "gridcolor": "white",
            "gridwidth": 2,
            "linecolor": "white",
            "showbackground": true,
            "ticks": "",
            "zerolinecolor": "white"
           },
           "yaxis": {
            "backgroundcolor": "#E5ECF6",
            "gridcolor": "white",
            "gridwidth": 2,
            "linecolor": "white",
            "showbackground": true,
            "ticks": "",
            "zerolinecolor": "white"
           },
           "zaxis": {
            "backgroundcolor": "#E5ECF6",
            "gridcolor": "white",
            "gridwidth": 2,
            "linecolor": "white",
            "showbackground": true,
            "ticks": "",
            "zerolinecolor": "white"
           }
          },
          "shapedefaults": {
           "line": {
            "color": "#2a3f5f"
           }
          },
          "ternary": {
           "aaxis": {
            "gridcolor": "white",
            "linecolor": "white",
            "ticks": ""
           },
           "baxis": {
            "gridcolor": "white",
            "linecolor": "white",
            "ticks": ""
           },
           "bgcolor": "#E5ECF6",
           "caxis": {
            "gridcolor": "white",
            "linecolor": "white",
            "ticks": ""
           }
          },
          "title": {
           "x": 0.05
          },
          "xaxis": {
           "automargin": true,
           "gridcolor": "white",
           "linecolor": "white",
           "ticks": "",
           "title": {
            "standoff": 15
           },
           "zerolinecolor": "white",
           "zerolinewidth": 2
          },
          "yaxis": {
           "automargin": true,
           "gridcolor": "white",
           "linecolor": "white",
           "ticks": "",
           "title": {
            "standoff": 15
           },
           "zerolinecolor": "white",
           "zerolinewidth": 2
          }
         }
        },
        "title": {
         "text": "3D Visualization of Fault Points"
        }
       }
      }
     },
     "metadata": {},
     "output_type": "display_data"
    }
   ],
   "source": [
    "n_simple_faults = 0\n",
    "n_bent_faults = 0\n",
    "n_cross_faults = 1\n",
    "n_Y_faults = 0\n",
    "n_parallel_faults = 0\n",
    "n_structures = 0\n",
    "\n",
    "# Generate fault metadata \n",
    "fault_metadata_list = generate_faults_metadata(n_simple_faults, n_bent_faults, n_cross_faults, n_Y_faults, n_parallel_faults, n_structures, eps_center=0.1, domain_scale=1, VERBOSE=True)\n",
    "\n",
    "# Generate point cloud for the fault \n",
    "fault_points_list = generate_point_list_from_metadata_list(fault_metadata_list, n_simple_faults, n_bent_faults, n_cross_faults, n_Y_faults, n_parallel_faults)\n",
    "\n",
    "multi_static_plot_better(fault_points_list, fault_metadata_list, show_plane=True, show_axes=True)\n",
    "multi_interactive_plot_better(fault_points_list, fault_metadata_list, show_plane=True, show_axes=True)\n"
   ]
  },
  {
   "cell_type": "markdown",
   "metadata": {},
   "source": [
    "## Generating a larger dataset"
   ]
  },
  {
   "cell_type": "code",
   "execution_count": 56,
   "metadata": {},
   "outputs": [
    {
     "data": {
      "image/png": "[encoded data removed]",
      "text/plain": [
       "<Figure size 800x600 with 1 Axes>"
      ]
     },
     "metadata": {},
     "output_type": "display_data"
    },
    {
     "data": {
      "application/vnd.plotly.v1+json": {
       "config": {
        "plotlyServerURL": "https://plot.ly"
       },
       "data": [
        {
         "marker": {
          "opacity": 0.8,
          "size": 3
         },
         "mode": "markers",
         "name": "Fault 1",
         "type": "scatter3d",
         "x": [
          0.6085828439702758,
          0.021540521853136534,
          0.615782133917577,
          0.25625533328081895,
          0.3332621061997515,
          0.5238960170051006,
          0.1290025497781794,
          0.016767865756969372,
          0.7491397542753818,
          0.3593964454772429,
          0.5517460958309619,
          0.18630678845701784,
          0.07360339905404481,
          0.6276175082713221,
          -0.17396088528887352,
          0.13887381670008409,
          0.8985172757283377,
          -0.24153968825306235,
          0.6305855431965574,
          0.6328378162288367,
          0.9857750793607506,
          0.007349887079664302,
          -0.03810668274785829,
          0.7028293208848967,
          0.7618361400262157,
          0.018071187864898863,
          0.08757980191113149,
          -0.20783335652627227,
          0.4493535827511762,
          0.44400161390331855,
          0.3621082785719775,
          -0.0587375822999963,
          0.04665767496800346,
          -0.056723865699541444,
          0.6683458021765464,
          0.9239225067365141,
          0.937201397574061,
          0.6622516215667092,
          0.06757117067487436,
          0.043166363814459735,
          0.12771502756251035,
          0.7028895189149723,
          0.3059997718179241,
          0.8315384421377615,
          0.14863571278204626,
          0.5906669557005085,
          0.29591632951032826,
          0.8645435302818886,
          -0.07854583088383148,
          0.5977884050437464,
          0.8935212136788491,
          0.8536499190403476,
          -0.10527130227860598,
          0.6753513709363426,
          0.05665701034659286,
          -0.014523807269091651,
          0.5981825360853196,
          0.22289877850368467,
          0.13712619485610225,
          0.24936474965335972,
          0.2894301079976869,
          0.6384016504905224,
          0.49651119009198463,
          0.2755022116982283,
          0.3071834897788442,
          0.13307515093493963,
          0.7210021261472505,
          0.4062685223963668,
          0.970374209599276,
          0.012511388663059862,
          0.7742523274112699,
          0.7122195697240662,
          0.4010094188288882,
          0.23076395011269168,
          -0.11642213877639974,
          0.4685046143183971,
          0.539055903319476,
          0.6041145259975278,
          0.9245604363548994,
          -0.1061128076978632,
          -0.1324437786599706,
          0.8359466194389287,
          0.20761796701951785,
          0.7284150635960046,
          -0.12391518839163354,
          0.2174715497752079,
          0.6811061095095241,
          -0.008615770137756919,
          0.742377994879146,
          0.8724491370000219,
          -0.12802789755535512,
          0.7699158240002257,
          0.7257539492992822,
          0.49132185501364917,
          -0.18651194990859862,
          0.789942184320171,
          0.8237203064756407,
          0.07796529923549954,
          0.6738706210282428,
          0.2511593603028263,
          0.17311351038219952,
          0.3798221488245275,
          0.7784708632379668,
          0.1778040554181676,
          0.26236499357767396,
          0.534512356938213,
          0.03320553780515521,
          0.2555497245418359,
          0.8578299343895974,
          0.23010827411107837,
          0.9342111385676707,
          0.10499476607684718,
          -0.04134463103689868,
          0.23183953102344682,
          0.3781659462489663,
          0.33253697100288654,
          0.2455652517939882,
          0.28572315547970256,
          0.38583276739555905,
          -0.17533548157071543,
          0.9306737100423712,
          -0.15081001499145222,
          0.23028689639497898,
          -0.7301258977675114,
          -1.0653038181840115,
          -0.250499409113797,
          -0.8436107362259682,
          -0.7252895191038141,
          -0.6100023686200943,
          -0.8265651495968601,
          -0.6332062880904484,
          -0.9497814679917141,
          -0.5260446029272942,
          -0.5248652482928378,
          -0.37533707364891294,
          -0.6270557769125396,
          -0.5505490718926974,
          -0.9939127387384646,
          -0.6759021556707979,
          -0.6343770125878533,
          -0.8254810642934508,
          -0.6460738519211203,
          -0.39178383006391526,
          -0.49453604452393585,
          -0.9265893119572294,
          -0.861172933624409,
          -0.44618454736771873,
          -0.38871561898381984,
          -0.3546613815978141,
          -0.47507127011582595,
          -0.8343324663977245,
          -0.3019346612226364,
          -0.35843538171851125,
          -0.5839772361136419,
          -0.9135696846743736,
          -1.0380375685337622,
          -0.8618040072710317,
          -0.3284659850563831,
          -0.7896686171233884,
          -0.8598026755530432,
          -0.9099695003808914,
          -1.01128516023441,
          -0.4958405251016071,
          -1.0135662629599138,
          -0.535894308674891,
          -0.8770860459566568,
          -0.5252132659806193,
          -0.4342166892080918,
          -0.8527611056121625,
          -0.7139287028345741,
          -0.4809126372505377,
          -0.5449546241142224,
          -0.5459801883479639,
          -0.549525784438716,
          -0.7842471215627427,
          -0.5501617039020976
         ],
         "y": [
          -0.35163103789630773,
          -0.5235543404199423,
          -0.4065843241647251,
          -0.25033928986712817,
          -0.33407119269790403,
          -0.6363951698690722,
          -0.3753091644302719,
          -0.4895931888912971,
          -0.2591334544534847,
          -0.23120421638600172,
          -0.25284676033821535,
          -0.6357398408875584,
          -0.40890398090781815,
          -0.09111311638412026,
          -0.5797615273840322,
          -0.9469751969442444,
          -0.06199616013386052,
          -0.6384800916370186,
          -0.3212715041438398,
          -0.5598702782288865,
          -0.3347725755079468,
          -0.7917535309132692,
          -0.5142043015705354,
          -0.18513751950252227,
          -0.1474606077249409,
          -0.4476916473682734,
          -0.9879735457071496,
          -0.8662333399245924,
          -0.7257795006614,
          -0.21655521942037212,
          -0.7189676640316957,
          -0.9303698514152638,
          -0.6084659386434388,
          -0.9614688980093622,
          -0.46143014850599257,
          -0.3967750276147987,
          -0.28341012401335863,
          -0.3193576157995527,
          -1.0410258752758903,
          -0.48506078782224354,
          -0.9411829832181318,
          -0.5636175998757283,
          -0.5548461305529192,
          -0.3444402268853852,
          -0.5764799182260659,
          -0.1314295038840604,
          -0.30392978674097576,
          -0.36145895072412787,
          -0.6130917440919695,
          -0.5954839249058952,
          -0.38830111461756556,
          -0.39318337935186,
          -0.8480657379739134,
          -0.30908751686924374,
          -0.7687633758169461,
          -1.0175327632726114,
          -0.13484614574700943,
          -0.38338877354281126,
          -0.40474335417463736,
          -0.487504175515702,
          -0.7304846489444144,
          -0.6724883606232818,
          -0.38745616702856517,
          -0.3918763166482216,
          -0.30953233645616024,
          -0.7231388059303214,
          -0.1421250181434874,
          -0.4734541561473548,
          -0.23942779163621797,
          -0.7252682473726308,
          -0.5025612399644509,
          -0.1794260225899267,
          -0.17746603749601877,
          -0.5209250352206581,
          -1.0126975615543556,
          -0.6271244966483412,
          -0.6282095522614523,
          -0.3898836805663569,
          -0.16223597241289553,
          -0.8503524701318718,
          -0.8161133285390954,
          -0.2732202038262317,
          -0.8176273266813094,
          0.08303733480407378,
          -0.7297804696695069,
          -0.8567168041560851,
          0.0022935210647821863,
          -0.8453539116535507,
          -0.17280701945635665,
          -0.0881246785325412,
          -0.7582145972170846,
          -0.05209922845213823,
          -0.31766833853941806,
          -0.4144877373612978,
          -0.9402504382566204,
          -0.35631616346863065,
          0.03366443811393708,
          -0.9904995312021087,
          -0.04708114422173959,
          -0.7325682796289151,
          -0.642484469381853,
          -0.8026262431128897,
          0.04110073285698844,
          -0.7695125357448642,
          -0.6574051598061806,
          -0.39880311557973086,
          -0.40983534508953734,
          -0.6681674550870577,
          -0.45491122750451907,
          -0.7485815935939552,
          -0.42155050072352257,
          -0.6765089501720777,
          -0.6973832176537533,
          -0.4492050751051422,
          -0.6021208681739991,
          -0.6287697386488391,
          -0.7759937999109052,
          -0.8383572430775716,
          -0.2508338068825314,
          -0.6774503010834045,
          -0.32049070556954934,
          -0.9974546846230647,
          -0.6940741011254044,
          -1.1489889609249857,
          -1.2593156879417262,
          -1.0102979803247958,
          -1.365077216138161,
          -1.0976647133289048,
          -1.168967659711965,
          -1.4537077253163473,
          -1.000780129034802,
          -1.1756635326351994,
          -1.2211006265017503,
          -1.1448888343541075,
          -1.1272684458397775,
          -1.30162477766763,
          -1.0023019397118824,
          -1.1886749288779315,
          -1.1364268359441512,
          -1.3652248382847882,
          -1.4821368266652537,
          -1.3001214587720769,
          -1.0365953481979007,
          -1.039701541046469,
          -1.1958360302883975,
          -1.1083829763255268,
          -1.0028589086820527,
          -1.0054022865066303,
          -0.9444217758898092,
          -0.9433134923074192,
          -1.1161619018950224,
          -0.9737364154130512,
          -1.1466907528905337,
          -1.200354001167248,
          -1.5473897133080297,
          -1.2028242687176884,
          -1.5010453707605795,
          -0.9534988061291235,
          -1.3481359052744806,
          -1.4748195046981496,
          -1.2882391862010882,
          -1.2752247336244826,
          -1.2398630677285887,
          -1.3187114718342137,
          -0.8987705720025765,
          -1.1899222622627381,
          -1.2525776554168826,
          -1.1584657474439128,
          -1.38517907151298,
          -1.3195286942189544,
          -0.9944347153567556,
          -1.2188650009831041,
          -1.1263522872283525,
          -1.1085512084498306,
          -1.0852145003376723,
          -1.3172286216017242
         ],
         "z": [
          1.060286219480312,
          0.8548112683280306,
          1.1053606833165066,
          0.886633705225834,
          1.0219443648060074,
          0.9059202462825449,
          0.8662402838790567,
          0.7265030458379244,
          0.9051890007759117,
          0.8325437450916922,
          0.7087096911104122,
          0.7541891522020636,
          0.7710348659102618,
          0.9242480268282526,
          0.8343208637622691,
          0.8446721268873505,
          1.0362273663992487,
          0.7353890333670926,
          1.0698468456252719,
          0.9016673444266216,
          1.0561123861030925,
          0.5784207627732649,
          0.7914510134860848,
          1.087079884944076,
          0.9680647374459305,
          0.758904066789199,
          0.970828571034438,
          1.0474763760255892,
          1.0488435143488166,
          0.8094769052711339,
          0.7784091129668747,
          0.8053063707696038,
          0.7952046474372035,
          0.7036703421322043,
          1.2443683834876262,
          1.2983760577619583,
          1.2089742521621534,
          0.7393803945392275,
          0.629758062062532,
          0.8659369442524375,
          0.9766807754094831,
          1.1387746302150403,
          0.9106307351618746,
          0.9344676132501196,
          0.8143123430165562,
          0.8892124854987801,
          0.7906607175167591,
          0.9583873929461618,
          0.7990094330780326,
          0.9316181717842101,
          1.141130871889695,
          1.2490982345752202,
          0.7986699872200882,
          1.1717754503037197,
          0.9542076403175135,
          0.6107226319028942,
          0.942761746203949,
          0.8222691681619496,
          0.7817289429917273,
          0.8586774117855337,
          0.659897867593283,
          0.7493809801986862,
          0.9200564233830412,
          0.9421420138414868,
          0.6569804126373222,
          0.8149005508494649,
          1.0396707979007973,
          0.7673626440504122,
          0.8902401501013081,
          0.8396171900261546,
          1.1315330427432888,
          1.0271180668474573,
          1.007251977123789,
          0.650391415174115,
          0.7365575039293131,
          0.9250523844905508,
          0.9467515986460984,
          0.9238854622472542,
          1.1707431566771114,
          0.8862018421558902,
          0.7824518267647599,
          0.7745052735603286,
          0.838537286352906,
          1.2079720899852937,
          0.829398060552559,
          0.9777864405276745,
          1.1485918179790369,
          0.7390089270923101,
          1.0175812237603639,
          0.9219556374849087,
          0.858904317770613,
          1.0706658851139903,
          0.997568806016254,
          0.9827136718243369,
          0.8768711073636926,
          1.0711315387914915,
          0.9807877737265116,
          0.7864463069053281,
          1.0290412352370504,
          0.78770179116341,
          0.8977582235400584,
          0.5596971929148149,
          1.0644823911174912,
          0.8929681588963299,
          0.9906007088066755,
          0.9566813010245585,
          0.7956518093017816,
          0.6820786832132845,
          0.9915246580229167,
          1.136052269989445,
          1.0751103645364217,
          0.646239554852682,
          0.8061883371831033,
          0.9575356548154478,
          0.8478092354193894,
          0.9409021334139793,
          0.9121745883336518,
          0.7274337842266521,
          1.1077204201214395,
          0.7009902571526816,
          1.0592727180242283,
          0.6198192945302999,
          0.7196370998630435,
          0.7991043526936311,
          0.8110905644775682,
          0.7697982878974471,
          0.8849050541218298,
          0.7438291058691681,
          0.9380109973924334,
          0.938319343343147,
          0.8255466441941371,
          0.934177320900669,
          0.8769640780019865,
          0.6348556580531666,
          0.7729013363452241,
          0.8058352929804985,
          0.6870497705855745,
          0.8232853675945225,
          0.7208997541283769,
          0.8311432372265279,
          0.8793276335545677,
          0.943652138294311,
          0.7703807228418759,
          0.8781315338999622,
          0.9011865766417275,
          0.8718990928580385,
          0.6154052731729858,
          0.71671776042127,
          0.6408225818469411,
          0.6711922541543534,
          0.8385329767025838,
          0.7380680397541545,
          0.7524415872552178,
          0.7431223203054197,
          0.9345684012174109,
          1.0866794090984815,
          0.9486613465911765,
          0.7814960208610536,
          1.0519607566493565,
          0.8575994994617548,
          0.9468269945970185,
          0.8029517903811111,
          0.8403061388440988,
          0.9328972254128156,
          0.7759272663750255,
          0.7442233415457891,
          0.7869901528968273,
          0.7002321060026868,
          0.8016674120210233,
          0.7249096454218584,
          0.7425877953328557,
          0.9785138691577496,
          0.8293385397908273,
          0.8898748854913696,
          0.8305700747640455,
          0.7938367635391758
         ]
        },
        {
         "marker": {
          "opacity": 0.8,
          "size": 3
         },
         "mode": "markers",
         "name": "Fault 2",
         "type": "scatter3d",
         "x": [
          0.974349597484754,
          1.019444630610614,
          0.8720318730366606,
          0.9945411540632169,
          0.5415920241320319,
          0.7458240964260159,
          0.8311450375493495,
          0.6919355959651017,
          0.506695114583817,
          0.7666611619458612,
          0.5478722163994699,
          1.1551427003301573,
          1.267254019056193,
          0.8318828927976074,
          0.6473376125224272,
          0.6853569032796594,
          0.8501652824385512,
          0.9495144166404147,
          0.5642173740961225,
          0.3295988535364456,
          0.4431960749401947,
          0.8225616813277387,
          0.947422194476421,
          0.41134850454250615,
          0.7752858226149639,
          0.9895898488925509,
          0.5468897947545484,
          0.5972167406399325,
          0.6658245516073527,
          0.9276386537316856,
          1.1307362140779114,
          0.9008202464775293,
          0.46829345701518704,
          0.817086418315071,
          1.1303314228177594,
          0.700837625857083,
          1.025666075434633,
          0.4624534730430608,
          0.9295003952415586,
          1.0647787553533736,
          0.7894315081129829,
          0.7550672965143378,
          0.9974847131320983,
          1.193948477941814,
          0.5912933870095577,
          1.2453987996650746,
          1.2767539273275528,
          0.560480064491592,
          0.98013905685578,
          0.8927974047641914,
          0.7937709956871922,
          0.4625143487485365,
          0.6882893568540981,
          0.5629305337893977,
          0.9978991838879138,
          0.7013461686182444,
          1.065234851313026,
          0.5972247803238294,
          0.8523938846857356,
          0.3695992516141329,
          0.9629122553959648,
          0.6225412949474507,
          0.7488703834682041,
          0.8403155909109853,
          0.4670411485959244,
          1.3063593649016836,
          0.554839665440922,
          0.637002233936401,
          0.8088241609900897,
          0.9026351405966178,
          0.7226897046424056,
          1.0947589653512086,
          0.6307380390559791,
          0.722030739154123,
          0.8220852199152523,
          0.8893714445757991,
          0.4224132689461239,
          0.696541888744215,
          0.5007829493827135,
          1.0652045105104682,
          0.9459241568916547,
          0.7205029641325006,
          0.7362565584248962,
          1.095443198436986,
          0.9404561457483563,
          0.825051968300495,
          0.9007886219024942,
          0.9125382348082184,
          0.5706679174753666,
          0.937717963424443,
          1.1992412586172219,
          0.9163650225134046,
          0.7652354928271855,
          0.9181017888389283,
          1.1085396443573456,
          0.5225418918569514,
          1.0618043936836719,
          0.6626497562747894,
          1.0403932620791427,
          0.893580536797537,
          0.681274936673666,
          1.18987027715067,
          0.705820073020215,
          1.101020466523687,
          0.9211113442204133,
          1.1217026471408993,
          1.1427397544344067,
          0.82661294504924,
          1.3564982030036203,
          0.851289019461449,
          1.1537814481037618,
          1.1716473957366234,
          1.3022200940402928,
          1.4821523499799394,
          1.4992836109042167,
          1.2220064745790327,
          1.3525239088197365,
          1.3854019415030627,
          1.512937270221341,
          1.478683986148984,
          1.3636246557270215,
          1.6161518747757406,
          1.30013357967663,
          1.0960350661147051,
          1.603078033311471,
          1.383181856551409,
          1.3580168820421508,
          1.1691110956737214,
          1.25004048202156,
          1.5217223794707695,
          1.6136709647247083,
          1.1457868190053013,
          1.4329113097168558,
          1.3490709010143753,
          1.6768916900700372,
          1.097413892806905,
          1.242938138432899,
          1.3201599042470116,
          1.3676138532837214,
          1.5393389847852241,
          1.560359952287752,
          1.5783179508432823,
          1.0938640978058098,
          1.1086149310452715,
          1.1468031978398983,
          1.470374237493042,
          1.375189106731056,
          1.5314067364390642,
          1.4230862822182067,
          1.2875193426563896,
          1.7911571587462807,
          1.1875701631882505,
          1.546789469056045,
          1.6503574891297452,
          1.426757968880499,
          1.517091387864724,
          1.5152453800225798,
          1.1166334557693207,
          1.6199471607385936,
          1.3775192815801625,
          1.5570842240831677,
          1.4130047880019696,
          1.6407155198667573,
          1.533808023354463,
          1.5174963652264009,
          1.1767708358485656,
          1.5869052885031678
         ],
         "y": [
          0.8506623664120194,
          0.9795631352833979,
          0.889181615911903,
          0.7861561636910872,
          0.7001798484869481,
          0.6983140212234513,
          0.928650494436467,
          0.6742535314880256,
          0.6672498498742755,
          0.6860898418140541,
          0.6972413810123131,
          1.1011757759267613,
          0.9930818768095693,
          0.7572596406665885,
          0.6225497217251121,
          0.7522373180531735,
          0.9812457189796464,
          1.0972010750100856,
          0.7186700285692155,
          0.6055264017281021,
          0.6231564036968789,
          0.9064279392652804,
          1.1689028876482648,
          0.807745842430533,
          0.9058787404180058,
          1.065013183909873,
          0.9797187437496953,
          0.8766153934216518,
          1.02880259881519,
          1.11691405375925,
          0.894320348639102,
          0.9856804644553182,
          0.5888499779985792,
          0.9888851591807107,
          0.8631310876313669,
          0.6869054626050061,
          1.1023416860223307,
          0.5783975440148156,
          0.9133519452617903,
          0.9522323289001517,
          0.8091882110049937,
          0.8370074184182533,
          0.8870758010081223,
          0.9629254167976833,
          0.522516340194528,
          1.0859034562549805,
          1.0814214385869785,
          0.6083397045451404,
          0.8360553166284889,
          0.9338923540733636,
          1.2639347753204038,
          0.6523601880569002,
          0.6217068170397889,
          0.6915210670931982,
          1.1329697056488088,
          0.9284953796651557,
          1.0151340341750423,
          0.8300194450304418,
          0.9550158526327317,
          0.7807781049668865,
          0.6493530874642088,
          0.7290891837499557,
          0.8743187050718393,
          0.6792401384058286,
          0.6790249163059991,
          1.0283883536240424,
          0.7470763667773043,
          0.9097536882669514,
          0.6345628518713682,
          0.9201616728259695,
          0.8012839263043403,
          0.9393391191939449,
          0.9600906682417774,
          0.8455049505902419,
          0.8889621065851561,
          0.6231538661616666,
          0.5997743340659426,
          0.9441836312242238,
          0.7363694487004458,
          0.9974099959907232,
          0.9362334972698919,
          0.7139728194866874,
          0.7693873298392723,
          0.9458183296727972,
          1.0621179120065127,
          0.93626737867833,
          0.8500555717598617,
          0.9824436452490615,
          0.5637210273482431,
          0.7512846651817304,
          1.0249259394331627,
          0.756986557230127,
          0.9765493421943384,
          0.6787194987492677,
          0.9839642022474747,
          0.6100224153293157,
          1.0829413301222144,
          0.6843031289889462,
          1.1191706859880821,
          0.9714869447761902,
          0.7278423582695871,
          0.9467864981509634,
          0.6124578067261107,
          1.0502876463837199,
          1.0965996114220435,
          0.8830096394985161,
          0.8353623664577956,
          0.6697895590008924,
          1.0827752606226706,
          0.8665737576810104,
          0.9497371908726224,
          0.9853724737663857,
          1.0892746267478763,
          1.094876262602295,
          0.9823686644985071,
          1.2136793224933418,
          0.8912648214804808,
          0.8514925006046541,
          1.0802153735922018,
          0.917339758624578,
          1.1047680360323162,
          0.9860961101296916,
          0.9837889439874823,
          1.0267749826437957,
          1.0112956147999337,
          1.0065471847977228,
          1.0287218117150796,
          1.0051554637819733,
          0.8850496691470745,
          0.8903341662142015,
          0.8021327282173716,
          0.9949836254019923,
          1.0390037786688302,
          0.977613149125818,
          0.8797771446532909,
          0.9876970375893229,
          1.2521655726429226,
          1.127521901737403,
          0.9884835753693489,
          0.9534932468028764,
          1.0495029662433848,
          0.9775330013923318,
          1.022195839272379,
          1.1165640513372233,
          1.0847357450460458,
          1.236820896681759,
          0.9994000796731559,
          1.0465792890703678,
          1.13656338507638,
          1.0543659675354968,
          1.020103420976671,
          1.0793988098387899,
          1.0311356357934118,
          1.0850589130869654,
          1.0853521946096238,
          0.935476401387502,
          1.1051930280199689,
          1.0730672843478637,
          0.9636924518520282,
          0.9457758132084035,
          0.9119807010675465,
          0.9290033202039636,
          0.9919250564108657,
          0.946353736727788,
          1.0864175241144298,
          1.0163512016568632,
          1.1043065743696532
         ],
         "z": [
          0.7166385899575889,
          0.7624894592090046,
          0.22781117897194703,
          0.23984890348655716,
          0.01916802253440033,
          -0.4490693378223733,
          0.6985343052260049,
          -0.17185303660718435,
          -0.3388519824341692,
          0.44570414781112344,
          -0.227872197239328,
          0.494461454037768,
          0.4184395465950227,
          -0.011041072816551334,
          -0.18514344327996957,
          -0.20626530512883148,
          -0.007231842283630826,
          0.34263324322764377,
          -0.026778821034603807,
          -0.20743609337848448,
          -0.22273218123605895,
          0.26966913391909103,
          0.587816196375614,
          -0.21458158525409243,
          -0.34691166418291264,
          0.6030310856890422,
          0.049349644344833604,
          -0.22413720260720793,
          -0.3104761324199439,
          0.2963138737596949,
          0.20992488086602523,
          0.7076635555623051,
          -0.34823955538710283,
          0.7048828134291947,
          0.5605731990861689,
          -0.5198854534205318,
          0.2696235404660165,
          -0.14376430350622613,
          0.5171489523047098,
          0.4227645022496367,
          0.5713659197392942,
          -0.32281016985501454,
          -0.02310313394387946,
          0.48348594849669346,
          0.14463985432080237,
          0.632553036215192,
          0.6037224591052035,
          -0.3454185359532513,
          -0.05149019470320647,
          0.45833347599091656,
          0.6769844176874911,
          -0.10058386029744465,
          -0.47213967299690474,
          -0.15565935379014983,
          0.3879618109284083,
          -0.4201558306773395,
          0.6101371389376069,
          -0.35221866500908544,
          0.518000741458455,
          -0.1359943120553282,
          0.0686876282538553,
          -0.4544367636738835,
          0.18105607012583025,
          0.5867793519761669,
          -0.3950432986887244,
          0.5653817235860262,
          0.06890695647442054,
          -0.025838469259474063,
          0.3533908932089645,
          0.5072991348979458,
          0.20548897584585896,
          0.21826683485417542,
          0.40949844320296697,
          -0.02861043412871132,
          0.34863235369661755,
          0.16385868995290084,
          -0.11225003526639854,
          -0.20294685408478397,
          0.016140611447284067,
          0.5373210711044185,
          0.4379645092161437,
          -0.4536129563867856,
          -0.48392209045089907,
          0.2197456744065885,
          0.5368291737174512,
          0.6163736725218257,
          0.2250005168037593,
          0.2863682615240612,
          -0.346896839471947,
          -0.08563836371348835,
          0.45214080355056757,
          0.15086051002413597,
          -0.04941934658218468,
          -0.25115151276068926,
          0.28949734966809343,
          -0.3180207842263617,
          0.5646876638745647,
          -0.41499080075969746,
          0.46146943457695777,
          0.6196414197730236,
          -0.29653199725743457,
          0.44196668570246894,
          -0.05714633251504103,
          0.30930028843093577,
          0.49953758601013826,
          0.136915562078146,
          0.44689236448573777,
          -0.3581636110533811,
          0.5880099895907813,
          -0.22165648346586497,
          0.4280688821337946,
          0.9961349568941942,
          0.9091644475540159,
          1.0799667528476151,
          1.5999386999784322,
          0.7152869535149172,
          1.1373387825226866,
          1.2736767522352441,
          1.4555990196080524,
          1.1831400755970303,
          0.8738388445522467,
          1.1407057192065655,
          0.6977844976988262,
          0.9319380268194556,
          1.4216595122290823,
          0.9461283081166195,
          1.0466165458290164,
          0.9135380190713163,
          1.0777411350698591,
          1.5710626865483768,
          1.5361142841764752,
          0.8385966677469994,
          1.4751156252425628,
          0.8423980050938418,
          1.3274289716043446,
          0.9330692867096324,
          0.9080622569095922,
          0.9610083577462674,
          1.0028885964260812,
          0.9649124003040671,
          1.1833394423165136,
          1.2804271157719551,
          0.841592181677712,
          0.7762917711800468,
          0.8594918102096262,
          0.9928216058227386,
          1.1711341905126476,
          1.0474237164898381,
          1.0756904385608954,
          0.6365687350748827,
          1.384160409570686,
          1.0287735682739945,
          1.4574073864424386,
          1.3053187885188375,
          1.0348706113308968,
          1.5213477913997535,
          1.0712724113939827,
          0.7572377154063639,
          1.4645608834757855,
          0.9162498368782501,
          1.3212734504892079,
          0.9637868626351889,
          1.3775299961711724,
          1.3527815761235835,
          0.9826851933401913,
          1.0839432758653627,
          1.1306779537438527
         ]
        },
        {
         "marker": {
          "opacity": 0.8,
          "size": 3
         },
         "mode": "markers",
         "name": "Fault 3",
         "type": "scatter3d",
         "x": [
          -0.7771536052206348,
          -0.42501189987206317,
          -0.6243086879676707,
          -0.3307347628299525,
          -0.9703192380473464,
          -0.43774980058752233,
          -0.5210687980725242,
          -0.49844843388668997,
          -0.5066581572119027,
          -0.9216644697813717,
          -0.5914958939021324,
          -0.42015839413799133,
          -0.35619655912841736,
          -0.6310844267045848,
          -0.8463312441200121,
          -0.6176159652327374,
          -1.0101305470240995,
          -0.7373549196411412,
          -0.31864489090566395,
          -0.2872931127013858,
          -0.5269628501839042,
          -0.34105496546439157,
          -0.4811581677810623,
          -0.9838213975071393,
          -1.1426258866872796,
          -0.6636665370816738,
          -0.7128284547821321,
          -0.7251109194386435,
          -0.6976704337982386,
          -0.738494534550305,
          -0.693294077977246,
          -0.47068666833358075,
          -0.4754905332786175,
          -0.6639255289329038,
          -0.9274549824352813,
          -0.8829369717839597,
          -0.6805817442338497,
          -0.8438240391435153,
          -0.5283441614133039,
          -0.1982592759344752,
          -0.3805433575624902,
          -0.5486475164445908,
          -1.0220066011225417,
          -0.3907840746679259,
          -0.6060772356881675,
          -0.8075425861233958,
          -0.7930526069257265,
          -0.6138685075315232,
          -0.5470573793510967,
          -0.7403295367699192,
          -0.8592793432633169,
          -0.6097591912841589,
          -0.7097643679431697,
          -0.9336563312680464,
          -0.45877744392832315,
          -0.4686714359915326,
          -0.9918474679649855,
          -0.993671259518137,
          -0.8126981585692841,
          -0.47302296187127324,
          -0.9988311083035194,
          -0.5427493571454713,
          -0.5764144528422481,
          -0.718016178085333,
          -0.6996925018232428,
          -0.424205805837852,
          -0.5958671224732366,
          -0.9292003464330749,
          -0.9825994796158829,
          -0.794142190799648,
          -0.2557809770546725,
          -0.399350706543111,
          -0.5334000107525748,
          -0.5589570914784482,
          -0.6906657943013864,
          -0.3345758718651554,
          -0.85696019711088,
          -0.45833457531612953,
          -0.1515898490769107,
          -0.26260247240989165,
          -0.7123866919524482,
          -0.5254995373825693,
          -1.046740073744367,
          -0.9866980950987667,
          -0.735261009604528,
          -0.58544533820035,
          -0.5670637653286992,
          -0.5483225457075739,
          -0.6067031511261289,
          -0.1258213164526009,
          -0.7810006859005801,
          -0.4102580834729338,
          -0.3913801169814556,
          -0.29154450394619963,
          -0.410892926318739,
          -0.6397669144424714,
          -1.016531305033273,
          -0.8481465824044444,
          -0.8895010779769903,
          -0.601158338334935,
          -0.6813144016830357,
          -0.3484550796162856,
          -0.8399937704225133,
          -0.4572426096555613,
          -0.3903821528994969,
          -0.19575891552574046,
          -0.5937931134704336,
          -0.5166365379617911,
          -1.0380891236166192,
          -0.8021806055669364,
          -0.4095766833181207,
          -0.21970707102325737,
          -0.6601108536005136,
          -0.3802166275978908,
          -0.710548077977317,
          -0.5679518454916924,
          -0.24272764953679715,
          -0.5792142534710681,
          -0.5846082015347026,
          -0.797134402025164,
          -0.8085390787812875,
          -0.7334169784861438,
          -0.8022740532016519,
          -0.5584292817779423,
          -0.744349438018512,
          -0.710095986933349,
          -0.6534539006075982,
          -0.6710387450095856,
          -0.8012521020630771,
          -0.605419235725221,
          -0.5541429171742227,
          -0.6991989381203891,
          -0.714775061451303,
          -0.6929684289322018,
          -0.7697662070051198,
          -0.6114691383993222,
          -0.7630342566302879,
          -0.4848950854626921,
          -0.7372043952233817,
          -0.6613311706922067,
          -0.5662570718085761,
          -0.5114909175259839,
          -0.5664286314202134,
          -0.6062296640363565,
          -0.605927934830185,
          -0.5187018565405179,
          -0.6512337413061932,
          -0.6388501043294051,
          -0.712354441228406,
          -0.6575713046634151,
          -0.57229476873153
         ],
         "y": [
          0.1853250018157422,
          -0.3149690155384164,
          -0.23489023047947838,
          -0.7808938575577469,
          0.27705481848215247,
          -0.5809400680940958,
          -0.4180051606274386,
          -0.2614271568066539,
          -0.686542274384417,
          0.2283619871898262,
          0.05873803444118763,
          -0.5395904678851222,
          -0.7340272747533214,
          -0.20411128315333987,
          0.114670592835943,
          -0.12436896835977138,
          0.1702227555377993,
          -0.09231796991265219,
          -0.295130005175924,
          -0.7001529558302091,
          -0.1744285644749577,
          -0.6099829912716129,
          -0.5313040066906807,
          0.07063928594507748,
          0.2701198267778113,
          0.08607833669230745,
          -0.4425311678705834,
          -0.055229923215845786,
          -0.13809110392900417,
          -0.1114487660141901,
          -0.3111432941078655,
          -0.623583540716959,
          -0.8213484164000764,
          -0.21149916938040078,
          0.10096835009963535,
          0.004593564200102051,
          -0.0641369400981809,
          -0.15065342548775013,
          -0.6051882288948844,
          -0.7497717933256357,
          -0.6564478949276435,
          -0.315745617254073,
          0.443531257619388,
          -0.26981751838945106,
          -0.09104911951842286,
          -0.106606576885724,
          0.3865080988494126,
          -0.24155393979046716,
          -0.27619426275522063,
          0.4276768792775259,
          0.21698341605335295,
          0.334001035980468,
          0.1523805043708924,
          0.36103135023175076,
          -0.4199271429269184,
          -0.19340935614378885,
          0.258143330552139,
          0.2725559123401749,
          -0.2340031505375125,
          -0.35167385773307475,
          0.3108789249256534,
          -0.24264445040490387,
          -0.7764761831860673,
          -0.3144643542341885,
          -0.35366766978133357,
          -0.4036136099145957,
          -0.3008282522312444,
          0.30829887089281544,
          0.3954115935546403,
          -0.14812118484799386,
          -0.7262905904397081,
          -0.6883030519781261,
          -0.42526371361919457,
          -0.33260450335127306,
          -0.44251695557707493,
          -0.19329568435619687,
          0.051530265675607596,
          -0.5901573491164973,
          -0.48629049942380714,
          -0.7499482395792821,
          0.09340907757775806,
          -0.07148531322879058,
          0.09429758171140255,
          0.4723303164909574,
          0.311788582103235,
          0.017601334210145626,
          0.020281848731121495,
          -0.21356322272101705,
          -0.3450258030290325,
          -0.7034658336233969,
          0.21398017442735118,
          -0.07388474092202713,
          -0.38848640509948784,
          -0.839109702215227,
          -0.41936503211579895,
          -0.08020492821841728,
          0.20621326611408158,
          -0.10119974026449102,
          -0.0019609201331520533,
          0.044749903451084885,
          -0.3456817057557935,
          -0.3886919194938656,
          0.1979824072552126,
          -0.7692124036816667,
          -0.7289586049857337,
          -0.7841021109571867,
          -0.49801397034324024,
          -0.7071460723324777,
          0.30900303531968115,
          0.29411150109143014,
          -0.69134620887332,
          -0.6163250083707581,
          -0.39293713203433456,
          -0.3759535879059444,
          -0.07389709783868495,
          -0.3386053442300821,
          -0.714976382537225,
          0.14104591197099206,
          -0.11806080558687078,
          0.39124415984943073,
          0.06676015351820148,
          0.1570556448044417,
          -0.1421194064772867,
          0.34652785120013263,
          0.41244202208353004,
          -0.11607533290816015,
          0.45463271957331103,
          -0.09429433008423885,
          0.4311109580312133,
          0.03454473133523868,
          0.21571919430851116,
          0.17343088905354354,
          0.2340386432537219,
          0.0477815529037083,
          0.28161868318890376,
          -0.16083847940136042,
          -0.11599594611273137,
          0.09232454402489297,
          0.23428794199806757,
          0.030333604770842792,
          0.03520786845669821,
          -0.09783968225587931,
          0.44196797188654785,
          0.16235101758356504,
          0.4442040922159747,
          -0.009209903708532405,
          0.10738160320346664,
          0.14177542994676698,
          -0.03465488451704704,
          0.009359936358648284,
          0.21879733063667234
         ],
         "z": [
          -0.6464949992332939,
          -0.844722948631531,
          -0.5890886696027832,
          -1.033695442803741,
          -0.5913052147936161,
          -0.905741357544389,
          -0.926303069783304,
          -0.584942722158699,
          -1.2683017794574332,
          -0.24704375515984373,
          -0.43982570507474505,
          -0.9679198967070064,
          -1.0044932148850905,
          -0.7030634387103296,
          -0.6649861038622727,
          -0.5171253610200917,
          -0.3329539882921137,
          -0.7726088622769111,
          -0.8257951667350651,
          -1.2701829999480485,
          -0.5919548885567182,
          -1.0171243852295868,
          -1.0802554196015257,
          -0.4669282167397941,
          -0.42345371971628576,
          -0.4833059239970383,
          -1.013897873875868,
          -0.8734210624151145,
          -0.659703266575136,
          -0.5044340267366354,
          -0.8325291227349735,
          -0.8397239807464136,
          -1.1848483748004481,
          -0.8999880835755883,
          -0.44617332743606564,
          -0.6750957430882333,
          -0.816427476304052,
          -0.7236452936786639,
          -1.1421252114001494,
          -1.0573708532037676,
          -1.2665063451287062,
          -0.7719582954220142,
          -0.5239169922598482,
          -0.7604847626184477,
          -0.6355324546241304,
          -0.8823847723487633,
          -0.3925146152593123,
          -0.7726005986448328,
          -0.7810330585727369,
          -0.4099450103348315,
          -0.5501449292371317,
          -0.4409483637659287,
          -0.41901481740351765,
          -0.4053863681474928,
          -0.792606897392611,
          -0.8962096385785161,
          -0.34796423499534757,
          -0.3969055944513243,
          -0.8499575085310465,
          -0.9901453453729697,
          -0.3907217657962394,
          -0.6640751201857312,
          -1.2130208094330117,
          -1.0259722368744273,
          -0.6910412663053379,
          -0.814958141200893,
          -0.9057578402510104,
          -0.5649090342686394,
          -0.47583292074945943,
          -0.6172371181047266,
          -0.9237477591660174,
          -0.9312252042411379,
          -0.8227723778019097,
          -0.918225091516546,
          -0.8934839490584454,
          -0.7696433834124746,
          -0.6106115279124982,
          -1.2937984324148832,
          -0.9933754792997957,
          -1.0849493872952505,
          -0.48944390286193024,
          -0.4948277147385156,
          -0.5466848574804343,
          -0.49079919726494636,
          -0.5097951825655824,
          -0.612005170386404,
          -0.5833763123050633,
          -0.8144285825617728,
          -1.0393414719164769,
          -1.0414314131496294,
          -0.5190927955003743,
          -0.6235128377021257,
          -0.6784277201676591,
          -0.982958843278106,
          -0.6888026990777444,
          -0.5297031366214092,
          -0.5865055670991215,
          -0.6467637909456632,
          -0.6865796559359869,
          -0.4700747340031849,
          -0.8993789864226175,
          -0.7707545561105043,
          -0.588836154934687,
          -1.1945163569340629,
          -0.7638834985637871,
          -1.0771089219054888,
          -1.1274826604203017,
          -1.2167885889028502,
          -0.3581558233191715,
          -0.3739382096440624,
          -1.3571000404003528,
          -1.1530070394345437,
          -0.9350921429225706,
          -0.7769204117408648,
          -0.7900012175695735,
          -0.7094953473702118,
          -1.1824685172505587,
          -0.4950386073161567,
          -0.7534696621782707,
          -0.7252389272485876,
          -0.7593456121926279,
          -0.7796641376006096,
          -0.7446389857051274,
          -0.6269079372367365,
          -0.7639851670806094,
          -0.7280854889572589,
          -0.6228825183507444,
          -0.8307648185588633,
          -0.6906610316923255,
          -0.7662091276365071,
          -0.5781582322141008,
          -0.6732009923016102,
          -0.7392194290847586,
          -0.6402386112706098,
          -0.5770486218615006,
          -0.8058667656388744,
          -0.6380155308110398,
          -0.6624769378070441,
          -0.7537557616330175,
          -0.761004394176379,
          -0.6534226198621567,
          -0.7340336593605725,
          -0.5964432706555046,
          -0.6043608981881589,
          -0.5260955778199633,
          -0.7041340728207597,
          -0.7424564936316971,
          -0.6979319989564194,
          -0.8409407197802281,
          -0.6784242577345577,
          -0.8264969554167465
         ]
        },
        {
         "marker": {
          "opacity": 0.8,
          "size": 3
         },
         "mode": "markers",
         "name": "Fault 4",
         "type": "scatter3d",
         "x": [
          0.4320456683948982,
          0.3628156410826379,
          0.31360518669162374,
          0.592528120600466,
          0.772846762531559,
          0.5448792054932525,
          0.7414825366180791,
          0.17862359282651552,
          0.45579259899266183,
          0.6673826844117907,
          0.7773261735546543,
          0.90909387363364,
          0.855436417983781,
          0.6119852139127759,
          0.8143716767253513,
          0.2804538417229275,
          0.23927918950241703,
          0.8595642265071172,
          0.8058144911320206,
          0.43201518924482857,
          0.627213606900128,
          0.7537210973743078,
          0.519130433990344,
          0.4270325583771718,
          0.3886687406725592,
          1.0145976684771751,
          0.8276973890131488,
          0.5232955290819143,
          0.19222239476851966,
          0.3608609338370581,
          0.2943014847105722,
          0.10754883724111827,
          0.5376976589797778,
          0.9359224961823233,
          0.5445445209935812,
          0.6700395077132352,
          0.08975534781358899,
          0.35798195170026065,
          0.4840945907584186,
          0.7263500071549758,
          0.7444662287052167,
          1.0503883105601721,
          0.0431288240586368,
          0.9771229868188229,
          0.5665678072560943,
          0.7570870572341871,
          0.7891131726083178,
          0.6655251249815033,
          0.2898711112317572,
          0.9853011627759642,
          0.4886175302497465,
          0.5731429274814901,
          0.5508497195406513,
          0.9288046566751155,
          0.7134715398925999,
          0.34009361736701904,
          0.5785049368808955,
          0.7677685891883644,
          1.0308571396552386,
          0.7679393186324345,
          0.005067483867591462,
          0.561976958433191,
          0.690890830244327,
          0.13905888502187236,
          0.1539861129395043,
          1.049561552212341,
          0.8053649984037495,
          0.7208037393879758,
          0.3344585303475097,
          0.30741862546056675,
          0.9153652144862268,
          0.1713559763764202,
          0.6255999086625013,
          0.48509960843095346,
          0.38728779039430417,
          0.36908233845025384,
          -0.014581024632024165,
          0.9445675775176102,
          0.16776740400288292,
          0.428034897659002,
          0.37243779853179043,
          0.31957183727536553,
          0.5406458738721281,
          0.2969716404437828,
          0.48677897556673555,
          0.06718893414883165,
          0.5188962357351009,
          1.0170374481766984,
          0.9139885098112797,
          0.34317968433462553,
          0.34126017417533094,
          0.40036136698384156,
          0.21108809810253037,
          0.11582890193220853,
          0.4613494895881495,
          0.2270366431447221,
          0.1946391118041861,
          0.37215767336816524,
          0.29658430128088625,
          0.4038707175020992,
          0.09047543846516641,
          0.18869021813497341,
          0.4463370186703752,
          0.21496953777168495,
          0.3419604975964335,
          0.06697162445377147,
          0.4551715841988961,
          0.3109010199651968,
          0.4532597615527152,
          0.25220825875182873,
          0.4640595808484864,
          0.14985212334053302,
          0.5612020673353563,
          0.3141359668775023
         ],
         "y": [
          -0.13949786213750082,
          -0.4363302926144447,
          -0.20648039768924015,
          0.37913064136335656,
          0.7456887158324044,
          0.3292737896194112,
          0.4891986048705187,
          -0.4170112053990217,
          0.25490919250267635,
          0.4212797581298867,
          0.5715034887331504,
          0.7118808242029998,
          0.8952572144428551,
          0.11946804909030989,
          0.7341730653746782,
          -0.11998785974583284,
          -0.10821816685393937,
          0.4783395210431308,
          0.8864148498737748,
          0.165483578775901,
          0.45957019310329306,
          0.5850447672941199,
          0.24207613871940437,
          0.00660686084001529,
          -0.022999033013502083,
          0.734683887878203,
          0.41510606646232157,
          0.2556520548480713,
          -0.30288583313894,
          -0.30559952494515563,
          -0.029913095518690452,
          -0.4682119955746628,
          0.3665187344218871,
          0.44591891391316074,
          0.19485838122622806,
          0.14527622088860964,
          -0.43824434076971885,
          -0.30373632353007557,
          -0.26880090651225047,
          0.251987734886983,
          0.8334092301932466,
          0.777505983319124,
          -0.3198032008217841,
          0.7780272572129621,
          0.27928262471708504,
          0.9285291235817206,
          0.5071128185295247,
          0.39242912936771446,
          0.016271958914935818,
          0.7722999357042262,
          0.256612090999043,
          0.1939069032671435,
          0.377524835057549,
          0.6742357066350689,
          0.3809308722081157,
          -0.1650188755173573,
          0.2347123645843254,
          0.42733471319783595,
          0.6756631620891966,
          0.6465365634668434,
          -0.30973436313167124,
          0.47975487949876694,
          0.46447968108544146,
          -0.22955407617017878,
          -0.17825030080823015,
          0.854181009617202,
          0.9109084197304115,
          0.8004981835822265,
          -0.08891440696711286,
          0.05788951273071878,
          0.4399544314027938,
          -0.4875342350923896,
          0.48049231181644425,
          0.23815558662624497,
          0.1991976044543452,
          0.09066953046236487,
          -0.40556312508296866,
          0.8352624089874342,
          -0.1835104908340382,
          0.0542962564509025,
          -0.1360522478180314,
          0.05155705071778102,
          0.3446636231242945,
          -0.2719560307879338,
          0.3633031755778452,
          -0.26879730487968895,
          -0.07573785409917307,
          0.8380979188756051,
          0.7407171237961663,
          0.022554350535745837,
          -0.061733120248939316,
          -0.021223543576741017,
          -0.0885147953190509,
          -0.16480684190307665,
          0.07779057185702583,
          0.07608289713926877,
          -0.25604032887311373,
          -0.06855067143340829,
          -0.1648568824674823,
          0.11662331075708679,
          -0.15073890076604618,
          -0.13615187915429788,
          0.012636619259112636,
          -0.15392901850601964,
          -0.017498874555515635,
          -0.14584528218595494,
          0.01074909732974988,
          -0.22249052048661405,
          0.10685241809805401,
          -0.018065437943244122,
          0.1254606901995632,
          -0.2650662497289259,
          0.12190236920995748,
          -0.0618407589302667
         ],
         "z": [
          -0.1766493006284386,
          -0.07786097037628183,
          -0.10719192330757248,
          0.023902759148755948,
          0.020884557045541353,
          -0.07564816911382945,
          -0.24085418022686883,
          -0.22767057460783252,
          0.03529149263667035,
          0.0031709024325294217,
          -0.14752888390224225,
          -0.011273151952704646,
          0.15737651397524893,
          -0.08727690966836588,
          -0.1499312718225031,
          -0.013460038570166286,
          0.055921904843513295,
          -0.03203658957025052,
          -0.013462880563989754,
          -0.054224223900439836,
          -0.10504121556083208,
          -0.022402482754554698,
          0.1062076324714386,
          -0.10120488756363702,
          -0.05316863933389711,
          -0.017069421028854698,
          -0.04833710989695185,
          -0.02881251838317234,
          0.011060739015148972,
          -0.07787968035556839,
          0.08844197572003025,
          -0.04476742049715055,
          0.03553814752074318,
          -0.03507759369290536,
          -0.10755677131118943,
          -0.07286041524998671,
          -0.0024161119915137655,
          -0.10977489613773825,
          -0.0887325505774183,
          -0.06479945044993042,
          0.016255002807796456,
          -0.16688910352105024,
          -0.021140025541848285,
          -0.22463672782272004,
          -0.02846490743365237,
          -0.08371418087008474,
          -0.16042854569058546,
          -0.07267778398144742,
          0.047158084935788595,
          0.012267381637030214,
          0.15361143227344137,
          -0.07364133693979,
          0.08867313029775056,
          0.07514980755451044,
          -0.19889524343323384,
          0.0006051497253357907,
          -0.006183776522771925,
          -0.22804683712078436,
          -0.021735593729146158,
          0.0379323980892435,
          -0.08102226205639206,
          -0.062015914360673115,
          -0.049470207621459934,
          -0.024524068471663482,
          -0.01123213378558279,
          -0.19649990781539617,
          0.05814148915532889,
          -0.06856622217072242,
          0.029621619070564015,
          -0.10658410821052947,
          -0.049148895130717435,
          -0.12964106037640313,
          0.05481494864629068,
          -0.17627647875000874,
          0.0208998995642889,
          0.09604316443817308,
          -0.029682407572050935,
          -0.05777935520852158,
          -0.02116897772461847,
          -0.03700249671595029,
          -0.10264902525245276,
          0.03127971853960669,
          -0.02618878577965131,
          -0.07277294155543464,
          0.04905196094045841,
          -0.0343081083445871,
          -0.20583846326831817,
          -0.13272728132577066,
          -0.15305982505061755,
          -0.21285969320661663,
          -0.189407094648607,
          -0.2455960120743883,
          -0.3614775026424952,
          -0.29380211148499114,
          -0.06779547866939609,
          -0.22122021444903836,
          -0.3637633975522576,
          -0.17669854650997915,
          -0.25902435582587524,
          -0.07002030457536321,
          -0.27850985412266627,
          -0.3649201277506839,
          -0.08590384557753,
          -0.2049083819737181,
          -0.21116272594766827,
          -0.2703817492115581,
          -0.10037263830340074,
          -0.2827259610829389,
          -0.17832445013727707,
          -0.21716857851683155,
          -0.050788629426944745,
          -0.42473453366937275,
          -0.09882847818976696,
          -0.225028224747436
         ]
        },
        {
         "marker": {
          "opacity": 0.8,
          "size": 3
         },
         "mode": "markers",
         "name": "Fault 5",
         "type": "scatter3d",
         "x": [
          0.500789661021459,
          0.35939089805974195,
          0.18977652116759075,
          0.28104774633063284,
          0.4668106839698142,
          0.6732870191249353,
          0.5010652826338854,
          0.4345204547157799,
          0.39165996916186185,
          0.20512945654089648,
          0.4338206510196572,
          0.4059820915362596,
          0.44914930153938687,
          0.46749143667182197,
          0.6463229390868459,
          0.5324925137221225,
          0.13777221583849325,
          0.45321574740047355,
          0.11251733844340386,
          0.3705240716917265,
          0.3504891279389308,
          0.18669175666113758,
          0.601216548571934,
          0.45349709448768655,
          0.31490325187448265,
          0.659940092936939,
          0.3664459349891725,
          0.24577167051042154,
          0.37744825918132,
          0.17667794212887114,
          0.4757152370394959,
          0.3614376302374169,
          0.4303188550360179,
          0.24851112627776795,
          0.07761349531343043,
          0.4813891035992318,
          0.1913189924633255,
          0.19875586510533227,
          0.4073409824303451,
          0.34265974192051873,
          0.24510886297555418,
          0.48479601099617353,
          0.2160284552040248,
          0.21023494578214197,
          0.3285944258889346,
          0.3457516564620874,
          0.4231319079971682,
          0.6250030224662196,
          0.19937810687605223,
          0.3072043922125215,
          0.5897780296280521,
          0.31993575703649135,
          0.31609514212780176,
          0.45051342690091084,
          0.325561722187598,
          0.4919242891098652,
          0.3374096839704544,
          0.25456794021606843,
          0.6326958585706125,
          0.7690232027675351,
          0.250136657492742,
          0.3422729945408742,
          0.49065453058460723,
          0.24813074710150643,
          0.4447124134653801,
          0.5737993512875399,
          0.16708196908489933,
          0.37700788385701817,
          0.1211248061309783,
          0.6927626444864277,
          0.1443997985221731,
          0.2755428931306258,
          0.15916357862782227,
          0.123843459647397,
          0.19584830666460298,
          0.16617748428750534,
          0.3476121571829004,
          0.2855189552687998,
          0.43451462081654924,
          0.3222796836628101,
          0.21926064716688942,
          0.6248339884166554,
          0.3512696008497044,
          0.16605886710433268,
          0.46164984303987017,
          0.11352267309644368,
          0.25636668156497533,
          0.6741244290077124,
          0.2232327761985911,
          0.3645944599865245,
          0.4140065299911619,
          0.2821078647193917,
          0.09684826142709943,
          0.49161216355116455,
          0.5113890042870255,
          0.35473918333134014,
          0.648183704049593,
          0.3371963077391,
          0.0966518083800602,
          0.3546006168252915,
          0.3018071324611709,
          0.5314607822005372,
          0.4155243750067438,
          0.23625950056795947,
          0.684799445316557,
          0.3896401489600694,
          0.2339238290178331,
          0.5036750616185963,
          0.5943200827369031,
          0.19553522564087306,
          0.1808734863550219,
          0.3184895164795172,
          0.27749998127882036,
          0.5875610610966625,
          0.2145969641155805,
          0.6117155119423098,
          0.27330618448732236,
          0.49956256003410465,
          0.14358429852560226,
          0.3082885386839902,
          0.5421736856347019,
          0.6853461713065288,
          0.37615282940727474,
          0.542102502829093,
          0.16943118047691305,
          0.4788626317038917,
          0.13184035459110138,
          0.34005222615945563,
          0.3980002302953947,
          0.49676158486321953,
          0.2820956337255155,
          0.06462672553244998,
          0.4585183988890427,
          0.5422491527474756,
          0.4524308781979361,
          0.565134720182769,
          0.25048107068662423,
          0.35538291778082387,
          0.39032921275734495,
          0.19669263619001578,
          0.3629165293136941,
          0.3518480642968904,
          0.31817961479264323
         ],
         "y": [
          0.04060402498904369,
          0.0696647602476831,
          -0.16206467335201816,
          -0.2921685449048278,
          0.13656348355754963,
          0.02915090850428577,
          -0.29653776757861283,
          -0.042260657471235356,
          -0.2621002492546569,
          -0.10320569973126843,
          0.12065481362908628,
          -0.25159420601369525,
          -0.10791791478064408,
          -0.040933017108083385,
          0.05006071986057979,
          0.12398217449456972,
          0.028158736736064602,
          0.20428078971040364,
          0.040681969624888556,
          0.23749046540367524,
          0.00290972008283028,
          0.006233739484866753,
          -0.09178375101838754,
          0.1594240420614488,
          -0.33206341855476584,
          0.08027649707854546,
          -0.20933444736166737,
          -0.16694042130680964,
          -0.392635877714343,
          -0.2893935196614493,
          -0.18178465543348937,
          -0.16863387222236517,
          0.18816770669529997,
          -0.21627467854058144,
          -0.20604461757265824,
          0.02505535561433479,
          -0.2853119009335016,
          -0.3347476476335236,
          0.26407892203083616,
          -0.1766605195265739,
          -0.2691162948333188,
          -0.34670854421668557,
          0.17794244039172422,
          -0.00690829328097594,
          0.08669390157054581,
          -0.11712585188309058,
          0.0041357815170991255,
          -0.10833426308242364,
          0.06377434807327315,
          -0.1635900952989265,
          0.011535181274673997,
          -0.10287739197575176,
          -0.1774524239832702,
          -0.003650800906914442,
          -0.007263171316648245,
          -0.08848425656269104,
          -0.11647386980182302,
          -0.19921639548731845,
          0.08318687337043296,
          -0.009198087827827495,
          -0.3181184968699775,
          -0.289881745575408,
          0.18162986653647067,
          -0.31649952538739845,
          -0.02542257814215808,
          0.0010857513931959023,
          0.11980013445730525,
          -0.07021780299004167,
          -0.23652376935767347,
          -0.10500949773484226,
          -0.21436773386803878,
          0.039763279414904366,
          -0.294246348399341,
          -0.1853938263065601,
          -0.19522812755678742,
          0.11793827802473011,
          -0.3029431310545952,
          -0.2695954450372929,
          0.23217394663920943,
          0.2503981650693485,
          -0.30102971284444124,
          -0.10000153733126636,
          -0.3967892237578105,
          -0.22606961713652668,
          -0.09676334107662635,
          -0.27388391315092026,
          0.06862941255822974,
          0.06779469263074892,
          -0.10220215710069697,
          0.18014257354978605,
          0.1575084471250457,
          -0.34550656843023714,
          -0.0914589917684338,
          0.0025300584926554112,
          0.00862966443420218,
          -0.10604916786320435,
          -0.19990698426612047,
          -0.338364787347131,
          -0.0797079620479689,
          0.06760772511766767,
          0.048518575807621894,
          0.1691903583588594,
          -0.07541943737215517,
          -0.16760601027235206,
          -0.02535460570759046,
          0.1570582807573978,
          -0.0075737381271059195,
          0.16695990731662153,
          0.054372179202269943,
          0.08338051549470021,
          0.04982432003246719,
          -0.1009155724192832,
          -0.1837873593569218,
          0.01386459404051563,
          0.08612782056363355,
          0.04104912932564314,
          -0.05446451396049449,
          -0.16068559564666723,
          -0.23961051270456785,
          -0.10106574296097477,
          0.04024825820073684,
          -0.09198811223899063,
          0.05697403993851871,
          -0.1626280180789208,
          -0.17390388838278165,
          0.1010653713179197,
          0.18147507040665406,
          0.03084893620644784,
          -0.008132887029842523,
          -0.23967680694661753,
          0.23410656092394325,
          -0.22840004274108214,
          0.08130711997029302,
          0.16425703648172835,
          0.010327723062469629,
          -0.16316156712113705,
          -0.28220816207895777,
          -0.3323315816056953,
          0.04073466310769382,
          0.022775487041442957,
          -0.11159810503846453,
          -0.12399851429847149,
          -0.2971246664433994
         ],
         "z": [
          -0.3043998342937983,
          0.6259518014803861,
          0.5340378562363687,
          -0.2720439471849865,
          -0.04107484859225781,
          -0.2965308892701383,
          -0.36708940154544795,
          -0.04093000702676051,
          -0.44606840166528017,
          -0.20585404791329825,
          0.2808729416480885,
          -0.2248133044335509,
          0.6207293488815606,
          -0.46151353045100874,
          -0.5710605310735741,
          -0.07539186525607604,
          0.48540447640141793,
          0.7210772500389736,
          0.4113038275085363,
          -0.045680261399066335,
          0.20038426915719443,
          0.5169290408827033,
          0.09785950107215854,
          0.40633015647691484,
          -0.40523875449161034,
          -0.12770176266725602,
          0.006513247698049861,
          0.18140169590209201,
          -0.09668006385308966,
          0.1555578000211894,
          -0.1586055274117884,
          -0.43722986449607265,
          0.8540998039447564,
          0.5264038087463542,
          0.47567656486393095,
          -0.0548346054601362,
          -0.004598313561262231,
          0.8005330310179628,
          0.41183361438795,
          -0.38772403641663244,
          0.4847096831204287,
          -0.30181853654821966,
          0.6959277855799523,
          0.6936399691042107,
          0.34751655743651966,
          0.07748290787561402,
          0.33141271556804813,
          -0.12949411783915113,
          0.6929226871311143,
          -0.5776257413228155,
          -0.00575722614842384,
          -0.02691006446773952,
          0.9132286797825332,
          0.10640992377282904,
          0.25545601212853375,
          0.35868622757455604,
          -0.3321382171647502,
          -0.25214782374207334,
          0.4608561856060239,
          -0.5115583460852975,
          0.21115663305450363,
          0.13001725731807423,
          0.3887181539245965,
          0.6125975333510293,
          -0.539160364355825,
          0.08000157608520382,
          0.10564338124298306,
          -0.15657751568088157,
          0.5166420955196492,
          -0.5350838063506994,
          0.4797470775259847,
          0.6046731726866031,
          0.6055987344758333,
          0.009765069679069687,
          0.43991625483816776,
          0.790380028203714,
          -0.4531044036215967,
          0.5026273563149645,
          0.35005185616829443,
          0.885170707288319,
          0.408442045478335,
          -0.3282660434113111,
          -0.03605160680368004,
          0.8762612960856206,
          0.22603430969438,
          0.7609312405335135,
          0.5104057804362945,
          0.46224246226338894,
          -0.4929040640746145,
          0.19071284236392042,
          0.6591801843196451,
          -0.4905400694677095,
          0.8456057418766351,
          -0.1541428296171705,
          -0.11255917665340819,
          0.3701197277643993,
          -0.5117064913401448,
          0.5235939411946949,
          0.6852834108464144,
          -0.16769806751574137,
          -0.06800270979490565,
          0.05934925712747491,
          0.5311975734685631,
          0.6944753634814544,
          -0.5268992913997377,
          -0.36018302717459993,
          0.4173920085908646,
          0.7478016843860241,
          0.24459561573323224,
          0.773115085096354,
          0.012726555441004907,
          0.5544734535648373,
          0.7120690659509789,
          -0.4735831006187803,
          0.8625605713839598,
          0.6918716124920586,
          -0.10859503966645502,
          -0.05846097489699047,
          -0.3903649374270783,
          0.42443606963844116,
          0.6206863658113715,
          0.25681051629997753,
          0.8926866045492177,
          -0.4558659203041742,
          0.3449067918244587,
          0.21823932284821454,
          -0.046241395187317486,
          0.6118688518538908,
          -0.3179399770985538,
          0.06608416885452065,
          0.688902920798502,
          0.8657483150701542,
          0.016878481939032824,
          0.25721006141782987,
          -0.1965257593967631,
          -0.49162991739983686,
          0.2946761718551048,
          0.4625770379214244,
          -0.1520886290272387,
          0.8407520760766222,
          0.5657885888760295,
          0.8897671943928125,
          -0.3685981142137712
         ]
        }
       ],
       "layout": {
        "scene": {
         "xaxis": {
          "title": {
           "text": "X"
          }
         },
         "yaxis": {
          "title": {
           "text": "Y"
          }
         },
         "zaxis": {
          "title": {
           "text": "Z"
          }
         }
        },
        "template": {
         "data": {
          "bar": [
           {
            "error_x": {
             "color": "#2a3f5f"
            },
            "error_y": {
             "color": "#2a3f5f"
            },
            "marker": {
             "line": {
              "color": "#E5ECF6",
              "width": 0.5
             },
             "pattern": {
              "fillmode": "overlay",
              "size": 10,
              "solidity": 0.2
             }
            },
            "type": "bar"
           }
          ],
          "barpolar": [
           {
            "marker": {
             "line": {
              "color": "#E5ECF6",
              "width": 0.5
             },
             "pattern": {
              "fillmode": "overlay",
              "size": 10,
              "solidity": 0.2
             }
            },
            "type": "barpolar"
           }
          ],
          "carpet": [
           {
            "aaxis": {
             "endlinecolor": "#2a3f5f",
             "gridcolor": "white",
             "linecolor": "white",
             "minorgridcolor": "white",
             "startlinecolor": "#2a3f5f"
            },
            "baxis": {
             "endlinecolor": "#2a3f5f",
             "gridcolor": "white",
             "linecolor": "white",
             "minorgridcolor": "white",
             "startlinecolor": "#2a3f5f"
            },
            "type": "carpet"
           }
          ],
          "choropleth": [
           {
            "colorbar": {
             "outlinewidth": 0,
             "ticks": ""
            },
            "type": "choropleth"
           }
          ],
          "contour": [
           {
            "colorbar": {
             "outlinewidth": 0,
             "ticks": ""
            },
            "colorscale": [
             [
              0,
              "#0d0887"
             ],
             [
              0.1111111111111111,
              "#46039f"
             ],
             [
              0.2222222222222222,
              "#7201a8"
             ],
             [
              0.3333333333333333,
              "#9c179e"
             ],
             [
              0.4444444444444444,
              "#bd3786"
             ],
             [
              0.5555555555555556,
              "#d8576b"
             ],
             [
              0.6666666666666666,
              "#ed7953"
             ],
             [
              0.7777777777777778,
              "#fb9f3a"
             ],
             [
              0.8888888888888888,
              "#fdca26"
             ],
             [
              1,
              "#f0f921"
             ]
            ],
            "type": "contour"
           }
          ],
          "contourcarpet": [
           {
            "colorbar": {
             "outlinewidth": 0,
             "ticks": ""
            },
            "type": "contourcarpet"
           }
          ],
          "heatmap": [
           {
            "colorbar": {
             "outlinewidth": 0,
             "ticks": ""
            },
            "colorscale": [
             [
              0,
              "#0d0887"
             ],
             [
              0.1111111111111111,
              "#46039f"
             ],
             [
              0.2222222222222222,
              "#7201a8"
             ],
             [
              0.3333333333333333,
              "#9c179e"
             ],
             [
              0.4444444444444444,
              "#bd3786"
             ],
             [
              0.5555555555555556,
              "#d8576b"
             ],
             [
              0.6666666666666666,
              "#ed7953"
             ],
             [
              0.7777777777777778,
              "#fb9f3a"
             ],
             [
              0.8888888888888888,
              "#fdca26"
             ],
             [
              1,
              "#f0f921"
             ]
            ],
            "type": "heatmap"
           }
          ],
          "heatmapgl": [
           {
            "colorbar": {
             "outlinewidth": 0,
             "ticks": ""
            },
            "colorscale": [
             [
              0,
              "#0d0887"
             ],
             [
              0.1111111111111111,
              "#46039f"
             ],
             [
              0.2222222222222222,
              "#7201a8"
             ],
             [
              0.3333333333333333,
              "#9c179e"
             ],
             [
              0.4444444444444444,
              "#bd3786"
             ],
             [
              0.5555555555555556,
              "#d8576b"
             ],
             [
              0.6666666666666666,
              "#ed7953"
             ],
             [
              0.7777777777777778,
              "#fb9f3a"
             ],
             [
              0.8888888888888888,
              "#fdca26"
             ],
             [
              1,
              "#f0f921"
             ]
            ],
            "type": "heatmapgl"
           }
          ],
          "histogram": [
           {
            "marker": {
             "pattern": {
              "fillmode": "overlay",
              "size": 10,
              "solidity": 0.2
             }
            },
            "type": "histogram"
           }
          ],
          "histogram2d": [
           {
            "colorbar": {
             "outlinewidth": 0,
             "ticks": ""
            },
            "colorscale": [
             [
              0,
              "#0d0887"
             ],
             [
              0.1111111111111111,
              "#46039f"
             ],
             [
              0.2222222222222222,
              "#7201a8"
             ],
             [
              0.3333333333333333,
              "#9c179e"
             ],
             [
              0.4444444444444444,
              "#bd3786"
             ],
             [
              0.5555555555555556,
              "#d8576b"
             ],
             [
              0.6666666666666666,
              "#ed7953"
             ],
             [
              0.7777777777777778,
              "#fb9f3a"
             ],
             [
              0.8888888888888888,
              "#fdca26"
             ],
             [
              1,
              "#f0f921"
             ]
            ],
            "type": "histogram2d"
           }
          ],
          "histogram2dcontour": [
           {
            "colorbar": {
             "outlinewidth": 0,
             "ticks": ""
            },
            "colorscale": [
             [
              0,
              "#0d0887"
             ],
             [
              0.1111111111111111,
              "#46039f"
             ],
             [
              0.2222222222222222,
              "#7201a8"
             ],
             [
              0.3333333333333333,
              "#9c179e"
             ],
             [
              0.4444444444444444,
              "#bd3786"
             ],
             [
              0.5555555555555556,
              "#d8576b"
             ],
             [
              0.6666666666666666,
              "#ed7953"
             ],
             [
              0.7777777777777778,
              "#fb9f3a"
             ],
             [
              0.8888888888888888,
              "#fdca26"
             ],
             [
              1,
              "#f0f921"
             ]
            ],
            "type": "histogram2dcontour"
           }
          ],
          "mesh3d": [
           {
            "colorbar": {
             "outlinewidth": 0,
             "ticks": ""
            },
            "type": "mesh3d"
           }
          ],
          "parcoords": [
           {
            "line": {
             "colorbar": {
              "outlinewidth": 0,
              "ticks": ""
             }
            },
            "type": "parcoords"
           }
          ],
          "pie": [
           {
            "automargin": true,
            "type": "pie"
           }
          ],
          "scatter": [
           {
            "fillpattern": {
             "fillmode": "overlay",
             "size": 10,
             "solidity": 0.2
            },
            "type": "scatter"
           }
          ],
          "scatter3d": [
           {
            "line": {
             "colorbar": {
              "outlinewidth": 0,
              "ticks": ""
             }
            },
            "marker": {
             "colorbar": {
              "outlinewidth": 0,
              "ticks": ""
             }
            },
            "type": "scatter3d"
           }
          ],
          "scattercarpet": [
           {
            "marker": {
             "colorbar": {
              "outlinewidth": 0,
              "ticks": ""
             }
            },
            "type": "scattercarpet"
           }
          ],
          "scattergeo": [
           {
            "marker": {
             "colorbar": {
              "outlinewidth": 0,
              "ticks": ""
             }
            },
            "type": "scattergeo"
           }
          ],
          "scattergl": [
           {
            "marker": {
             "colorbar": {
              "outlinewidth": 0,
              "ticks": ""
             }
            },
            "type": "scattergl"
           }
          ],
          "scattermapbox": [
           {
            "marker": {
             "colorbar": {
              "outlinewidth": 0,
              "ticks": ""
             }
            },
            "type": "scattermapbox"
           }
          ],
          "scatterpolar": [
           {
            "marker": {
             "colorbar": {
              "outlinewidth": 0,
              "ticks": ""
             }
            },
            "type": "scatterpolar"
           }
          ],
          "scatterpolargl": [
           {
            "marker": {
             "colorbar": {
              "outlinewidth": 0,
              "ticks": ""
             }
            },
            "type": "scatterpolargl"
           }
          ],
          "scatterternary": [
           {
            "marker": {
             "colorbar": {
              "outlinewidth": 0,
              "ticks": ""
             }
            },
            "type": "scatterternary"
           }
          ],
          "surface": [
           {
            "colorbar": {
             "outlinewidth": 0,
             "ticks": ""
            },
            "colorscale": [
             [
              0,
              "#0d0887"
             ],
             [
              0.1111111111111111,
              "#46039f"
             ],
             [
              0.2222222222222222,
              "#7201a8"
             ],
             [
              0.3333333333333333,
              "#9c179e"
             ],
             [
              0.4444444444444444,
              "#bd3786"
             ],
             [
              0.5555555555555556,
              "#d8576b"
             ],
             [
              0.6666666666666666,
              "#ed7953"
             ],
             [
              0.7777777777777778,
              "#fb9f3a"
             ],
             [
              0.8888888888888888,
              "#fdca26"
             ],
             [
              1,
              "#f0f921"
             ]
            ],
            "type": "surface"
           }
          ],
          "table": [
           {
            "cells": {
             "fill": {
              "color": "#EBF0F8"
             },
             "line": {
              "color": "white"
             }
            },
            "header": {
             "fill": {
              "color": "#C8D4E3"
             },
             "line": {
              "color": "white"
             }
            },
            "type": "table"
           }
          ]
         },
         "layout": {
          "annotationdefaults": {
           "arrowcolor": "#2a3f5f",
           "arrowhead": 0,
           "arrowwidth": 1
          },
          "autotypenumbers": "strict",
          "coloraxis": {
           "colorbar": {
            "outlinewidth": 0,
            "ticks": ""
           }
          },
          "colorscale": {
           "diverging": [
            [
             0,
             "#8e0152"
            ],
            [
             0.1,
             "#c51b7d"
            ],
            [
             0.2,
             "#de77ae"
            ],
            [
             0.3,
             "#f1b6da"
            ],
            [
             0.4,
             "#fde0ef"
            ],
            [
             0.5,
             "#f7f7f7"
            ],
            [
             0.6,
             "#e6f5d0"
            ],
            [
             0.7,
             "#b8e186"
            ],
            [
             0.8,
             "#7fbc41"
            ],
            [
             0.9,
             "#4d9221"
            ],
            [
             1,
             "#276419"
            ]
           ],
           "sequential": [
            [
             0,
             "#0d0887"
            ],
            [
             0.1111111111111111,
             "#46039f"
            ],
            [
             0.2222222222222222,
             "#7201a8"
            ],
            [
             0.3333333333333333,
             "#9c179e"
            ],
            [
             0.4444444444444444,
             "#bd3786"
            ],
            [
             0.5555555555555556,
             "#d8576b"
            ],
            [
             0.6666666666666666,
             "#ed7953"
            ],
            [
             0.7777777777777778,
             "#fb9f3a"
            ],
            [
             0.8888888888888888,
             "#fdca26"
            ],
            [
             1,
             "#f0f921"
            ]
           ],
           "sequentialminus": [
            [
             0,
             "#0d0887"
            ],
            [
             0.1111111111111111,
             "#46039f"
            ],
            [
             0.2222222222222222,
             "#7201a8"
            ],
            [
             0.3333333333333333,
             "#9c179e"
            ],
            [
             0.4444444444444444,
             "#bd3786"
            ],
            [
             0.5555555555555556,
             "#d8576b"
            ],
            [
             0.6666666666666666,
             "#ed7953"
            ],
            [
             0.7777777777777778,
             "#fb9f3a"
            ],
            [
             0.8888888888888888,
             "#fdca26"
            ],
            [
             1,
             "#f0f921"
            ]
           ]
          },
          "colorway": [
           "#636efa",
           "#EF553B",
           "#00cc96",
           "#ab63fa",
           "#FFA15A",
           "#19d3f3",
           "#FF6692",
           "#B6E880",
           "#FF97FF",
           "#FECB52"
          ],
          "font": {
           "color": "#2a3f5f"
          },
          "geo": {
           "bgcolor": "white",
           "lakecolor": "white",
           "landcolor": "#E5ECF6",
           "showlakes": true,
           "showland": true,
           "subunitcolor": "white"
          },
          "hoverlabel": {
           "align": "left"
          },
          "hovermode": "closest",
          "mapbox": {
           "style": "light"
          },
          "paper_bgcolor": "white",
          "plot_bgcolor": "#E5ECF6",
          "polar": {
           "angularaxis": {
            "gridcolor": "white",
            "linecolor": "white",
            "ticks": ""
           },
           "bgcolor": "#E5ECF6",
           "radialaxis": {
            "gridcolor": "white",
            "linecolor": "white",
            "ticks": ""
           }
          },
          "scene": {
           "xaxis": {
            "backgroundcolor": "#E5ECF6",
            "gridcolor": "white",
            "gridwidth": 2,
            "linecolor": "white",
            "showbackground": true,
            "ticks": "",
            "zerolinecolor": "white"
           },
           "yaxis": {
            "backgroundcolor": "#E5ECF6",
            "gridcolor": "white",
            "gridwidth": 2,
            "linecolor": "white",
            "showbackground": true,
            "ticks": "",
            "zerolinecolor": "white"
           },
           "zaxis": {
            "backgroundcolor": "#E5ECF6",
            "gridcolor": "white",
            "gridwidth": 2,
            "linecolor": "white",
            "showbackground": true,
            "ticks": "",
            "zerolinecolor": "white"
           }
          },
          "shapedefaults": {
           "line": {
            "color": "#2a3f5f"
           }
          },
          "ternary": {
           "aaxis": {
            "gridcolor": "white",
            "linecolor": "white",
            "ticks": ""
           },
           "baxis": {
            "gridcolor": "white",
            "linecolor": "white",
            "ticks": ""
           },
           "bgcolor": "#E5ECF6",
           "caxis": {
            "gridcolor": "white",
            "linecolor": "white",
            "ticks": ""
           }
          },
          "title": {
           "x": 0.05
          },
          "xaxis": {
           "automargin": true,
           "gridcolor": "white",
           "linecolor": "white",
           "ticks": "",
           "title": {
            "standoff": 15
           },
           "zerolinecolor": "white",
           "zerolinewidth": 2
          },
          "yaxis": {
           "automargin": true,
           "gridcolor": "white",
           "linecolor": "white",
           "ticks": "",
           "title": {
            "standoff": 15
           },
           "zerolinecolor": "white",
           "zerolinewidth": 2
          }
         }
        },
        "title": {
         "text": "3D Visualization of Fault Points"
        }
       }
      }
     },
     "metadata": {},
     "output_type": "display_data"
    }
   ],
   "source": [
    "fault_points_list = generate_dataset(n_simple_faults=0, n_bent_faults=2, n_cross_faults=0, n_Y_faults=2, n_parallel_faults=1, n_structures=0, VERBOSE=False)\n",
    "\n",
    "multi_static_plot_better(fault_points_list, None, show_plane=False, show_axes=False)\n",
    "multi_interactive_plot_better(fault_points_list, None, show_plane=False, show_axes=False)"
   ]
  }
 ],
 "metadata": {
  "kernelspec": {
   "display_name": "raienv",
   "language": "python",
   "name": "python3"
  },
  "language_info": {
   "codemirror_mode": {
    "name": "ipython",
    "version": 3
   },
   "file_extension": ".py",
   "mimetype": "text/x-python",
   "name": "python",
   "nbconvert_exporter": "python",
   "pygments_lexer": "ipython3",
   "version": "3.11.5"
  }
 },
 "nbformat": 4,
 "nbformat_minor": 2
}
