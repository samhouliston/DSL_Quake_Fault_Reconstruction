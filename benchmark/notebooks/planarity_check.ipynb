{
 "cells": [
  {
   "cell_type": "code",
   "execution_count": 7,
   "metadata": {},
   "outputs": [],
   "source": [
    "import numpy as np\n",
    "from sklearn.decomposition import PCA\n",
    "from sklearn import datasets\n",
    "import matplotlib.pyplot as plt"
   ]
  },
  {
   "cell_type": "code",
   "execution_count": 30,
   "metadata": {},
   "outputs": [],
   "source": [
    "random_state = 71\n",
    "n_samples = 100\n",
    "\n",
    "X, y = datasets.make_blobs(centers = 5, n_features = 3, n_samples=n_samples, random_state=random_state, center_box=(-20.0,20.0))"
   ]
  },
  {
   "cell_type": "code",
   "execution_count": 31,
   "metadata": {},
   "outputs": [],
   "source": [
    "ground_truth = np.load('../data/synthetics_31.npy')\n",
    "\n",
    "y_true = []\n",
    "cts_true = []\n",
    "for i in range(len(ground_truth)):\n",
    "\n",
    "    y_true += [i]*len(ground_truth[i])\n",
    "    cts_true.append(len(ground_truth[i]))\n",
    "\n",
    "\n",
    "X = np.concatenate(ground_truth, axis = 0)\n",
    "y_true = np.array(y_true)"
   ]
  },
  {
   "cell_type": "code",
   "execution_count": 33,
   "metadata": {},
   "outputs": [],
   "source": [
    "def determine_alignment(X1: np.ndarray,\n",
    "                        X2: np.ndarray,\n",
    "                        seed: int\n",
    "                        ):\n",
    "    \n",
    "    '''\n",
    "    Determine the alignment of two point clouds based on their two leading principal components\n",
    "\n",
    "    Parameters\n",
    "    ----------\n",
    "    X1, X2: np.ndarray\n",
    "        The two point clouds as arrays of shape (n_samples, n_dim)\n",
    "    \n",
    "    seed: int\n",
    "        The random seed\n",
    "\n",
    "    Returns\n",
    "    --------\n",
    "    align_score: float\n",
    "        The alignment score of the point clouds. Is calculated as the sum of \n",
    "        the dot products of their normalized leading principal components\n",
    "\n",
    "    '''\n",
    "\n",
    "    if X1.shape[1] != X2.shape[1]:\n",
    "        raise ValueError('Point clouds must have the same number of features')\n",
    "\n",
    "    # Determine the leading 2 principal components of each cloud\n",
    "    pca1 = PCA(n_components = 2, \n",
    "              random_state = seed)\n",
    "    pca2 = PCA(n_components = 2, \n",
    "              random_state = seed)\n",
    "    \n",
    "    comps1 = pca1.fit(X1).components_\n",
    "    comps2 = pca2.fit(X2).components_\n",
    "\n",
    "    # normalize the components\n",
    "    comps1[0] /= np.linalg.norm(comps1[0])\n",
    "    comps1[1] /= np.linalg.norm(comps1[1])\n",
    "    comps2[0] /= np.linalg.norm(comps2[0])\n",
    "    comps2[1] /= np.linalg.norm(comps2[1])\n",
    "\n",
    "    # calculate alignment of the components\n",
    "    # use the max to cover case where 1-2 and 2-1 are well aligned\n",
    "    align_score = max( sum(np.abs(np.sum(comps1 * comps2, axis = 1)))/2, \\\n",
    "                      sum(np.abs(np.sum(comps1 * comps2[::-1], axis = 1)))/2)\n",
    "\n",
    "    return align_score"
   ]
  },
  {
   "cell_type": "code",
   "execution_count": 34,
   "metadata": {},
   "outputs": [
    {
     "name": "stdout",
     "output_type": "stream",
     "text": [
      "Alignment of 0 and 1: 0.7579282709605242\n",
      "Alignment of 0 and 2: 0.9309800487780031\n",
      "Alignment of 0 and 3: 0.7086934474151865\n",
      "Alignment of 1 and 2: 0.7658817535023805\n",
      "Alignment of 1 and 3: 0.6567708937108248\n",
      "Alignment of 2 and 3: 0.9098959279246237\n"
     ]
    }
   ],
   "source": [
    "for i in range(4):\n",
    "    for j in range(i+1,4):\n",
    "\n",
    "        sc =  determine_alignment(X[y_true==i], X[y_true==j], random_state)\n",
    "        print(f'Alignment of {i} and {j}: {sc}')\n"
   ]
  },
  {
   "cell_type": "markdown",
   "metadata": {},
   "source": [
    "## Behavior of the dot product in 2D"
   ]
  },
  {
   "cell_type": "code",
   "execution_count": 23,
   "metadata": {},
   "outputs": [],
   "source": [
    "n_pts = 40\n",
    "\n",
    "angle = np.linspace(0, np.pi, n_pts)\n",
    "y = np.abs(np.cos(angle))"
   ]
  },
  {
   "cell_type": "code",
   "execution_count": 27,
   "metadata": {},
   "outputs": [
    {
     "data": {
      "text/plain": [
       "Text(0.5, 0, 'Angle between the components')"
      ]
     },
     "execution_count": 27,
     "metadata": {},
     "output_type": "execute_result"
    },
    {
     "data": {
      "image/png": "[encoded data removed]",
      "text/plain": [
       "<Figure size 640x480 with 1 Axes>"
      ]
     },
     "metadata": {},
     "output_type": "display_data"
    }
   ],
   "source": [
    "plt.scatter(angle, y)\n",
    "plt.xlabel('Angle between the components')"
   ]
  }
 ],
 "metadata": {
  "kernelspec": {
   "display_name": "fn_env",
   "language": "python",
   "name": "python3"
  },
  "language_info": {
   "codemirror_mode": {
    "name": "ipython",
    "version": 3
   },
   "file_extension": ".py",
   "mimetype": "text/x-python",
   "name": "python",
   "nbconvert_exporter": "python",
   "pygments_lexer": "ipython3",
   "version": "3.11.8"
  }
 },
 "nbformat": 4,
 "nbformat_minor": 2
}
