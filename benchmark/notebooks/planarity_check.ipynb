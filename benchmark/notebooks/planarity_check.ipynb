{
 "cells": [
  {
   "cell_type": "code",
   "execution_count": 1,
   "metadata": {},
   "outputs": [],
   "source": [
    "import numpy as np\n",
    "from sklearn.decomposition import PCA"
   ]
  },
  {
   "cell_type": "code",
   "execution_count": 3,
   "metadata": {},
   "outputs": [],
   "source": [
    "def determine_alignment(X1: np.ndarray,\n",
    "                        X2: np.ndarray,\n",
    "                        seed: int\n",
    "                        ):\n",
    "    \n",
    "    '''\n",
    "    Determine the alignment of two point clouds based on their two leading principal components\n",
    "\n",
    "    Parameters\n",
    "    ----------\n",
    "    X1, X2: np.ndarray\n",
    "        The two point clouds as arrays of shape (n_samples, n_dim)\n",
    "    \n",
    "    seed: int\n",
    "        The random seed\n",
    "\n",
    "    Returns\n",
    "    --------\n",
    "    align_score: float\n",
    "        The alignment score of the point clouds. Is calculated as the sum of \n",
    "        the dot products of their normalized leading principal components\n",
    "\n",
    "    '''\n",
    "\n",
    "    if X1.shape[1] != X2.shape[1]:\n",
    "        raise ValueError('Point clouds must have the same number of features')\n",
    "\n",
    "    # Determine the leading 2 principal components of each cloud\n",
    "    pca1 = PCA(n_components = 2, \n",
    "              random_state = seed)\n",
    "    pca2 = PCA(n_components = 2, \n",
    "              random_state = seed)\n",
    "    \n",
    "    comps1 = pca1.fit(X1).components_\n",
    "    comps2 = pca2.fit(X2).components_\n",
    "\n",
    "    # normalize the components\n",
    "    comps1[0] /= np.linalg.norm(comps1[0])\n",
    "    comps1[1] /= np.linalg.norm(comps1[1])\n",
    "    comps2[0] /= np.linalg.norm(comps2[0])\n",
    "    comps2[1] /= np.linalg.norm(comps2[1])\n",
    "\n",
    "    align_score = comps1 * comps2\n",
    "\n",
    "\n",
    "\n",
    "\n",
    "\n",
    "\n",
    "    \n",
    "    \n",
    "    \n",
    "\n"
   ]
  },
  {
   "cell_type": "code",
   "execution_count": null,
   "metadata": {},
   "outputs": [],
   "source": []
  }
 ],
 "metadata": {
  "kernelspec": {
   "display_name": "fn_env",
   "language": "python",
   "name": "python3"
  },
  "language_info": {
   "codemirror_mode": {
    "name": "ipython",
    "version": 3
   },
   "file_extension": ".py",
   "mimetype": "text/x-python",
   "name": "python",
   "nbconvert_exporter": "python",
   "pygments_lexer": "ipython3",
   "version": "3.11.8"
  }
 },
 "nbformat": 4,
 "nbformat_minor": 2
}
